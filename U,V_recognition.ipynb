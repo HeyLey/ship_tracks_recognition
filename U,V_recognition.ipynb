{
 "cells": [
  {
   "cell_type": "code",
   "execution_count": 1,
   "metadata": {
    "collapsed": false
   },
   "outputs": [],
   "source": [
    "import numpy as np\n",
    "import pandas as pd\n",
    "import matplotlib.pyplot as plt\n",
    "from UV_views import *\n",
    "from Y_views import *\n",
    "%matplotlib inline"
   ]
  },
  {
   "cell_type": "markdown",
   "metadata": {},
   "source": [
    "# Reading data"
   ]
  },
  {
   "cell_type": "code",
   "execution_count": 2,
   "metadata": {
    "collapsed": false
   },
   "outputs": [
    {
     "data": {
      "text/html": [
       "<div>\n",
       "<table border=\"1\" class=\"dataframe\">\n",
       "  <thead>\n",
       "    <tr style=\"text-align: right;\">\n",
       "      <th></th>\n",
       "      <th>Index</th>\n",
       "      <th>X</th>\n",
       "      <th>Y</th>\n",
       "      <th>Z</th>\n",
       "      <th>TrackID</th>\n",
       "      <th>Time</th>\n",
       "      <th>StatNb</th>\n",
       "      <th>ViewNb</th>\n",
       "      <th>PlaneNb</th>\n",
       "      <th>LayerNb</th>\n",
       "      <th>StrawNb</th>\n",
       "      <th>dist2Wire</th>\n",
       "      <th>event</th>\n",
       "      <th>k</th>\n",
       "    </tr>\n",
       "  </thead>\n",
       "  <tbody>\n",
       "    <tr>\n",
       "      <th>0</th>\n",
       "      <td>0</td>\n",
       "      <td>8.883409</td>\n",
       "      <td>-61.202305</td>\n",
       "      <td>-1974.859985</td>\n",
       "      <td>3</td>\n",
       "      <td>232.044861</td>\n",
       "      <td>5</td>\n",
       "      <td>0</td>\n",
       "      <td>0</td>\n",
       "      <td>0</td>\n",
       "      <td>319</td>\n",
       "      <td>0.274822</td>\n",
       "      <td>0</td>\n",
       "      <td>0</td>\n",
       "    </tr>\n",
       "    <tr>\n",
       "      <th>1</th>\n",
       "      <td>1</td>\n",
       "      <td>8.858191</td>\n",
       "      <td>-61.225544</td>\n",
       "      <td>-1973.742188</td>\n",
       "      <td>3</td>\n",
       "      <td>232.074081</td>\n",
       "      <td>5</td>\n",
       "      <td>0</td>\n",
       "      <td>0</td>\n",
       "      <td>1</td>\n",
       "      <td>320</td>\n",
       "      <td>0.582455</td>\n",
       "      <td>0</td>\n",
       "      <td>1</td>\n",
       "    </tr>\n",
       "    <tr>\n",
       "      <th>2</th>\n",
       "      <td>2</td>\n",
       "      <td>8.824563</td>\n",
       "      <td>-61.256523</td>\n",
       "      <td>-1972.251953</td>\n",
       "      <td>3</td>\n",
       "      <td>232.118286</td>\n",
       "      <td>5</td>\n",
       "      <td>0</td>\n",
       "      <td>1</td>\n",
       "      <td>0</td>\n",
       "      <td>319</td>\n",
       "      <td>0.111252</td>\n",
       "      <td>0</td>\n",
       "      <td>2</td>\n",
       "    </tr>\n",
       "    <tr>\n",
       "      <th>3</th>\n",
       "      <td>3</td>\n",
       "      <td>8.632817</td>\n",
       "      <td>-61.432972</td>\n",
       "      <td>-1963.756592</td>\n",
       "      <td>3</td>\n",
       "      <td>232.406479</td>\n",
       "      <td>5</td>\n",
       "      <td>1</td>\n",
       "      <td>0</td>\n",
       "      <td>1</td>\n",
       "      <td>320</td>\n",
       "      <td>0.164412</td>\n",
       "      <td>0</td>\n",
       "      <td>3</td>\n",
       "    </tr>\n",
       "    <tr>\n",
       "      <th>4</th>\n",
       "      <td>4</td>\n",
       "      <td>8.573978</td>\n",
       "      <td>-61.487133</td>\n",
       "      <td>-1961.149292</td>\n",
       "      <td>3</td>\n",
       "      <td>232.488541</td>\n",
       "      <td>5</td>\n",
       "      <td>1</td>\n",
       "      <td>1</td>\n",
       "      <td>1</td>\n",
       "      <td>320</td>\n",
       "      <td>0.226827</td>\n",
       "      <td>0</td>\n",
       "      <td>4</td>\n",
       "    </tr>\n",
       "  </tbody>\n",
       "</table>\n",
       "</div>"
      ],
      "text/plain": [
       "   Index         X          Y            Z  TrackID        Time  StatNb  \\\n",
       "0      0  8.883409 -61.202305 -1974.859985        3  232.044861       5   \n",
       "1      1  8.858191 -61.225544 -1973.742188        3  232.074081       5   \n",
       "2      2  8.824563 -61.256523 -1972.251953        3  232.118286       5   \n",
       "3      3  8.632817 -61.432972 -1963.756592        3  232.406479       5   \n",
       "4      4  8.573978 -61.487133 -1961.149292        3  232.488541       5   \n",
       "\n",
       "   ViewNb  PlaneNb  LayerNb  StrawNb  dist2Wire  event  k  \n",
       "0       0        0        0      319   0.274822      0  0  \n",
       "1       0        0        1      320   0.582455      0  1  \n",
       "2       0        1        0      319   0.111252      0  2  \n",
       "3       1        0        1      320   0.164412      0  3  \n",
       "4       1        1        1      320   0.226827      0  4  "
      ]
     },
     "execution_count": 2,
     "metadata": {},
     "output_type": "execute_result"
    }
   ],
   "source": [
    "all_hits = pd.read_csv('Data/strawtubesPoint_decoded_hits.csv', delimiter=',')\n",
    "all_hits['Index'] = all_hits.index\n",
    "all_hits = all_hits[['Index', 'X', 'Y', 'Z', 'TrackID', 'Time', 'StatNb', 'ViewNb', 'PlaneNb', 'LayerNb', 'StrawNb', 'dist2Wire', 'event', 'k']]\n",
    "all_hits.head()"
   ]
  },
  {
   "cell_type": "code",
   "execution_count": 40,
   "metadata": {
    "collapsed": true
   },
   "outputs": [],
   "source": [
    "def show(index):\n",
    "    X = []\n",
    "    Z = []\n",
    "    for i in new_linking_table[index]:\n",
    "        X.append(all_hits['X'][i])\n",
    "        Z.append(all_hits['Z'][i])\n",
    "    plt.scatter(Z, X)\n",
    "    t = np.arange(2550, 2850, 299)\n",
    "    plt.plot(t, new_tracks[index][0] * t + new_tracks[index][1], lw = 2, c = 'black')"
   ]
  },
  {
   "cell_type": "markdown",
   "metadata": {},
   "source": [
    "# test 1"
   ]
  },
  {
   "cell_type": "code",
   "execution_count": 30,
   "metadata": {
    "collapsed": false
   },
   "outputs": [
    {
     "data": {
      "text/plain": [
       "{2.0, 3.0}"
      ]
     },
     "execution_count": 30,
     "metadata": {},
     "output_type": "execute_result"
    }
   ],
   "source": [
    "event0 = all_hits[all_hits['event'] == 7]\n",
    "set(event0['TrackID'])"
   ]
  },
  {
   "cell_type": "code",
   "execution_count": 31,
   "metadata": {
    "collapsed": false
   },
   "outputs": [],
   "source": [
    "tracks, linking_table = loop_yz(event0, 7, 0.85)"
   ]
  },
  {
   "cell_type": "code",
   "execution_count": 32,
   "metadata": {
    "collapsed": false
   },
   "outputs": [],
   "source": [
    "new_tracks, new_linking_table = loop_xz(event0, tracks, linking_table, 6, 15)"
   ]
  },
  {
   "cell_type": "code",
   "execution_count": 33,
   "metadata": {
    "collapsed": false
   },
   "outputs": [
    {
     "data": {
      "text/plain": [
       "{10001: [2874, 2918, 2919, 2884, 2875, 2885],\n",
       " 10002: [2909, 2912, 2911, 2917, 2910, 2920]}"
      ]
     },
     "execution_count": 33,
     "metadata": {},
     "output_type": "execute_result"
    }
   ],
   "source": [
    "new_linking_table"
   ]
  },
  {
   "cell_type": "code",
   "execution_count": 41,
   "metadata": {
    "collapsed": false
   },
   "outputs": [
    {
     "data": {
      "image/png": "[encoded data removed]",
      "text/plain": [
       "<matplotlib.figure.Figure at 0x7f522da35a50>"
      ]
     },
     "metadata": {},
     "output_type": "display_data"
    }
   ],
   "source": [
    "show(10001)"
   ]
  },
  {
   "cell_type": "code",
   "execution_count": 42,
   "metadata": {
    "collapsed": false
   },
   "outputs": [
    {
     "data": {
      "image/png": "[encoded data removed]",
      "text/plain": [
       "<matplotlib.figure.Figure at 0x7f522d57b510>"
      ]
     },
     "metadata": {},
     "output_type": "display_data"
    }
   ],
   "source": [
    "show(10002)"
   ]
  },
  {
   "cell_type": "markdown",
   "metadata": {},
   "source": [
    "# test 2"
   ]
  },
  {
   "cell_type": "code",
   "execution_count": 43,
   "metadata": {
    "collapsed": false
   },
   "outputs": [
    {
     "data": {
      "text/plain": [
       "{-2.0, 3.0, 45.0, 56.0, 199.0, 200.0}"
      ]
     },
     "execution_count": 43,
     "metadata": {},
     "output_type": "execute_result"
    }
   ],
   "source": [
    "event0 = all_hits[all_hits['event'] == 5]\n",
    "set(event0['TrackID'])"
   ]
  },
  {
   "cell_type": "code",
   "execution_count": 44,
   "metadata": {
    "collapsed": false
   },
   "outputs": [],
   "source": [
    "tracks, linking_table = loop_yz(event0, 7, 0.85)"
   ]
  },
  {
   "cell_type": "code",
   "execution_count": 45,
   "metadata": {
    "collapsed": false
   },
   "outputs": [],
   "source": [
    "new_tracks, new_linking_table = loop_xz(event0, tracks, linking_table, 6, 15)"
   ]
  },
  {
   "cell_type": "code",
   "execution_count": 46,
   "metadata": {
    "collapsed": false
   },
   "outputs": [
    {
     "data": {
      "text/plain": [
       "{}"
      ]
     },
     "execution_count": 46,
     "metadata": {},
     "output_type": "execute_result"
    }
   ],
   "source": [
    "new_linking_table"
   ]
  },
  {
   "cell_type": "markdown",
   "metadata": {},
   "source": [
    "# test 3"
   ]
  },
  {
   "cell_type": "code",
   "execution_count": 48,
   "metadata": {
    "collapsed": false
   },
   "outputs": [
    {
     "data": {
      "text/plain": [
       "{-2.0,\n",
       " 2.0,\n",
       " 6.0,\n",
       " 17.0,\n",
       " 32.0,\n",
       " 44.0,\n",
       " 49.0,\n",
       " 51.0,\n",
       " 60.0,\n",
       " 64.0,\n",
       " 73.0,\n",
       " 78.0,\n",
       " 79.0,\n",
       " 87.0,\n",
       " 102.0,\n",
       " 104.0,\n",
       " 108.0,\n",
       " 123.0,\n",
       " 136.0,\n",
       " 156.0}"
      ]
     },
     "execution_count": 48,
     "metadata": {},
     "output_type": "execute_result"
    }
   ],
   "source": [
    "event0 = all_hits[all_hits['event'] == 3]\n",
    "set(event0['TrackID'])"
   ]
  },
  {
   "cell_type": "code",
   "execution_count": 49,
   "metadata": {
    "collapsed": true
   },
   "outputs": [],
   "source": [
    "tracks, linking_table = loop_yz(event0, 7, 0.85)"
   ]
  },
  {
   "cell_type": "code",
   "execution_count": 50,
   "metadata": {
    "collapsed": true
   },
   "outputs": [],
   "source": [
    "new_tracks, new_linking_table = loop_xz(event0, tracks, linking_table, 6, 15)"
   ]
  },
  {
   "cell_type": "code",
   "execution_count": 51,
   "metadata": {
    "collapsed": false
   },
   "outputs": [
    {
     "data": {
      "text/plain": [
       "{10001: [165, 669, 2320, 792, 2426, 2425, 2035],\n",
       " 10002: [120,\n",
       "  1066,\n",
       "  691,\n",
       "  830,\n",
       "  2391,\n",
       "  2419,\n",
       "  886,\n",
       "  1415,\n",
       "  1514,\n",
       "  851,\n",
       "  2113,\n",
       "  1412,\n",
       "  1110,\n",
       "  690,\n",
       "  829,\n",
       "  2404,\n",
       "  1497,\n",
       "  1498,\n",
       "  850,\n",
       "  2452,\n",
       "  1414,\n",
       "  2111,\n",
       "  2112,\n",
       "  1413],\n",
       " 10003: [1065,\n",
       "  2319,\n",
       "  527,\n",
       "  2348,\n",
       "  180,\n",
       "  189,\n",
       "  186,\n",
       "  793,\n",
       "  2037,\n",
       "  2036,\n",
       "  817,\n",
       "  2424,\n",
       "  1064,\n",
       "  1145,\n",
       "  528,\n",
       "  2347,\n",
       "  188,\n",
       "  2038,\n",
       "  121],\n",
       " 10004: [1147,\n",
       "  1148,\n",
       "  797,\n",
       "  907,\n",
       "  294,\n",
       "  819,\n",
       "  901,\n",
       "  616,\n",
       "  1136,\n",
       "  292,\n",
       "  2428,\n",
       "  118,\n",
       "  908,\n",
       "  293,\n",
       "  618,\n",
       "  1005,\n",
       "  1137,\n",
       "  617,\n",
       "  119],\n",
       " 140005: [393,\n",
       "  2406,\n",
       "  2420,\n",
       "  889,\n",
       "  890,\n",
       "  899,\n",
       "  175,\n",
       "  308,\n",
       "  693,\n",
       "  2393,\n",
       "  888,\n",
       "  898,\n",
       "  2454,\n",
       "  2472,\n",
       "  129,\n",
       "  174,\n",
       "  306,\n",
       "  943,\n",
       "  461,\n",
       "  976,\n",
       "  2405,\n",
       "  900,\n",
       "  831,\n",
       "  2392,\n",
       "  887,\n",
       "  2090,\n",
       "  977,\n",
       "  130,\n",
       "  307],\n",
       " 140006: [2451,\n",
       "  1496,\n",
       "  1945,\n",
       "  2401,\n",
       "  2390,\n",
       "  828,\n",
       "  2469,\n",
       "  2380,\n",
       "  392,\n",
       "  2402,\n",
       "  1108,\n",
       "  2418,\n",
       "  1513,\n",
       "  1013,\n",
       "  1944,\n",
       "  1943],\n",
       " 250007: [448, 929, 1269, 447, 930, 446, 445],\n",
       " 260008: [1037,\n",
       "  1974,\n",
       "  214,\n",
       "  1782,\n",
       "  529,\n",
       "  672,\n",
       "  215,\n",
       "  2434,\n",
       "  1503,\n",
       "  1154,\n",
       "  216,\n",
       "  813,\n",
       "  360],\n",
       " 260009: [302, 370, 1084, 232, 252, 2091, 671, 1500, 1150, 1501, 2432],\n",
       " 260010: [1016, 1494, 2414, 863, 864, 2413, 1512, 1036],\n",
       " 260011: [746, 747, 795, 692, 2453, 2471, 1085, 1092],\n",
       " 270012: [816, 362, 798, 1149, 477, 1086, 944, 757, 2089, 2430],\n",
       " 280013: [1135,\n",
       "  1179,\n",
       "  1180,\n",
       "  790,\n",
       "  2361,\n",
       "  826,\n",
       "  839,\n",
       "  2378,\n",
       "  856,\n",
       "  2362,\n",
       "  2464,\n",
       "  455,\n",
       "  1100,\n",
       "  651,\n",
       "  723,\n",
       "  2359,\n",
       "  2376,\n",
       "  457,\n",
       "  652,\n",
       "  1099,\n",
       "  351,\n",
       "  789,\n",
       "  290,\n",
       "  2360,\n",
       "  825,\n",
       "  2377,\n",
       "  855,\n",
       "  456,\n",
       "  653,\n",
       "  877,\n",
       "  2465,\n",
       "  2379]}"
      ]
     },
     "execution_count": 51,
     "metadata": {},
     "output_type": "execute_result"
    }
   ],
   "source": [
    "new_linking_table"
   ]
  },
  {
   "cell_type": "code",
   "execution_count": null,
   "metadata": {
    "collapsed": true
   },
   "outputs": [],
   "source": [
    "show(10001)"
   ]
  }
 ],
 "metadata": {
  "kernelspec": {
   "display_name": "Python 2",
   "language": "python",
   "name": "python2"
  },
  "language_info": {
   "codemirror_mode": {
    "name": "ipython",
    "version": 2
   },
   "file_extension": ".py",
   "mimetype": "text/x-python",
   "name": "python",
   "nbconvert_exporter": "python",
   "pygments_lexer": "ipython2",
   "version": "2.7.10"
  }
 },
 "nbformat": 4,
 "nbformat_minor": 0
}
