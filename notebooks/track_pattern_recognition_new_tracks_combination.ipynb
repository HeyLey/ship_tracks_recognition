{
 "cells": [
  {
   "cell_type": "markdown",
   "metadata": {},
   "source": [
    "# About\n",
    "\n",
    "SHiP track pattern recognition is in this notebook."
   ]
  },
  {
   "cell_type": "markdown",
   "metadata": {},
   "source": [
    "# Data"
   ]
  },
  {
   "cell_type": "code",
   "execution_count": 1,
   "metadata": {
    "collapsed": false
   },
   "outputs": [],
   "source": [
    "import os, sys\n",
    "sys.path.append('../functions')"
   ]
  },
  {
   "cell_type": "code",
   "execution_count": 2,
   "metadata": {
    "collapsed": true
   },
   "outputs": [],
   "source": [
    "%matplotlib inline\n",
    "import pandas\n",
    "import numpy\n",
    "import matplotlib.pyplot as plt\n",
    "import cPickle as pickle"
   ]
  },
  {
   "cell_type": "code",
   "execution_count": 3,
   "metadata": {
    "collapsed": false
   },
   "outputs": [],
   "source": [
    "all_mctracks = pandas.read_csv('Data/MCTrack.csv', delimiter=',')\n",
    "all_velo_points = pandas.read_csv('Data/vetoPoint.csv', delimiter=',')\n",
    "all_hits = pandas.read_csv('Data/strawtubesPoint_decoded_hits.csv', delimiter=',')\n",
    "all_hits['Index'] = all_hits.index"
   ]
  },
  {
   "cell_type": "markdown",
   "metadata": {},
   "source": [
    "# Get reconstructible events"
   ]
  },
  {
   "cell_type": "code",
   "execution_count": 4,
   "metadata": {
    "collapsed": false
   },
   "outputs": [],
   "source": [
    "from utils import get_reconstractible_events\n",
    "#reconstructible_events = get_reconstractible_events(range(0, 2500), all_hits, all_mctracks, all_velo_points)\n",
    "\n",
    "# file_pickle = open('./Data/reco_tracks_for_pattern_recognition.pkl', 'wb')\n",
    "# pickle.dump(reconstructible_events, file_pickle)\n",
    "# file_pickle.close()\n",
    "\n",
    "file_pickle = open('./Data/reco_tracks_for_pattern_recognition.pkl', 'rb')\n",
    "reconstructible_events_pkl = pickle.load(file_pickle)\n",
    "file_pickle.close()\n",
    "\n",
    "reconstructible_events = reconstructible_events_pkl"
   ]
  },
  {
   "cell_type": "code",
   "execution_count": 5,
   "metadata": {
    "collapsed": true
   },
   "outputs": [],
   "source": [
    "# reconstructible_events_valid = get_reconstractible_events(range(2500, 5000), all_hits, all_mctracks, all_velo_points)\n",
    "\n",
    "# file_pickle = open('./Data/reco_tracks_for_pattern_recognition_valid.pkl', 'wb')\n",
    "# pickle.dump(reconstructible_events_valid, file_pickle)\n",
    "# file_pickle.close()\n",
    "\n",
    "file_pickle = open('./Data/reco_tracks_for_pattern_recognition_valid.pkl', 'rb')\n",
    "reconstructible_events_valid_pkl = pickle.load(file_pickle)\n",
    "file_pickle.close()\n",
    "\n",
    "reconstructible_events_valid = reconstructible_events_valid_pkl"
   ]
  },
  {
   "cell_type": "code",
   "execution_count": 6,
   "metadata": {
    "collapsed": false
   },
   "outputs": [
    {
     "data": {
      "text/plain": [
       "array([ 513,    2,  515,  516, 1541,  518,    7,   10, 2059, 1036, 1550,\n",
       "         15, 2392, 1042, 1557,   23,   27, 2077, 2132, 1057,  549,   39,\n",
       "       1066, 2482,  558, 2095,   48,  928,   50, 2099,   53, 1204, 1546,\n",
       "         62, 1600, 2113, 1090, 1206, 1606, 1607, 1548,   74, 1293, 2232,\n",
       "         84,   85,   86, 1111, 2138, 1116, 1629,  606, 1893,  608,   97,\n",
       "       1979,  612, 1637,  614, 1129,  106, 1895, 2305, 2157,  622, 1213,\n",
       "       1136,  625, 1138, 2164, 1142, 1655,  122, 1385,  126,  686,  129,\n",
       "        642,  131, 1668, 1157,  134,  135,  648, 1280,  651, 1677,  654,\n",
       "        143, 1683, 1691, 2204, 1693,  670,  159, 2208,  161, 2246, 1190,\n",
       "       1704,  174,  824, 2224, 1224,  179,  692, 1717,  694,  184, 1722,\n",
       "       1724,  189, 2239,  707, 2244, 1967, 1222,  712, 1200, 1900,  719,\n",
       "       1232, 2446,  211, 2260, 1238,  215, 2264, 1242, 1243, 1756,  221,\n",
       "       1758, 2271,  736, 1761, 1762, 1251, 2277, 1256, 1769, 2282,  747,\n",
       "       2429, 2002, 1262,  893, 1265, 2290, 1235, 2203, 1747,  759,  249,\n",
       "       2378, 2302,  767,  768,  257, 1283, 1284, 1286, 1153,  777, 2314,\n",
       "       2263,   94,  781,  270,  785, 1299,  276, 2350,  791,  793, 1821,\n",
       "        445, 1311,  289, 2338,  292, 1829,  294,  957,  809, 1322,  299,\n",
       "       2348,  813, 1838, 1329, 1843, 2356, 1848,  735, 1340, 1854,  565,\n",
       "       1675, 1349,  839, 1352, 1533,  842,  331, 2142,  845, 1359, 1360,\n",
       "       2360,  341, 2390, 2105,  856, 1369, 1375, 1377, 1339, 1380, 1381,\n",
       "       1383,  828, 1898, 1086,  876,  365,  878, 2416,  369,  370,  883,\n",
       "       2280,  885, 2007, 2423, 1912,  377, 1598,  381,  715,  897, 1410,\n",
       "        901, 2439, 2441, 2443, 1934, 1423,  644, 1427,  916,  917,  406,\n",
       "       2455,  408, 1775, 1911, 1439, 1440,  417, 1156,  923,  933, 2470,\n",
       "       2145, 1180,  426, 1451,  157, 1861, 1458, 2035, 2488,  953, 1901,\n",
       "        927, 2493,  449, 1474,  412,  407, 1441,  968,  970, 2295, 1793,\n",
       "       1851, 2040,  978, 2467, 2317, 1494, 1785, 2266,  782, 2127, 2014,\n",
       "       2405,  484,  806, 1617,  490, 2471, 2029, 1006, 1021, 1008, 1009,\n",
       "       1011,  500, 2037,  502, 1528, 1987, 1279,  102, 2046, 1023])"
      ]
     },
     "execution_count": 6,
     "metadata": {},
     "output_type": "execute_result"
    }
   ],
   "source": [
    "numpy.array(reconstructible_events.keys())"
   ]
  },
  {
   "cell_type": "code",
   "execution_count": 7,
   "metadata": {
    "collapsed": true
   },
   "outputs": [],
   "source": [
    "def merge_dicts(dicts):\n",
    "    '''\n",
    "    Given any number of dicts, shallow copy and merge into a new dict,\n",
    "    precedence goes to key value pairs in latter dicts.\n",
    "    '''\n",
    "    result = {}\n",
    "    for dictionary in dicts:\n",
    "        result.update(dictionary)\n",
    "    return result\n",
    "\n",
    "reconstructible_events = merge_dicts([reconstructible_events_pkl, reconstructible_events_valid_pkl])"
   ]
  },
  {
   "cell_type": "markdown",
   "metadata": {},
   "source": [
    "# Stations 1&2"
   ]
  },
  {
   "cell_type": "code",
   "execution_count": 8,
   "metadata": {
    "collapsed": false,
    "scrolled": false
   },
   "outputs": [
    {
     "name": "stdout",
     "output_type": "stream",
     "text": [
      "CPU times: user 2min 22s, sys: 1.53 s, total: 2min 23s\n",
      "Wall time: 2min 26s\n"
     ]
    }
   ],
   "source": [
    "%%time\n",
    "from Y_views import loop_yz\n",
    "from UV_views import loop_xz\n",
    "\n",
    "reco_events12 = {}\n",
    "\n",
    "for event_id in reconstructible_events.keys():\n",
    "    \n",
    "    event = all_hits[all_hits.event == event_id]\n",
    "    \n",
    "    tracks_yz, linking_table_yz = loop_yz(event, 7, 0.85, 0, 0)\n",
    "    tracks_xz, linking_table_xz, Xs = loop_xz(event, tracks_yz, linking_table_yz, 6, 15, 0)\n",
    "    \n",
    "    reco = [tracks_yz, linking_table_yz, tracks_xz, linking_table_xz]\n",
    "    \n",
    "    reco_events12[event_id] = reco"
   ]
  },
  {
   "cell_type": "code",
   "execution_count": 9,
   "metadata": {
    "collapsed": true
   },
   "outputs": [],
   "source": [
    "file_pickle = open('./Data/reco_events12.pkl', 'wb')\n",
    "pickle.dump(reco_events12, file_pickle)\n",
    "file_pickle.close()\n",
    "\n",
    "file_pickle = open('./Data/reco_events12.pkl', 'rb')\n",
    "reco_events12_pkl = pickle.load(file_pickle)\n",
    "file_pickle.close()\n",
    "\n",
    "reco_events12 = reco_events12_pkl"
   ]
  },
  {
   "cell_type": "markdown",
   "metadata": {},
   "source": [
    "# Stations 3&4"
   ]
  },
  {
   "cell_type": "code",
   "execution_count": 10,
   "metadata": {
    "collapsed": false,
    "scrolled": false
   },
   "outputs": [],
   "source": [
    "from Y_views import loop_yz\n",
    "from UV_views import loop_xz\n",
    "\n",
    "reco_events34 = {}\n",
    "\n",
    "for event_id in reconstructible_events.keys():\n",
    "    \n",
    "    event = all_hits[all_hits.event == event_id]\n",
    "    \n",
    "    tracks_yz, linking_table_yz = loop_yz(event, 7, 0.85, 1, 0)\n",
    "    tracks_xz, linking_table_xz, Xs = loop_xz(event, tracks_yz, linking_table_yz, 6, 15, 1)\n",
    "    \n",
    "    reco = [tracks_yz, linking_table_yz, tracks_xz, linking_table_xz]\n",
    "    \n",
    "    reco_events34[event_id] = reco"
   ]
  },
  {
   "cell_type": "code",
   "execution_count": 11,
   "metadata": {
    "collapsed": true
   },
   "outputs": [],
   "source": [
    "file_pickle = open('./Data/reco_events34.pkl', 'wb')\n",
    "pickle.dump(reco_events34, file_pickle)\n",
    "file_pickle.close()\n",
    "\n",
    "file_pickle = open('./Data/reco_events34.pkl', 'rb')\n",
    "reco_events34_pkl = pickle.load(file_pickle)\n",
    "file_pickle.close()\n",
    "\n",
    "reco_events34 = reco_events34_pkl"
   ]
  },
  {
   "cell_type": "markdown",
   "metadata": {},
   "source": [
    "# Combination tracks"
   ]
  },
  {
   "cell_type": "markdown",
   "metadata": {},
   "source": [
    "### Data Preparation"
   ]
  },
  {
   "cell_type": "code",
   "execution_count": 12,
   "metadata": {
    "collapsed": true
   },
   "outputs": [],
   "source": [
    "from MatchTracks import get_dx_dy, get_true_label, get_matching_data, get_new_matched_tracks, get_true_match\n",
    "\n",
    "data = get_matching_data(reco_events12, reco_events34, all_hits)\n",
    "\n",
    "\n",
    "data['dk_xz'] = data['k_xz_34'].values - data['k_xz_12'].values\n",
    "data['db_xz'] = data['b_xz_34'].values - data['b_xz_12'].values\n",
    "data['dk_yz'] = data['k_yz_34'].values - data['k_yz_12'].values\n",
    "data['db_yz'] = data['b_yz_34'].values - data['b_yz_12'].values\n",
    "\n",
    "\n",
    "X_data = data[[u'dx', u'dy', \n",
    "          u'k_xz_12', u'b_xz_12', \n",
    "          u'k_yz_12',u'b_yz_12', \n",
    "          u'k_xz_34', u'b_xz_34', \n",
    "          u'k_yz_34', u'b_yz_34', \n",
    "          'dk_xz', 'db_xz', \n",
    "          'dk_yz', 'db_yz']].values\n",
    "y_data = data[['label']].values.reshape(-1)"
   ]
  },
  {
   "cell_type": "markdown",
   "metadata": {},
   "source": [
    "### Train Classifier"
   ]
  },
  {
   "cell_type": "code",
   "execution_count": 13,
   "metadata": {
    "collapsed": false
   },
   "outputs": [
    {
     "name": "stdout",
     "output_type": "stream",
     "text": [
      "CPU times: user 1min 26s, sys: 29.5 s, total: 1min 56s\n",
      "Wall time: 1min 8s\n"
     ]
    },
    {
     "data": {
      "text/plain": [
       "FoldingClassifier(base_estimator=XGBoostClassifier(base_score=0.5, colsample=0.7, eta=0.01, features=None,\n",
       "         gamma=None, max_depth=8, min_child_weight=1.0, missing=-999.0,\n",
       "         n_estimators=1000, nthreads=3, num_feature=None, random_state=0,\n",
       "         scale_pos_weight=1.0, subsample=0.5, verbose=0),\n",
       "         features=['Feature_0', 'Feature_1', 'Feature_2', 'Feature_3', 'Feature_4', 'Feature_5', 'Feature_6', 'Feature_7', 'Feature_8', 'Feature_9', 'Feature_10', 'Feature_11', 'Feature_12', 'Feature_13'],\n",
       "         n_folds=10, parallel_profile=None, random_state=11)"
      ]
     },
     "execution_count": 13,
     "metadata": {},
     "output_type": "execute_result"
    }
   ],
   "source": [
    "from rep.metaml import FoldingClassifier\n",
    "from rep.estimators import XGBoostClassifier\n",
    "\n",
    "\n",
    "from rep.estimators import XGBoostClassifier\n",
    "xgb_base = XGBoostClassifier(n_estimators=1000, colsample=0.7, eta=0.01, nthreads=3, \n",
    "                             subsample=0.5, max_depth=8)\n",
    "folding = FoldingClassifier(xgb_base, n_folds=10, random_state=11)\n",
    "%time folding.fit(X_data, y_data)"
   ]
  },
  {
   "cell_type": "markdown",
   "metadata": {},
   "source": [
    "### Prediction and Quality"
   ]
  },
  {
   "cell_type": "code",
   "execution_count": 14,
   "metadata": {
    "collapsed": false
   },
   "outputs": [
    {
     "name": "stdout",
     "output_type": "stream",
     "text": [
      "KFold prediction using folds column\n",
      "KFold prediction using folds column\n",
      "0.99731616244\n"
     ]
    },
    {
     "data": {
      "image/png": "[encoded data removed]",
      "text/plain": [
       "<matplotlib.figure.Figure at 0x108124b50>"
      ]
     },
     "metadata": {},
     "output_type": "display_data"
    }
   ],
   "source": [
    "y_proba = folding.predict_proba(X_data)[:, 1]\n",
    "y_predict = folding.predict(X_data)\n",
    "\n",
    "from sklearn.metrics import roc_auc_score\n",
    "print roc_auc_score(y_data, y_proba)\n",
    "\n",
    "plt.hist(y_proba[y_data==1], label='1', color='b', bins=20, alpha=0.5)\n",
    "plt.hist(y_proba[y_data==0], label='0', color='r', bins=20, alpha=0.5)\n",
    "plt.ylim(0,10)\n",
    "plt.show()"
   ]
  },
  {
   "cell_type": "markdown",
   "metadata": {},
   "source": [
    "### Tracks Combination"
   ]
  },
  {
   "cell_type": "code",
   "execution_count": 15,
   "metadata": {
    "collapsed": false
   },
   "outputs": [
    {
     "name": "stdout",
     "output_type": "stream",
     "text": [
      "270\n",
      "1528\n",
      "3670\n",
      "2040\n"
     ]
    }
   ],
   "source": [
    "match_tracks = {}\n",
    "for event_id in reco_events12.keys():\n",
    "    \n",
    "    ids = data[data.EventID.values == event_id][['track_id_12', 'track_id_34']].values\n",
    "    probas = y_proba[data.EventID.values == event_id]\n",
    "    \n",
    "    match_tracks[event_id] = ids[probas.argsort()[::-1], :][:2, :]\n",
    "    #match_tracks[event_id] = ids[probas > 0.5, :]\n",
    "    if len(match_tracks[event_id]) < 2:\n",
    "        print event_id"
   ]
  },
  {
   "cell_type": "code",
   "execution_count": 16,
   "metadata": {
    "collapsed": true
   },
   "outputs": [],
   "source": [
    "charge_dict, pinv_dict, dist_y, dist_x = get_new_matched_tracks(reco_events12, reco_events34, match_tracks)\n",
    "\n",
    "true_charge_dict, true_pdg_dict, true_pinv_dict = get_true_match(reco_events12, reco_events34, match_tracks, all_hits)"
   ]
  },
  {
   "cell_type": "code",
   "execution_count": null,
   "metadata": {
    "collapsed": true
   },
   "outputs": [],
   "source": []
  },
  {
   "cell_type": "markdown",
   "metadata": {},
   "source": [
    "# Efficiency"
   ]
  },
  {
   "cell_type": "markdown",
   "metadata": {},
   "source": [
    "### Stations 1&2"
   ]
  },
  {
   "cell_type": "code",
   "execution_count": 17,
   "metadata": {
    "collapsed": false
   },
   "outputs": [],
   "source": [
    "from efficiency import efficiency_per_track\n",
    "\n",
    "eff_y, eff_stereo, eff_station = efficiency_per_track(reconstructible_events.keys(), \n",
    "                                                                     all_hits, \n",
    "                                                                     reco_events12)"
   ]
  },
  {
   "cell_type": "code",
   "execution_count": 18,
   "metadata": {
    "collapsed": false
   },
   "outputs": [
    {
     "data": {
      "image/png": "[encoded data removed]",
      "text/plain": [
       "<matplotlib.figure.Figure at 0x109a39910>"
      ]
     },
     "metadata": {},
     "output_type": "display_data"
    }
   ],
   "source": [
    "plt.figure(figsize=(15, 3))\n",
    "\n",
    "plt.subplot(1,3,1)\n",
    "plt.title('Mean = % f' % numpy.array(eff_y).mean())\n",
    "plt.hist(eff_y, label='y')\n",
    "plt.xlabel('efficiency')\n",
    "plt.xlim(0, 1.1)\n",
    "plt.legend(loc='best')\n",
    "\n",
    "plt.subplot(1,3,2)\n",
    "plt.title('Mean = % f' % numpy.array(eff_stereo).mean())\n",
    "plt.hist(eff_stereo, label='stereo')\n",
    "plt.xlabel('efficiency')\n",
    "plt.xlim(0, 1.1)\n",
    "plt.legend(loc='best')\n",
    "\n",
    "plt.subplot(1,3,3)\n",
    "plt.title('Mean = % f' % numpy.array(eff_station).mean())\n",
    "plt.hist(eff_station, label='station 1&2')\n",
    "plt.xlabel('efficiency')\n",
    "plt.xlim(0, 1.1)\n",
    "plt.legend(loc='best')\n",
    "\n",
    "plt.show()"
   ]
  },
  {
   "cell_type": "markdown",
   "metadata": {},
   "source": [
    "### Stations 3&4"
   ]
  },
  {
   "cell_type": "code",
   "execution_count": 19,
   "metadata": {
    "collapsed": true
   },
   "outputs": [],
   "source": [
    "from efficiency import efficiency_per_track\n",
    "\n",
    "eff_y, eff_stereo, eff_station = efficiency_per_track(reconstructible_events.keys(), \n",
    "                                                                     all_hits, \n",
    "                                                                     reco_events34)"
   ]
  },
  {
   "cell_type": "code",
   "execution_count": 20,
   "metadata": {
    "collapsed": false
   },
   "outputs": [
    {
     "data": {
      "image/png": "[encoded data removed]",
      "text/plain": [
       "<matplotlib.figure.Figure at 0x109a5b210>"
      ]
     },
     "metadata": {},
     "output_type": "display_data"
    }
   ],
   "source": [
    "plt.figure(figsize=(15, 3))\n",
    "\n",
    "plt.subplot(1,3,1)\n",
    "plt.title('Mean = % f' % numpy.array(eff_y).mean())\n",
    "plt.hist(eff_y, label='y')\n",
    "plt.xlabel('efficiency')\n",
    "plt.xlim(0, 1.1)\n",
    "plt.legend(loc='best')\n",
    "\n",
    "plt.subplot(1,3,2)\n",
    "plt.title('Mean = % f' % numpy.array(eff_stereo).mean())\n",
    "plt.hist(eff_stereo, label='stereo')\n",
    "plt.xlabel('efficiency')\n",
    "plt.xlim(0, 1.1)\n",
    "plt.legend(loc='best')\n",
    "\n",
    "plt.subplot(1,3,3)\n",
    "plt.title('Mean = % f' % numpy.array(eff_station).mean())\n",
    "plt.hist(eff_station, label='station 1&2')\n",
    "plt.xlabel('efficiency')\n",
    "plt.xlim(0, 1.1)\n",
    "plt.legend(loc='best')\n",
    "\n",
    "plt.show()"
   ]
  },
  {
   "cell_type": "markdown",
   "metadata": {},
   "source": [
    "# Efficiency per event"
   ]
  },
  {
   "cell_type": "code",
   "execution_count": 21,
   "metadata": {
    "collapsed": false
   },
   "outputs": [
    {
     "name": "stdout",
     "output_type": "stream",
     "text": [
      "Total efficiency per event is  92.2058823529  %\n"
     ]
    },
    {
     "data": {
      "image/png": "[encoded data removed]",
      "text/plain": [
       "<matplotlib.figure.Figure at 0x10e7a3610>"
      ]
     },
     "metadata": {},
     "output_type": "display_data"
    }
   ],
   "source": [
    "from efficiency import efficiency_per_event\n",
    "\n",
    "n_events, missed_events = efficiency_per_event(reconstructible_events, \n",
    "                                               reco_events12, \n",
    "                                               reco_events34, \n",
    "                                               match_tracks, \n",
    "                                               true_pdg_dict,\n",
    "                                               all_hits)\n",
    "\n",
    "n_events = numpy.array(n_events)\n",
    "\n",
    "labels = ['Reconstructible tracks', \n",
    "          'Y view station 1&2', \n",
    "          'Stereo station 1&2', \n",
    "          'Station 1&2',\n",
    "          'Y view station 3&4', \n",
    "          'Stereo station 3&4',\n",
    "          'Station 3&4',\n",
    "          'Combined stations 1&2/3&4',\n",
    "          'Matched']\n",
    "\n",
    "print 'Total efficiency per event is ', 1. * n_events[-1] / n_events[0] * 100., ' %'\n",
    "\n",
    "x = range(len(labels))\n",
    "#plt.figure(figsize=(15,5))\n",
    "plt.bar(x, n_events - n_events.min() + 1., width=1., color='gold', align='center')\n",
    "plt.xticks(x, labels, rotation=90, size=15)\n",
    "plt.xlim(-0.5, 8.5)\n",
    "plt.show()"
   ]
  },
  {
   "cell_type": "code",
   "execution_count": 22,
   "metadata": {
    "collapsed": false
   },
   "outputs": [
    {
     "data": {
      "text/plain": [
       "array([ 680.,  666.,  661.,  661.,  650.,  648.,  648.,  648.,  627.])"
      ]
     },
     "execution_count": 22,
     "metadata": {},
     "output_type": "execute_result"
    }
   ],
   "source": [
    "n_events"
   ]
  },
  {
   "cell_type": "code",
   "execution_count": 23,
   "metadata": {
    "collapsed": false
   },
   "outputs": [
    {
     "data": {
      "text/plain": [
       "array([3110, 4156, 3253, 1090, 3165, 4811, 4297,  381, 3085, 3190, 3498,\n",
       "       4580, 2654, 2040,  270, 3781, 4595, 1528, 3670,    7,  143, 4490,\n",
       "        426,  670, 3749, 1722, 1756, 3194, 1848, 3916, 1142, 4342, 2762,\n",
       "       4108,  102, 3750, 4439, 3298, 2277, 4817, 2263, 2624, 4334, 2455,\n",
       "       4175, 3650, 2720,  715, 1769,  970, 3607, 3241, 1023])"
      ]
     },
     "execution_count": 23,
     "metadata": {},
     "output_type": "execute_result"
    }
   ],
   "source": [
    "numpy.array(missed_events)"
   ]
  },
  {
   "cell_type": "markdown",
   "metadata": {},
   "source": [
    "# Momentum"
   ]
  },
  {
   "cell_type": "code",
   "execution_count": 24,
   "metadata": {
    "collapsed": false
   },
   "outputs": [
    {
     "name": "stdout",
     "output_type": "stream",
     "text": [
      "y = b + kx\n",
      "k, b =  0.00473134023255 -0.00377230947905\n",
      "Cov matrix is \n",
      "[[  4.04636434e-06  -3.08904528e-07]\n",
      " [ -3.08904528e-07   1.86015671e-05]]\n"
     ]
    },
    {
     "data": {
      "image/png": "[encoded data removed]",
      "text/plain": [
       "<matplotlib.figure.Figure at 0x117c0da10>"
      ]
     },
     "metadata": {},
     "output_type": "display_data"
    }
   ],
   "source": [
    "from MatchTracks import get_pinv_true_pinv\n",
    "        \n",
    "pinv, true_pinv = get_pinv_true_pinv(pinv_dict, true_pinv_dict, true_charge_dict)\n",
    "        \n",
    "\n",
    "[k, b], cov = numpy.polyfit(true_pinv, pinv, 1, cov=True)\n",
    "print 'y = b + kx'\n",
    "print 'k, b = ', k, b\n",
    "print 'Cov matrix is '\n",
    "print cov\n",
    "\n",
    "plt.figure(figsize=(7, 5))\n",
    "plt.title('1/p vs 1/p-true', size=15)\n",
    "plt.scatter(true_pinv, pinv)\n",
    "x = numpy.array([-0.3, 0.3])\n",
    "plt.plot(x, k * x + b, color='r', linewidth=2, label='%.4f + ' % b + '%.4fx' % k)\n",
    "plt.legend(loc='best')\n",
    "plt.ylabel('1/p', size=15)\n",
    "plt.xlabel('1/p-true', size=15)\n",
    "plt.xlim(-0.3, 0.3)\n",
    "plt.ylim(-0.3, 0.3)\n",
    "plt.xticks(size=15)\n",
    "plt.yticks(size=15)\n",
    "plt.show()"
   ]
  },
  {
   "cell_type": "code",
   "execution_count": 25,
   "metadata": {
    "collapsed": false
   },
   "outputs": [
    {
     "data": {
      "image/png": "[encoded data removed]",
      "text/plain": [
       "<matplotlib.figure.Figure at 0x109921c10>"
      ]
     },
     "metadata": {},
     "output_type": "display_data"
    }
   ],
   "source": [
    "metric = true_pinv/pinv - 1\n",
    "\n",
    "plt.figure(figsize=(7, 5))\n",
    "plt.hist(metric[numpy.abs(metric) <= 0.5], bins=50)\n",
    "\n",
    "plt.title('(p - p-true)/p_true', size=15)\n",
    "plt.xticks(numpy.arange(-0.5, 0.51, 0.1), size=12)\n",
    "plt.yticks(size=12)\n",
    "plt.xlim(-0.5, 0.5)\n",
    "plt.show()"
   ]
  },
  {
   "cell_type": "code",
   "execution_count": null,
   "metadata": {
    "collapsed": true
   },
   "outputs": [],
   "source": []
  },
  {
   "cell_type": "code",
   "execution_count": null,
   "metadata": {
    "collapsed": true
   },
   "outputs": [],
   "source": []
  }
 ],
 "metadata": {
  "kernelspec": {
   "display_name": "Python 2",
   "language": "python",
   "name": "python2"
  },
  "language_info": {
   "codemirror_mode": {
    "name": "ipython",
    "version": 2
   },
   "file_extension": ".py",
   "mimetype": "text/x-python",
   "name": "python",
   "nbconvert_exporter": "python",
   "pygments_lexer": "ipython2",
   "version": "2.7.11"
  }
 },
 "nbformat": 4,
 "nbformat_minor": 0
}
