{
 "cells": [
  {
   "cell_type": "code",
   "execution_count": 1,
   "metadata": {
    "collapsed": true
   },
   "outputs": [],
   "source": [
    "import os, sys\n",
    "sys.path.append('../functions')"
   ]
  },
  {
   "cell_type": "code",
   "execution_count": 2,
   "metadata": {
    "collapsed": true
   },
   "outputs": [],
   "source": [
    "% matplotlib inline\n",
    "import pandas\n",
    "import numpy\n",
    "import matplotlib.pyplot as plt"
   ]
  },
  {
   "cell_type": "markdown",
   "metadata": {},
   "source": [
    "#Reading data"
   ]
  },
  {
   "cell_type": "code",
   "execution_count": 3,
   "metadata": {
    "collapsed": false
   },
   "outputs": [
    {
     "data": {
      "text/html": [
       "<div>\n",
       "<table border=\"1\" class=\"dataframe\">\n",
       "  <thead>\n",
       "    <tr style=\"text-align: right;\">\n",
       "      <th></th>\n",
       "      <th>Index</th>\n",
       "      <th>X</th>\n",
       "      <th>Y</th>\n",
       "      <th>Z</th>\n",
       "      <th>TrackID</th>\n",
       "      <th>Time</th>\n",
       "      <th>StatNb</th>\n",
       "      <th>ViewNb</th>\n",
       "      <th>PlaneNb</th>\n",
       "      <th>LayerNb</th>\n",
       "      <th>StrawNb</th>\n",
       "      <th>dist2Wire</th>\n",
       "      <th>event</th>\n",
       "      <th>k</th>\n",
       "    </tr>\n",
       "  </thead>\n",
       "  <tbody>\n",
       "    <tr>\n",
       "      <th>0</th>\n",
       "      <td>0</td>\n",
       "      <td>8.883409</td>\n",
       "      <td>-61.202305</td>\n",
       "      <td>-1974.859985</td>\n",
       "      <td>3</td>\n",
       "      <td>232.044861</td>\n",
       "      <td>5</td>\n",
       "      <td>0</td>\n",
       "      <td>0</td>\n",
       "      <td>0</td>\n",
       "      <td>319</td>\n",
       "      <td>0.274822</td>\n",
       "      <td>0</td>\n",
       "      <td>0</td>\n",
       "    </tr>\n",
       "    <tr>\n",
       "      <th>1</th>\n",
       "      <td>1</td>\n",
       "      <td>8.858191</td>\n",
       "      <td>-61.225544</td>\n",
       "      <td>-1973.742188</td>\n",
       "      <td>3</td>\n",
       "      <td>232.074081</td>\n",
       "      <td>5</td>\n",
       "      <td>0</td>\n",
       "      <td>0</td>\n",
       "      <td>1</td>\n",
       "      <td>320</td>\n",
       "      <td>0.582455</td>\n",
       "      <td>0</td>\n",
       "      <td>1</td>\n",
       "    </tr>\n",
       "    <tr>\n",
       "      <th>2</th>\n",
       "      <td>2</td>\n",
       "      <td>8.824563</td>\n",
       "      <td>-61.256523</td>\n",
       "      <td>-1972.251953</td>\n",
       "      <td>3</td>\n",
       "      <td>232.118286</td>\n",
       "      <td>5</td>\n",
       "      <td>0</td>\n",
       "      <td>1</td>\n",
       "      <td>0</td>\n",
       "      <td>319</td>\n",
       "      <td>0.111252</td>\n",
       "      <td>0</td>\n",
       "      <td>2</td>\n",
       "    </tr>\n",
       "    <tr>\n",
       "      <th>3</th>\n",
       "      <td>3</td>\n",
       "      <td>8.632817</td>\n",
       "      <td>-61.432972</td>\n",
       "      <td>-1963.756592</td>\n",
       "      <td>3</td>\n",
       "      <td>232.406479</td>\n",
       "      <td>5</td>\n",
       "      <td>1</td>\n",
       "      <td>0</td>\n",
       "      <td>1</td>\n",
       "      <td>320</td>\n",
       "      <td>0.164412</td>\n",
       "      <td>0</td>\n",
       "      <td>3</td>\n",
       "    </tr>\n",
       "    <tr>\n",
       "      <th>4</th>\n",
       "      <td>4</td>\n",
       "      <td>8.573978</td>\n",
       "      <td>-61.487133</td>\n",
       "      <td>-1961.149292</td>\n",
       "      <td>3</td>\n",
       "      <td>232.488541</td>\n",
       "      <td>5</td>\n",
       "      <td>1</td>\n",
       "      <td>1</td>\n",
       "      <td>1</td>\n",
       "      <td>320</td>\n",
       "      <td>0.226827</td>\n",
       "      <td>0</td>\n",
       "      <td>4</td>\n",
       "    </tr>\n",
       "  </tbody>\n",
       "</table>\n",
       "</div>"
      ],
      "text/plain": [
       "   Index         X          Y            Z  TrackID        Time  StatNb  \\\n",
       "0      0  8.883409 -61.202305 -1974.859985        3  232.044861       5   \n",
       "1      1  8.858191 -61.225544 -1973.742188        3  232.074081       5   \n",
       "2      2  8.824563 -61.256523 -1972.251953        3  232.118286       5   \n",
       "3      3  8.632817 -61.432972 -1963.756592        3  232.406479       5   \n",
       "4      4  8.573978 -61.487133 -1961.149292        3  232.488541       5   \n",
       "\n",
       "   ViewNb  PlaneNb  LayerNb  StrawNb  dist2Wire  event  k  \n",
       "0       0        0        0      319   0.274822      0  0  \n",
       "1       0        0        1      320   0.582455      0  1  \n",
       "2       0        1        0      319   0.111252      0  2  \n",
       "3       1        0        1      320   0.164412      0  3  \n",
       "4       1        1        1      320   0.226827      0  4  "
      ]
     },
     "execution_count": 3,
     "metadata": {},
     "output_type": "execute_result"
    }
   ],
   "source": [
    "all_mctracks = pandas.read_csv('Data/MCTrack.csv', delimiter=',')\n",
    "all_velo_points = pandas.read_csv('Data/vetoPoint.csv', delimiter=',')\n",
    "all_hits = pandas.read_csv('Data/strawtubesPoint_decoded_hits.csv', delimiter=',')\n",
    "all_hits['Index'] = all_hits.index\n",
    "all_hits = all_hits[['Index', 'X', 'Y', 'Z', 'TrackID', 'Time', 'StatNb', 'ViewNb', 'PlaneNb', 'LayerNb', 'StrawNb', 'dist2Wire', 'event', 'k']]\n",
    "all_hits.head()"
   ]
  },
  {
   "cell_type": "markdown",
   "metadata": {},
   "source": [
    "# Get reconstructible events"
   ]
  },
  {
   "cell_type": "code",
   "execution_count": 4,
   "metadata": {
    "collapsed": false
   },
   "outputs": [],
   "source": [
    "from ReconstructibleTracks import get_reconstractible_tracks\n",
    "\n",
    "reconstructible_events_test = {}\n",
    "\n",
    "for event_id in range(2500, 5000, 2):\n",
    "    \n",
    "    tracks = get_reconstractible_tracks(event_id, all_hits, all_mctracks, all_velo_points)\n",
    "    \n",
    "    if tracks != []:\n",
    "        reconstructible_events_test[event_id] = tracks"
   ]
  },
  {
   "cell_type": "code",
   "execution_count": 5,
   "metadata": {
    "collapsed": false
   },
   "outputs": [],
   "source": [
    "from ReconstructibleTracks import get_reconstractible_tracks\n",
    "\n",
    "reconstructible_events_train = {}\n",
    "\n",
    "for event_id in range(2501, 5000, 2):\n",
    "    \n",
    "    tracks = get_reconstractible_tracks(event_id, all_hits, all_mctracks, all_velo_points)\n",
    "    \n",
    "    if tracks != []:\n",
    "        reconstructible_events_train[event_id] = tracks"
   ]
  },
  {
   "cell_type": "code",
   "execution_count": 6,
   "metadata": {
    "collapsed": false
   },
   "outputs": [],
   "source": [
    "from MarginLinearRegression import *"
   ]
  },
  {
   "cell_type": "code",
   "execution_count": 7,
   "metadata": {
    "collapsed": true
   },
   "outputs": [],
   "source": [
    "import UV_views\n",
    "\n",
    "def get_zx_hits(event, zy_plane_k, zy_plane_b):\n",
    "    \n",
    "    stereo_hits = UV_views.modify_for_xz_analysis_1_2(event)\n",
    "    \n",
    "    stereo_hits['Wy'] = zy_plane_k * stereo_hits.Wz.values + zy_plane_b\n",
    "    stereo_hits['Wx'] = (stereo_hits.Wx2.values - stereo_hits.Wx1.values) / (stereo_hits.Wy2.values - stereo_hits.Wy1.values) * \\\n",
    "                        (stereo_hits.Wy.values - stereo_hits.Wy1.values) + stereo_hits.Wx1.values\n",
    "    \n",
    "    return stereo_hits#[numpy.abs(stereo_hits.Wx.values) < 300]"
   ]
  },
  {
   "cell_type": "code",
   "execution_count": 8,
   "metadata": {
    "collapsed": false
   },
   "outputs": [],
   "source": [
    "from Y_views import *\n",
    "\n",
    "def get_y_view_data(all_hit_ids, reconstructible_events_ids):\n",
    "    all_dists = []\n",
    "    all_dist2wires = []\n",
    "    all_scores = []\n",
    "    all_labels = []\n",
    "    all_ks = []\n",
    "    all_bs = []\n",
    "    \n",
    "    counter = 0\n",
    "\n",
    "\n",
    "    for event_id in reconstructible_events_ids:\n",
    "        \n",
    "        # get all event hits\n",
    "        event = all_hits[all_hits['event'] == event_id]\n",
    "        \n",
    "        # get hits in y_views\n",
    "        event_y = modify_for_yz_analysis_1_2(event)\n",
    "        event_y = event_y[ (event_y.TrackID == 2) + (event_y.TrackID == 3) ]\n",
    "\n",
    "        \n",
    "        for track_id in [2.0, 3.0]:\n",
    "            \n",
    "            # get hits for the track and other hists\n",
    "            track = event_y[event_y.TrackID == track_id]\n",
    "            false_track = event_y[event_y.TrackID != track_id]\n",
    "\n",
    "            if len(track) == 0:\n",
    "                continue\n",
    "\n",
    "            # mix hits from two tracks\n",
    "            mixed_track = pandas.concat([track[track.StatNb == 1], false_track[false_track.StatNb == 2]], axis=0)\n",
    "\n",
    "            if len(track.values) == 0:\n",
    "                print event_id, track_id\n",
    "                continue\n",
    "\n",
    "            if len(false_track.values) == 0:\n",
    "                print event_id, track_id\n",
    "                continue\n",
    "\n",
    "            if len(mixed_track.values) == 0:\n",
    "                print event_id, track_id\n",
    "                continue\n",
    "\n",
    "\n",
    "            # huts labels\n",
    "            pos_labels = [1]*len(track)\n",
    "            neg_labels = [0]*len(false_track)\n",
    "            mixed_neg_labels = [2]*len(mixed_track)\n",
    "\n",
    "            # fit true fit\n",
    "            rmlr = RobustMarginLinearRegression(2)\n",
    "            score, lr = rmlr.fit(track)\n",
    "            \n",
    "            # fit mixed track\n",
    "            mixed_rmlr = RobustMarginLinearRegression(2)\n",
    "            mixed_score, mixed_lr = mixed_rmlr.fit(mixed_track)\n",
    "        \n",
    "        \n",
    "            # collect all data\n",
    "            all_scores += [score]*(len(track) + len(false_track)) + [mixed_score]*(len(mixed_track))\n",
    "\n",
    "            \n",
    "            track_dists = rmlr.dist2track(track)[:, 0]\n",
    "            false_track_dists = rmlr.dist2track(false_track)[:, 0]\n",
    "            mixed_track_dists = mixed_rmlr.dist2track(mixed_track)[:, 0]\n",
    "\n",
    "            all_dist2wires += list(track.dist2Wire.values) + \\\n",
    "                              list(false_track.dist2Wire.values) + \\\n",
    "                              list(mixed_track.dist2Wire.values)\n",
    "            \n",
    "            \n",
    "            all_dists += list(track_dists) + \\\n",
    "                         list(false_track_dists) + \\\n",
    "                         list(mixed_track_dists)\n",
    "                    \n",
    "                    \n",
    "            all_labels += pos_labels + neg_labels + mixed_neg_labels\n",
    "            \n",
    "\n",
    "            all_ks += [lr.coef_[0][0]]*(len(track) + len(false_track)) + \\\n",
    "                      [mixed_lr.coef_[0][0]]*(len(mixed_track))\n",
    "                \n",
    "            all_bs += [lr.intercept_[0]]*(len(track) + len(false_track)) + \\\n",
    "                      [mixed_lr.intercept_[0]]*(len(mixed_track))\n",
    "            \n",
    "        counter += 1\n",
    "        #if counter % 10 == 0:\n",
    "        print 'Counter = ', counter, ' / ', len(reconstructible_events_ids)\n",
    "\n",
    "\n",
    "    data = pandas.DataFrame()\n",
    "    data['dist'] = all_dists\n",
    "    data['dist2wire'] = all_dist2wires\n",
    "    data['score'] = all_scores\n",
    "    data['slope'] = all_ks\n",
    "    data['intercept'] = all_bs\n",
    "\n",
    "\n",
    "\n",
    "\n",
    "    data['label'] = all_labels\n",
    "    \n",
    "    return data"
   ]
  },
  {
   "cell_type": "code",
   "execution_count": 85,
   "metadata": {
    "collapsed": false
   },
   "outputs": [],
   "source": [
    "#data_y = get_y_view_data(all_hits, reconstructible_events_train.keys())\n",
    "data_y['dist_div_dist2wire'] = data_y['dist'].values / data_y['dist2wire'].values\n",
    "data_y['dist_div_score'] = data_y['dist'].values / data_y['score'].values\n",
    "data_y.to_csv('data_y.csv')"
   ]
  },
  {
   "cell_type": "code",
   "execution_count": 87,
   "metadata": {
    "collapsed": false
   },
   "outputs": [],
   "source": [
    "#data_y_test = get_y_view_data(all_hits, reconstructible_events_test.keys())\n",
    "data_y_test['dist_div_dist2wire'] = data_y_test['dist'].values / data_y_test['dist2wire'].values\n",
    "data_y_test['dist_div_score'] = data_y_test['dist'].values / data_y_test['score'].values\n",
    "data_y_test.to_csv('data_y_test.csv')"
   ]
  },
  {
   "cell_type": "code",
   "execution_count": 11,
   "metadata": {
    "collapsed": true
   },
   "outputs": [],
   "source": [
    "from Y_views import *\n",
    "import UV_views\n",
    "\n",
    "def get_stereo_view_data(all_hit_ids, reconstructible_events_ids):\n",
    "    all_dists = []\n",
    "    all_dist2wires = []\n",
    "    all_scores = []\n",
    "    all_labels = []\n",
    "    all_ks = []\n",
    "    all_bs = []\n",
    "    \n",
    "    counter = 0\n",
    "\n",
    "\n",
    "    for event_id in reconstructible_events_ids:\n",
    "        \n",
    "        # get all event hits\n",
    "        event = all_hits[all_hits['event'] == event_id]\n",
    "        \n",
    "        # get hits in y_views\n",
    "        event_y = modify_for_yz_analysis_1_2(event)\n",
    "        event_y = event_y[ (event_y.TrackID == 2) + (event_y.TrackID == 3) ]\n",
    "        \n",
    "        # get hits in stereo_views\n",
    "        event_stereo = UV_views.modify_for_xz_analysis_1_2(event)\n",
    "        event_stereo = event_stereo[ (event_stereo.TrackID == 2) + (event_stereo.TrackID == 3) ]\n",
    "\n",
    "        \n",
    "        for track_id in [2.0, 3.0]:\n",
    "            \n",
    "            # get hits for the track and other hists\n",
    "            track = event_y[event_y.TrackID == track_id]\n",
    "            false_track = event_y[event_y.TrackID != track_id]\n",
    "\n",
    "            if len(track) == 0:\n",
    "                continue\n",
    "\n",
    "            # mix hits from two tracks\n",
    "            mixed_track = pandas.concat([track[track.StatNb == 1], false_track[false_track.StatNb == 2]], axis=0)\n",
    "\n",
    "            if len(track.values) == 0:\n",
    "                print event_id, track_id\n",
    "                continue\n",
    "\n",
    "            if len(false_track.values) == 0:\n",
    "                print event_id, track_id\n",
    "                continue\n",
    "\n",
    "            if len(mixed_track.values) == 0:\n",
    "                print event_id, track_id\n",
    "                continue\n",
    "\n",
    "            # fit true fit in y_views\n",
    "            rmlr = RobustMarginLinearRegression(2)\n",
    "            score, lr = rmlr.fit(track)\n",
    "            \n",
    "            stereo_hits = get_zx_hits(event, lr.coef_[0][0], lr.intercept_[0])\n",
    "            stereo_track = stereo_hits[stereo_hits.TrackID == track_id]\n",
    "            stereo_track_false = stereo_hits[stereo_hits.TrackID != track_id]\n",
    "            \n",
    "            if len(stereo_track.values) == 0:\n",
    "                print 'stereo_track', event_id, track_id\n",
    "                continue\n",
    "                \n",
    "            if len(stereo_track_false.values) == 0:\n",
    "                print 'stereo_track_false', event_id, track_id\n",
    "                continue\n",
    "            \n",
    "            # fit mixed track in y_views\n",
    "            mixed_rmlr = RobustMarginLinearRegression(2)\n",
    "            mixed_score, mixed_lr = mixed_rmlr.fit(mixed_track)\n",
    "            \n",
    "            stereo_mixed_hits = get_zx_hits(event, mixed_lr.coef_[0][0], mixed_lr.intercept_[0])\n",
    "            stereo_mixed_track = pandas.concat([stereo_mixed_hits[(stereo_mixed_hits.TrackID == track_id) * (stereo_mixed_hits.StatNb == 1)],\n",
    "                                                stereo_mixed_hits[(stereo_mixed_hits.TrackID != track_id) * (stereo_mixed_hits.StatNb == 2)]],\n",
    "                                               axis=0)\n",
    "            \n",
    "            if len(stereo_mixed_track.values) == 0:\n",
    "                print 'stereo_mixed_track', event_id, track_id\n",
    "                continue\n",
    "            \n",
    "            \n",
    "            # fit true fit in stereo_views\n",
    "            rmlr_stereo = RobustMarginLinearRegression(2, view='Stereo')\n",
    "            score_stereo, lr_stereo = rmlr_stereo.fit(stereo_track)\n",
    "            \n",
    "            # fit mixed track in stereo_views\n",
    "            mixed_rmlr_stereo = RobustMarginLinearRegression(2, view='Stereo')\n",
    "            mixed_score_stereo, mixed_lr_stereo = mixed_rmlr_stereo.fit(stereo_mixed_track)\n",
    "            \n",
    "            \n",
    "            \n",
    "            # huts labels\n",
    "            pos_labels = [1]*len(stereo_track)\n",
    "            neg_labels = [0]*len(stereo_track_false)\n",
    "            mixed_neg_labels = [2]*len(stereo_mixed_track)\n",
    "        \n",
    "        \n",
    "            # collect all data\n",
    "            all_scores += [score_stereo]*(len(stereo_track) + len(stereo_track_false)) + \\\n",
    "                          [mixed_score_stereo]*(len(stereo_mixed_track))\n",
    "\n",
    "            stereo_track_dists = rmlr_stereo.dist2track(stereo_track)[:, 0]\n",
    "            stereo_false_track_dists = rmlr_stereo.dist2track(stereo_track_false)[:, 0]\n",
    "            stereo_mixed_track_dists = mixed_rmlr_stereo.dist2track(stereo_mixed_track)[:, 0]\n",
    "\n",
    "            all_dist2wires += list(stereo_track.dist2Wire.values) + \\\n",
    "                              list(stereo_track_false.dist2Wire.values) + \\\n",
    "                              list(stereo_mixed_track.dist2Wire.values)\n",
    "            \n",
    "            \n",
    "            all_dists += list(stereo_track_dists) + \\\n",
    "                         list(stereo_false_track_dists) + \\\n",
    "                         list(stereo_mixed_track_dists)\n",
    "                    \n",
    "                    \n",
    "            all_labels += pos_labels + neg_labels + mixed_neg_labels\n",
    "            \n",
    "\n",
    "            all_ks += [lr_stereo.coef_[0][0]]*(len(stereo_track) + len(stereo_track_false)) + \\\n",
    "                      [mixed_lr_stereo.coef_[0][0]]*(len(stereo_mixed_track))\n",
    "                \n",
    "            all_bs += [lr_stereo.intercept_[0]]*(len(stereo_track) + len(stereo_track_false)) + \\\n",
    "                      [mixed_lr_stereo.intercept_[0]]*(len(stereo_mixed_track))\n",
    "            \n",
    "        counter += 1\n",
    "        #if counter % 10 == 0:\n",
    "        print 'Counter = ', counter, ' / ', len(reconstructible_events_ids)\n",
    "\n",
    "\n",
    "    data = pandas.DataFrame()\n",
    "    data['dist'] = all_dists\n",
    "    data['dist2wire'] = all_dist2wires\n",
    "    data['score'] = all_scores\n",
    "    data['slope'] = all_ks\n",
    "    data['intercept'] = all_bs\n",
    "\n",
    "\n",
    "\n",
    "\n",
    "    data['label'] = all_labels\n",
    "    \n",
    "    return data"
   ]
  },
  {
   "cell_type": "code",
   "execution_count": 88,
   "metadata": {
    "collapsed": false,
    "scrolled": false
   },
   "outputs": [],
   "source": [
    "#data_stereo = get_stereo_view_data(all_hits, reconstructible_events_train.keys())\n",
    "data_stereo['dist_div_dist2wire'] = data_stereo['dist'].values / data_stereo['dist2wire'].values\n",
    "data_stereo['dist_div_score'] = data_stereo['dist'].values / data_stereo['score'].values\n",
    "data_stereo.to_csv('data_stereo.csv')"
   ]
  },
  {
   "cell_type": "code",
   "execution_count": 89,
   "metadata": {
    "collapsed": false,
    "scrolled": false
   },
   "outputs": [],
   "source": [
    "#data_stereo_test = get_stereo_view_data(all_hits, reconstructible_events_test.keys()[:-5])\n",
    "data_stereo_test['dist_div_dist2wire'] = data_stereo_test['dist'].values / data_stereo_test['dist2wire'].values\n",
    "data_stereo_test['dist_div_score'] = data_stereo_test['dist'].values / data_stereo_test['score'].values\n",
    "data_stereo_test.to_csv('data_stereo_test.csv')"
   ]
  },
  {
   "cell_type": "code",
   "execution_count": 14,
   "metadata": {
    "collapsed": false
   },
   "outputs": [],
   "source": [
    "from Y_views import *\n",
    "\n",
    "def get_data(all_hit_ids, reconstructible_events):\n",
    "    all_dists = []\n",
    "    all_dist2wires = []\n",
    "    all_dist2wires_stereo = []\n",
    "    all_scores = []\n",
    "    all_labels = []\n",
    "    all_ks = []\n",
    "    all_bs = []\n",
    "\n",
    "    all_event_ids = []\n",
    "    all_hit_ids = []\n",
    "    \n",
    "    counter = 0\n",
    "\n",
    "\n",
    "    for event_id in reconstructible_events.keys():\n",
    "\n",
    "        for track_id in [2.0, 3.0]:#reconstructible_events[event_id]:\n",
    "\n",
    "            event = all_hits[all_hits['event'] == event_id]\n",
    "            event = event[(event.TrackID == 2) + (event.TrackID==3)]\n",
    "            event = modify_for_yz_analysis_1_2(event)\n",
    "\n",
    "            track = event[event.TrackID == track_id]\n",
    "            false_track = event[event.TrackID != track_id]\n",
    "\n",
    "            if len(track) == 0:\n",
    "                continue\n",
    "\n",
    "            mixed_track = pandas.concat([track[track.StatNb == 1], false_track[false_track.StatNb == 2]], axis=0)\n",
    "\n",
    "            if len(track.values) == 0:\n",
    "                print event_id, track_id\n",
    "                continue\n",
    "\n",
    "            if len(false_track.values) == 0:\n",
    "                print event_id, track_id\n",
    "                continue\n",
    "\n",
    "            if len(mixed_track.values) == 0:\n",
    "                print event_id, track_id\n",
    "                continue\n",
    "\n",
    "\n",
    "\n",
    "            pos_labels = [1]*len(track)\n",
    "            neg_labels = [0]*len(false_track)\n",
    "            mixed_neg_labels = [2]*len(mixed_track)\n",
    "\n",
    "            rmlr = RobustMarginLinearRegression(2)\n",
    "            score, lr = rmlr.fit(track, a=0.)\n",
    "            \n",
    "            event2 = all_hits[all_hits['event'] == event_id]\n",
    "            event2 = event2[(event2.TrackID == 2) + (event2.TrackID==3)]\n",
    "            stereo_hits = get_zx_hits(event2, lr.coef_[0], lr.intercept_, x_width=15)\n",
    "            #print score, track, event_id, track_id, stereo_hits\n",
    "            rmlr_stereo = RobustMarginLinearRegression(2, view='Stereo')\n",
    "            score_stereo, lr_stereo = rmlr_stereo.fit(stereo_hits, a=0.)\n",
    "            \n",
    "            #rmlr_stereo_false = RobustMarginLinearRegression(2, view='Stereo')\n",
    "            #score_stereo_false, lr_stereo_false = rmlr_stereo_false.fit(stereo_hits[stereo_hits.TrackID != track_id], a=0.)\n",
    "            \n",
    "            dist_stereo = rmlr_stereo.dist2track(stereo_hits).reshape((-1,))\n",
    "            dist_stereo = dist_stereo[dist_stereo < 50].mean()\n",
    "            stereo_hits_false = stereo_hits[stereo_hits.TrackID != track_id]\n",
    "            if len(stereo_hits_false) > 0:\n",
    "                dist_stereo_false = rmlr_stereo.dist2track(stereo_hits).reshape((-1,))\n",
    "                dist_stereo_false = dist_stereo_false[dist_stereo_false >= 50 ].mean()\n",
    "            else:\n",
    "                dist_stereo_false = 1000\n",
    "            \n",
    "            mixed_rmlr = RobustMarginLinearRegression(2)\n",
    "            mixed_score, mixed_lr = mixed_rmlr.fit(mixed_track, a=0.)\n",
    "            \n",
    "            mixed_stereo_hits = get_zx_hits(event2, mixed_lr.coef_[0], mixed_lr.intercept_, x_width=15)\n",
    "            mixed_rmlr_stereo = RobustMarginLinearRegression(2, view='Stereo')\n",
    "            if len(mixed_stereo_hits) > 4:\n",
    "                mixed_score_stereo, mixed_lr_stereo = mixed_rmlr_stereo.fit(mixed_stereo_hits, a=0.)\n",
    "                mixed_dist_stereo = mixed_rmlr_stereo.dist2track(mixed_stereo_hits).reshape((-1,))\n",
    "                mixed_dist_stereo = mixed_dist_stereo[mixed_dist_stereo < 50].mean()\n",
    "            else:\n",
    "                mixed_dist_stereo = 1000\n",
    "        \n",
    "            all_scores += [score]*(len(track) + len(false_track)) + [mixed_score]*(len(mixed_track))\n",
    "\n",
    "            all_event_ids += [event_id]*(len(track) + len(false_track)) + [event_id]*(len(mixed_track))\n",
    "            all_hit_ids += list(track.index) + list(false_track.index) + list(mixed_track.index)\n",
    "\n",
    "            track_dists = rmlr.dist2track(track)[:, 0]\n",
    "            false_track_dists = rmlr.dist2track(false_track)[:, 0]\n",
    "            mixed_track_dists = mixed_rmlr.dist2track(mixed_track)[:, 0]\n",
    "\n",
    "            all_dist2wires += list(track.dist2Wire.values) + list(false_track.dist2Wire.values) + list(mixed_track.dist2Wire.values)\n",
    "            all_dist2wires_stereo += [dist_stereo]*len(track.dist2Wire.values) + \\\n",
    "                                     [dist_stereo_false]*len(false_track.dist2Wire.values) + \\\n",
    "                                     [mixed_dist_stereo]*len(mixed_track.dist2Wire.values)\n",
    "            \n",
    "            all_dists += list(track_dists) + list(false_track_dists) + list(mixed_track_dists)\n",
    "            all_labels += pos_labels + neg_labels + mixed_neg_labels\n",
    "\n",
    "            #all_ks += [lr.coef_[0,0]]*(len(track) + len(false_track)) + [mixed_lr.coef_[0,0]]*(len(mixed_track))\n",
    "            #all_bs += [lr.intercept_[0]]*(len(track) + len(false_track)) + [mixed_lr.intercept_[0]]*(len(mixed_track))\n",
    "            all_ks += [lr.coef_[0]]*(len(track) + len(false_track)) + [mixed_lr.coef_[0]]*(len(mixed_track))\n",
    "            all_bs += [lr.intercept_]*(len(track) + len(false_track)) + [mixed_lr.intercept_]*(len(mixed_track))\n",
    "            \n",
    "        counter += 1\n",
    "        #if counter % 10 == 0:\n",
    "        print 'Counter = ', counter, ' / ', len(reconstructible_events.keys())\n",
    "\n",
    "\n",
    "    data = pandas.DataFrame()\n",
    "    data['dist'] = all_dists\n",
    "    data['all_dist2wire'] = all_dist2wires\n",
    "    data['all_dist2wires_stereo'] = all_dist2wires_stereo\n",
    "    data['score'] = all_scores\n",
    "    data['score_div_dist'] = data['score'].values / data['dist'].values\n",
    "    data['slope'] = all_ks\n",
    "    data['intercept'] = all_bs\n",
    "    data['f1'] = data['score'].values - data['dist'].values\n",
    "    data['f2'] = data['dist'].values/data['all_dist2wire'].values\n",
    "    #data['event_id'] = all_event_ids\n",
    "    #data['hit_id'] = all_hit_ids\n",
    "\n",
    "\n",
    "\n",
    "\n",
    "    data['label'] = all_labels\n",
    "    \n",
    "    return data"
   ]
  },
  {
   "cell_type": "markdown",
   "metadata": {},
   "source": [
    "# Train classifier on y_views"
   ]
  },
  {
   "cell_type": "code",
   "execution_count": 102,
   "metadata": {
    "collapsed": false
   },
   "outputs": [],
   "source": [
    "all_cols = [u'dist', u'dist2wire', u'score', u'dist_div_dist2wire', 'slope', 'intercept']\n",
    "#all_cols = [u'dist', u'score', 'slope', 'intercept']"
   ]
  },
  {
   "cell_type": "code",
   "execution_count": 103,
   "metadata": {
    "collapsed": false
   },
   "outputs": [
    {
     "data": {
      "text/plain": [
       "array([ 0.3])"
      ]
     },
     "execution_count": 103,
     "metadata": {},
     "output_type": "execute_result"
    }
   ],
   "source": [
    "weights_y = numpy.zeros(len(data_y['label'].values))\n",
    "\n",
    "for one_lab in [0, 1, 2]:\n",
    "    \n",
    "    weights_y += 0.1 * (data_y['label'].values == one_lab) * len(data_y['label'].values) / ((data_y['label'].values == one_lab).sum())\n",
    "    \n",
    "numpy.unique(weights_y)"
   ]
  },
  {
   "cell_type": "code",
   "execution_count": 104,
   "metadata": {
    "collapsed": false
   },
   "outputs": [
    {
     "name": "stdout",
     "output_type": "stream",
     "text": [
      "CPU times: user 15.8 s, sys: 251 ms, total: 16.1 s\n",
      "Wall time: 6.88 s\n"
     ]
    },
    {
     "name": "stderr",
     "output_type": "stream",
     "text": [
      "/Users/mikhail91/.virtualenvs/rep_6_5/lib/python2.7/site-packages/ipykernel/__main__.py:30: DataConversionWarning: A column-vector y was passed when a 1d array was expected. Please change the shape of y to (n_samples,), for example using ravel().\n"
     ]
    }
   ],
   "source": [
    "%%time\n",
    "from rep.estimators import XGBoostClassifier\n",
    "from sklearn.ensemble import RandomForestClassifier, GradientBoostingClassifier, RandomForestRegressor\n",
    "from sklearn import cross_validation\n",
    "from sklearn.preprocessing import StandardScaler\n",
    "from sklearn.svm import SVC\n",
    "from sklearn import metrics\n",
    "\n",
    "clf_y = RandomForestClassifier(n_estimators=1000, \n",
    "                             max_features='auto', \n",
    "                             max_depth=None, \n",
    "                             bootstrap=False, \n",
    "                             class_weight='balanced',\n",
    "                             n_jobs = 3,\n",
    "                             criterion = 'gini',\n",
    "                             min_samples_leaf = 1)\n",
    "# clf = GradientBoostingClassifier(n_estimators=1000, \n",
    "#                                  learning_rate=0.01, \n",
    "#                                  max_depth=6, \n",
    "#                                  max_features='auto', \n",
    "#                                  subsample=0.5)\n",
    "\n",
    "# clf = XGBoostClassifier(n_estimators=1000, \n",
    "#                         colsample=0.7, \n",
    "#                         eta=0.01, \n",
    "#                         nthreads=3, \n",
    "#                         subsample=0.5, \n",
    "#                         max_depth=3,\n",
    "#                         min_child_weight = 1)\n",
    "\n",
    "clf_y.fit(data_y[all_cols].values, data_y[['label']].values, weights_y)"
   ]
  },
  {
   "cell_type": "code",
   "execution_count": 105,
   "metadata": {
    "collapsed": false
   },
   "outputs": [
    {
     "data": {
      "text/plain": [
       "0.11710411717093601"
      ]
     },
     "execution_count": 105,
     "metadata": {},
     "output_type": "execute_result"
    }
   ],
   "source": [
    "from sklearn.metrics import log_loss\n",
    "\n",
    "log_loss(data_y_test[['label']].values.reshape(-1), clf_y.predict_proba(data_y_test[all_cols].values))"
   ]
  },
  {
   "cell_type": "code",
   "execution_count": 106,
   "metadata": {
    "collapsed": true
   },
   "outputs": [],
   "source": [
    "labels_y_test = data_y_test[['label']].values.reshape(-1)\n",
    "probas_y_test = clf_y.predict_proba(data_y_test[all_cols].values)"
   ]
  },
  {
   "cell_type": "code",
   "execution_count": 136,
   "metadata": {
    "collapsed": false
   },
   "outputs": [
    {
     "data": {
      "image/png": "[encoded data removed]",
      "text/plain": [
       "<matplotlib.figure.Figure at 0x1240d0810>"
      ]
     },
     "metadata": {},
     "output_type": "display_data"
    }
   ],
   "source": [
    "dist_y_test = data_y_test.dist.values\n",
    "\n",
    "plt.hist(dist_y_test[(labels_y_test==2)*(dist_y_test <= 1)], label='2', color='r', alpha=0.5)\n",
    "plt.hist(dist_y_test[(labels_y_test==1)*(dist_y_test <= 1)], label='1', color='b', alpha=0.5)\n",
    "plt.ylim(0, 250)\n",
    "plt.show()"
   ]
  },
  {
   "cell_type": "code",
   "execution_count": 107,
   "metadata": {
    "collapsed": false
   },
   "outputs": [
    {
     "data": {
      "image/png": "[encoded data removed]",
      "text/plain": [
       "<matplotlib.figure.Figure at 0x11d993f90>"
      ]
     },
     "metadata": {},
     "output_type": "display_data"
    }
   ],
   "source": [
    "import os, sys\n",
    "sys.path.append('../python')\n",
    "import utils\n",
    "\n",
    "utils.get_roc_curves(labels_y_test, probas_y_test, ['0', '1', '2'], save_path=None, show=True)"
   ]
  },
  {
   "cell_type": "code",
   "execution_count": 108,
   "metadata": {
    "collapsed": false
   },
   "outputs": [
    {
     "data": {
      "image/png": "[encoded data removed]",
      "text/plain": [
       "<matplotlib.figure.Figure at 0x122f07850>"
      ]
     },
     "metadata": {},
     "output_type": "display_data"
    },
    {
     "data": {
      "text/html": [
       "<div>\n",
       "<table border=\"1\" class=\"dataframe\">\n",
       "  <thead>\n",
       "    <tr style=\"text-align: right;\">\n",
       "      <th></th>\n",
       "      <th>0</th>\n",
       "      <th>1</th>\n",
       "      <th>2</th>\n",
       "    </tr>\n",
       "  </thead>\n",
       "  <tbody>\n",
       "    <tr>\n",
       "      <th>0</th>\n",
       "      <td>1.000000</td>\n",
       "      <td>0.998739</td>\n",
       "      <td>0.998781</td>\n",
       "    </tr>\n",
       "    <tr>\n",
       "      <th>1</th>\n",
       "      <td>0.998937</td>\n",
       "      <td>1.000000</td>\n",
       "      <td>0.991295</td>\n",
       "    </tr>\n",
       "    <tr>\n",
       "      <th>2</th>\n",
       "      <td>0.997326</td>\n",
       "      <td>0.991141</td>\n",
       "      <td>1.000000</td>\n",
       "    </tr>\n",
       "  </tbody>\n",
       "</table>\n",
       "</div>"
      ],
      "text/plain": [
       "          0         1         2\n",
       "0  1.000000  0.998739  0.998781\n",
       "1  0.998937  1.000000  0.991295\n",
       "2  0.997326  0.991141  1.000000"
      ]
     },
     "execution_count": 108,
     "metadata": {},
     "output_type": "execute_result"
    }
   ],
   "source": [
    "roc_auc_matrix = utils.get_roc_auc_matrix(labels_y_test, probas_y_test, ['0', '1', '2'], save_path=None, show=True)\n",
    "roc_auc_matrix"
   ]
  },
  {
   "cell_type": "code",
   "execution_count": 109,
   "metadata": {
    "collapsed": false
   },
   "outputs": [],
   "source": [
    "import cPickle as pickle\n",
    "\n",
    "clf_pickle = open('classifier_y.pkl', 'wb')\n",
    "pickle.dump(clf_y, clf_pickle)\n",
    "clf_pickle.close()"
   ]
  },
  {
   "cell_type": "code",
   "execution_count": 110,
   "metadata": {
    "collapsed": true
   },
   "outputs": [],
   "source": [
    "# import cPickle as pickle\n",
    "\n",
    "# clf_pickle2 = open('classifier_y.pkl', 'rb')\n",
    "# clf_y = pickle.load(clf_pickle2)\n",
    "# clf_pickle2.close()"
   ]
  },
  {
   "cell_type": "code",
   "execution_count": 155,
   "metadata": {
    "collapsed": false
   },
   "outputs": [
    {
     "data": {
      "text/plain": [
       "<matplotlib.legend.Legend at 0x11ebb7390>"
      ]
     },
     "execution_count": 155,
     "metadata": {},
     "output_type": "execute_result"
    },
    {
     "data": {
      "image/png": "[encoded data removed]",
      "text/plain": [
       "<matplotlib.figure.Figure at 0x123709050>"
      ]
     },
     "metadata": {},
     "output_type": "display_data"
    }
   ],
   "source": [
    "proba = clf_y.predict_proba(data_y_test[all_cols].values)[:, 1]\n",
    "y_test = data_y_test[['label']].values\n",
    "\n",
    "plt.hist(proba[y_test.reshape(-1)==1], color=\"blue\", label=\"Class 1\", normed=True, alpha=0.5, bins=50)\n",
    "plt.hist(proba[y_test.reshape(-1)==2], color=\"red\", label=\"Class 0\", normed=True, alpha=0.5, bins=50)\n",
    "plt.ylim(0, 0.5)\n",
    "plt.legend(loc=\"upper left\")"
   ]
  },
  {
   "cell_type": "code",
   "execution_count": 112,
   "metadata": {
    "collapsed": false
   },
   "outputs": [
    {
     "data": {
      "text/plain": [
       "<matplotlib.legend.Legend at 0x1225b7710>"
      ]
     },
     "execution_count": 112,
     "metadata": {},
     "output_type": "execute_result"
    },
    {
     "data": {
      "image/png": "[encoded data removed]",
      "text/plain": [
       "<matplotlib.figure.Figure at 0x119714c10>"
      ]
     },
     "metadata": {},
     "output_type": "display_data"
    }
   ],
   "source": [
    "y_score = clf_y.predict(data_y_test[all_cols].values)\n",
    "\n",
    "fpr, tpr, thresholds = metrics.roc_curve(y_test.reshape(-1)[y_test.reshape(-1) != 0], y_score[y_test.reshape(-1) != 0], pos_label=2)\n",
    "roc_auc = metrics.auc(fpr, tpr)\n",
    "\n",
    "plt.figure()\n",
    "plt.plot(fpr, tpr, label='ROC curve (area = %0.4f)' % roc_auc)\n",
    "plt.plot([0, 1], [0, 1], 'k--')\n",
    "plt.xlim([0.0, 1.0])\n",
    "plt.ylim([0.0, 1.05])\n",
    "plt.xlabel('False Positive Rate')\n",
    "plt.ylabel('True Positive Rate')\n",
    "plt.title('Receiver operating characteristic')\n",
    "plt.legend(loc=\"lower right\")"
   ]
  },
  {
   "cell_type": "code",
   "execution_count": 113,
   "metadata": {
    "collapsed": false
   },
   "outputs": [
    {
     "name": "stdout",
     "output_type": "stream",
     "text": [
      "             precision    recall  f1-score   support\n",
      "\n",
      "          0       1.00      0.99      0.99      3204\n",
      "          1       0.96      0.97      0.97      3204\n",
      "          2       0.97      0.97      0.97      3204\n",
      "\n",
      "avg / total       0.98      0.98      0.98      9612\n",
      "\n"
     ]
    }
   ],
   "source": [
    "from sklearn.metrics import accuracy_score, classification_report\n",
    "\n",
    "report = classification_report(y_test.reshape(-1), y_score)\n",
    "print report"
   ]
  },
  {
   "cell_type": "markdown",
   "metadata": {
    "collapsed": true
   },
   "source": [
    "# Train classifier for stereo views"
   ]
  },
  {
   "cell_type": "code",
   "execution_count": 114,
   "metadata": {
    "collapsed": false
   },
   "outputs": [
    {
     "data": {
      "text/plain": [
       "array([ 0.29050786,  0.30012492,  0.31      ])"
      ]
     },
     "execution_count": 114,
     "metadata": {},
     "output_type": "execute_result"
    }
   ],
   "source": [
    "weights_stereo = numpy.zeros(len(data_stereo['label'].values))\n",
    "\n",
    "for one_lab in [0, 1, 2]:\n",
    "    \n",
    "    weights_stereo += 0.1 * (data_stereo['label'].values == one_lab) * len(data_stereo['label'].values) / ((data_stereo['label'].values == one_lab).sum())\n",
    "    \n",
    "numpy.unique(weights_stereo)"
   ]
  },
  {
   "cell_type": "code",
   "execution_count": 115,
   "metadata": {
    "collapsed": false
   },
   "outputs": [
    {
     "name": "stdout",
     "output_type": "stream",
     "text": [
      "CPU times: user 20.6 s, sys: 312 ms, total: 20.9 s\n",
      "Wall time: 8.87 s\n"
     ]
    },
    {
     "name": "stderr",
     "output_type": "stream",
     "text": [
      "/Users/mikhail91/.virtualenvs/rep_6_5/lib/python2.7/site-packages/ipykernel/__main__.py:11: DataConversionWarning: A column-vector y was passed when a 1d array was expected. Please change the shape of y to (n_samples,), for example using ravel().\n"
     ]
    }
   ],
   "source": [
    "%%time\n",
    "\n",
    "clf_stereo = RandomForestClassifier(n_estimators=1000, \n",
    "                             max_features='auto', \n",
    "                             max_depth=None, \n",
    "                             bootstrap=False, \n",
    "                             class_weight='balanced',\n",
    "                             n_jobs = 3,\n",
    "                             criterion = 'gini',\n",
    "                             min_samples_leaf = 1)\n",
    "\n",
    "clf_stereo.fit(data_stereo[all_cols].values, data_stereo[['label']].values, weights_stereo)"
   ]
  },
  {
   "cell_type": "code",
   "execution_count": 116,
   "metadata": {
    "collapsed": true
   },
   "outputs": [],
   "source": [
    "import cPickle as pickle\n",
    "\n",
    "clf_pickle = open('classifier_stereo.pkl', 'wb')\n",
    "pickle.dump(clf_stereo, clf_pickle)\n",
    "clf_pickle.close()"
   ]
  },
  {
   "cell_type": "code",
   "execution_count": 117,
   "metadata": {
    "collapsed": true
   },
   "outputs": [],
   "source": [
    "# import cPickle as pickle\n",
    "\n",
    "# clf_pickle2 = open('classifier_stereo.pkl', 'rb')\n",
    "# clf_stereo = pickle.load(clf_pickle2)\n",
    "# clf_pickle2.close()"
   ]
  },
  {
   "cell_type": "code",
   "execution_count": 152,
   "metadata": {
    "collapsed": false
   },
   "outputs": [
    {
     "data": {
      "text/plain": [
       "<matplotlib.legend.Legend at 0x123c58b10>"
      ]
     },
     "execution_count": 152,
     "metadata": {},
     "output_type": "execute_result"
    },
    {
     "data": {
      "image/png": "[encoded data removed]",
      "text/plain": [
       "<matplotlib.figure.Figure at 0x12340a050>"
      ]
     },
     "metadata": {},
     "output_type": "display_data"
    }
   ],
   "source": [
    "proba = clf_stereo.predict_proba(data_stereo_test[all_cols].values)[:, 0]\n",
    "y_test = data_stereo_test[['label']].values\n",
    "\n",
    "plt.hist(proba[y_test.reshape(-1)!=0], color=\"blue\", label=\"Class 1\", normed=True, alpha=0.5, bins=20)\n",
    "plt.hist(proba[y_test.reshape(-1)==0], color=\"red\", label=\"Class 0\", normed=True, alpha=0.5, bins=20)\n",
    "plt.ylim(0, 0.5)\n",
    "plt.legend(loc=\"upper left\")"
   ]
  },
  {
   "cell_type": "code",
   "execution_count": 119,
   "metadata": {
    "collapsed": false
   },
   "outputs": [
    {
     "data": {
      "text/plain": [
       "<matplotlib.legend.Legend at 0x1234bedd0>"
      ]
     },
     "execution_count": 119,
     "metadata": {},
     "output_type": "execute_result"
    },
    {
     "data": {
      "image/png": "[encoded data removed]",
      "text/plain": [
       "<matplotlib.figure.Figure at 0x11d8c4b50>"
      ]
     },
     "metadata": {},
     "output_type": "display_data"
    }
   ],
   "source": [
    "y_score = clf_stereo.predict(data_stereo_test[all_cols].values)\n",
    "\n",
    "fpr, tpr, thresholds = metrics.roc_curve(y_test.reshape(-1)[y_test.reshape(-1) != 0], y_score[y_test.reshape(-1) != 0], pos_label=2)\n",
    "roc_auc = metrics.auc(fpr, tpr)\n",
    "\n",
    "plt.figure()\n",
    "plt.plot(fpr, tpr, label='ROC curve (area = %0.4f)' % roc_auc)\n",
    "plt.plot([0, 1], [0, 1], 'k--')\n",
    "plt.xlim([0.0, 1.0])\n",
    "plt.ylim([0.0, 1.05])\n",
    "plt.xlabel('False Positive Rate')\n",
    "plt.ylabel('True Positive Rate')\n",
    "plt.title('Receiver operating characteristic')\n",
    "plt.legend(loc=\"lower right\")"
   ]
  },
  {
   "cell_type": "code",
   "execution_count": 120,
   "metadata": {
    "collapsed": false
   },
   "outputs": [
    {
     "name": "stdout",
     "output_type": "stream",
     "text": [
      "             precision    recall  f1-score   support\n",
      "\n",
      "          0       1.00      0.98      0.99      3245\n",
      "          1       0.93      0.94      0.94      3125\n",
      "          2       0.93      0.93      0.93      3125\n",
      "\n",
      "avg / total       0.95      0.95      0.95      9495\n",
      "\n"
     ]
    }
   ],
   "source": [
    "from sklearn.metrics import accuracy_score, classification_report\n",
    "\n",
    "report = classification_report(y_test.reshape(-1), y_score)\n",
    "print report"
   ]
  },
  {
   "cell_type": "code",
   "execution_count": 121,
   "metadata": {
    "collapsed": true
   },
   "outputs": [],
   "source": [
    "labels_stereo_test = data_stereo_test[['label']].values.reshape(-1)\n",
    "probas_stereo_test = clf_stereo.predict_proba(data_stereo_test[all_cols].values)"
   ]
  },
  {
   "cell_type": "code",
   "execution_count": 122,
   "metadata": {
    "collapsed": false
   },
   "outputs": [
    {
     "data": {
      "image/png": "[encoded data removed]",
      "text/plain": [
       "<matplotlib.figure.Figure at 0x12273f1d0>"
      ]
     },
     "metadata": {},
     "output_type": "display_data"
    }
   ],
   "source": [
    "import os, sys\n",
    "sys.path.append('../python')\n",
    "import utils\n",
    "\n",
    "utils.get_roc_curves(labels_stereo_test, probas_stereo_test, ['0', '1', '2'], save_path=None, show=True)"
   ]
  },
  {
   "cell_type": "code",
   "execution_count": 123,
   "metadata": {
    "collapsed": false
   },
   "outputs": [
    {
     "data": {
      "image/png": "[encoded data removed]",
      "text/plain": [
       "<matplotlib.figure.Figure at 0x122f76a50>"
      ]
     },
     "metadata": {},
     "output_type": "display_data"
    },
    {
     "data": {
      "text/html": [
       "<div>\n",
       "<table border=\"1\" class=\"dataframe\">\n",
       "  <thead>\n",
       "    <tr style=\"text-align: right;\">\n",
       "      <th></th>\n",
       "      <th>0</th>\n",
       "      <th>1</th>\n",
       "      <th>2</th>\n",
       "    </tr>\n",
       "  </thead>\n",
       "  <tbody>\n",
       "    <tr>\n",
       "      <th>0</th>\n",
       "      <td>1.000000</td>\n",
       "      <td>0.999798</td>\n",
       "      <td>0.999446</td>\n",
       "    </tr>\n",
       "    <tr>\n",
       "      <th>1</th>\n",
       "      <td>0.999696</td>\n",
       "      <td>1.000000</td>\n",
       "      <td>0.988585</td>\n",
       "    </tr>\n",
       "    <tr>\n",
       "      <th>2</th>\n",
       "      <td>0.997751</td>\n",
       "      <td>0.988337</td>\n",
       "      <td>1.000000</td>\n",
       "    </tr>\n",
       "  </tbody>\n",
       "</table>\n",
       "</div>"
      ],
      "text/plain": [
       "          0         1         2\n",
       "0  1.000000  0.999798  0.999446\n",
       "1  0.999696  1.000000  0.988585\n",
       "2  0.997751  0.988337  1.000000"
      ]
     },
     "execution_count": 123,
     "metadata": {},
     "output_type": "execute_result"
    }
   ],
   "source": [
    "roc_auc_matrix = utils.get_roc_auc_matrix(labels_stereo_test, probas_stereo_test, ['0', '1', '2'], save_path=None, show=True)\n",
    "roc_auc_matrix"
   ]
  },
  {
   "cell_type": "code",
   "execution_count": null,
   "metadata": {
    "collapsed": true
   },
   "outputs": [],
   "source": []
  }
 ],
 "metadata": {
  "kernelspec": {
   "display_name": "Python 2",
   "language": "python",
   "name": "python2"
  },
  "language_info": {
   "codemirror_mode": {
    "name": "ipython",
    "version": 2
   },
   "file_extension": ".py",
   "mimetype": "text/x-python",
   "name": "python",
   "nbconvert_exporter": "python",
   "pygments_lexer": "ipython2",
   "version": "2.7.11"
  }
 },
 "nbformat": 4,
 "nbformat_minor": 0
}
