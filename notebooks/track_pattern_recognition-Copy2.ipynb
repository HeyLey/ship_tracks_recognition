{
 "cells": [
  {
   "cell_type": "markdown",
   "metadata": {},
   "source": [
    "# About\n",
    "\n",
    "SHiP track pattern recognition is in this notebook."
   ]
  },
  {
   "cell_type": "markdown",
   "metadata": {},
   "source": [
    "# Data"
   ]
  },
  {
   "cell_type": "code",
   "execution_count": 1,
   "metadata": {
    "collapsed": false
   },
   "outputs": [],
   "source": [
    "import os, sys\n",
    "sys.path.append('../functions')"
   ]
  },
  {
   "cell_type": "code",
   "execution_count": 2,
   "metadata": {
    "collapsed": true
   },
   "outputs": [],
   "source": [
    "%matplotlib inline\n",
    "import pandas\n",
    "import numpy\n",
    "import matplotlib.pyplot as plt"
   ]
  },
  {
   "cell_type": "code",
   "execution_count": 3,
   "metadata": {
    "collapsed": true
   },
   "outputs": [],
   "source": [
    "all_mctracks = pandas.read_csv('Data/MCTrack.csv', delimiter=',')\n",
    "all_velo_points = pandas.read_csv('Data/vetoPoint.csv', delimiter=',')\n",
    "all_hits = pandas.read_csv('Data/strawtubesPoint_decoded_hits.csv', delimiter=',')\n",
    "all_hits['Index'] = all_hits.index"
   ]
  },
  {
   "cell_type": "markdown",
   "metadata": {},
   "source": [
    "# Get reconstructible events"
   ]
  },
  {
   "cell_type": "code",
   "execution_count": 138,
   "metadata": {
    "collapsed": false
   },
   "outputs": [],
   "source": [
    "from ReconstructibleTracks import get_reconstractible_tracks\n",
    "\n",
    "reconstructible_events = {}\n",
    "\n",
    "for event_id in range(0, 2500):\n",
    "    \n",
    "    tracks = get_reconstractible_tracks(event_id, all_hits, all_mctracks, all_velo_points)\n",
    "    \n",
    "    if tracks != []:\n",
    "        reconstructible_events[event_id] = tracks"
   ]
  },
  {
   "cell_type": "code",
   "execution_count": 154,
   "metadata": {
    "collapsed": false
   },
   "outputs": [
    {
     "data": {
      "text/plain": [
       "array([ 513,    2,  515,  516, 1541,  518,    7,   10, 2059, 1036, 1550,\n",
       "         15, 2392, 1042,  686,   23, 2360,   27, 2077, 1057,  549,   39,\n",
       "       2271, 1066, 1655, 2482,  558, 2095,   48,   50, 2099,   53, 1204,\n",
       "       1546,   62, 1775, 1600, 2113, 1090, 2423, 1206, 1606, 1607, 1548,\n",
       "         74, 1293, 1213,   84,   85,   86, 1111, 2138, 1116, 1629,  606,\n",
       "       1637,  608,   97, 1979,  612,  102,  614, 1129,  106, 1895, 2305,\n",
       "       2157,  622,  957, 1136,  625, 1138, 2232, 2164, 1893, 1142, 1385,\n",
       "       2493,  122, 1668,  126, 1557,  129,  642,  131,  644, 1157,  134,\n",
       "        135,  648, 1280,  651, 1474,  654,  143, 1683, 2224, 1691, 1180,\n",
       "        157,  670,  159, 2208,  161, 2246, 1190, 1704,  174, 1200, 1224,\n",
       "        179,  692, 1717,  694,  184, 1722, 1724,  189, 2239, 1677, 1440,\n",
       "        707, 2244, 1967, 1222,  712,  715, 1900,  719, 1232, 2446,  211,\n",
       "       2260, 1238,  215, 2264, 1242, 1243, 1756,  221, 1758,  735,  736,\n",
       "       1761, 1762, 1251,  806, 1256, 1769, 2282,  747, 2429, 2002, 1262,\n",
       "        893, 1265, 2290, 1235, 1747,  759,  249, 2378, 2302,  767,  768,\n",
       "        257, 1283, 1284, 1286, 1153,  777, 2314, 2007,   94,  781,  270,\n",
       "        785, 1299,  276, 2350,  791,  793, 1821, 1311,  289, 2338, 2277,\n",
       "        292, 1829,  294,  809, 1322,  299, 2348,  813, 1838, 1329, 1843,\n",
       "       2356,  824, 1339,  828, 1854,  565, 1675, 1349,  839, 1352,  842,\n",
       "        331, 2142,  845, 1359, 1360, 1848,  341, 2390, 2105,  856, 1369,\n",
       "       2455, 1375, 1377, 1851, 1380, 1381, 1383, 1340, 1898, 1086,  876,\n",
       "        365,  878, 2416,  369,  370,  883, 2280,  885, 1911, 1912,  377,\n",
       "       1598,  381, 2263,  897, 1410,  901, 2439, 2441, 2443, 1934, 1423,\n",
       "       1427,  916,  917,  406,  407,  408,  923,  412,  927,  928,  417,\n",
       "       1156, 2203,  933, 2470, 2145, 2204,  426, 1451, 1693, 1861, 1458,\n",
       "       2035, 2488,  953, 1901, 1439,  445,  449,  782, 1987, 1441,  968,\n",
       "        970, 2295, 1793, 2040,  978, 2467, 2317, 1494, 1785, 2266, 2127,\n",
       "       2014, 2405,  484, 1617,  490, 2471, 2029, 1006, 1533, 1008, 1009,\n",
       "       1011,  500, 2037,  502, 1528, 2132, 1279, 1021, 2046, 1023])"
      ]
     },
     "execution_count": 154,
     "metadata": {},
     "output_type": "execute_result"
    }
   ],
   "source": [
    "reco = numpy.array(reconstructible_events.keys())\n",
    "#pandas.DataFrame(reco).to_csv('./Data/reco_tracks_for_pattern_recognition.csv')\n",
    "reco"
   ]
  },
  {
   "cell_type": "code",
   "execution_count": 4,
   "metadata": {
    "collapsed": true
   },
   "outputs": [],
   "source": [
    "reco2 = [ 513,    2,  515,  516, 1541,  518,    7,   10, 2059, 1036, 1550,\n",
    "         15, 2392, 1042,  686,   23, 2360,   27, 2077, 1057,  549,   39,\n",
    "       2271, 1066, 1655, 2482,  558, 2095,   48,   50, 2099,   53, 1204,\n",
    "       1546,   62, 1775, 1600, 2113, 1090, 2423, 1206, 1606, 1607, 1548,\n",
    "         74, 1293, 1213,   84,   85,   86, 1111, 2138, 1116, 1629,  606]"
   ]
  },
  {
   "cell_type": "code",
   "execution_count": 5,
   "metadata": {
    "collapsed": true
   },
   "outputs": [],
   "source": [
    "import cPickle as pickle\n",
    "\n",
    "clf_pickle2 = open('classifier_y.pkl', 'rb')\n",
    "clf_y = pickle.load(clf_pickle2)\n",
    "clf_pickle2.close()\n",
    "\n",
    "clf_pickle2 = open('classifier_stereo.pkl', 'rb')\n",
    "clf_stereo = pickle.load(clf_pickle2)\n",
    "clf_pickle2.close()"
   ]
  },
  {
   "cell_type": "markdown",
   "metadata": {},
   "source": [
    "# Stations 1&2"
   ]
  },
  {
   "cell_type": "code",
   "execution_count": 6,
   "metadata": {
    "collapsed": false,
    "scrolled": false
   },
   "outputs": [
    {
     "name": "stdout",
     "output_type": "stream",
     "text": [
      "513  /  55\n",
      "2  /  55\n",
      "515  /  55\n",
      "516  /  55\n",
      "1541  /  55\n",
      "518  /  55\n",
      "7  /  55\n",
      "10  /  55\n",
      "2059  /  55\n",
      "1036  /  55\n",
      "1550  /  55\n",
      "15  /  55\n",
      "2392  /  55\n",
      "1042  /  55\n",
      "686  /  55\n",
      "23  /  55\n",
      "2360  /  55\n",
      "27  /  55\n",
      "2077  /  55\n",
      "1057  /  55\n",
      "549  /  55\n",
      "39  /  55\n",
      "2271  /  55\n",
      "1066  /  55\n",
      "1655  /  55\n",
      "2482  /  55\n",
      "558  /  55\n",
      "2095  /  55\n",
      "48  /  55\n",
      "50  /  55\n",
      "2099  /  55\n",
      "53  /  55\n",
      "1204  /  55\n",
      "1546  /  55\n",
      "62  /  55\n",
      "1775  /  55\n",
      "1600  /  55\n",
      "2113  /  55\n",
      "1090  /  55\n",
      "2423  /  55\n",
      "1206  /  55\n",
      "1606  /  55\n",
      "1607  /  55\n",
      "1548  /  55\n",
      "74  /  55\n",
      "1293  /  55\n",
      "1213  /  55\n",
      "84  /  55\n",
      "85  /  55\n",
      "86  /  55\n",
      "1111  /  55\n",
      "2138  /  55\n",
      "1116  /  55\n",
      "1629  /  55\n",
      "606  /  55\n"
     ]
    }
   ],
   "source": [
    "from Y_views_new2 import loop_yz_new as loop_yz\n",
    "from UV_views_new2 import loop_xz\n",
    "\n",
    "reco_events12 = {}\n",
    "\n",
    "for event_id in reco2:\n",
    "    \n",
    "    event = all_hits[all_hits.event == event_id]\n",
    "    \n",
    "    tracks_yz, linking_table_yz = loop_yz(event, 3, 50.7, 0, clf_y, clf_stereo, 0, event)\n",
    "    tracks_xz, linking_table_xz, Xs = loop_xz(event, tracks_yz, linking_table_yz, 3, 50, 0, clf_stereo, event)\n",
    "    \n",
    "    reco = [tracks_yz, linking_table_yz, tracks_xz, linking_table_xz]\n",
    "    \n",
    "    reco_events12[event_id] = reco\n",
    "    \n",
    "    print event_id, ' / ', len(reco2)"
   ]
  },
  {
   "cell_type": "code",
   "execution_count": 8,
   "metadata": {
    "collapsed": false
   },
   "outputs": [
    {
     "name": "stdout",
     "output_type": "stream",
     "text": [
      "98.1818181818\n"
     ]
    }
   ],
   "source": [
    "n = 0.\n",
    "for i in reco2:\n",
    "    if len(reco_events12[i][0].keys()) >= 2:\n",
    "        n += 1.\n",
    "print n/len(reco2) * 100"
   ]
  },
  {
   "cell_type": "code",
   "execution_count": 38,
   "metadata": {
    "collapsed": false
   },
   "outputs": [
    {
     "data": {
      "text/html": [
       "<div>\n",
       "<table border=\"1\" class=\"dataframe\">\n",
       "  <thead>\n",
       "    <tr style=\"text-align: right;\">\n",
       "      <th></th>\n",
       "      <th>Unnamed: 0</th>\n",
       "      <th>Unnamed: 0.1</th>\n",
       "      <th>Bits</th>\n",
       "      <th>TrackID</th>\n",
       "      <th>Px</th>\n",
       "      <th>Py</th>\n",
       "      <th>Pz</th>\n",
       "      <th>Time</th>\n",
       "      <th>Length</th>\n",
       "      <th>ELoss</th>\n",
       "      <th>...</th>\n",
       "      <th>PdgCode</th>\n",
       "      <th>dist2Wire</th>\n",
       "      <th>event</th>\n",
       "      <th>k</th>\n",
       "      <th>StatNb</th>\n",
       "      <th>ViewNb</th>\n",
       "      <th>PlaneNb</th>\n",
       "      <th>LayerNb</th>\n",
       "      <th>StrawNb</th>\n",
       "      <th>Index</th>\n",
       "    </tr>\n",
       "  </thead>\n",
       "  <tbody>\n",
       "    <tr>\n",
       "      <th>40879</th>\n",
       "      <td>40879</td>\n",
       "      <td>40879</td>\n",
       "      <td>33554432</td>\n",
       "      <td>3</td>\n",
       "      <td>0.141039</td>\n",
       "      <td>0.950012</td>\n",
       "      <td>49.510521</td>\n",
       "      <td>383.951416</td>\n",
       "      <td>0.836735</td>\n",
       "      <td>0.000004</td>\n",
       "      <td>...</td>\n",
       "      <td>13</td>\n",
       "      <td>0.250058</td>\n",
       "      <td>1090</td>\n",
       "      <td>0</td>\n",
       "      <td>1</td>\n",
       "      <td>0</td>\n",
       "      <td>0</td>\n",
       "      <td>1</td>\n",
       "      <td>209</td>\n",
       "      <td>40879</td>\n",
       "    </tr>\n",
       "    <tr>\n",
       "      <th>40888</th>\n",
       "      <td>40888</td>\n",
       "      <td>40888</td>\n",
       "      <td>33554432</td>\n",
       "      <td>3</td>\n",
       "      <td>0.140868</td>\n",
       "      <td>0.920450</td>\n",
       "      <td>49.510857</td>\n",
       "      <td>390.678436</td>\n",
       "      <td>0.574329</td>\n",
       "      <td>0.000003</td>\n",
       "      <td>...</td>\n",
       "      <td>13</td>\n",
       "      <td>0.393822</td>\n",
       "      <td>1090</td>\n",
       "      <td>9</td>\n",
       "      <td>2</td>\n",
       "      <td>0</td>\n",
       "      <td>1</td>\n",
       "      <td>0</td>\n",
       "      <td>206</td>\n",
       "      <td>40888</td>\n",
       "    </tr>\n",
       "    <tr>\n",
       "      <th>40885</th>\n",
       "      <td>40885</td>\n",
       "      <td>40885</td>\n",
       "      <td>33554432</td>\n",
       "      <td>3</td>\n",
       "      <td>0.140951</td>\n",
       "      <td>0.947202</td>\n",
       "      <td>49.510426</td>\n",
       "      <td>384.953766</td>\n",
       "      <td>0.727471</td>\n",
       "      <td>0.000004</td>\n",
       "      <td>...</td>\n",
       "      <td>13</td>\n",
       "      <td>0.324432</td>\n",
       "      <td>1090</td>\n",
       "      <td>6</td>\n",
       "      <td>1</td>\n",
       "      <td>3</td>\n",
       "      <td>0</td>\n",
       "      <td>1</td>\n",
       "      <td>209</td>\n",
       "      <td>40885</td>\n",
       "    </tr>\n",
       "    <tr>\n",
       "      <th>40887</th>\n",
       "      <td>40887</td>\n",
       "      <td>40887</td>\n",
       "      <td>33554432</td>\n",
       "      <td>3</td>\n",
       "      <td>0.140855</td>\n",
       "      <td>0.921242</td>\n",
       "      <td>49.510868</td>\n",
       "      <td>390.621460</td>\n",
       "      <td>0.974122</td>\n",
       "      <td>0.000002</td>\n",
       "      <td>...</td>\n",
       "      <td>13</td>\n",
       "      <td>0.018229</td>\n",
       "      <td>1090</td>\n",
       "      <td>8</td>\n",
       "      <td>2</td>\n",
       "      <td>0</td>\n",
       "      <td>0</td>\n",
       "      <td>1</td>\n",
       "      <td>207</td>\n",
       "      <td>40887</td>\n",
       "    </tr>\n",
       "    <tr>\n",
       "      <th>40880</th>\n",
       "      <td>40880</td>\n",
       "      <td>40880</td>\n",
       "      <td>33554432</td>\n",
       "      <td>3</td>\n",
       "      <td>0.140849</td>\n",
       "      <td>0.949814</td>\n",
       "      <td>49.510502</td>\n",
       "      <td>384.037659</td>\n",
       "      <td>0.848750</td>\n",
       "      <td>0.000003</td>\n",
       "      <td>...</td>\n",
       "      <td>13</td>\n",
       "      <td>0.239721</td>\n",
       "      <td>1090</td>\n",
       "      <td>1</td>\n",
       "      <td>1</td>\n",
       "      <td>0</td>\n",
       "      <td>1</td>\n",
       "      <td>1</td>\n",
       "      <td>209</td>\n",
       "      <td>40880</td>\n",
       "    </tr>\n",
       "    <tr>\n",
       "      <th>40916</th>\n",
       "      <td>40916</td>\n",
       "      <td>40916</td>\n",
       "      <td>33554432</td>\n",
       "      <td>2</td>\n",
       "      <td>-0.343170</td>\n",
       "      <td>-0.039192</td>\n",
       "      <td>29.245461</td>\n",
       "      <td>383.918274</td>\n",
       "      <td>0.601369</td>\n",
       "      <td>0.000001</td>\n",
       "      <td>...</td>\n",
       "      <td>211</td>\n",
       "      <td>0.383614</td>\n",
       "      <td>1090</td>\n",
       "      <td>37</td>\n",
       "      <td>1</td>\n",
       "      <td>0</td>\n",
       "      <td>0</td>\n",
       "      <td>0</td>\n",
       "      <td>209</td>\n",
       "      <td>40916</td>\n",
       "    </tr>\n",
       "    <tr>\n",
       "      <th>40896</th>\n",
       "      <td>40896</td>\n",
       "      <td>40896</td>\n",
       "      <td>33554432</td>\n",
       "      <td>3</td>\n",
       "      <td>0.141468</td>\n",
       "      <td>0.913192</td>\n",
       "      <td>49.510654</td>\n",
       "      <td>391.673187</td>\n",
       "      <td>0.920093</td>\n",
       "      <td>0.000003</td>\n",
       "      <td>...</td>\n",
       "      <td>13</td>\n",
       "      <td>0.160990</td>\n",
       "      <td>1090</td>\n",
       "      <td>17</td>\n",
       "      <td>2</td>\n",
       "      <td>3</td>\n",
       "      <td>1</td>\n",
       "      <td>0</td>\n",
       "      <td>206</td>\n",
       "      <td>40896</td>\n",
       "    </tr>\n",
       "    <tr>\n",
       "      <th>40895</th>\n",
       "      <td>40895</td>\n",
       "      <td>40895</td>\n",
       "      <td>33554432</td>\n",
       "      <td>3</td>\n",
       "      <td>0.141236</td>\n",
       "      <td>0.913562</td>\n",
       "      <td>49.510666</td>\n",
       "      <td>391.590057</td>\n",
       "      <td>0.723132</td>\n",
       "      <td>0.000004</td>\n",
       "      <td>...</td>\n",
       "      <td>13</td>\n",
       "      <td>0.326848</td>\n",
       "      <td>1090</td>\n",
       "      <td>16</td>\n",
       "      <td>2</td>\n",
       "      <td>3</td>\n",
       "      <td>0</td>\n",
       "      <td>0</td>\n",
       "      <td>206</td>\n",
       "      <td>40895</td>\n",
       "    </tr>\n",
       "    <tr>\n",
       "      <th>40886</th>\n",
       "      <td>40886</td>\n",
       "      <td>40886</td>\n",
       "      <td>33554432</td>\n",
       "      <td>3</td>\n",
       "      <td>0.141008</td>\n",
       "      <td>0.947169</td>\n",
       "      <td>49.510403</td>\n",
       "      <td>385.000183</td>\n",
       "      <td>0.959220</td>\n",
       "      <td>0.000004</td>\n",
       "      <td>...</td>\n",
       "      <td>13</td>\n",
       "      <td>0.086804</td>\n",
       "      <td>1090</td>\n",
       "      <td>7</td>\n",
       "      <td>1</td>\n",
       "      <td>3</td>\n",
       "      <td>1</td>\n",
       "      <td>0</td>\n",
       "      <td>208</td>\n",
       "      <td>40886</td>\n",
       "    </tr>\n",
       "  </tbody>\n",
       "</table>\n",
       "<p>9 rows × 24 columns</p>\n",
       "</div>"
      ],
      "text/plain": [
       "       Unnamed: 0  Unnamed: 0.1      Bits  TrackID        Px        Py  \\\n",
       "40879       40879         40879  33554432        3  0.141039  0.950012   \n",
       "40888       40888         40888  33554432        3  0.140868  0.920450   \n",
       "40885       40885         40885  33554432        3  0.140951  0.947202   \n",
       "40887       40887         40887  33554432        3  0.140855  0.921242   \n",
       "40880       40880         40880  33554432        3  0.140849  0.949814   \n",
       "40916       40916         40916  33554432        2 -0.343170 -0.039192   \n",
       "40896       40896         40896  33554432        3  0.141468  0.913192   \n",
       "40895       40895         40895  33554432        3  0.141236  0.913562   \n",
       "40886       40886         40886  33554432        3  0.141008  0.947169   \n",
       "\n",
       "              Pz        Time    Length     ELoss  ...    PdgCode  dist2Wire  \\\n",
       "40879  49.510521  383.951416  0.836735  0.000004  ...         13   0.250058   \n",
       "40888  49.510857  390.678436  0.574329  0.000003  ...         13   0.393822   \n",
       "40885  49.510426  384.953766  0.727471  0.000004  ...         13   0.324432   \n",
       "40887  49.510868  390.621460  0.974122  0.000002  ...         13   0.018229   \n",
       "40880  49.510502  384.037659  0.848750  0.000003  ...         13   0.239721   \n",
       "40916  29.245461  383.918274  0.601369  0.000001  ...        211   0.383614   \n",
       "40896  49.510654  391.673187  0.920093  0.000003  ...         13   0.160990   \n",
       "40895  49.510666  391.590057  0.723132  0.000004  ...         13   0.326848   \n",
       "40886  49.510403  385.000183  0.959220  0.000004  ...         13   0.086804   \n",
       "\n",
       "       event   k  StatNb  ViewNb  PlaneNb  LayerNb  StrawNb  Index  \n",
       "40879   1090   0       1       0        0        1      209  40879  \n",
       "40888   1090   9       2       0        1        0      206  40888  \n",
       "40885   1090   6       1       3        0        1      209  40885  \n",
       "40887   1090   8       2       0        0        1      207  40887  \n",
       "40880   1090   1       1       0        1        1      209  40880  \n",
       "40916   1090  37       1       0        0        0      209  40916  \n",
       "40896   1090  17       2       3        1        0      206  40896  \n",
       "40895   1090  16       2       3        0        0      206  40895  \n",
       "40886   1090   7       1       3        1        0      208  40886  \n",
       "\n",
       "[9 rows x 24 columns]"
      ]
     },
     "execution_count": 38,
     "metadata": {},
     "output_type": "execute_result"
    }
   ],
   "source": [
    "all_hits.loc[reco_events12[1090][1][1]]"
   ]
  },
  {
   "cell_type": "code",
   "execution_count": 14,
   "metadata": {
    "collapsed": false
   },
   "outputs": [
    {
     "name": "stdout",
     "output_type": "stream",
     "text": [
      "[1, 2] 513\n",
      "[1, 2] 2\n",
      "[1, 2] 515\n",
      "[1, 2] 516\n",
      "[1, 2] 1541\n",
      "[1, 2] 518\n",
      "[1, 2] 7\n",
      "[1, 2] 10\n",
      "[1, 2] 2059\n",
      "[1, 2] 1036\n",
      "[1, 2] 1293\n",
      "[1, 2] 1550\n",
      "[1, 2] 15\n",
      "[1, 2] 1042\n",
      "[1, 2] 558\n",
      "[1, 2] 23\n",
      "[1, 2] 27\n",
      "[1, 2] 2077\n",
      "[1, 2] 1057\n",
      "[1, 2] 549\n",
      "[1, 2] 39\n",
      "[1, 2] 1066\n",
      "[1, 2] 50\n",
      "[1, 2] 686\n",
      "[1, 2] 2095\n",
      "[1, 2] 48\n",
      "[1, 2] 2482\n",
      "[1, 2] 2099\n",
      "[1, 2] 1204\n",
      "[1, 2] 53\n",
      "[1, 2, 3, 4, 5] 1206\n",
      "[1, 2] 2360\n",
      "[1, 2] 1546\n",
      "[1, 2] 62\n",
      "[1, 2] 1600\n",
      "[1, 2] 2113\n",
      "[1] 1090\n",
      "[1, 2] 1606\n",
      "[1, 2] 1607\n",
      "[1, 2] 1548\n",
      "[1, 2] 74\n",
      "[1, 2] 2423\n",
      "[1, 2] 1213\n",
      "[1, 2] 84\n",
      "[1, 2] 85\n",
      "[1, 2] 86\n",
      "[1, 2] 1111\n",
      "[1, 2] 2392\n",
      "[1, 2] 2138\n",
      "[1, 2] 1116\n",
      "[1, 2] 1629\n",
      "[1, 2] 606\n",
      "[1, 2] 2271\n",
      "[1, 2] 1775\n",
      "[1, 2] 1655\n"
     ]
    }
   ],
   "source": [
    "for i in reco_events12.keys():\n",
    "    print reco_events12[i][0].keys(), i"
   ]
  },
  {
   "cell_type": "code",
   "execution_count": 28,
   "metadata": {
    "collapsed": false
   },
   "outputs": [
    {
     "data": {
      "text/plain": [
       "1"
      ]
     },
     "execution_count": 28,
     "metadata": {},
     "output_type": "execute_result"
    }
   ],
   "source": [
    "10001 // 10000"
   ]
  },
  {
   "cell_type": "code",
   "execution_count": 9,
   "metadata": {
    "collapsed": false
   },
   "outputs": [],
   "source": [
    "from efficiency import efficiency\n",
    "eff_y, eff_stereo, eff_station = efficiency(reco2, \n",
    "                                            all_hits, \n",
    "                                            reco_events12)"
   ]
  },
  {
   "cell_type": "code",
   "execution_count": 12,
   "metadata": {
    "collapsed": false
   },
   "outputs": [
    {
     "data": {
      "text/plain": [
       "0.92692363192363181"
      ]
     },
     "execution_count": 12,
     "metadata": {},
     "output_type": "execute_result"
    }
   ],
   "source": [
    "numpy.array(eff_stereo).mean()"
   ]
  },
  {
   "cell_type": "code",
   "execution_count": 18,
   "metadata": {
    "collapsed": false
   },
   "outputs": [
    {
     "name": "stdout",
     "output_type": "stream",
     "text": [
      "0.5\n",
      "0.625\n",
      "0.714285714286\n",
      "0.769230769231\n"
     ]
    }
   ],
   "source": [
    "for i in eff_stereo:\n",
    "    if i!=1:\n",
    "        print i"
   ]
  },
  {
   "cell_type": "markdown",
   "metadata": {},
   "source": [
    "# Stations 3&4"
   ]
  },
  {
   "cell_type": "code",
   "execution_count": 40,
   "metadata": {
    "collapsed": false
   },
   "outputs": [],
   "source": [
    "from Y_views_new2 import loop_yz_new as loop_yz\n",
    "from UV_views import loop_xz\n",
    "\n",
    "reco_events34 = {}\n",
    "\n",
    "for event_id in reco2:\n",
    "    \n",
    "    event = all_hits[all_hits.event == event_id]\n",
    "    \n",
    "    tracks_yz, linking_table_yz = loop_yz(event, 4, 600.7, 1, clf_y, clf_stereo, 0, event)\n",
    "    tracks_xz, linking_table_xz, Xs = loop_xz(event, tracks_yz, linking_table_yz, 6, 15, 1)\n",
    "    \n",
    "    reco = [tracks_yz, linking_table_yz, tracks_xz, linking_table_xz]\n",
    "    \n",
    "    reco_events34[event_id] = reco\n",
    "    \n",
    "    print event_id, ' / ', len(reco2)"
   ]
  },
  {
   "cell_type": "code",
   "execution_count": 42,
   "metadata": {
    "collapsed": false
   },
   "outputs": [
    {
     "data": {
      "text/plain": [
       "54"
      ]
     },
     "execution_count": 42,
     "metadata": {},
     "output_type": "execute_result"
    }
   ],
   "source": [
    "len(reco_events34)"
   ]
  },
  {
   "cell_type": "code",
   "execution_count": 43,
   "metadata": {
    "collapsed": false
   },
   "outputs": [
    {
     "name": "stdout",
     "output_type": "stream",
     "text": [
      "[1, 2] 513\n",
      "[1, 2] 2\n",
      "[1, 2] 515\n",
      "[1, 2] 516\n",
      "[1, 2] 1541\n",
      "[1, 2] 518\n",
      "[1, 2] 7\n",
      "[1, 2] 10\n",
      "[1, 2] 2059\n",
      "[1, 2] 1036\n",
      "[1, 2] 1293\n",
      "[1, 2] 1550\n",
      "[1, 2] 15\n",
      "[1, 2] 1042\n",
      "[1, 2] 558\n",
      "[1, 2] 23\n",
      "[1, 2] 27\n",
      "[1, 2] 2077\n",
      "[1, 2] 1057\n",
      "[1, 2] 549\n",
      "[1, 2] 39\n",
      "[1, 2] 1066\n",
      "[1, 2] 50\n",
      "[1, 2] 686\n",
      "[1, 2] 2095\n",
      "[1, 2] 48\n",
      "[1, 2] 2482\n",
      "[1, 2] 2099\n",
      "[1, 2] 1204\n",
      "[1, 2] 53\n",
      "[1, 2, 3, 4] 1206\n",
      "[1, 2] 2360\n",
      "[1, 2] 1546\n",
      "[1, 2] 62\n",
      "[1, 2] 1600\n",
      "[1, 2] 2113\n",
      "[1, 2] 1090\n",
      "[1, 2] 1606\n",
      "[1, 2, 3] 1607\n",
      "[1, 2] 1548\n",
      "[1] 74\n",
      "[1, 2] 1213\n",
      "[1, 2] 84\n",
      "[1, 2] 85\n",
      "[1, 2] 86\n",
      "[1, 2] 1111\n",
      "[1, 2] 2392\n",
      "[1, 2] 2138\n",
      "[1, 2] 1116\n",
      "[1, 2] 1629\n",
      "[1, 2] 606\n",
      "[1, 2] 2271\n",
      "[1, 2] 1775\n",
      "[1] 1655\n"
     ]
    }
   ],
   "source": [
    "for i in reco_events34.keys():\n",
    "    print reco_events34[i][0].keys(), i"
   ]
  },
  {
   "cell_type": "code",
   "execution_count": 44,
   "metadata": {
    "collapsed": false
   },
   "outputs": [
    {
     "name": "stdout",
     "output_type": "stream",
     "text": [
      "[10001, 20002] 513\n",
      "[10001, 20002] 2\n",
      "[10001, 20002] 515\n",
      "[10001, 20002] 516\n",
      "[10001, 20002] 1541\n",
      "[10001, 20002] 518\n",
      "[10001, 10002] 7\n",
      "[10001, 20002] 10\n",
      "[10001, 20002] 2059\n",
      "[10001, 20002] 1036\n",
      "[10001, 20002] 1293\n",
      "[10001, 20002] 1550\n",
      "[10001, 20002] 15\n",
      "[10001, 20002] 1042\n",
      "[10001, 20002] 558\n",
      "[10001, 20002] 23\n",
      "[10001, 20002] 27\n",
      "[10001, 20002] 2077\n",
      "[10001, 20002] 1057\n",
      "[10001, 20002] 549\n",
      "[10001, 20002] 39\n",
      "[10001, 20002] 1066\n",
      "[10001, 20002] 50\n",
      "[10001, 20002] 686\n",
      "[10001, 20002] 2095\n",
      "[10001, 20002] 48\n",
      "[10001, 20002] 2482\n",
      "[10001, 20002] 2099\n",
      "[10001, 20002] 1204\n",
      "[10001, 20002] 53\n",
      "[10001, 20002, 30003, 40004] 1206\n",
      "[10001, 20002] 2360\n",
      "[10001, 20002] 1546\n",
      "[10001, 20002] 62\n",
      "[10001, 20002] 1600\n",
      "[10001, 20002] 2113\n",
      "[10001, 20002] 1090\n",
      "[10001, 20002] 1606\n",
      "[10001, 20002] 1607\n",
      "[10001, 20002] 1548\n",
      "[10001] 74\n",
      "[10001, 20002] 1213\n",
      "[10001, 20002] 84\n",
      "[20001] 85\n",
      "[10001, 20002] 86\n",
      "[10001, 20002] 1111\n",
      "[10001, 20002] 2392\n",
      "[10001, 20002] 2138\n",
      "[10001, 20002] 1116\n",
      "[10001, 20002] 1629\n",
      "[10001, 20002] 606\n",
      "[10001, 20002] 2271\n",
      "[10001, 20002] 1775\n",
      "[10001] 1655\n"
     ]
    }
   ],
   "source": [
    "for i in reco_events34.keys():\n",
    "    print reco_events34[i][2].keys(), i"
   ]
  },
  {
   "cell_type": "code",
   "execution_count": 45,
   "metadata": {
    "collapsed": true
   },
   "outputs": [],
   "source": [
    "eff_y, eff_stereo, eff_station = efficiency(reco2, \n",
    "                                            all_hits, \n",
    "                                            reco_events34)"
   ]
  },
  {
   "cell_type": "code",
   "execution_count": 49,
   "metadata": {
    "collapsed": false
   },
   "outputs": [
    {
     "name": "stdout",
     "output_type": "stream",
     "text": [
      "0.6875\n",
      "0.666666666667\n",
      "0.888888888889\n"
     ]
    }
   ],
   "source": [
    "for i in eff_station:\n",
    "    if i!=1:\n",
    "        print i"
   ]
  },
  {
   "cell_type": "markdown",
   "metadata": {},
   "source": [
    "# Match tracks"
   ]
  },
  {
   "cell_type": "code",
   "execution_count": 281,
   "metadata": {
    "collapsed": true
   },
   "outputs": [],
   "source": [
    "from MatchTracks import get_matched_tracks\n",
    "\n",
    "match_tracks, dist_y, dist_x = get_matched_tracks(reco_events12, reco_events34)"
   ]
  },
  {
   "cell_type": "code",
   "execution_count": 282,
   "metadata": {
    "collapsed": false
   },
   "outputs": [
    {
     "data": {
      "image/png": "[encoded data removed]",
      "text/plain": [
       "<matplotlib.figure.Figure at 0x113e481d0>"
      ]
     },
     "metadata": {},
     "output_type": "display_data"
    }
   ],
   "source": [
    "plt.figure(figsize=(10, 3))\n",
    "\n",
    "plt.subplot(1,2,1)\n",
    "dist_y = numpy.array(dist_y)\n",
    "plt.hist(dist_y, label='dist_y', bins=10)\n",
    "plt.legend(loc='best')\n",
    "\n",
    "\n",
    "plt.subplot(1,2,2)\n",
    "dist_x = numpy.array(dist_x)\n",
    "plt.hist(dist_x, label='dist_x', bins=10)\n",
    "plt.legend(loc='best')\n",
    "\n",
    "plt.show()"
   ]
  },
  {
   "cell_type": "markdown",
   "metadata": {},
   "source": [
    "# Efficiency"
   ]
  },
  {
   "cell_type": "markdown",
   "metadata": {},
   "source": [
    "### Stations 1&2"
   ]
  },
  {
   "cell_type": "code",
   "execution_count": 143,
   "metadata": {
    "collapsed": true
   },
   "outputs": [],
   "source": [
    "from efficiency import efficiency\n",
    "\n",
    "eff_y, eff_stereo, eff_station = efficiency(reconstructible_events.keys(), \n",
    "                                            all_hits, \n",
    "                                            reco_events12)"
   ]
  },
  {
   "cell_type": "code",
   "execution_count": 144,
   "metadata": {
    "collapsed": false
   },
   "outputs": [
    {
     "data": {
      "image/png": "[encoded data removed]",
      "text/plain": [
       "<matplotlib.figure.Figure at 0x113ca1510>"
      ]
     },
     "metadata": {},
     "output_type": "display_data"
    }
   ],
   "source": [
    "plt.figure(figsize=(15, 3))\n",
    "\n",
    "plt.subplot(1,3,1)\n",
    "plt.title('Mean = % f' % numpy.array(eff_y).mean())\n",
    "plt.hist(eff_y, label='y')\n",
    "plt.xlabel('efficiency')\n",
    "plt.xlim(0, 1.1)\n",
    "plt.legend(loc='best')\n",
    "\n",
    "plt.subplot(1,3,2)\n",
    "plt.title('Mean = % f' % numpy.array(eff_stereo).mean())\n",
    "plt.hist(eff_stereo, label='stereo')\n",
    "plt.xlabel('efficiency')\n",
    "plt.xlim(0, 1.1)\n",
    "plt.legend(loc='best')\n",
    "\n",
    "plt.subplot(1,3,3)\n",
    "plt.title('Mean = % f' % numpy.array(eff_station).mean())\n",
    "plt.hist(eff_station, label='station 1&2')\n",
    "plt.xlabel('efficiency')\n",
    "plt.xlim(0, 1.1)\n",
    "plt.legend(loc='best')\n",
    "\n",
    "plt.show()"
   ]
  },
  {
   "cell_type": "markdown",
   "metadata": {},
   "source": [
    "### Stations 3&4"
   ]
  },
  {
   "cell_type": "code",
   "execution_count": 145,
   "metadata": {
    "collapsed": true
   },
   "outputs": [],
   "source": [
    "from efficiency import efficiency\n",
    "\n",
    "eff_y, eff_stereo, eff_station = efficiency(reconstructible_events.keys(), \n",
    "                                            all_hits, \n",
    "                                            reco_events34)"
   ]
  },
  {
   "cell_type": "code",
   "execution_count": 146,
   "metadata": {
    "collapsed": false
   },
   "outputs": [
    {
     "data": {
      "image/png": "[encoded data removed]",
      "text/plain": [
       "<matplotlib.figure.Figure at 0x113ab05d0>"
      ]
     },
     "metadata": {},
     "output_type": "display_data"
    }
   ],
   "source": [
    "plt.figure(figsize=(15, 3))\n",
    "\n",
    "plt.subplot(1,3,1)\n",
    "plt.title('Mean = % f' % numpy.array(eff_y).mean())\n",
    "plt.hist(eff_y, label='y')\n",
    "plt.xlabel('efficiency')\n",
    "plt.xlim(0, 1.1)\n",
    "plt.legend(loc='best')\n",
    "\n",
    "plt.subplot(1,3,2)\n",
    "plt.title('Mean = % f' % numpy.array(eff_stereo).mean())\n",
    "plt.hist(eff_stereo, label='stereo')\n",
    "plt.xlabel('efficiency')\n",
    "plt.xlim(0, 1.1)\n",
    "plt.legend(loc='best')\n",
    "\n",
    "plt.subplot(1,3,3)\n",
    "plt.title('Mean = % f' % numpy.array(eff_station).mean())\n",
    "plt.hist(eff_station, label='station 1&2')\n",
    "plt.xlabel('efficiency')\n",
    "plt.xlim(0, 1.1)\n",
    "plt.legend(loc='best')\n",
    "\n",
    "plt.show()"
   ]
  },
  {
   "cell_type": "markdown",
   "metadata": {},
   "source": [
    "# Efficiency per event"
   ]
  },
  {
   "cell_type": "code",
   "execution_count": 229,
   "metadata": {
    "collapsed": true
   },
   "outputs": [],
   "source": [
    "def get_track_eff(inds):\n",
    "    \n",
    "    unique, counts = numpy.unique(all_hits.loc[inds].TrackID.values, return_counts=True)\n",
    "    unique2, counts2 = numpy.unique(all_hits.loc[inds].PdgCode.values, return_counts=True)\n",
    "    \n",
    "    track_id = unique[counts == counts.max()][0]\n",
    "    pdg = numpy.abs(unique2[counts2 == counts2.max()][0])\n",
    "    \n",
    "    return {track_id: pdg}"
   ]
  },
  {
   "cell_type": "code",
   "execution_count": 209,
   "metadata": {
    "collapsed": false
   },
   "outputs": [
    {
     "data": {
      "text/plain": [
       "1"
      ]
     },
     "execution_count": 209,
     "metadata": {},
     "output_type": "execute_result"
    }
   ],
   "source": [
    "tracks_y[1].values()[0]"
   ]
  },
  {
   "cell_type": "code",
   "execution_count": 283,
   "metadata": {
    "collapsed": false,
    "scrolled": false
   },
   "outputs": [],
   "source": [
    "n_reco_events = len(reconstructible_events.keys())\n",
    "\n",
    "n_events_y_12 = 0\n",
    "n_events_stereo_12 = 0\n",
    "n_events_station_12 = 0\n",
    "\n",
    "n_events_y_34 = 0\n",
    "n_events_stereo_34 = 0\n",
    "n_events_station_34 = 0\n",
    "\n",
    "n_events_combined_12_34 = 0\n",
    "n_events_matched = 0\n",
    "\n",
    "\n",
    "passed_event_ids = []\n",
    "\n",
    "# y_12\n",
    "for event_id in reconstructible_events.keys():\n",
    "    \n",
    "    tracks_y = reco_events12[event_id][0]\n",
    "    \n",
    "    if len(tracks_y) > 1:\n",
    "        n_events_y_12 += 1.\n",
    "        passed_event_ids.append(event_id)\n",
    "\n",
    "# stereo_12\n",
    "reco_events = passed_event_ids\n",
    "passed_event_ids = []\n",
    "\n",
    "for event_id in reco_events:\n",
    "    \n",
    "    tracks_stsreo = reco_events12[event_id][2]\n",
    "    \n",
    "    if len(tracks_stsreo) > 1:\n",
    "        n_events_stereo_12 += 1.\n",
    "        passed_event_ids.append(event_id)\n",
    "        \n",
    "# station_12\n",
    "n_events_station_12 = n_events_stereo_12\n",
    "\n",
    "# y_34\n",
    "reco_events = passed_event_ids\n",
    "passed_event_ids = []\n",
    "\n",
    "for event_id in reco_events:\n",
    "    \n",
    "    tracks_stsreo = reco_events34[event_id][0]\n",
    "    \n",
    "    if len(tracks_stsreo) > 1:\n",
    "        n_events_y_34 += 1.\n",
    "        passed_event_ids.append(event_id)\n",
    "        \n",
    "# stereo_34\n",
    "reco_events = passed_event_ids\n",
    "passed_event_ids = []\n",
    "\n",
    "for event_id in reco_events:\n",
    "    \n",
    "    tracks_stsreo = reco_events34[event_id][2]\n",
    "    \n",
    "    if len(tracks_stsreo) > 1:\n",
    "        n_events_stereo_34 += 1.\n",
    "        passed_event_ids.append(event_id)\n",
    "        \n",
    "# station_34\n",
    "n_events_station_34 = n_events_stereo_34\n",
    "\n",
    "\n",
    "# combine 1&2/3&4\n",
    "reco_events = passed_event_ids\n",
    "passed_event_ids = []\n",
    "\n",
    "for event_id in reco_events:\n",
    "    \n",
    "    track_comb = match_tracks[event_id]\n",
    "    \n",
    "    if len(track_comb) != 0:\n",
    "        n_events_combined_12_34 += 1\n",
    "        passed_event_ids.append(event_id)\n",
    "        \n",
    "\n",
    "# matched\n",
    "reco_events = passed_event_ids\n",
    "passed_event_ids = []\n",
    "\n",
    "for event_id in reco_events:\n",
    "    \n",
    "    track_comb = match_tracks[event_id]\n",
    "    \n",
    "    if len(track_comb) > 1:\n",
    "        n_events_matched += 1\n",
    "        passed_event_ids.append(event_id)"
   ]
  },
  {
   "cell_type": "code",
   "execution_count": 284,
   "metadata": {
    "collapsed": false
   },
   "outputs": [
    {
     "name": "stdout",
     "output_type": "stream",
     "text": [
      "Total efficiency per track is  76.7295597484  %\n"
     ]
    },
    {
     "data": {
      "image/png": "[encoded data removed]",
      "text/plain": [
       "<matplotlib.figure.Figure at 0x113e5b390>"
      ]
     },
     "metadata": {},
     "output_type": "display_data"
    }
   ],
   "source": [
    "n_events = [n_reco_events, \n",
    "            n_events_y_12, \n",
    "            n_events_stereo_12, \n",
    "            n_events_station_12, \n",
    "            n_events_y_34, \n",
    "            n_events_stereo_34,\n",
    "            n_events_station_34,\n",
    "            n_events_combined_12_34,\n",
    "            n_events_matched]\n",
    "\n",
    "n_events = numpy.array(n_events)\n",
    "\n",
    "labels = ['Reconstructible tracks', \n",
    "          'Y view station 1&2', \n",
    "          'Stereo station 1&2', \n",
    "          'Station 1&2',\n",
    "          'Y view station 3&4', \n",
    "          'Stereo station 3&4',\n",
    "          'Station 3&4',\n",
    "          'Combined stations 1&2/3&4',\n",
    "          'Matched']\n",
    "\n",
    "print 'Total efficiency per track is ', 1. * n_events_matched / n_reco_events * 100., ' %'\n",
    "\n",
    "x = range(len(labels))\n",
    "#plt.figure(figsize=(15,5))\n",
    "plt.bar(x, n_events - n_events.min() + 1., width=1., color='gold', align='center')\n",
    "plt.xticks(x, labels, rotation=90, size=15)\n",
    "plt.xlim(-0.5, 8.5)\n",
    "plt.show()"
   ]
  },
  {
   "cell_type": "code",
   "execution_count": 285,
   "metadata": {
    "collapsed": false
   },
   "outputs": [
    {
     "data": {
      "text/plain": [
       "array([ 318.,  313.,  300.,  300.,  294.,  289.,  289.,  285.,  244.])"
      ]
     },
     "execution_count": 285,
     "metadata": {},
     "output_type": "execute_result"
    }
   ],
   "source": [
    "n_events"
   ]
  },
  {
   "cell_type": "code",
   "execution_count": null,
   "metadata": {
    "collapsed": true
   },
   "outputs": [],
   "source": []
  },
  {
   "cell_type": "code",
   "execution_count": null,
   "metadata": {
    "collapsed": true
   },
   "outputs": [],
   "source": []
  },
  {
   "cell_type": "code",
   "execution_count": null,
   "metadata": {
    "collapsed": true
   },
   "outputs": [],
   "source": []
  }
 ],
 "metadata": {
  "kernelspec": {
   "display_name": "Python 2",
   "language": "python",
   "name": "python2"
  },
  "language_info": {
   "codemirror_mode": {
    "name": "ipython",
    "version": 2
   },
   "file_extension": ".py",
   "mimetype": "text/x-python",
   "name": "python",
   "nbconvert_exporter": "python",
   "pygments_lexer": "ipython2",
   "version": "2.7.11"
  }
 },
 "nbformat": 4,
 "nbformat_minor": 0
}
