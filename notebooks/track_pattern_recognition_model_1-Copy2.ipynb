{
 "cells": [
  {
   "cell_type": "markdown",
   "metadata": {},
   "source": [
    "# About\n",
    "\n",
    "SHiP track pattern recognition is in this notebook."
   ]
  },
  {
   "cell_type": "markdown",
   "metadata": {},
   "source": [
    "# Data"
   ]
  },
  {
   "cell_type": "code",
   "execution_count": 1,
   "metadata": {
    "collapsed": false
   },
   "outputs": [
    {
     "name": "stdout",
     "output_type": "stream",
     "text": [
      "[0, 1, 2]\n"
     ]
    }
   ],
   "source": [
    "from IPython.parallel import Client\n",
    "\n",
    "clients = Client()\n",
    "print clients.ids"
   ]
  },
  {
   "cell_type": "code",
   "execution_count": 2,
   "metadata": {
    "collapsed": false
   },
   "outputs": [],
   "source": [
    "%%px\n",
    "import os, sys\n",
    "sys.path.append('../functions')\n",
    "sys.path.append('Github/ship_tracks_recognition/functions')\n",
    "\n",
    "import numpy\n",
    "import pandas"
   ]
  },
  {
   "cell_type": "code",
   "execution_count": 3,
   "metadata": {
    "collapsed": true
   },
   "outputs": [],
   "source": [
    "%matplotlib inline\n",
    "import os, sys\n",
    "sys.path.append('../functions')\n",
    "import pandas\n",
    "import numpy\n",
    "import matplotlib.pyplot as plt\n",
    "import cPickle as pickle"
   ]
  },
  {
   "cell_type": "code",
   "execution_count": 4,
   "metadata": {
    "collapsed": false
   },
   "outputs": [],
   "source": [
    "all_mctracks = pandas.read_csv('Data/MCTrack.csv', delimiter=',')\n",
    "all_velo_points = pandas.read_csv('Data/vetoPoint.csv', delimiter=',')\n",
    "all_hits = pandas.read_csv('Data/strawtubesPoint_decoded_hits.csv', delimiter=',')\n",
    "all_hits['Index'] = all_hits.index"
   ]
  },
  {
   "cell_type": "markdown",
   "metadata": {},
   "source": [
    "# Get reconstructible events"
   ]
  },
  {
   "cell_type": "code",
   "execution_count": 5,
   "metadata": {
    "collapsed": false
   },
   "outputs": [],
   "source": [
    "from utils import get_reconstractible_events\n",
    "#reconstructible_events = get_reconstractible_events(range(0, 2500), all_hits, all_mctracks, all_velo_points)\n",
    "\n",
    "# file_pickle = open('./Data/reco_tracks_for_pattern_recognition.pkl', 'wb')\n",
    "# pickle.dump(reconstructible_events, file_pickle)\n",
    "# file_pickle.close()\n",
    "\n",
    "file_pickle = open('./Data/reco_tracks_for_pattern_recognition.pkl', 'rb')\n",
    "reconstructible_events_pkl = pickle.load(file_pickle)\n",
    "file_pickle.close()\n",
    "\n",
    "reconstructible_events = reconstructible_events_pkl"
   ]
  },
  {
   "cell_type": "code",
   "execution_count": 6,
   "metadata": {
    "collapsed": true
   },
   "outputs": [],
   "source": [
    "# reconstructible_events_valid = get_reconstractible_events(range(2500, 5000), all_hits, all_mctracks, all_velo_points)\n",
    "\n",
    "# file_pickle = open('./Data/reco_tracks_for_pattern_recognition_valid.pkl', 'wb')\n",
    "# pickle.dump(reconstructible_events_valid, file_pickle)\n",
    "# file_pickle.close()\n",
    "\n",
    "file_pickle = open('./Data/reco_tracks_for_pattern_recognition_valid.pkl', 'rb')\n",
    "reconstructible_events_valid_pkl = pickle.load(file_pickle)\n",
    "file_pickle.close()\n",
    "\n",
    "reconstructible_events_valid = reconstructible_events_valid_pkl"
   ]
  },
  {
   "cell_type": "code",
   "execution_count": 7,
   "metadata": {
    "collapsed": false
   },
   "outputs": [
    {
     "data": {
      "text/plain": [
       "array([ 513,    2,  515,  516, 1541,  518,    7,   10, 2059, 1036, 1550,\n",
       "         15, 2392, 1042, 1557,   23,   27, 2077, 2132, 1057,  549,   39,\n",
       "       1066, 2482,  558, 2095,   48,  928,   50, 2099,   53, 1204, 1546,\n",
       "         62, 1600, 2113, 1090, 1206, 1606, 1607, 1548,   74, 1293, 2232,\n",
       "         84,   85,   86, 1111, 2138, 1116, 1629,  606, 1893,  608,   97,\n",
       "       1979,  612, 1637,  614, 1129,  106, 1895, 2305, 2157,  622, 1213,\n",
       "       1136,  625, 1138, 2164, 1142, 1655,  122, 1385,  126,  686,  129,\n",
       "        642,  131, 1668, 1157,  134,  135,  648, 1280,  651, 1677,  654,\n",
       "        143, 1683, 1691, 2204, 1693,  670,  159, 2208,  161, 2246, 1190,\n",
       "       1704,  174,  824, 2224, 1224,  179,  692, 1717,  694,  184, 1722,\n",
       "       1724,  189, 2239,  707, 2244, 1967, 1222,  712, 1200, 1900,  719,\n",
       "       1232, 2446,  211, 2260, 1238,  215, 2264, 1242, 1243, 1756,  221,\n",
       "       1758, 2271,  736, 1761, 1762, 1251, 2277, 1256, 1769, 2282,  747,\n",
       "       2429, 2002, 1262,  893, 1265, 2290, 1235, 2203, 1747,  759,  249,\n",
       "       2378, 2302,  767,  768,  257, 1283, 1284, 1286, 1153,  777, 2314,\n",
       "       2263,   94,  781,  270,  785, 1299,  276, 2350,  791,  793, 1821,\n",
       "        445, 1311,  289, 2338,  292, 1829,  294,  957,  809, 1322,  299,\n",
       "       2348,  813, 1838, 1329, 1843, 2356, 1848,  735, 1340, 1854,  565,\n",
       "       1675, 1349,  839, 1352, 1533,  842,  331, 2142,  845, 1359, 1360,\n",
       "       2360,  341, 2390, 2105,  856, 1369, 1375, 1377, 1339, 1380, 1381,\n",
       "       1383,  828, 1898, 1086,  876,  365,  878, 2416,  369,  370,  883,\n",
       "       2280,  885, 2007, 2423, 1912,  377, 1598,  381,  715,  897, 1410,\n",
       "        901, 2439, 2441, 2443, 1934, 1423,  644, 1427,  916,  917,  406,\n",
       "       2455,  408, 1775, 1911, 1439, 1440,  417, 1156,  923,  933, 2470,\n",
       "       2145, 1180,  426, 1451,  157, 1861, 1458, 2035, 2488,  953, 1901,\n",
       "        927, 2493,  449, 1474,  412,  407, 1441,  968,  970, 2295, 1793,\n",
       "       1851, 2040,  978, 2467, 2317, 1494, 1785, 2266,  782, 2127, 2014,\n",
       "       2405,  484,  806, 1617,  490, 2471, 2029, 1006, 1021, 1008, 1009,\n",
       "       1011,  500, 2037,  502, 1528, 1987, 1279,  102, 2046, 1023])"
      ]
     },
     "execution_count": 7,
     "metadata": {},
     "output_type": "execute_result"
    }
   ],
   "source": [
    "numpy.array(reconstructible_events.keys())"
   ]
  },
  {
   "cell_type": "markdown",
   "metadata": {},
   "source": [
    "# Stations 1&2"
   ]
  },
  {
   "cell_type": "markdown",
   "metadata": {},
   "source": [
    "## Classifiers"
   ]
  },
  {
   "cell_type": "code",
   "execution_count": 8,
   "metadata": {
    "collapsed": true
   },
   "outputs": [],
   "source": [
    "from sklearn.linear_model import LinearRegression\n",
    "from rep.metaml import FoldingClassifier\n",
    "from rep.estimators import XGBoostClassifier\n",
    "\n",
    "def get_data_zy_classifier(hits_zy, events, stations):\n",
    "\n",
    "    data_zy_track = pandas.DataFrame(columns=['score', 'k', 'b', 'label'])\n",
    "    data_zy_hit = pandas.DataFrame(columns=['dist', 'k', 'b', 'label'])\n",
    "\n",
    "    for event_id in events:\n",
    "\n",
    "        event = hits_zy[hits_zy.event == event_id]\n",
    "\n",
    "#         track2 = event[numpy.abs(event.PdgCode) == 211]\n",
    "#         track3 = event[numpy.abs(event.PdgCode) == 13]\n",
    "        track2 = event[event.TrackID == 2]\n",
    "        track3 = event[event.TrackID == 3]\n",
    "\n",
    "        if len(track2)==0 or len(track3)==0:\n",
    "            continue\n",
    "\n",
    "        X1 = track2.Z.values.reshape(-1, 1)\n",
    "        y1 = track2.Y.values\n",
    "\n",
    "        X2 = track3.Z.values.reshape(-1, 1)\n",
    "        y2 = track3.Y.values\n",
    "\n",
    "\n",
    "        X = event.Z.values.reshape(-1, 1)\n",
    "        y = event.Y.values\n",
    "\n",
    "\n",
    "        mlr = JustLinearRegression()\n",
    "        score, lr = mlr.fit(X1, y1)\n",
    "        data_zy_track.loc[len(data_zy_track)] = [score, lr.coef_[0], lr.intercept_, 1]\n",
    "\n",
    "\n",
    "        for ind in range(len(X)):\n",
    "            data_zy_hit.loc[len(data_zy_hit)] = [numpy.abs(y[ind] - lr.predict(X[ind].reshape(-1, 1)))[0], \n",
    "                                                 lr.coef_[0], \n",
    "                                                 lr.intercept_, \n",
    "                                                 (event.TrackID.values[ind] == 2) * 1]\n",
    "\n",
    "\n",
    "        mlr = JustLinearRegression()\n",
    "        score, lr = mlr.fit(X2, y2)\n",
    "        data_zy_track.loc[len(data_zy_track)] = [score, lr.coef_[0], lr.intercept_, 1]\n",
    "\n",
    "\n",
    "        for ind in range(len(X)):\n",
    "            data_zy_hit.loc[len(data_zy_hit)] = [numpy.abs(y[ind] - lr.predict(X[ind].reshape(-1, 1)))[0], \n",
    "                                                 lr.coef_[0], \n",
    "                                                 lr.intercept_, \n",
    "                                                 (event.TrackID.values[ind] == 3) * 1]\n",
    "\n",
    "\n",
    "        X = numpy.concatenate((X1[track2.StatNb == stations[0]], X2[track3.StatNb == stations[1]]), axis=0) \n",
    "        y = numpy.concatenate((y1[track2.StatNb == stations[0]], y2[track3.StatNb == stations[1]]), axis=0)\n",
    "        mlr = JustLinearRegression()\n",
    "        score, lr = mlr.fit(X, y)\n",
    "        data_zy_track.loc[len(data_zy_track)] = [score, lr.coef_[0], lr.intercept_, 0]\n",
    "\n",
    "        X = numpy.concatenate((X1[track2.StatNb == stations[1]], X2[track3.StatNb == stations[0]]), axis=0) \n",
    "        y = numpy.concatenate((y1[track2.StatNb == stations[1]], y2[track3.StatNb == stations[0]]), axis=0)\n",
    "        mlr = JustLinearRegression()\n",
    "        score, lr = mlr.fit(X, y)\n",
    "        data_zy_track.loc[len(data_zy_track)] = [score, lr.coef_[0], lr.intercept_, 0]\n",
    "\n",
    "    return data_zy_track, data_zy_hit\n",
    "\n",
    "def get_zx_hits(event_id, data, plane_k, plane_b):\n",
    "\n",
    "    stereo_hits = data[data['event'] == event_id]\n",
    "\n",
    "    stereo_hits['Wy'] = plane_k * stereo_hits.Wz.values + plane_b\n",
    "    stereo_hits['Wx'] = (stereo_hits.Wx2.values - stereo_hits.Wx1.values) / (stereo_hits.Wy2.values - stereo_hits.Wy1.values) * \\\n",
    "                        (stereo_hits.Wy.values - stereo_hits.Wy1.values) + stereo_hits.Wx1.values\n",
    "\n",
    "    return stereo_hits\n",
    "\n",
    "def get_data_zx_classifier(hits_zy, hits_zx, events, stations):\n",
    "\n",
    "    data_zx_track = pandas.DataFrame(columns=['score', 'k', 'b', 'label'])\n",
    "    data_zx_hit = pandas.DataFrame(columns=['dist', 'k', 'b', 'label'])\n",
    "\n",
    "    for event_id in events:\n",
    "\n",
    "        event = hits_zy[hits_zy.event == event_id]\n",
    "\n",
    "#         track2 = event[numpy.abs(event.PdgCode) == 211]\n",
    "#         track3 = event[numpy.abs(event.PdgCode) == 13]\n",
    "        track2 = event[event.TrackID == 2]\n",
    "        track3 = event[event.TrackID == 3]\n",
    "\n",
    "        if len(track2)==0 or len(track3)==0:\n",
    "            continue\n",
    "\n",
    "        X1 = track2.Z.values.reshape(-1, 1)\n",
    "        y1 = track2.Y.values\n",
    "\n",
    "        X2 = track3.Z.values.reshape(-1, 1)\n",
    "        y2 = track3.Y.values\n",
    "\n",
    "        mlr = JustLinearRegression()\n",
    "        score, lr = mlr.fit(X1, y1)\n",
    "\n",
    "\n",
    "        stereo_hits = get_zx_hits(event_id, hits_zx, lr.coef_[0], lr.intercept_)\n",
    "        X = stereo_hits.Z.values.reshape(-1, 1)\n",
    "        y = stereo_hits.X.values\n",
    "        stereo_X = stereo_hits[stereo_hits.TrackID == 2].Z.values.reshape(-1, 1)\n",
    "        stereo_y = stereo_hits[stereo_hits.TrackID == 2].X.values\n",
    "        mlr = JustLinearRegression()\n",
    "        score, lr = mlr.fit(stereo_X, stereo_y)\n",
    "        data_zx_track.loc[len(data_zx_track)] = [score, lr.coef_[0], lr.intercept_, 1]\n",
    "        for ind in range(len(X)):\n",
    "            data_zx_hit.loc[len(data_zx_hit)] = [numpy.abs(y[ind] - lr.predict(X[ind].reshape(-1, 1)))[0], \n",
    "                                                 lr.coef_[0], \n",
    "                                                 lr.intercept_, \n",
    "                                                 (stereo_hits.TrackID.values[ind] == 2) * 1]\n",
    "\n",
    "\n",
    "        mlr = JustLinearRegression()\n",
    "        score, lr = mlr.fit(X2, y2)\n",
    "\n",
    "\n",
    "        stereo_hits = get_zx_hits(event_id, hits_zx, lr.coef_[0], lr.intercept_)\n",
    "        X = stereo_hits.Z.values.reshape(-1, 1)\n",
    "        y = stereo_hits.X.values\n",
    "        stereo_X = stereo_hits[stereo_hits.TrackID == 3].Z.values.reshape(-1, 1)\n",
    "        stereo_y = stereo_hits[stereo_hits.TrackID == 3].X.values\n",
    "        mlr = JustLinearRegression()\n",
    "        score, lr = mlr.fit(stereo_X, stereo_y)\n",
    "        data_zx_track.loc[len(data_zx_track)] = [score, lr.coef_[0], lr.intercept_, 1]\n",
    "        for ind in range(len(X)):\n",
    "            data_zx_hit.loc[len(data_zx_hit)] = [numpy.abs(y[ind] - lr.predict(X[ind].reshape(-1, 1)))[0], \n",
    "                                                 lr.coef_[0], \n",
    "                                                 lr.intercept_, \n",
    "                                                 (stereo_hits.TrackID.values[ind] == 3) * 1]\n",
    "\n",
    "\n",
    "        X = numpy.concatenate((X1[track2.StatNb == stations[0]], X2[track3.StatNb == stations[1]]), axis=0) \n",
    "        y = numpy.concatenate((y1[track2.StatNb == stations[0]], y2[track3.StatNb == stations[1]]), axis=0)\n",
    "        mlr = JustLinearRegression()\n",
    "        score, lr = mlr.fit(X, y)\n",
    "\n",
    "        stereo_hits = get_zx_hits(event_id, hits_zx, lr.coef_[0], lr.intercept_)\n",
    "        X = stereo_hits.Z.values.reshape(-1, 1)\n",
    "        y = stereo_hits.X.values\n",
    "        stereo_X = stereo_hits.Z.values.reshape(-1, 1)\n",
    "        stereo_y = stereo_hits.X.values\n",
    "        mlr = JustLinearRegression()\n",
    "        score, lr = mlr.fit(stereo_X, stereo_y)\n",
    "        data_zx_track.loc[len(data_zx_track)] = [score, lr.coef_[0], lr.intercept_, 0]\n",
    "\n",
    "        X = numpy.concatenate((X1[track2.StatNb == stations[1]], X2[track3.StatNb == stations[0]]), axis=0) \n",
    "        y = numpy.concatenate((y1[track2.StatNb == stations[1]], y2[track3.StatNb == stations[0]]), axis=0)\n",
    "        mlr = JustLinearRegression()\n",
    "        score, lr = mlr.fit(X, y)\n",
    "\n",
    "        stereo_hits = get_zx_hits(event_id, hits_zx, lr.coef_[0], lr.intercept_)\n",
    "        X = stereo_hits.Z.values.reshape(-1, 1)\n",
    "        y = stereo_hits.X.values\n",
    "        stereo_X = stereo_hits.Z.values.reshape(-1, 1)\n",
    "        stereo_y = stereo_hits.X.values\n",
    "        mlr = JustLinearRegression()\n",
    "        score, lr = mlr.fit(stereo_X, stereo_y)\n",
    "        data_zx_track.loc[len(data_zx_track)] = [score, lr.coef_[0], lr.intercept_, 0]\n",
    "\n",
    "    return data_zx_track, data_zx_hit\n",
    "\n",
    "def get_track_classifier(data):\n",
    "\n",
    "    X_data = data[['score', 'k', 'b']].values\n",
    "    y_data = data[['label']].values.reshape(-1)\n",
    "    \n",
    "    xgb_base = XGBoostClassifier(n_estimators=100, colsample=0.7, eta=0.1, nthreads=3, \n",
    "                                 subsample=0.5, max_depth=8)\n",
    "    \n",
    "    classifier = FoldingClassifier(xgb_base, n_folds=2, random_state=11)\n",
    "    classifier.fit(X_data, y_data)\n",
    "    \n",
    "    return classifier\n",
    "\n",
    "def get_hit_classifier(data):\n",
    "\n",
    "    X_data = data[['dist', 'k', 'b']].values\n",
    "    y_data = data[['label']].values.reshape(-1)\n",
    "    \n",
    "    xgb_base = XGBoostClassifier(n_estimators=100, colsample=0.7, eta=0.1, nthreads=3, \n",
    "                                 subsample=0.5, max_depth=8)\n",
    "    \n",
    "    classifier = FoldingClassifier(xgb_base, n_folds=2, random_state=11)\n",
    "    classifier.fit(X_data, y_data)\n",
    "    \n",
    "    return classifier"
   ]
  },
  {
   "cell_type": "code",
   "execution_count": null,
   "metadata": {
    "collapsed": true
   },
   "outputs": [],
   "source": []
  },
  {
   "cell_type": "code",
   "execution_count": 9,
   "metadata": {
    "collapsed": false
   },
   "outputs": [],
   "source": [
    "from Y_views import *\n",
    "from UV_views import *\n",
    "hits_zy_12, _ = modify_for_yz_analysis_1_2(all_hits)\n",
    "hits_zx_12, _ = modify_for_xz_analysis_1_2(all_hits)\n",
    "\n",
    "\n",
    "def get_zx_hits(event_id, data, plane_k, plane_b):\n",
    "\n",
    "    stereo_hits = data[data['event'] == event_id]\n",
    "\n",
    "    stereo_hits['Wy'] = plane_k * stereo_hits.Wz.values + plane_b\n",
    "    stereo_hits['Wx'] = (stereo_hits.Wx2.values - stereo_hits.Wx1.values) / (stereo_hits.Wy2.values - stereo_hits.Wy1.values) * \\\n",
    "                        (stereo_hits.Wy.values - stereo_hits.Wy1.values) + stereo_hits.Wx1.values\n",
    "\n",
    "    return stereo_hits\n",
    "\n",
    "data_zy_track, data_zy_hit = get_data_zy_classifier(hits_zy_12, \n",
    "                                                    reconstructible_events_valid.keys(), \n",
    "                                                    stations=[1,2])\n",
    "\n",
    "data_zx_track, data_zx_hit = get_data_zx_classifier(hits_zy_12, \n",
    "                                                    hits_zx_12, \n",
    "                                                    reconstructible_events_valid.keys(), \n",
    "                                                    stations=[1,2])\n",
    "\n",
    "clf_zy_track = get_track_classifier(data_zy_track)\n",
    "clf_zy_hit = get_hit_classifier(data_zy_hit)\n",
    "\n",
    "clf_zx_track = get_track_classifier(data_zx_track)\n",
    "clf_zx_hit = get_hit_classifier(data_zx_hit)\n",
    "\n",
    "classifiers_12 = [clf_zy_track, None, clf_zx_track, None]"
   ]
  },
  {
   "cell_type": "markdown",
   "metadata": {},
   "source": [
    "## Y-views"
   ]
  },
  {
   "cell_type": "code",
   "execution_count": null,
   "metadata": {
    "collapsed": false
   },
   "outputs": [],
   "source": [
    "#%%px\n",
    "from MultiLinearRegression import MultiLinearRegression\n",
    "\n",
    "def get_zy_candidates(event_id, data, track_classifier, hit_classifier):\n",
    "    \n",
    "    event = data[data['event'] == event_id]\n",
    "    \n",
    "    n = 3\n",
    "    if len(event) > 40:\n",
    "        n = 3\n",
    "\n",
    "    XX = event.Wz.values\n",
    "    yy = event.Wy.values\n",
    "    rr = 1*event.dist2Wire.values\n",
    "    ii = event.index.values\n",
    "\n",
    "    X = numpy.concatenate((XX, XX), axis=0).reshape((-1, 1))\n",
    "    y = numpy.concatenate((yy+rr, yy-rr), axis=0)\n",
    "    indeces = numpy.concatenate((ii, ii), axis=0)\n",
    "\n",
    "    rmlr = MultiLinearRegression(n_tracks=2, \n",
    "                                 n=n, \n",
    "                                 subsample=1, \n",
    "                                 n_neighbors=20, \n",
    "                                 step=0.1,\n",
    "                                 track_classifier=track_classifier,\n",
    "                                 hit_classifier=hit_classifier)\n",
    "    rmlr.fit(X, y)\n",
    "    \n",
    "    tracks = rmlr.tracks_\n",
    "    tracks_labels = rmlr.labels_\n",
    "\n",
    "    tracks_yz = {}\n",
    "    linking_table_yz = {}\n",
    "\n",
    "    for num, track in enumerate(tracks):\n",
    "        tracks_yz[num + 1] = track\n",
    "        linking_table_yz[num + 1] = numpy.unique(indeces[tracks_labels == num])\n",
    "        \n",
    "    return tracks_yz, linking_table_yz\n",
    "\n",
    "def get_zx_hits(event_id, data, plane_k, plane_b):\n",
    "\n",
    "    stereo_hits = data[data['event'] == event_id]\n",
    "\n",
    "    stereo_hits['Wy'] = plane_k * stereo_hits.Wz.values + plane_b\n",
    "    stereo_hits['Wx'] = (stereo_hits.Wx2.values - stereo_hits.Wx1.values) / (stereo_hits.Wy2.values - stereo_hits.Wy1.values) * \\\n",
    "                        (stereo_hits.Wy.values - stereo_hits.Wy1.values) + stereo_hits.Wx1.values\n",
    "\n",
    "    return stereo_hits[numpy.abs(stereo_hits.Wx.values) < 300]\n",
    "\n",
    "\n",
    "def get_zx_candidates(event_id, tracks_yz, tracks_cov_yz, data, track_classifier, hit_classifier):\n",
    "\n",
    "    tracks_xz = {}\n",
    "    linking_table_xz = {}\n",
    "\n",
    "    for num, track_id in enumerate(tracks_yz.keys()):\n",
    "\n",
    "        zy_plane_k, zy_plane_b = tracks_yz[track_id]\n",
    "        cov = tracks_cov_yz[track_id]\n",
    "\n",
    "        hits = get_zx_hits(event_id, data, zy_plane_k, zy_plane_b)\n",
    "\n",
    "        XX = hits.Wz.values\n",
    "        yy = hits.Wx.values\n",
    "        rr = 1*hits.dist2Wire.values / numpy.sin(10. * numpy.pi / 360.)\n",
    "        ii = hits.index.values\n",
    "\n",
    "        X = numpy.concatenate((XX, XX), axis=0).reshape((-1, 1))\n",
    "        y = numpy.concatenate((yy+rr, yy-rr), axis=0)\n",
    "        indeces = numpy.concatenate((ii, ii), axis=0)\n",
    "        \n",
    "        rmlr = MultiLinearRegression(n_tracks=1, \n",
    "                                 n=3, \n",
    "                                 subsample=1, \n",
    "                                 n_neighbors=20, \n",
    "                                 step=0.1,\n",
    "                                 track_classifier=track_classifier, \n",
    "                                 hit_classifier=hit_classifier)\n",
    "        rmlr.fit(X, y)\n",
    "\n",
    "        tracks = rmlr.tracks_\n",
    "        tracks_labels = rmlr.labels_\n",
    "\n",
    "        linking_table_xz[10001 * (num+1)] = list(numpy.unique(indeces[tracks_labels == 0]))\n",
    "        tracks_xz[10001 * (num+1)] = tracks[0]\n",
    "\n",
    "    return tracks_xz, linking_table_xz\n",
    "\n",
    "def run_stations(event_id, data_zy, data_zx, classifiers):\n",
    "\n",
    "    reco_events12 = {}\n",
    "\n",
    "    tracks_yz, linking_table_yz = get_zy_candidates(event_id, data_zy, classifiers[0], classifiers[1])\n",
    "    tracks_xz, linking_table_xz = get_zx_candidates(event_id, tracks_yz, linking_table_yz, data_zx, classifiers[2], classifiers[3])\n",
    "\n",
    "    reco = [tracks_yz, linking_table_yz, tracks_xz, linking_table_xz]\n",
    "\n",
    "    reco_events12[event_id] = reco\n",
    "\n",
    "    print event_id\n",
    "\n",
    "    return reco_events12\n",
    "\n",
    "def merge_dicts(dicts):\n",
    "    '''\n",
    "    Given any number of dicts, shallow copy and merge into a new dict,\n",
    "    precedence goes to key value pairs in latter dicts.\n",
    "    '''\n",
    "    result = {}\n",
    "    for dictionary in dicts:\n",
    "        result.update(dictionary)\n",
    "    return result"
   ]
  },
  {
   "cell_type": "code",
   "execution_count": null,
   "metadata": {
    "collapsed": false,
    "scrolled": false
   },
   "outputs": [],
   "source": [
    "%%time\n",
    "view = clients.load_balanced_view()\n",
    "event_ids = reconstructible_events.keys()\n",
    "res = view.map(run_stations, \n",
    "               event_ids, \n",
    "               [hits_zy_12]*len(event_ids), \n",
    "               [hits_zx_12]*len(event_ids), \n",
    "               [classifiers_12]*len(event_ids))\n",
    "\n",
    "reco_events12 = merge_dicts(res.get())"
   ]
  },
  {
   "cell_type": "code",
   "execution_count": null,
   "metadata": {
    "collapsed": false
   },
   "outputs": [],
   "source": [
    "a = []\n",
    "for i in reco_events12.keys():\n",
    "    ids = [0,0]\n",
    "    for num, track in enumerate(reco_events12[i][1].values()):\n",
    "        unique, count = numpy.unique(hits_zy_12.loc[track].TrackID.values, return_counts=True)\n",
    "        if len(count) == 0:\n",
    "            print 'zero', i\n",
    "            continue\n",
    "        ids[num] = unique[count == count.max()][0]\n",
    "    if len(ids) == 0:\n",
    "        continue\n",
    "    if ids[0] == ids[1] or ids[0] == 0 or ids[1] == 0:\n",
    "        print i, ids\n",
    "        a.append(i)\n",
    "numpy.array(a)"
   ]
  },
  {
   "cell_type": "code",
   "execution_count": null,
   "metadata": {
    "collapsed": true
   },
   "outputs": [],
   "source": [
    "file_pickle = open('./Data/reco_events12_model_1.pkl', 'wb')\n",
    "pickle.dump(reco_events12, file_pickle)\n",
    "file_pickle.close()\n",
    "\n",
    "file_pickle = open('./Data/reco_events12_model_1.pkl', 'rb')\n",
    "reco_events12_pkl = pickle.load(file_pickle)\n",
    "file_pickle.close()\n",
    "\n",
    "reco_events12 = reco_events12_pkl"
   ]
  },
  {
   "cell_type": "code",
   "execution_count": 22,
   "metadata": {
    "collapsed": false
   },
   "outputs": [
    {
     "name": "stdout",
     "output_type": "stream",
     "text": [
      "513\n",
      "[{1: array([ -1.36711852e-02,  -9.63664696e+01]), 2: array([  9.23456679e-05,  -9.21446179e+01])}, {1: array([20269, 20270, 20275, 20276, 20277, 20278, 20284, 20285]), 2: array([20233, 20234, 20239, 20240, 20241, 20242, 20248, 20249])}, {10001: array([  1.02736683e-02,   4.39446080e+01]), 20002: array([-0.01953037,  3.68611811])}, {10001: [20271, 20272, 20273, 20274, 20279, 20280, 20281], 20002: []}]\n",
      "10\n",
      "[{1: array([ -1.37724129e-02,  -5.99416894e+01]), 2: array([ 0.01958256, -5.01103155])}, {1: array([2943, 2944, 2945, 2951, 2952, 2953, 2954, 2955, 2961, 2962]), 2: array([2982, 2983, 2990, 2991, 2992, 2993, 2998, 2999, 3000])}, {10001: array([  8.25718002e-03,   3.35420588e+01]), 20002: array([-0.01451724,  6.2888212 ])}, {10001: [2946, 2947, 2948, 2949, 2950, 2956, 2957, 2958], 20002: []}]\n",
      "1057\n",
      "[{1: array([  1.80811840e-02,  -2.73472598e+01]), 2: array([ -0.08815798,  47.93768352])}, {1: array([40055, 40056, 40057, 40062, 40063, 40064, 40065, 40070, 40071]), 2: array([40088, 40089, 40094, 40095, 40096, 40097, 40103, 40104])}, {10001: array([  2.87450374e-02,   1.25371057e+02]), 20002: array([ -4.26011363e-02,   1.54308088e+02])}, {10001: [40058, 40059, 40066, 40067, 40068, 40069], 20002: []}]\n",
      "1066\n",
      "[{1: array([  4.56319343e-03,   1.11534143e+01]), 2: array([ -9.77564145e-03,   3.22332550e+01])}, {1: array([40258, 40259, 40264, 40265, 40266, 40267, 40272, 40273]), 2: array([40292, 40293, 40298, 40299, 40300, 40301, 40306, 40307])}, {10001: array([ -8.87665672e-03,  -1.09859680e+01]), 20002: array([  2.54132904e-02,  -4.87635839e+01])}, {10001: [40260, 40261, 40262, 40263, 40268, 40269, 40270, 40271], 20002: []}]\n",
      "558\n",
      "[{1: array([  2.65359456e-02,   1.16832918e+02]), 2: array([ -4.73669672e-03,   1.37097840e+02])}, {1: array([21820, 21821, 21826, 21827, 21828, 21829, 21830, 21837, 21838, 21839]), 2: array([21856, 21857, 21862, 21863, 21864, 21865, 21870, 21871])}, {10001: array([ -1.69189827e-02,  -4.79634397e+01]), 20002: array([  1.02538263e-02,  -5.73680373e+01])}, {10001: [21822, 21823, 21824, 21825], 20002: []}]\n",
      "2095\n",
      "[{1: array([  8.88194179e-03,   4.01871723e+01]), 2: array([ -3.54977633e-02,   4.78052434e+01])}, {1: array([90241, 90242, 90248, 90249, 90250, 90251, 90256, 90257]), 2: array([90275, 90276, 90281, 90282, 90283, 90284, 90290, 90291])}, {10001: array([ -7.43816448e-03,  -4.32097181e+01]), 20002: array([  1.48343655e-02,  -5.61039631e+01])}, {10001: [90244, 90252, 90253, 90255], 20002: []}]\n",
      "48\n",
      "[{1: array([  7.85437750e-03,  -1.48360807e+01]), 2: array([ -2.18785680e-02,   2.77992014e+01])}, {1: array([4000, 4001, 4007, 4008, 4009, 4010, 4011, 4012, 4017, 4018]), 2: array([3965, 3966, 3971, 3972, 3973, 3974, 3975, 3981, 3982])}, {10001: array([  2.26036568e-04,  -7.46665909e+01]), 20002: array([ -2.48205516e-02,  -3.70516819e+01])}, {10001: [], 20002: [3968, 3978]}]\n",
      "1036\n",
      "[{1: array([ -1.67778450e-02,  -1.95706414e+02]), 2: array([ -2.95355932e-02,  -1.66783423e+02])}, {1: array([39464, 39470, 39471, 39472, 39473, 39474, 39479, 39480, 39481]), 2: array([39502, 39503, 39509, 39510, 39511, 39512, 39517, 39518, 39519])}, {10001: array([ -3.33048424e-02,  -6.10372320e+01]), 20002: array([  5.35535368e-02,  -1.95025530e+02])}, {10001: [], 20002: [39505, 39506, 39508, 39513, 39514]}]\n",
      "1129\n",
      "[{1: array([  3.56678887e-03,   2.07598837e+01]), 2: array([ -5.03505525e-02,   5.53206274e+01])}, {1: array([41763, 41764, 41769, 41770, 41772, 41778, 41779, 41780]), 2: array([41798, 41799, 41800, 41805, 41806, 41807, 41808])}, {10001: array([  3.81111374e-03,   3.16958176e+01]), 20002: array([  1.06953128e-02,   4.00589816e+01])}, {10001: [41765, 41766, 41767, 41768, 41775, 41776, 41777], 20002: []}]\n",
      "1136\n",
      "[{1: array([ -2.96077225e-02,  -2.51609293e+02]), 2: array([ -2.02843803e-02,  -2.32056654e+02])}, {1: array([41885, 41886, 41891, 41892, 41893, 41894, 41895, 41901, 41902, 41903]), 2: array([41922, 41923, 41929, 41930, 41931, 41932, 41933, 41938, 41939, 41940])}, {10001: array([-0.00882737, -0.53188696]), 20002: array([  0.04158695,  16.14116377])}, {10001: [41890, 41896], 20002: []}]\n",
      "625\n",
      "[{1: array([ -3.90745405e-03,  -2.24631717e+01]), 2: array([  3.42733910e-02,  -5.73200115e+01])}, {1: array([24374, 24375, 24376, 24381, 24382, 24383, 24384, 24389, 24390, 24391]), 2: array([24417, 24418, 24423, 24424, 24425, 24426, 24432, 24433])}, {10001: array([ -2.04136469e-03,  -2.84740879e+00]), 20002: array([ 0.03711113,  0.39184201])}, {10001: [24379, 24380, 24387, 24388], 20002: []}]\n",
      "2164\n",
      "[{1: array([  2.12984172e-02,  -1.42431462e+02]), 2: array([ -2.70135191e-02,  -5.72215236e+01])}, {1: array([93052, 93053, 93058, 93059, 93060, 93061, 93062, 93067, 93068]), 2: array([93086, 93087, 93093, 93094, 93095, 93096, 93102, 93103])}, {10001: array([  0.04770442,  22.31367436]), 20002: array([ -1.05207745e-02,   1.27435364e+02])}, {10001: [], 20002: [93089, 93090, 93099]}]\n",
      "1142\n",
      "[{1: array([  1.21120423e-02,   2.29817782e+02]), 2: array([  3.83926071e-02,   2.36138175e+02])}, {1: array([42245, 42246, 42252, 42253, 42254, 42255, 42256, 42261, 42262]), 2: array([42215, 42216, 42221, 42222, 42223, 42224, 42230, 42231])}, {10001: array([  1.62173273e-02,  -6.99847367e+01]), 20002: array([ -4.25652241e-02,  -9.16853975e+01])}, {10001: [42247, 42248, 42249, 42250, 42251, 42259, 42260], 20002: []}]\n",
      "134\n",
      "[{1: array([ -1.41517712e-03,  -7.24441644e+00]), 2: array([  4.44055638e-03,   6.40106032e+00])}, {1: array([6787, 6788, 6794, 6795, 6796, 6797, 6802, 6803]), 2: array([6822, 6823, 6829, 6830, 6831, 6832, 6833, 6838, 6839, 6840])}, {10001: array([  4.05248461e-03,   6.53305327e+00]), 20002: array([-0.02118803, -8.88516319])}, {10001: [6789, 6790, 6791, 6792, 6793, 6798, 6799, 6800, 6801], 20002: []}]\n",
      "143\n",
      "[{1: array([  4.13157482e-03,   8.27109317e+01]), 2: array([  0.10773586,  15.21632362])}, {1: array([7294, 7295, 7301, 7302, 7303, 7304, 7307, 7308]), 2: array([7319, 7320, 7325, 7326, 7334, 7335, 7336])}, {10001: array([ -2.21250255e-02,  -1.82353488e+02]), 20002: array([  2.08686363e-02,  -2.36188563e+02])}, {10001: [7296, 7297, 7298, 7299, 7305, 7306], 20002: []}]\n",
      "159\n",
      "[{1: array([  4.90673182e-03,   6.02490264e+01]), 2: array([  3.22350608e-02,   4.46828983e+01])}, {1: array([7694, 7695, 7701, 7702, 7703, 7704, 7705, 7706, 7711, 7712]), 2: array([7658, 7659, 7664, 7665, 7666, 7667, 7672, 7673])}, {10001: array([  4.06157102e-03,   4.80471641e+01]), 20002: array([  2.80826065e-02,   3.66251283e+01])}, {10001: [7696, 7697, 7698, 7699, 7700, 7707, 7708, 7709], 20002: []}]\n",
      "161\n",
      "[{1: array([ -0.01871937,  17.96606158]), 2: array([  4.15571351e-02,   5.27877809e+01])}, {1: array([7766, 7767, 7768, 7773, 7774, 7775, 7776, 7781, 7782]), 2: array([7732, 7733, 7739, 7740, 7741, 7742, 7747, 7748])}, {10001: array([-0.01190845, -3.1293668 ]), 20002: array([  0.02523197,  18.47315572])}, {10001: [7772], 20002: []}]\n",
      "1222\n",
      "[{1: array([ -6.71396263e-03,  -9.62922916e+00]), 2: array([  2.05649518e-02,  -2.34732981e+01])}, {1: array([50248, 50249, 50254, 50255, 50256, 50257, 50263, 50264]), 2: array([50282, 50283, 50289, 50290, 50291, 50292, 50297, 50298])}, {10001: array([  6.68122128e-03,   6.87818396e+01]), 20002: array([  1.28420874e-02,   6.55681445e+01])}, {10001: [50250, 50251, 50258, 50259, 50262], 20002: []}]\n",
      "1190\n",
      "[{1: array([ 0.01700643, -8.72409632]), 2: array([ -2.18610330e-02,   5.33862890e+01])}, {1: array([47184, 47185, 47186, 47191, 47192, 47193, 47194, 47199, 47200]), 2: array([47220, 47221, 47222, 47228, 47229, 47230, 47231, 47236, 47237])}, {10001: array([  5.56805269e-03,   6.20559680e+01]), 20002: array([  9.29881984e-03,   5.46283209e+01])}, {10001: [47189, 47190], 20002: []}]\n",
      "1704\n",
      "[{1: array([  8.40016043e-04,  -2.44922570e+01]), 2: array([ -2.49334958e-02,   3.77569381e+01])}, {1: array([69952, 69953, 69958, 69959, 69960, 69961, 69966, 69967]), 2: array([69916, 69917, 69922, 69923, 69924, 69925, 69926, 69931, 69932])}, {10001: array([ -1.05809129e-02,  -5.84042354e+01]), 20002: array([  1.87329822e-02,  -1.30198818e+02])}, {10001: [69954, 69955, 69956, 69957, 69962, 69964, 69965], 20002: []}]\n",
      "1722\n",
      "[{1: array([ -1.95906655e-02,  -7.35253153e+01]), 2: array([  5.21734295e-02,  -1.83785861e+02])}, {1: array([71121, 71122, 71125, 71126, 71127, 71128, 71132, 71133, 71168]), 2: array([71187, 71188, 71193, 71194, 71195, 71196, 71201, 71202])}, {10001: array([  2.02924503e-02,   1.88757409e+02]), 20002: array([  3.48658714e-03,   2.09997745e+02])}, {10001: [], 20002: [71190]}]\n",
      "1213\n",
      "[{1: array([  1.87011095e-02,   7.41057764e+01]), 2: array([ -2.11324909e-02,   1.53611096e+02])}, {1: array([50083, 50084, 50090, 50091, 50092, 50093, 50099, 50100]), 2: array([50118, 50119, 50124, 50125, 50126, 50127, 50132, 50133])}, {10001: array([  0.0318124,  17.494389 ]), 20002: array([ -8.74530041e-02,   2.43264535e+02])}, {10001: [50087, 50088, 50089, 50095, 50096], 20002: []}]\n",
      "1200\n",
      "[{1: array([ -2.80231465e-02,  -2.11737111e+02]), 2: array([  3.14366304e-02,  -7.03523254e+01])}, {1: array([48902, 48903, 48909, 48910, 48911, 48912, 48917, 48918]), 2: array([48938, 48939, 48945, 48946, 48947, 48948, 48949, 48954, 48955, 48956])}, {10001: array([ -9.15878306e-03,  -7.15247832e+01]), 20002: array([  1.95080678e-02,  -3.34339691e+01])}, {10001: [48904, 48905, 48906, 48913, 48914, 48915, 48916], 20002: []}]\n",
      "2260\n",
      "[{1: array([  7.81371960e-03,  -1.32711428e+02]), 2: array([ -4.43430390e-02,  -8.89825308e+01])}, {1: array([98267, 98268, 98273, 98274, 98275, 98276, 98281, 98282]), 2: array([98231, 98232, 98237, 98238, 98239, 98240, 98245, 98246])}, {10001: array([ -1.68753260e-02,   9.30465392e+01]), 20002: array([  4.74777788e-02,   5.46151752e+01])}, {10001: [98272], 20002: []}]\n",
      "2263\n",
      "[{1: array([ -1.93814268e-02,  -1.88285081e+02]), 2: array([ -2.12878907e-02,  -1.82859491e+02])}, {1: array([98342, 98343, 98349, 98350, 98414, 98415, 98420, 98421, 98422]), 2: array([98332, 98333, 98339, 98340, 98341, 98351, 98423, 98424, 98429, 98430])}, {10001: array([ -6.28896758e-03,   7.38149867e+01]), 20002: array([  0.02752692, -19.37223216])}, {10001: [], 20002: [98334, 98337, 98338, 98344, 98345, 98346]}]\n",
      "1242\n",
      "[{1: array([  4.98831328e-03,   1.00053868e+02]), 2: array([  0.09495112, -54.88336405])}, {1: array([51113, 51114, 51119, 51120, 51121, 51122, 51123, 51124, 51129, 51130]), 2: array([51148, 51149, 51154, 51155, 51156, 51157, 51162, 51163])}, {10001: array([ -2.70554603e-04,   1.22967509e+01]), 20002: array([  3.41262515e-02,  -5.43017338e+01])}, {10001: [51118], 20002: []}]\n",
      "1756\n",
      "[{1: array([  1.83510833e-03,   1.33842229e+01]), 2: array([ -8.24062012e-03,   4.30810749e+01])}, {1: array([73026, 73027, 73033, 73034, 73035, 73036, 73037, 73042, 73043]), 2: array([73061, 73062, 73071, 73077, 73078, 73079])}, {10001: array([  3.48148769e-03,   2.20268233e+01]), 20002: array([  1.11190002e-01,  -2.98026932e+02])}, {10001: [73028, 73029, 73030, 73031, 73032, 73040, 73041], 20002: []}]\n",
      "1761\n",
      "[{1: array([ 0.00426777,  4.04479179]), 2: array([ -0.04788556,  31.08956609])}, {1: array([73310, 73311, 73316, 73317, 73318, 73319, 73324, 73325]), 2: array([73344, 73345, 73350, 73351, 73352, 73353, 73358, 73359, 73360])}, {10001: array([ -8.70337220e-03,  -4.88355079e+01]), 20002: array([  3.79570528e-02,  -4.02104292e+01])}, {10001: [73312, 73313, 73314, 73315, 73320, 73321, 73322, 73323], 20002: []}]\n",
      "1251\n",
      "[{1: array([ -9.86743589e-03,  -5.99003801e+01]), 2: array([ -3.06610158e-04,  -8.01534789e+01])}, {1: array([51432, 51433, 51434, 51439, 51440, 51441, 51442, 51448, 51449]), 2: array([51396, 51397, 51402, 51403, 51404, 51405, 51406, 51411, 51412, 51413])}, {10001: array([  4.03766684e-03,   1.21114850e+02]), 20002: array([  3.20629567e-02,   6.54202616e+01])}, {10001: [51435, 51436, 51443, 51444, 51445, 51446, 51447], 20002: []}]\n",
      "2277\n",
      "[{1: array([  1.51789512e-03,   2.11050315e+01]), 2: array([ 0.01286882, -7.65786266])}, {1: array([99728, 99729, 99734, 99735, 99736, 99737, 99738, 99744, 99745]), 2: array([99677, 99685, 99686, 99687, 99692, 99693, 99734])}, {10001: array([  3.32277827e-03,  -1.13851503e+01]), 20002: array([ -1.18445512e-01,   2.94888814e+02])}, {10001: [99730, 99731, 99732, 99733, 99739, 99740, 99741, 99742, 99743], 20002: []}]\n",
      "1769\n",
      "[{1: array([  1.31460983e-02,   1.12605314e+02]), 2: array([  8.67562354e-03,   1.15452190e+02])}, {1: array([73538, 73539, 73540, 73545, 73546, 73547, 73548, 73549, 73550,\n",
      "       73556, 73557, 73558]), 2: array([73576, 73577, 73582, 73583, 73584, 73591])}, {10001: array([  1.38420113e-02,   4.72043206e+01]), 20002: array([ -4.55550722e-02,   1.47199573e+02])}, {10001: [73543, 73544, 73551, 73552, 73553, 73554, 73555], 20002: []}]\n",
      "1262\n",
      "[{1: array([  7.77409204e-03,   2.10901691e+02]), 2: array([  3.50947390e-02,   1.59230930e+02])}, {1: array([51836, 51837, 51838, 51843, 51844, 51845, 51846, 51851, 51852, 51853]), 2: array([51871, 51872, 51873, 51878, 51879, 51880, 51881, 51886, 51887])}, {10001: array([ -3.37973192e-02,   7.94656983e+01]), 20002: array([  3.69590927e-02,  -6.09717815e+01])}, {10001: [], 20002: [51875]}]\n",
      "2290\n",
      "[{1: array([ -2.24324528e-02,  -9.23385157e+01]), 2: array([  4.50229699e-02,  -2.46645461e+02])}, {1: array([100170, 100171, 100176, 100177, 100178, 100179, 100180, 100186,\n",
      "       100187]), 2: array([100206, 100207, 100212, 100213, 100214, 100215, 100221, 100222])}, {10001: array([  1.50008307e-02,   1.05226335e+02]), 20002: array([ -4.84760494e-03,   1.52153762e+02])}, {10001: [], 20002: []}]\n",
      "1235\n",
      "[{1: array([  0.07208174, -65.69886094]), 2: array([ -8.55642128e-02,   1.80685171e+02])}, {1: array([50690, 50691, 50692, 50697, 50698, 50699, 50700, 50705, 50706]), 2: array([50724, 50725, 50726, 50731, 50732, 50735])}, {10001: array([ -8.42947329e-03,  -2.69691896e+01]), 20002: array([  2.51675822e-02,  -9.10581246e+01])}, {10001: [], 20002: [50729, 50730]}]\n",
      "215\n",
      "[{1: array([ -1.94661164e-02,  -1.38986369e+02]), 2: array([  2.07163821e-03,  -1.14015919e+02])}, {1: array([10703, 10704, 10710, 10711, 10712, 10713, 10714, 10720, 10721]), 2: array([10738, 10739, 10740, 10746, 10747, 10748, 10749, 10750, 10755,\n",
      "       10756, 10757])}, {10001: array([  2.10399533e-02,   1.18887577e+02]), 20002: array([ -1.82735492e-02,   9.83790423e+01])}, {10001: [10708, 10709], 20002: []}]\n",
      "94\n",
      "[{1: array([ -2.45145312e-02,  -2.92006202e+01]), 2: array([  2.93385095e-02,  -1.08445977e+02])}, {1: array([5366, 5367, 5373, 5374, 5375, 5376, 5377, 5382, 5383, 5384]), 2: array([5328, 5329, 5330, 5337, 5338, 5339, 5340, 5341, 5346, 5347])}, {10001: array([ -1.40323944e-03,  -1.68907900e+01]), 20002: array([ -2.12133509e-03,  -1.60757258e+01])}, {10001: [], 20002: []}]\n",
      "270\n",
      "[{1: array([ -2.42597911e-02,  -1.25308606e+02]), 2: array([  7.49038554e-02,  -2.46689597e+02])}, {1: array([12304, 12305, 12306, 12309, 12310, 12311, 12312, 12315, 12316, 12317]), 2: array([12323, 12324, 12325, 12331, 12332, 12333, 12334, 12339, 12340])}, {10001: array([  2.40853953e-02,   1.73714518e+02]), 20002: array([  9.25434334e-03,   1.95887549e+02])}, {10001: [12308], 20002: []}]\n",
      "292\n",
      "[{1: array([  5.44857400e-04,  -9.27164290e+01]), 2: array([ -5.30357576e-02,  -2.01295583e+02])}, {1: array([12617, 12618, 12623, 12624, 12625, 12626, 12631, 12632]), 2: array([12584, 12585, 12591, 12592, 12593, 12594, 12599, 12600])}, {10001: array([ -7.99197683e-03,  -8.77083049e+01]), 20002: array([ -1.42382935e-02,  -1.03746845e+02])}, {10001: [12619, 12620, 12621, 12622, 12629, 12630], 20002: []}]\n",
      "957\n",
      "[{1: array([  2.73757832e-04,  -3.22430582e+00]), 2: array([ -2.15436179e-02,  -3.87793588e+01])}, {1: array([37034, 37035, 37040, 37041, 37042, 37043, 37048, 37049]), 2: array([37067, 37068, 37074, 37075, 37076, 37077, 37083, 37084])}, {10001: array([ -4.46886885e-03,  -3.38621548e+01]), 20002: array([  9.95665723e-03,  -3.22839332e+01])}, {10001: [37036, 37037, 37038, 37039, 37044, 37045, 37046, 37047], 20002: []}]\n",
      "1838\n",
      "[{1: array([ -1.53984867e-02,  -1.11692891e+02]), 2: array([  1.50335864e-02,  -1.87319972e+02])}, {1: array([79607, 79608, 79613, 79614, 79615, 79616, 79621, 79622]), 2: array([79572, 79573, 79578, 79579, 79580, 79581, 79586, 79587])}, {10001: array([ -2.63137270e-04,   2.67936936e+01]), 20002: array([  3.48745078e-02,  -6.09984011e+01])}, {10001: [79609, 79611, 79612, 79617, 79618, 79620], 20002: []}]\n",
      "735\n",
      "[{1: array([ -5.39873210e-03,  -8.60664437e+00]), 2: array([  0.02538279,  20.62193376])}, {1: array([30150, 30151, 30156, 30157, 30158, 30159, 30164, 30165, 30166]), 2: array([30117, 30118, 30123, 30124, 30125, 30126, 30132, 30133])}, {10001: array([ -1.13522496e-03,  -3.72245173e+01]), 20002: array([ -2.08203702e-02,  -4.70073039e+01])}, {10001: [30152, 30153, 30154, 30155, 30162, 30163], 20002: []}]\n",
      "828\n",
      "[{1: array([ -3.57547612e-03,  -4.60110976e+01]), 2: array([ -2.61686152e-02,  -5.30699076e+01])}, {1: array([33040, 33041, 33047, 33048, 33049, 33050, 33055, 33056]), 2: array([33074, 33075, 33080, 33081, 33082, 33083, 33084, 33089, 33090, 33091])}, {10001: array([ -3.61001271e-03,  -2.49548517e+01]), 20002: array([  5.95283365e-03,  -3.28217912e+01])}, {10001: [33042, 33043, 33044, 33045, 33046, 33051, 33052], 20002: []}]\n",
      "1360\n",
      "[{1: array([  3.41757913e-03,   7.20693092e+00]), 2: array([ -2.02884467e-02,  -2.46272024e+01])}, {1: array([57457, 57458, 57463, 57464, 57465, 57466, 57467, 57472, 57473]), 2: array([57422, 57423, 57424, 57429, 57430, 57431, 57432, 57437, 57438])}, {10001: array([ -1.22622627e-02,  -6.84411169e+01]), 20002: array([  2.27117651e-02,  -4.27632547e+01])}, {10001: [57459, 57460, 57461, 57462, 57468, 57469, 57470, 57471], 20002: []}]\n",
      "2105\n",
      "[{1: array([ -3.21083405e-03,  -7.70362186e+00]), 2: array([  1.49363791e-02,   4.17880700e+01])}, {1: array([90646, 90647, 90653, 90654, 90655, 90656, 90662, 90663, 90664]), 2: array([90610, 90611, 90616, 90617, 90618, 90619, 90625, 90626])}, {10001: array([ -2.07336584e-02,  -9.90026906e+01]), 20002: array([  0.03973948, -12.55680045])}, {10001: [90648, 90649, 90650, 90657, 90658, 90659, 90660, 90661], 20002: []}]\n",
      "1383\n",
      "[{1: array([ -7.26651370e-04,  -1.35878384e+02]), 2: array([ -4.01581404e-02,  -9.54016496e+01])}, {1: array([58367, 58368, 58369, 58374, 58375, 58376, 58383, 58384]), 2: array([58331, 58332, 58339, 58340, 58341, 58342, 58347, 58348])}, {10001: array([  1.56513684e-02,   4.64771194e+01]), 20002: array([ -2.74969247e-02,   8.89522780e+01])}, {10001: [58372, 58373], 20002: []}]\n",
      "1898\n",
      "[{1: array([ -1.38954098e-02,  -1.01013576e+02]), 2: array([  2.29078222e-03,  -9.13213334e+01])}, {1: array([81749, 81750, 81751, 81756, 81757, 81758, 81759, 81760, 81765, 81766]), 2: array([81710, 81711, 81712, 81717, 81718, 81719, 81720, 81721, 81727,\n",
      "       81728, 81729])}, {10001: array([  5.32651703e-03,   6.29428320e+01]), 20002: array([  3.59702962e-02,   6.97802894e+01])}, {10001: [81752, 81753, 81754, 81755, 81763, 81764], 20002: []}]\n",
      "885\n",
      "[{1: array([ -3.50627633e-02,  -2.27209354e+02]), 2: array([  7.07091923e-02,  -4.51883782e+02])}, {1: array([34881, 34882, 34887, 34888, 34889, 34890, 34895, 34896]), 2: array([34915, 34916, 34931, 34932])}, {10001: array([  1.42970050e-03,  -1.07141420e+01]), 20002: array([ -2.67095454e-02,   5.49849222e+01])}, {10001: [34884, 34892], 20002: []}]\n",
      "2007\n",
      "[{1: array([ -3.25760823e-03,   3.99954615e+01]), 2: array([  0.05710453, -14.12902721])}, {1: array([85330, 85331, 85336, 85337, 85338, 85339, 85344, 85345, 85346]), 2: array([85364, 85365, 85370, 85371, 85372, 85373, 85374, 85379, 85380])}, {10001: array([  1.78754477e-02,   1.50132510e+02]), 20002: array([  8.98481226e-03,   1.61667865e+02])}, {10001: [85334, 85335, 85343], 20002: []}]\n",
      "1934\n",
      "[{1: array([  4.18490427e-02,   1.41375972e+02]), 2: array([ -2.95069140e-02,   1.01071226e+02])}, {1: array([83287, 83288, 83289, 83295, 83296, 83297, 83298, 83299, 83304, 83305]), 2: array([83253, 83254, 83259, 83260, 83261, 83262, 83267, 83268])}, {10001: array([ -5.64903317e-03,  -6.60065464e+01]), 20002: array([ -6.89177891e-03,  -6.36135013e+01])}, {10001: [], 20002: []}]\n",
      "1427\n",
      "[{1: array([  2.61808742e-02,   1.19459814e+02]), 2: array([ -1.62741286e-02,   1.67615757e+02])}, {1: array([59200, 59201, 59206, 59207, 59208, 59209, 59210, 59216, 59217]), 2: array([59164, 59165, 59170, 59171, 59172, 59173, 59179, 59180, 59181])}, {10001: array([  1.50425321e-02,  -5.59336922e+01]), 20002: array([ -0.05355182,  36.52734872])}, {10001: [], 20002: []}]\n",
      "916\n",
      "[{1: array([ -2.00759955e-04,   6.43155218e+01]), 2: array([  2.87536301e-02,   6.91778776e+01])}, {1: array([35845, 35846, 35847, 35852, 35853, 35854, 35855, 35856, 35857,\n",
      "       35862, 35863, 35864]), 2: array([35760, 35761, 35767, 35768, 35769, 35770, 35771, 35777, 35778, 35779])}, {10001: array([ -3.42543602e-02,  -1.01275920e+02]), 20002: array([  0.06155028,  23.85777918])}, {10001: [], 20002: [35762, 35763, 35765, 35775]}]\n",
      "2203\n",
      "[{1: array([-0.00494497, -4.15995614]), 2: array([  2.29056335e-02,  -2.64459165e+01])}, {1: array([94303, 94304, 94309, 94310, 94311, 94312, 94318, 94319, 94320]), 2: array([94268, 94269, 94274, 94275, 94276, 94277, 94278, 94283, 94284])}, {10001: array([ -1.76399668e-04,  -3.10931681e+01]), 20002: array([ -0.02110284, -20.56003886])}, {10001: [94306, 94307, 94308, 94315, 94316, 94317], 20002: []}]\n",
      "2145\n",
      "[{1: array([ -2.19156895e-02,  -1.03778206e+02]), 2: array([  3.89846579e-03,  -8.96429883e+01])}, {1: array([92661, 92662, 92668, 92669, 92670, 92671, 92672, 92678, 92679, 92680]), 2: array([92701, 92702, 92707, 92708, 92709, 92710, 92711, 92717, 92718])}, {10001: array([  1.96532764e-02,   3.06663371e+01]), 20002: array([ -1.75442581e-02,   2.94814888e+01])}, {10001: [], 20002: [92705, 92706, 92714, 92715]}]\n",
      "953\n",
      "[{1: array([ -3.98220313e-02,  -1.86626887e+02]), 2: array([  2.62896657e-02,  -3.46547840e+02])}, {1: array([36957, 36958, 36959, 36964, 36965, 36966, 36967, 36968, 36974, 36975]), 2: array([36995, 36996, 37003, 37004, 37005, 37006, 37012, 37013])}, {10001: array([ -1.93760688e-03,   5.39682419e+01]), 20002: array([  0.02910019, -21.72452031])}, {10001: [36969, 36970, 36971], 20002: []}]\n",
      "1901\n",
      "[{1: array([  3.52870570e-02,   2.04226825e+02]), 2: array([ -6.36607876e-03,   1.93427058e+02])}, {1: array([81897, 81898, 81904, 81905, 81906, 81907, 81912, 81913, 81914]), 2: array([81862, 81863, 81868, 81869, 81870, 81871, 81876, 81877, 81878])}, {10001: array([ -1.39629236e-02,  -5.09366782e+01]), 20002: array([  1.63558719e-02,  -2.60172256e+01])}, {10001: [81899, 81900, 81901, 81902, 81903, 81908, 81909], 20002: []}]\n",
      "449\n",
      "[{1: array([ -1.51609842e-02,  -1.32960548e+02]), 2: array([ -1.18528609e-02,  -1.11673088e+02])}, {1: array([17487, 17488, 17489, 17495, 17496, 17497, 17498, 17503, 17504, 17505]), 2: array([17526, 17527, 17533, 17534, 17535, 17536, 17541, 17542])}, {10001: array([  3.81865161e-03,  -1.32547191e+01]), 20002: array([ -0.04889656, -11.0234925 ])}, {10001: [17490, 17491, 17492, 17493, 17494, 17499, 17500, 17501, 17502], 20002: []}]\n",
      "407\n",
      "[{1: array([  1.09956919e-02,   6.96901757e+01]), 2: array([ -7.75138796e-04,   8.68955629e+01])}, {1: array([16202, 16203, 16204, 16209, 16210, 16211, 16212, 16213, 16218, 16219]), 2: array([16169, 16170, 16171, 16176, 16177, 16178, 16179, 16184, 16185])}, {10001: array([ -1.82108811e-02,  -6.05064508e+01]), 20002: array([  2.27017463e-02,  -1.31820172e+02])}, {10001: [16205, 16206, 16215, 16216, 16217], 20002: []}]\n",
      "2040\n",
      "[{1: array([ -0.04747646,  42.75903493]), 2: array([ -0.04852683,  45.64279441])}, {1: array([86865]), 2: array([86859, 86860, 86866, 86867, 86868, 86869, 86874, 86875])}, {10001: array([ -2.81619178e-03,  -1.60126462e+02]), 20002: array([ -1.16625264e-02,  -1.35413137e+02])}, {10001: [], 20002: []}]\n",
      "978\n",
      "[{1: array([  7.99904010e-03,   6.92322292e+01]), 2: array([ -4.31745691e-04,   5.36383302e+01])}, {1: array([37698, 37699, 37704, 37705, 37706, 37707, 37708, 37715, 37716]), 2: array([37736, 37742, 37743, 37745, 37751, 37752, 37753])}, {10001: array([  2.38880444e-03,   3.07036630e+01]), 20002: array([  0.03981739, -22.67732953])}, {10001: [37700, 37701, 37702, 37703, 37709, 37710, 37711, 37712, 37713, 37714], 20002: []}]\n",
      "2467\n",
      "[{1: array([  1.19248376e-02,   2.21780145e+02]), 2: array([  6.55552561e-02,   1.25956417e+02])}, {1: array([105530, 105531, 105532, 105537, 105538, 105539, 105540, 105545,\n",
      "       105546]), 2: array([105494, 105495, 105496, 105501, 105502, 105503, 105504, 105509,\n",
      "       105510])}, {10001: array([ -1.30626666e-02,  -3.71138346e+01]), 20002: array([  2.61696953e-02,  -1.06181415e+02])}, {10001: [105534, 105536, 105544], 20002: []}]\n",
      "806\n",
      "[{1: array([ -1.47697565e-03,  -8.46319313e+01]), 2: array([ -0.06898922,  60.31937821])}, {1: array([32185, 32186, 32187, 32193, 32194, 32195, 32196, 32197, 32202, 32203]), 2: array([32147, 32148, 32149, 32155, 32156, 32157, 32158, 32159, 32164, 32165])}, {10001: array([ -2.59418000e-03,  -3.55041810e+01]), 20002: array([  1.90347311e-02,  -7.90208078e+01])}, {10001: [32188, 32189, 32190, 32191, 32192, 32200, 32201], 20002: []}]\n"
     ]
    }
   ],
   "source": [
    "reco_events12_new = {}\n",
    "\n",
    "for i in reco_events12.keys():\n",
    "    \n",
    "    event = reco_events12[i]\n",
    "    \n",
    "    flag = 0\n",
    "    \n",
    "    for val in event[0].values():\n",
    "        \n",
    "        if len(val) == 0:\n",
    "            flag = 1\n",
    "            \n",
    "    for val in event[1].values():\n",
    "        \n",
    "        if len(val) == 0:\n",
    "            flag = 1\n",
    "            \n",
    "    for val in event[2].values():\n",
    "        \n",
    "        if len(val) == 0:\n",
    "            flag = 1\n",
    "            \n",
    "    for val in event[3].values():\n",
    "        \n",
    "        if len(val) == 0:\n",
    "            flag = 1\n",
    "        \n",
    "    \n",
    "    if flag == 1:\n",
    "        print i\n",
    "        print event\n",
    "        \n",
    "    else:\n",
    "        reco_events12_new[i] = reco_events12[i]"
   ]
  },
  {
   "cell_type": "markdown",
   "metadata": {},
   "source": [
    "# Stations 3&4"
   ]
  },
  {
   "cell_type": "code",
   "execution_count": 23,
   "metadata": {
    "collapsed": false
   },
   "outputs": [],
   "source": [
    "from Y_views import *\n",
    "from UV_views import *\n",
    "hits_zy_34, _ = modify_for_yz_analysis_3_4(all_hits)\n",
    "hits_zx_34, _ = modify_for_xz_analysis_3_4(all_hits)\n",
    "\n",
    "\n",
    "def get_zx_hits(event_id, data, plane_k, plane_b):\n",
    "\n",
    "    stereo_hits = data[data['event'] == event_id]\n",
    "\n",
    "    stereo_hits['Wy'] = plane_k * stereo_hits.Wz.values + plane_b\n",
    "    stereo_hits['Wx'] = (stereo_hits.Wx2.values - stereo_hits.Wx1.values) / (stereo_hits.Wy2.values - stereo_hits.Wy1.values) * \\\n",
    "                        (stereo_hits.Wy.values - stereo_hits.Wy1.values) + stereo_hits.Wx1.values\n",
    "\n",
    "    return stereo_hits\n",
    "\n",
    "\n",
    "data_zy_track, data_zy_hit = get_data_zy_classifier(hits_zy_34, \n",
    "                                                    reconstructible_events_valid.keys(), \n",
    "                                                    stations=[3,4])\n",
    "\n",
    "data_zx_track, data_zx_hit = get_data_zx_classifier(hits_zy_34, \n",
    "                                                    hits_zx_34, \n",
    "                                                    reconstructible_events_valid.keys(), \n",
    "                                                    stations=[3,4])\n",
    "\n",
    "clf_zy_track = get_track_classifier(data_zy_track)\n",
    "clf_zy_hit = get_hit_classifier(data_zy_hit)\n",
    "\n",
    "clf_zx_track = get_track_classifier(data_zx_track)\n",
    "clf_zx_hit = get_hit_classifier(data_zx_hit)\n",
    "\n",
    "classifiers_34 = [clf_zy_track, clf_zy_hit, clf_zx_track, clf_zx_hit]"
   ]
  },
  {
   "cell_type": "code",
   "execution_count": 24,
   "metadata": {
    "collapsed": false
   },
   "outputs": [],
   "source": [
    "classifiers_34 = [None, clf_zy_hit, None, clf_zx_hit]"
   ]
  },
  {
   "cell_type": "code",
   "execution_count": 25,
   "metadata": {
    "collapsed": false
   },
   "outputs": [
    {
     "name": "stdout",
     "output_type": "stream",
     "text": [
      "CPU times: user 11.5 s, sys: 13.8 s, total: 25.3 s\n",
      "Wall time: 20min 26s\n"
     ]
    }
   ],
   "source": [
    "%%time\n",
    "view = clients.load_balanced_view()\n",
    "event_ids = reconstructible_events.keys()\n",
    "res = view.map(run_stations, \n",
    "               event_ids, \n",
    "               [hits_zy_34]*len(event_ids), \n",
    "               [hits_zx_34]*len(event_ids), \n",
    "               [classifiers_34]*len(event_ids))\n",
    "\n",
    "reco_events34 = merge_dicts(res.get())"
   ]
  },
  {
   "cell_type": "code",
   "execution_count": 26,
   "metadata": {
    "collapsed": false
   },
   "outputs": [
    {
     "name": "stdout",
     "output_type": "stream",
     "text": [
      "143 [2.0, 2.0]\n",
      "zero 670\n",
      "670 [0, 2.0]\n",
      "1722 [2.0, 2.0]\n",
      "270 [2.0, 2.0]\n",
      "426 [2.0, 2.0]\n",
      "1528 [2.0, 2.0]\n",
      "2040 [2.0, 2.0]\n"
     ]
    },
    {
     "data": {
      "text/plain": [
       "array([ 143,  670, 1722,  270,  426, 1528, 2040])"
      ]
     },
     "execution_count": 26,
     "metadata": {},
     "output_type": "execute_result"
    }
   ],
   "source": [
    "a = []\n",
    "for i in reco_events34.keys():\n",
    "    ids = [0,0]\n",
    "    for num, track in enumerate(reco_events34[i][1].values()):\n",
    "        unique, count = numpy.unique(hits_zy_34.loc[track].TrackID.values, return_counts=True)\n",
    "        if len(count) == 0:\n",
    "            print 'zero', i\n",
    "            continue\n",
    "        ids[num] = unique[count == count.max()][0]\n",
    "    if len(ids) == 0:\n",
    "        continue\n",
    "    if ids[0] == ids[1] or ids[0] == 0 or ids[1] == 0:\n",
    "        print i, ids\n",
    "        a.append(i)\n",
    "numpy.array(a)"
   ]
  },
  {
   "cell_type": "code",
   "execution_count": 27,
   "metadata": {
    "collapsed": false
   },
   "outputs": [
    {
     "name": "stdout",
     "output_type": "stream",
     "text": [
      "513\n",
      "[{1: array([ -1.36711852e-02,  -9.63664696e+01]), 2: array([  9.23456679e-05,  -9.21446179e+01])}, {1: array([20269, 20270, 20275, 20276, 20277, 20278, 20284, 20285]), 2: array([20233, 20234, 20239, 20240, 20241, 20242, 20248, 20249])}, {10001: array([  1.02736683e-02,   4.39446080e+01]), 20002: array([-0.01953037,  3.68611811])}, {10001: [20271, 20272, 20273, 20274, 20279, 20280, 20281], 20002: []}]\n",
      "10\n",
      "[{1: array([ -1.37724129e-02,  -5.99416894e+01]), 2: array([ 0.01958256, -5.01103155])}, {1: array([2943, 2944, 2945, 2951, 2952, 2953, 2954, 2955, 2961, 2962]), 2: array([2982, 2983, 2990, 2991, 2992, 2993, 2998, 2999, 3000])}, {10001: array([  8.25718002e-03,   3.35420588e+01]), 20002: array([-0.01451724,  6.2888212 ])}, {10001: [2946, 2947, 2948, 2949, 2950, 2956, 2957, 2958], 20002: []}]\n",
      "885\n",
      "[{1: array([ -3.50627633e-02,  -2.27209354e+02]), 2: array([  7.07091923e-02,  -4.51883782e+02])}, {1: array([34881, 34882, 34887, 34888, 34889, 34890, 34895, 34896]), 2: array([34915, 34916, 34931, 34932])}, {10001: array([  1.42970050e-03,  -1.07141420e+01]), 20002: array([ -2.67095454e-02,   5.49849222e+01])}, {10001: [34884, 34892], 20002: []}]\n",
      "1057\n",
      "[{1: array([  1.80811840e-02,  -2.73472598e+01]), 2: array([ -0.08815798,  47.93768352])}, {1: array([40055, 40056, 40057, 40062, 40063, 40064, 40065, 40070, 40071]), 2: array([40088, 40089, 40094, 40095, 40096, 40097, 40103, 40104])}, {10001: array([  2.87450374e-02,   1.25371057e+02]), 20002: array([ -4.26011363e-02,   1.54308088e+02])}, {10001: [40058, 40059, 40066, 40067, 40068, 40069], 20002: []}]\n",
      "1066\n",
      "[{1: array([  4.56319343e-03,   1.11534143e+01]), 2: array([ -9.77564145e-03,   3.22332550e+01])}, {1: array([40258, 40259, 40264, 40265, 40266, 40267, 40272, 40273]), 2: array([40292, 40293, 40298, 40299, 40300, 40301, 40306, 40307])}, {10001: array([ -8.87665672e-03,  -1.09859680e+01]), 20002: array([  2.54132904e-02,  -4.87635839e+01])}, {10001: [40260, 40261, 40262, 40263, 40268, 40269, 40270, 40271], 20002: []}]\n",
      "558\n",
      "[{1: array([  2.65359456e-02,   1.16832918e+02]), 2: array([ -4.73669672e-03,   1.37097840e+02])}, {1: array([21820, 21821, 21826, 21827, 21828, 21829, 21830, 21837, 21838, 21839]), 2: array([21856, 21857, 21862, 21863, 21864, 21865, 21870, 21871])}, {10001: array([ -1.69189827e-02,  -4.79634397e+01]), 20002: array([  1.02538263e-02,  -5.73680373e+01])}, {10001: [21822, 21823, 21824, 21825], 20002: []}]\n",
      "2095\n",
      "[{1: array([  8.88194179e-03,   4.01871723e+01]), 2: array([ -3.54977633e-02,   4.78052434e+01])}, {1: array([90241, 90242, 90248, 90249, 90250, 90251, 90256, 90257]), 2: array([90275, 90276, 90281, 90282, 90283, 90284, 90290, 90291])}, {10001: array([ -7.43816448e-03,  -4.32097181e+01]), 20002: array([  1.48343655e-02,  -5.61039631e+01])}, {10001: [90244, 90252, 90253, 90255], 20002: []}]\n",
      "48\n",
      "[{1: array([  7.85437750e-03,  -1.48360807e+01]), 2: array([ -2.18785680e-02,   2.77992014e+01])}, {1: array([4000, 4001, 4007, 4008, 4009, 4010, 4011, 4012, 4017, 4018]), 2: array([3965, 3966, 3971, 3972, 3973, 3974, 3975, 3981, 3982])}, {10001: array([  2.26036568e-04,  -7.46665909e+01]), 20002: array([ -2.48205516e-02,  -3.70516819e+01])}, {10001: [], 20002: [3968, 3978]}]\n",
      "157\n",
      "[{1: array([  4.24827191e-03,   2.61470291e+02]), 2: array([  0.09975913,  31.12425449])}, {1: array([7623, 7624, 7630, 7631, 7632, 7633, 7634, 7639, 7640]), 2: array([7561, 7567, 7568, 7569, 7570, 7571, 7576, 7577])}, {10001: array([  0.04132853, -11.99803488]), 20002: array([ -1.16450516e-01,   3.69580407e+02])}, {10001: [7626], 20002: [7565, 7575]}]\n",
      "62\n",
      "[{1: array([ -9.44751810e-03,   2.37797599e+02]), 2: array([  4.13075125e-02,   1.70754582e+02])}, {1: array([4514, 4515, 4516, 4521, 4522, 4524]), 2: array([4549, 4550, 4556, 4557, 4558, 4559, 4564, 4565])}, {10001: array([  7.36895151e-02,  -9.27753057e+01]), 20002: array([ -3.02419368e-02,   7.84827248e+01])}, {10001: [4527, 4528, 4529], 20002: [4553, 4554, 4563]}]\n",
      "1206\n",
      "[{1: array([  4.74367678e-02,   9.62110929e+01]), 2: array([ -1.92613598e-01,   5.42271659e+02])}, {1: array([49595, 49596, 49597, 49602, 49603, 49604, 49605, 49611, 49612, 49613]), 2: array([49699, 49700, 49706, 49707, 49708, 49709, 49710])}, {10001: array([  4.91324176e-03,  -1.60779576e+02]), 20002: array([  2.25986090e-01,  -8.07693905e+02])}, {10001: [49598, 49599, 49600, 49610], 20002: [49701, 49705]}]\n",
      "1036\n",
      "[{1: array([ -1.67778450e-02,  -1.95706414e+02]), 2: array([ -2.95355932e-02,  -1.66783423e+02])}, {1: array([39464, 39470, 39471, 39472, 39473, 39474, 39479, 39480, 39481]), 2: array([39502, 39503, 39509, 39510, 39511, 39512, 39517, 39518, 39519])}, {10001: array([ -3.33048424e-02,  -6.10372320e+01]), 20002: array([  5.35535368e-02,  -1.95025530e+02])}, {10001: [], 20002: [39505, 39506, 39508, 39513, 39514]}]\n",
      "1129\n",
      "[{1: array([  3.56678887e-03,   2.07598837e+01]), 2: array([ -5.03505525e-02,   5.53206274e+01])}, {1: array([41763, 41764, 41769, 41770, 41772, 41778, 41779, 41780]), 2: array([41798, 41799, 41800, 41805, 41806, 41807, 41808])}, {10001: array([  3.81111374e-03,   3.16958176e+01]), 20002: array([  1.06953128e-02,   4.00589816e+01])}, {10001: [41765, 41766, 41767, 41768, 41775, 41776, 41777], 20002: []}]\n",
      "1383\n",
      "[{1: array([ -7.26651370e-04,  -1.35878384e+02]), 2: array([ -4.01581404e-02,  -9.54016496e+01])}, {1: array([58367, 58368, 58369, 58374, 58375, 58376, 58383, 58384]), 2: array([58331, 58332, 58339, 58340, 58341, 58342, 58347, 58348])}, {10001: array([  1.56513684e-02,   4.64771194e+01]), 20002: array([ -2.74969247e-02,   8.89522780e+01])}, {10001: [58372, 58373], 20002: []}]\n",
      "1213\n",
      "[{1: array([  1.87011095e-02,   7.41057764e+01]), 2: array([ -2.11324909e-02,   1.53611096e+02])}, {1: array([50083, 50084, 50090, 50091, 50092, 50093, 50099, 50100]), 2: array([50118, 50119, 50124, 50125, 50126, 50127, 50132, 50133])}, {10001: array([  0.0318124,  17.494389 ]), 20002: array([ -8.74530041e-02,   2.43264535e+02])}, {10001: [50087, 50088, 50089, 50095, 50096], 20002: []}]\n",
      "1136\n",
      "[{1: array([ -2.96077225e-02,  -2.51609293e+02]), 2: array([ -2.02843803e-02,  -2.32056654e+02])}, {1: array([41885, 41886, 41891, 41892, 41893, 41894, 41895, 41901, 41902, 41903]), 2: array([41922, 41923, 41929, 41930, 41931, 41932, 41933, 41938, 41939, 41940])}, {10001: array([-0.00882737, -0.53188696]), 20002: array([  0.04158695,  16.14116377])}, {10001: [41890, 41896], 20002: []}]\n",
      "625\n",
      "[{1: array([ -3.90745405e-03,  -2.24631717e+01]), 2: array([  3.42733910e-02,  -5.73200115e+01])}, {1: array([24374, 24375, 24376, 24381, 24382, 24383, 24384, 24389, 24390, 24391]), 2: array([24417, 24418, 24423, 24424, 24425, 24426, 24432, 24433])}, {10001: array([ -2.04136469e-03,  -2.84740879e+00]), 20002: array([ 0.03711113,  0.39184201])}, {10001: [24379, 24380, 24387, 24388], 20002: []}]\n",
      "2164\n",
      "[{1: array([  2.12984172e-02,  -1.42431462e+02]), 2: array([ -2.70135191e-02,  -5.72215236e+01])}, {1: array([93052, 93053, 93058, 93059, 93060, 93061, 93062, 93067, 93068]), 2: array([93086, 93087, 93093, 93094, 93095, 93096, 93102, 93103])}, {10001: array([  0.04770442,  22.31367436]), 20002: array([ -1.05207745e-02,   1.27435364e+02])}, {10001: [], 20002: [93089, 93090, 93099]}]\n",
      "1142\n",
      "[{1: array([  1.21120423e-02,   2.29817782e+02]), 2: array([  3.83926071e-02,   2.36138175e+02])}, {1: array([42245, 42246, 42252, 42253, 42254, 42255, 42256, 42261, 42262]), 2: array([42215, 42216, 42221, 42222, 42223, 42224, 42230, 42231])}, {10001: array([  1.62173273e-02,  -6.99847367e+01]), 20002: array([ -4.25652241e-02,  -9.16853975e+01])}, {10001: [42247, 42248, 42249, 42250, 42251, 42259, 42260], 20002: []}]\n",
      "1655\n",
      "[{1: array([  1.36912070e-02,   7.70483376e+01]), 2: array([ -0.11469378,  89.15997998])}, {1: array([68404, 68405, 68410, 68411, 68412, 68413, 68419, 68420]), 2: array([68440, 68449, 68457, 68458])}, {10001: array([ -1.08036962e-02,  -8.76828265e+01]), 20002: array([  2.43594422e-03,  -1.50578897e+01])}, {10001: [68408, 68409], 20002: [68446]}]\n",
      "1934\n",
      "[{1: array([  4.18490427e-02,   1.41375972e+02]), 2: array([ -2.95069140e-02,   1.01071226e+02])}, {1: array([83287, 83288, 83289, 83295, 83296, 83297, 83298, 83299, 83304, 83305]), 2: array([83253, 83254, 83259, 83260, 83261, 83262, 83267, 83268])}, {10001: array([ -5.64903317e-03,  -6.60065464e+01]), 20002: array([ -6.89177891e-03,  -6.36135013e+01])}, {10001: [], 20002: []}]\n",
      "134\n",
      "[{1: array([ -1.41517712e-03,  -7.24441644e+00]), 2: array([  4.44055638e-03,   6.40106032e+00])}, {1: array([6787, 6788, 6794, 6795, 6796, 6797, 6802, 6803]), 2: array([6822, 6823, 6829, 6830, 6831, 6832, 6833, 6838, 6839, 6840])}, {10001: array([  4.05248461e-03,   6.53305327e+00]), 20002: array([-0.02118803, -8.88516319])}, {10001: [6789, 6790, 6791, 6792, 6793, 6798, 6799, 6800, 6801], 20002: []}]\n",
      "651\n",
      "[{1: array([ -0.0392489, -38.4707965]), 2: array([  0.09080941,  81.13346533])}, {1: array([25220, 25221, 25222, 25227, 25228, 25229, 25230, 25236, 25237]), 2: array([25259, 25260, 25261, 25266, 25267, 25268, 25269, 25275, 25276])}, {10001: array([  5.75203629e-03,   5.79555113e+00]), 20002: array([ -1.99762602e-02,  -3.05198069e+01])}, {10001: [25225, 25226, 25235], 20002: [25262, 25263]}]\n",
      "143\n",
      "[{1: array([  4.13157482e-03,   8.27109317e+01]), 2: array([  0.10773586,  15.21632362])}, {1: array([7294, 7295, 7301, 7302, 7303, 7304, 7307, 7308]), 2: array([7319, 7320, 7325, 7326, 7334, 7335, 7336])}, {10001: array([ -2.21250255e-02,  -1.82353488e+02]), 20002: array([  2.08686363e-02,  -2.36188563e+02])}, {10001: [7296, 7297, 7298, 7299, 7305, 7306], 20002: []}]\n",
      "670\n",
      "[{1: array([  1.06490641e-02,   3.83828928e+01]), 2: array([ -1.22421913e-02,   3.55136775e+01])}, {1: array([26877, 26878, 26883, 26884, 26885, 26886, 26891, 26892]), 2: array([26902, 26903, 26909, 26910, 26911, 26912, 26913, 26919, 26920])}, {10001: array([  2.86042605e-02,   1.51905467e+02]), 20002: array([ -1.52736194e-02,   1.29626733e+02])}, {10001: [26879, 26880, 26881, 26882, 26887, 26888], 20002: [26905, 26907, 26908, 26914, 26915, 26916]}]\n",
      "159\n",
      "[{1: array([  4.90673182e-03,   6.02490264e+01]), 2: array([  3.22350608e-02,   4.46828983e+01])}, {1: array([7694, 7695, 7701, 7702, 7703, 7704, 7705, 7706, 7711, 7712]), 2: array([7658, 7659, 7664, 7665, 7666, 7667, 7672, 7673])}, {10001: array([  4.06157102e-03,   4.80471641e+01]), 20002: array([  2.80826065e-02,   3.66251283e+01])}, {10001: [7696, 7697, 7698, 7699, 7700, 7707, 7708, 7709], 20002: []}]\n",
      "161\n",
      "[{1: array([ -0.01871937,  17.96606158]), 2: array([  4.15571351e-02,   5.27877809e+01])}, {1: array([7766, 7767, 7768, 7773, 7774, 7775, 7776, 7781, 7782]), 2: array([7732, 7733, 7739, 7740, 7741, 7742, 7747, 7748])}, {10001: array([-0.01190845, -3.1293668 ]), 20002: array([  0.02523197,  18.47315572])}, {10001: [7772], 20002: []}]\n",
      "1190\n",
      "[{1: array([ 0.01700643, -8.72409632]), 2: array([ -2.18610330e-02,   5.33862890e+01])}, {1: array([47184, 47185, 47186, 47191, 47192, 47193, 47194, 47199, 47200]), 2: array([47220, 47221, 47222, 47228, 47229, 47230, 47231, 47236, 47237])}, {10001: array([  5.56805269e-03,   6.20559680e+01]), 20002: array([  9.29881984e-03,   5.46283209e+01])}, {10001: [47189, 47190], 20002: []}]\n",
      "1704\n",
      "[{1: array([  8.40016043e-04,  -2.44922570e+01]), 2: array([ -2.49334958e-02,   3.77569381e+01])}, {1: array([69952, 69953, 69958, 69959, 69960, 69961, 69966, 69967]), 2: array([69916, 69917, 69922, 69923, 69924, 69925, 69926, 69931, 69932])}, {10001: array([ -1.05809129e-02,  -5.84042354e+01]), 20002: array([  1.87329822e-02,  -1.30198818e+02])}, {10001: [69954, 69955, 69956, 69957, 69962, 69964, 69965], 20002: []}]\n",
      "449\n",
      "[{1: array([ -1.51609842e-02,  -1.32960548e+02]), 2: array([ -1.18528609e-02,  -1.11673088e+02])}, {1: array([17487, 17488, 17489, 17495, 17496, 17497, 17498, 17503, 17504, 17505]), 2: array([17526, 17527, 17533, 17534, 17535, 17536, 17541, 17542])}, {10001: array([  3.81865161e-03,  -1.32547191e+01]), 20002: array([ -0.04889656, -11.0234925 ])}, {10001: [17490, 17491, 17492, 17493, 17494, 17499, 17500, 17501, 17502], 20002: []}]\n",
      "1722\n",
      "[{1: array([ -1.95906655e-02,  -7.35253153e+01]), 2: array([  5.21734295e-02,  -1.83785861e+02])}, {1: array([71121, 71122, 71125, 71126, 71127, 71128, 71132, 71133, 71168]), 2: array([71187, 71188, 71193, 71194, 71195, 71196, 71201, 71202])}, {10001: array([  2.02924503e-02,   1.88757409e+02]), 20002: array([  3.48658714e-03,   2.09997745e+02])}, {10001: [], 20002: [71190]}]\n",
      "1222\n",
      "[{1: array([ -6.71396263e-03,  -9.62922916e+00]), 2: array([  2.05649518e-02,  -2.34732981e+01])}, {1: array([50248, 50249, 50254, 50255, 50256, 50257, 50263, 50264]), 2: array([50282, 50283, 50289, 50290, 50291, 50292, 50297, 50298])}, {10001: array([  6.68122128e-03,   6.87818396e+01]), 20002: array([  1.28420874e-02,   6.55681445e+01])}, {10001: [50250, 50251, 50258, 50259, 50262], 20002: []}]\n",
      "1200\n",
      "[{1: array([ -2.80231465e-02,  -2.11737111e+02]), 2: array([  3.14366304e-02,  -7.03523254e+01])}, {1: array([48902, 48903, 48909, 48910, 48911, 48912, 48917, 48918]), 2: array([48938, 48939, 48945, 48946, 48947, 48948, 48949, 48954, 48955, 48956])}, {10001: array([ -9.15878306e-03,  -7.15247832e+01]), 20002: array([  1.95080678e-02,  -3.34339691e+01])}, {10001: [48904, 48905, 48906, 48913, 48914, 48915, 48916], 20002: []}]\n",
      "2260\n",
      "[{1: array([  7.81371960e-03,  -1.32711428e+02]), 2: array([ -4.43430390e-02,  -8.89825308e+01])}, {1: array([98267, 98268, 98273, 98274, 98275, 98276, 98281, 98282]), 2: array([98231, 98232, 98237, 98238, 98239, 98240, 98245, 98246])}, {10001: array([ -1.68753260e-02,   9.30465392e+01]), 20002: array([  4.74777788e-02,   5.46151752e+01])}, {10001: [98272], 20002: []}]\n",
      "2263\n",
      "[{1: array([ -1.93814268e-02,  -1.88285081e+02]), 2: array([ -2.12878907e-02,  -1.82859491e+02])}, {1: array([98342, 98343, 98349, 98350, 98414, 98415, 98420, 98421, 98422]), 2: array([98332, 98333, 98339, 98340, 98341, 98351, 98423, 98424, 98429, 98430])}, {10001: array([ -6.28896758e-03,   7.38149867e+01]), 20002: array([  0.02752692, -19.37223216])}, {10001: [], 20002: [98334, 98337, 98338, 98344, 98345, 98346]}]\n",
      "1242\n",
      "[{1: array([  4.98831328e-03,   1.00053868e+02]), 2: array([  0.09495112, -54.88336405])}, {1: array([51113, 51114, 51119, 51120, 51121, 51122, 51123, 51124, 51129, 51130]), 2: array([51148, 51149, 51154, 51155, 51156, 51157, 51162, 51163])}, {10001: array([ -2.70554603e-04,   1.22967509e+01]), 20002: array([  3.41262515e-02,  -5.43017338e+01])}, {10001: [51118], 20002: []}]\n",
      "1243\n",
      "[{1: array([ -2.28538106e-02,  -2.92801760e+02]), 2: array([  1.07127753e-01,  -5.33018271e+02])}, {1: array([51180, 51181, 51187, 51188, 51189, 51190, 51191, 51196, 51197]), 2: array([51217, 51218, 51223, 51224, 51225, 51226, 51231, 51232])}, {10001: array([  5.35627817e-03,  -4.46606994e+01]), 20002: array([  1.31488454e-01,  -3.32833295e+02])}, {10001: [51182, 51183, 51184, 51185, 51192, 51194], 20002: [51222]}]\n",
      "1756\n",
      "[{1: array([  1.83510833e-03,   1.33842229e+01]), 2: array([ -8.24062012e-03,   4.30810749e+01])}, {1: array([73026, 73027, 73033, 73034, 73035, 73036, 73037, 73042, 73043]), 2: array([73061, 73062, 73071, 73077, 73078, 73079])}, {10001: array([  3.48148769e-03,   2.20268233e+01]), 20002: array([  1.11190002e-01,  -2.98026932e+02])}, {10001: [73028, 73029, 73030, 73031, 73032, 73040, 73041], 20002: []}]\n",
      "1761\n",
      "[{1: array([ 0.00426777,  4.04479179]), 2: array([ -0.04788556,  31.08956609])}, {1: array([73310, 73311, 73316, 73317, 73318, 73319, 73324, 73325]), 2: array([73344, 73345, 73350, 73351, 73352, 73353, 73358, 73359, 73360])}, {10001: array([ -8.70337220e-03,  -4.88355079e+01]), 20002: array([  3.79570528e-02,  -4.02104292e+01])}, {10001: [73312, 73313, 73314, 73315, 73320, 73321, 73322, 73323], 20002: []}]\n",
      "1251\n",
      "[{1: array([ -9.86743589e-03,  -5.99003801e+01]), 2: array([ -3.06610158e-04,  -8.01534789e+01])}, {1: array([51432, 51433, 51434, 51439, 51440, 51441, 51442, 51448, 51449]), 2: array([51396, 51397, 51402, 51403, 51404, 51405, 51406, 51411, 51412, 51413])}, {10001: array([  4.03766684e-03,   1.21114850e+02]), 20002: array([  3.20629567e-02,   6.54202616e+01])}, {10001: [51435, 51436, 51443, 51444, 51445, 51446, 51447], 20002: []}]\n",
      "2277\n",
      "[{1: array([  1.51789512e-03,   2.11050315e+01]), 2: array([ 0.01286882, -7.65786266])}, {1: array([99728, 99729, 99734, 99735, 99736, 99737, 99738, 99744, 99745]), 2: array([99677, 99685, 99686, 99687, 99692, 99693, 99734])}, {10001: array([  3.32277827e-03,  -1.13851503e+01]), 20002: array([ -1.18445512e-01,   2.94888814e+02])}, {10001: [99730, 99731, 99732, 99733, 99739, 99740, 99741, 99742, 99743], 20002: []}]\n",
      "1235\n",
      "[{1: array([  0.07208174, -65.69886094]), 2: array([ -8.55642128e-02,   1.80685171e+02])}, {1: array([50690, 50691, 50692, 50697, 50698, 50699, 50700, 50705, 50706]), 2: array([50724, 50725, 50726, 50731, 50732, 50735])}, {10001: array([ -8.42947329e-03,  -2.69691896e+01]), 20002: array([  2.51675822e-02,  -9.10581246e+01])}, {10001: [], 20002: [50729, 50730]}]\n",
      "1769\n",
      "[{1: array([  1.31460983e-02,   1.12605314e+02]), 2: array([  8.67562354e-03,   1.15452190e+02])}, {1: array([73538, 73539, 73540, 73545, 73546, 73547, 73548, 73549, 73550,\n",
      "       73556, 73557, 73558]), 2: array([73576, 73577, 73582, 73583, 73584, 73591])}, {10001: array([  1.38420113e-02,   4.72043206e+01]), 20002: array([ -4.55550722e-02,   1.47199573e+02])}, {10001: [73543, 73544, 73551, 73552, 73553, 73554, 73555], 20002: []}]\n",
      "978\n",
      "[{1: array([  7.99904010e-03,   6.92322292e+01]), 2: array([ -4.31745691e-04,   5.36383302e+01])}, {1: array([37698, 37699, 37704, 37705, 37706, 37707, 37708, 37715, 37716]), 2: array([37736, 37742, 37743, 37745, 37751, 37752, 37753])}, {10001: array([  2.38880444e-03,   3.07036630e+01]), 20002: array([  0.03981739, -22.67732953])}, {10001: [37700, 37701, 37702, 37703, 37709, 37710, 37711, 37712, 37713, 37714], 20002: []}]\n",
      "1262\n",
      "[{1: array([  7.77409204e-03,   2.10901691e+02]), 2: array([  3.50947390e-02,   1.59230930e+02])}, {1: array([51836, 51837, 51838, 51843, 51844, 51845, 51846, 51851, 51852, 51853]), 2: array([51871, 51872, 51873, 51878, 51879, 51880, 51881, 51886, 51887])}, {10001: array([ -3.37973192e-02,   7.94656983e+01]), 20002: array([  3.69590927e-02,  -6.09717815e+01])}, {10001: [], 20002: [51875]}]\n",
      "1265\n",
      "[{1: array([  1.82380661e-04,  -6.64842998e+01]), 2: array([ -3.78026237e-02,  -8.88183269e+01])}, {1: array([51927, 51928, 51929, 51935, 51936, 51937, 51938, 51939, 51940,\n",
      "       51946, 51947, 51948]), 2: array([51968, 51969, 51970, 51975, 51976, 51977, 51978, 51983, 51984])}, {10001: array([  2.96911523e-03,  -1.49537683e+01]), 20002: array([ -1.93653821e-02,  -3.37878901e+01])}, {10001: [51930, 51931, 51932, 51941, 51942, 51943], 20002: [51982]}]\n",
      "2290\n",
      "[{1: array([ -2.24324528e-02,  -9.23385157e+01]), 2: array([  4.50229699e-02,  -2.46645461e+02])}, {1: array([100170, 100171, 100176, 100177, 100178, 100179, 100180, 100186,\n",
      "       100187]), 2: array([100206, 100207, 100212, 100213, 100214, 100215, 100221, 100222])}, {10001: array([  1.50008307e-02,   1.05226335e+02]), 20002: array([ -4.84760494e-03,   1.52153762e+02])}, {10001: [], 20002: []}]\n",
      "215\n",
      "[{1: array([ -1.94661164e-02,  -1.38986369e+02]), 2: array([  2.07163821e-03,  -1.14015919e+02])}, {1: array([10703, 10704, 10710, 10711, 10712, 10713, 10714, 10720, 10721]), 2: array([10738, 10739, 10740, 10746, 10747, 10748, 10749, 10750, 10755,\n",
      "       10756, 10757])}, {10001: array([  2.10399533e-02,   1.18887577e+02]), 20002: array([ -1.82735492e-02,   9.83790423e+01])}, {10001: [10708, 10709], 20002: []}]\n",
      "94\n",
      "[{1: array([ -2.45145312e-02,  -2.92006202e+01]), 2: array([  2.93385095e-02,  -1.08445977e+02])}, {1: array([5366, 5367, 5373, 5374, 5375, 5376, 5377, 5382, 5383, 5384]), 2: array([5328, 5329, 5330, 5337, 5338, 5339, 5340, 5341, 5346, 5347])}, {10001: array([ -1.40323944e-03,  -1.68907900e+01]), 20002: array([ -2.12133509e-03,  -1.60757258e+01])}, {10001: [], 20002: []}]\n",
      "270\n",
      "[{1: array([ -2.42597911e-02,  -1.25308606e+02]), 2: array([  7.49038554e-02,  -2.46689597e+02])}, {1: array([12304, 12305, 12306, 12309, 12310, 12311, 12312, 12315, 12316, 12317]), 2: array([12323, 12324, 12325, 12331, 12332, 12333, 12334, 12339, 12340])}, {10001: array([  2.40853953e-02,   1.73714518e+02]), 20002: array([  9.25434334e-03,   1.95887549e+02])}, {10001: [12308], 20002: []}]\n",
      "1838\n",
      "[{1: array([ -1.53984867e-02,  -1.11692891e+02]), 2: array([  1.50335864e-02,  -1.87319972e+02])}, {1: array([79607, 79608, 79613, 79614, 79615, 79616, 79621, 79622]), 2: array([79572, 79573, 79578, 79579, 79580, 79581, 79586, 79587])}, {10001: array([ -2.63137270e-04,   2.67936936e+01]), 20002: array([  3.48745078e-02,  -6.09984011e+01])}, {10001: [79609, 79611, 79612, 79617, 79618, 79620], 20002: []}]\n",
      "292\n",
      "[{1: array([  5.44857400e-04,  -9.27164290e+01]), 2: array([ -5.30357576e-02,  -2.01295583e+02])}, {1: array([12617, 12618, 12623, 12624, 12625, 12626, 12631, 12632]), 2: array([12584, 12585, 12591, 12592, 12593, 12594, 12599, 12600])}, {10001: array([ -7.99197683e-03,  -8.77083049e+01]), 20002: array([ -1.42382935e-02,  -1.03746845e+02])}, {10001: [12619, 12620, 12621, 12622, 12629, 12630], 20002: []}]\n",
      "828\n",
      "[{1: array([ -3.57547612e-03,  -4.60110976e+01]), 2: array([ -2.61686152e-02,  -5.30699076e+01])}, {1: array([33040, 33041, 33047, 33048, 33049, 33050, 33055, 33056]), 2: array([33074, 33075, 33080, 33081, 33082, 33083, 33084, 33089, 33090, 33091])}, {10001: array([ -3.61001271e-03,  -2.49548517e+01]), 20002: array([  5.95283365e-03,  -3.28217912e+01])}, {10001: [33042, 33043, 33044, 33045, 33046, 33051, 33052], 20002: []}]\n",
      "735\n",
      "[{1: array([ -5.39873210e-03,  -8.60664437e+00]), 2: array([  0.02538279,  20.62193376])}, {1: array([30150, 30151, 30156, 30157, 30158, 30159, 30164, 30165, 30166]), 2: array([30117, 30118, 30123, 30124, 30125, 30126, 30132, 30133])}, {10001: array([ -1.13522496e-03,  -3.72245173e+01]), 20002: array([ -2.08203702e-02,  -4.70073039e+01])}, {10001: [30152, 30153, 30154, 30155, 30162, 30163], 20002: []}]\n",
      "1349\n",
      "[{1: array([ 0.00995653, -9.29323303]), 2: array([ -1.11603603e-02,   2.41437428e+01])}, {1: array([56946, 56947, 56952, 56953, 56954, 56955, 56956, 56957, 56962, 56963]), 2: array([56981, 56982, 56988, 56989, 56990, 56991, 56997, 56998])}, {10001: array([ -3.45013081e-02,  -4.21791591e+01]), 20002: array([  2.41282283e-02,  -1.17038785e+02])}, {10001: [56949, 56960], 20002: [56983, 56984, 56985, 56995, 56996]}]\n",
      "839\n",
      "[{1: array([ -1.35831798e-02,  -3.93113874e+01]), 2: array([  2.37314449e-02,  -4.64788390e+01])}, {1: array([33114, 33115, 33116, 33121, 33122, 33123, 33124, 33125, 33130]), 2: array([33149, 33150, 33156, 33157, 33158, 33159, 33166, 33167, 33168])}, {10001: array([  0.04670048,  27.82672342]), 20002: array([ -9.36866638e-02,   1.59984790e+02])}, {10001: [33119, 33120], 20002: [33155]}]\n",
      "1360\n",
      "[{1: array([  3.41757913e-03,   7.20693092e+00]), 2: array([ -2.02884467e-02,  -2.46272024e+01])}, {1: array([57457, 57458, 57463, 57464, 57465, 57466, 57467, 57472, 57473]), 2: array([57422, 57423, 57424, 57429, 57430, 57431, 57432, 57437, 57438])}, {10001: array([ -1.22622627e-02,  -6.84411169e+01]), 20002: array([  2.27117651e-02,  -4.27632547e+01])}, {10001: [57459, 57460, 57461, 57462, 57468, 57469, 57470, 57471], 20002: []}]\n",
      "2390\n",
      "[{1: array([ -3.52548832e-03,   7.92517041e+01]), 2: array([  9.12563032e-02,  -1.07531364e+02])}, {1: array([103209, 103210, 103215, 103216, 103217, 103218, 103223, 103224]), 2: array([103242, 103243, 103249, 103250, 103251, 103252, 103257, 103258,\n",
      "       103259])}, {10001: array([  1.39703914e-02,   2.40196955e+01]), 20002: array([ -6.71706176e-02,   1.70720532e+02])}, {10001: [103214, 103222], 20002: [103247, 103248, 103254]}]\n",
      "2105\n",
      "[{1: array([ -3.21083405e-03,  -7.70362186e+00]), 2: array([  1.49363791e-02,   4.17880700e+01])}, {1: array([90646, 90647, 90653, 90654, 90655, 90656, 90662, 90663, 90664]), 2: array([90610, 90611, 90616, 90617, 90618, 90619, 90625, 90626])}, {10001: array([ -2.07336584e-02,  -9.90026906e+01]), 20002: array([  0.03973948, -12.55680045])}, {10001: [90648, 90649, 90650, 90657, 90658, 90659, 90660, 90661], 20002: []}]\n",
      "1375\n",
      "[{1: array([ -4.40971228e-03,   2.55014471e+01]), 2: array([  0.03595351,  25.14869794])}, {1: array([58010, 58011, 58012, 58018, 58019, 58020, 58021, 58022, 58027, 58028]), 2: array([57974, 57975, 57980, 57981, 57982, 57983, 57988, 57989, 57990])}, {10001: array([  1.56116222e-02,   8.05099774e+01]), 20002: array([ -1.96377917e-02,   9.19375654e+01])}, {10001: [58013, 58014, 58015, 58023, 58024, 58025, 58026], 20002: [57979, 57987]}]\n",
      "1898\n",
      "[{1: array([ -1.38954098e-02,  -1.01013576e+02]), 2: array([  2.29078222e-03,  -9.13213334e+01])}, {1: array([81749, 81750, 81751, 81756, 81757, 81758, 81759, 81760, 81765, 81766]), 2: array([81710, 81711, 81712, 81717, 81718, 81719, 81720, 81721, 81727,\n",
      "       81728, 81729])}, {10001: array([  5.32651703e-03,   6.29428320e+01]), 20002: array([  3.59702962e-02,   6.97802894e+01])}, {10001: [81752, 81753, 81754, 81755, 81763, 81764], 20002: []}]\n",
      "957\n",
      "[{1: array([  2.73757832e-04,  -3.22430582e+00]), 2: array([ -2.15436179e-02,  -3.87793588e+01])}, {1: array([37034, 37035, 37040, 37041, 37042, 37043, 37048, 37049]), 2: array([37067, 37068, 37074, 37075, 37076, 37077, 37083, 37084])}, {10001: array([ -4.46886885e-03,  -3.38621548e+01]), 20002: array([  9.95665723e-03,  -3.22839332e+01])}, {10001: [37036, 37037, 37038, 37039, 37044, 37045, 37046, 37047], 20002: []}]\n",
      "883\n",
      "[{1: array([  1.36465461e-02,  -2.27411154e+01]), 2: array([ -4.40168066e-02,   9.09804049e+01])}, {1: array([34813, 34814, 34819, 34820, 34821, 34822, 34827, 34828]), 2: array([34845, 34846, 34852, 34853, 34854, 34855, 34861, 34862])}, {10001: array([ -1.81092181e-02,  -1.07425344e+02]), 20002: array([ -6.35025120e-04,  -1.42342154e+02])}, {10001: [34815, 34816, 34824, 34826], 20002: [34847, 34848, 34849, 34850, 34851, 34857, 34858]}]\n",
      "2007\n",
      "[{1: array([ -3.25760823e-03,   3.99954615e+01]), 2: array([  0.05710453, -14.12902721])}, {1: array([85330, 85331, 85336, 85337, 85338, 85339, 85344, 85345, 85346]), 2: array([85364, 85365, 85370, 85371, 85372, 85373, 85374, 85379, 85380])}, {10001: array([  1.78754477e-02,   1.50132510e+02]), 20002: array([  8.98481226e-03,   1.61667865e+02])}, {10001: [85334, 85335, 85343], 20002: []}]\n",
      "1598\n",
      "[{1: array([ 0.00864569,  4.69083544]), 2: array([ -0.10302064,  10.96050124])}, {1: array([66912, 66913, 66918, 66919, 66920, 66921, 66922, 66927, 66928, 66929]), 2: array([66947, 66948, 66949, 66955, 66956, 66957, 66958, 66963, 66964])}, {10001: array([ -1.08740714e-02,  -8.73147370e+01]), 20002: array([  1.03019825e-02,  -5.24650216e+01])}, {10001: [66914, 66915, 66916, 66917, 66923, 66924], 20002: [66952]}]\n",
      "806\n",
      "[{1: array([ -1.47697565e-03,  -8.46319313e+01]), 2: array([ -0.06898922,  60.31937821])}, {1: array([32185, 32186, 32187, 32193, 32194, 32195, 32196, 32197, 32202, 32203]), 2: array([32147, 32148, 32149, 32155, 32156, 32157, 32158, 32159, 32164, 32165])}, {10001: array([ -2.59418000e-03,  -3.55041810e+01]), 20002: array([  1.90347311e-02,  -7.90208078e+01])}, {10001: [32188, 32189, 32190, 32191, 32192, 32200, 32201], 20002: []}]\n",
      "2446\n",
      "[{1: array([  2.76380599e-02,   1.22839210e+02]), 2: array([ -2.09753838e-02,   4.62144010e+01])}, {1: array([104987, 104988, 104993, 104994, 104995, 104996, 104997, 105002,\n",
      "       105003, 105004]), 2: array([105023, 105024, 105029, 105030, 105031, 105032, 105038, 105039,\n",
      "       105040])}, {10001: array([ -2.16076288e-02,  -1.28832999e+02]), 20002: array([  5.17573105e-03,  -7.77829295e+01])}, {10001: [105000, 105001], 20002: [105025, 105027, 105028, 105035, 105036]}]\n",
      "1423\n",
      "[{1: array([  8.03490846e-03,  -4.55868240e+01]), 2: array([ -6.93518381e-02,   7.52884899e+01])}, {1: array([59094, 59095, 59100, 59101, 59102, 59103, 59109, 59110]), 2: array([59129, 59130, 59135, 59136, 59137, 59138, 59143, 59144])}, {10001: array([  3.14531630e-03,  -5.67718607e+01]), 20002: array([ -0.05167067,  24.29556738])}, {10001: [59097], 20002: [59141]}]\n",
      "1427\n",
      "[{1: array([  2.61808742e-02,   1.19459814e+02]), 2: array([ -1.62741286e-02,   1.67615757e+02])}, {1: array([59200, 59201, 59206, 59207, 59208, 59209, 59210, 59216, 59217]), 2: array([59164, 59165, 59170, 59171, 59172, 59173, 59179, 59180, 59181])}, {10001: array([  1.50425321e-02,  -5.59336922e+01]), 20002: array([ -0.05355182,  36.52734872])}, {10001: [], 20002: []}]\n",
      "916\n",
      "[{1: array([ -2.00759955e-04,   6.43155218e+01]), 2: array([  2.87536301e-02,   6.91778776e+01])}, {1: array([35845, 35846, 35847, 35852, 35853, 35854, 35855, 35856, 35857,\n",
      "       35862, 35863, 35864]), 2: array([35760, 35761, 35767, 35768, 35769, 35770, 35771, 35777, 35778, 35779])}, {10001: array([ -3.42543602e-02,  -1.01275920e+02]), 20002: array([  0.06155028,  23.85777918])}, {10001: [], 20002: [35762, 35763, 35765, 35775]}]\n",
      "2203\n",
      "[{1: array([-0.00494497, -4.15995614]), 2: array([  2.29056335e-02,  -2.64459165e+01])}, {1: array([94303, 94304, 94309, 94310, 94311, 94312, 94318, 94319, 94320]), 2: array([94268, 94269, 94274, 94275, 94276, 94277, 94278, 94283, 94284])}, {10001: array([ -1.76399668e-04,  -3.10931681e+01]), 20002: array([ -0.02110284, -20.56003886])}, {10001: [94306, 94307, 94308, 94315, 94316, 94317], 20002: []}]\n",
      "2145\n",
      "[{1: array([ -2.19156895e-02,  -1.03778206e+02]), 2: array([  3.89846579e-03,  -8.96429883e+01])}, {1: array([92661, 92662, 92668, 92669, 92670, 92671, 92672, 92678, 92679, 92680]), 2: array([92701, 92702, 92707, 92708, 92709, 92710, 92711, 92717, 92718])}, {10001: array([  1.96532764e-02,   3.06663371e+01]), 20002: array([ -1.75442581e-02,   2.94814888e+01])}, {10001: [], 20002: [92705, 92706, 92714, 92715]}]\n",
      "426\n",
      "[{1: array([ -1.20286636e-02,  -3.25832285e+01]), 2: array([  2.85919448e-02,   5.34224108e+01])}, {1: array([16871, 16872, 16877, 16878, 16879, 16880, 16885, 16886, 16887]), 2: array([16845, 16846, 16852, 16853, 16854, 16855, 16860, 16861])}, {10001: array([  7.93861512e-03,   1.07711168e+02]), 20002: array([  2.88827366e-02,   1.46324373e+02])}, {10001: [16873, 16874, 16881, 16882], 20002: [16859]}]\n",
      "2488\n",
      "[{1: array([  8.25807978e-03,   2.34497714e+02]), 2: array([  5.92352007e-02,   1.50222598e+02])}, {1: array([106068, 106069, 106076, 106077, 106078, 106079, 106080, 106085,\n",
      "       106086]), 2: array([106105, 106106, 106107, 106112, 106113, 106114, 106115, 106121,\n",
      "       106122])}, {10001: array([  1.18985619e-03,   1.15212624e+02]), 20002: array([  3.72190600e-02,   5.19342999e+01])}, {10001: [106082], 20002: [106108, 106110, 106111, 106116, 106117]}]\n",
      "953\n",
      "[{1: array([ -3.98220313e-02,  -1.86626887e+02]), 2: array([  2.62896657e-02,  -3.46547840e+02])}, {1: array([36957, 36958, 36959, 36964, 36965, 36966, 36967, 36968, 36974, 36975]), 2: array([36995, 36996, 37003, 37004, 37005, 37006, 37012, 37013])}, {10001: array([ -1.93760688e-03,   5.39682419e+01]), 20002: array([  0.02910019, -21.72452031])}, {10001: [36969, 36970, 36971], 20002: []}]\n",
      "1901\n",
      "[{1: array([  3.52870570e-02,   2.04226825e+02]), 2: array([ -6.36607876e-03,   1.93427058e+02])}, {1: array([81897, 81898, 81904, 81905, 81906, 81907, 81912, 81913, 81914]), 2: array([81862, 81863, 81868, 81869, 81870, 81871, 81876, 81877, 81878])}, {10001: array([ -1.39629236e-02,  -5.09366782e+01]), 20002: array([  1.63558719e-02,  -2.60172256e+01])}, {10001: [81899, 81900, 81901, 81902, 81903, 81908, 81909], 20002: []}]\n",
      "1440\n",
      "[{1: array([  2.08684743e-02,   4.64290664e+01]), 2: array([ -2.33874157e-02,   6.77770433e+01])}, {1: array([59579, 59580, 59586, 59587, 59588, 59589, 59594, 59595, 59596]), 2: array([59543, 59544, 59545, 59550, 59551, 59552])}, {10001: array([  3.30952371e-02,   8.88351148e+01]), 20002: array([ -1.94900872e-02,   6.20029969e+01])}, {10001: [59581, 59582, 59583, 59590, 59591, 59592], 20002: [59547]}]\n",
      "407\n",
      "[{1: array([  1.09956919e-02,   6.96901757e+01]), 2: array([ -7.75138796e-04,   8.68955629e+01])}, {1: array([16202, 16203, 16204, 16209, 16210, 16211, 16212, 16213, 16218, 16219]), 2: array([16169, 16170, 16171, 16176, 16177, 16178, 16179, 16184, 16185])}, {10001: array([ -1.82108811e-02,  -6.05064508e+01]), 20002: array([  2.27017463e-02,  -1.31820172e+02])}, {10001: [16205, 16206, 16215, 16216, 16217], 20002: []}]\n",
      "2295\n",
      "[{1: array([  1.80343001e-02,   1.45225107e+02]), 2: array([ -1.82677659e-03,   1.91648627e+02])}, {1: array([100374, 100375, 100376, 100382, 100383, 100384, 100385, 100390,\n",
      "       100391]), 2: array([100408, 100409, 100414, 100415, 100416, 100417, 100423, 100424,\n",
      "       100425])}, {10001: array([ -3.52702446e-03,   1.76805796e+01]), 20002: array([  5.39323447e-02,  -1.19987811e+02])}, {10001: [100377, 100378, 100379, 100380, 100381, 100388, 100389], 20002: [100413]}]\n",
      "2467\n",
      "[{1: array([  1.19248376e-02,   2.21780145e+02]), 2: array([  6.55552561e-02,   1.25956417e+02])}, {1: array([105530, 105531, 105532, 105537, 105538, 105539, 105540, 105545,\n",
      "       105546]), 2: array([105494, 105495, 105496, 105501, 105502, 105503, 105504, 105509,\n",
      "       105510])}, {10001: array([ -1.30626666e-02,  -3.71138346e+01]), 20002: array([  2.61696953e-02,  -1.06181415e+02])}, {10001: [105534, 105536, 105544], 20002: []}]\n",
      "2405\n",
      "[{1: array([ -2.13130035e-02,  -5.95070896e+01]), 2: array([  5.84022634e-02,  -2.20380381e+02])}, {1: array([103672, 103673, 103678, 103679, 103680, 103681, 103686, 103687]), 2: array([103708, 103709, 103710, 103716, 103717, 103718, 103719, 103725,\n",
      "       103726])}, {10001: array([  2.97215755e-03,   9.64987662e+01]), 20002: array([ 0.04642059,  9.1115591 ])}, {10001: [103675, 103677, 103684], 20002: [103714, 103722]}]\n",
      "1008\n",
      "[{1: array([ -2.07587634e-02,  -7.67998823e+01]), 2: array([  2.53612815e-02,  -1.78346530e+02])}, {1: array([38496, 38497, 38502, 38503, 38504, 38505, 38511, 38512]), 2: array([38530, 38531, 38537, 38538, 38539, 38540, 38541, 38546, 38547])}, {10001: array([ -7.34406190e-03,  -3.68449436e+01]), 20002: array([  4.95800716e-03,  -6.32364588e+01])}, {10001: [38499, 38506, 38507], 20002: [38533, 38534, 38536, 38545]}]\n",
      "2040\n",
      "[{1: array([ -0.04747646,  42.75903493]), 2: array([ -0.04852683,  45.64279441])}, {1: array([86865]), 2: array([86859, 86860, 86866, 86867, 86868, 86869, 86874, 86875])}, {10001: array([ -2.81619178e-03,  -1.60126462e+02]), 20002: array([ -1.16625264e-02,  -1.35413137e+02])}, {10001: [], 20002: []}]\n",
      "1279\n",
      "[{1: array([ -1.57035460e-02,  -7.59419095e+01]), 2: array([  3.72579478e-02,   3.78515042e+01])}, {1: array([52562, 52563, 52568, 52569, 52570, 52571, 52572, 52577, 52578]), 2: array([52595, 52596, 52602, 52603, 52604, 52605, 52606, 52611, 52612])}, {10001: array([  1.65403923e-02,   8.23401781e+01]), 20002: array([ -0.0327525 ,  11.17338398])}, {10001: [52564, 52565, 52566, 52573], 20002: [52597]}]\n",
      "2046\n",
      "[{1: array([-0.00379275, -0.22059107]), 2: array([  0.03901722, -36.65775183])}, {1: array([88837, 88838, 88844, 88845, 88846, 88847, 88848, 88853, 88854]), 2: array([88872, 88873, 88878, 88879, 88880, 88881, 88886, 88887, 88888])}, {10001: array([  2.98432786e-03,  -3.21100516e+01]), 20002: array([ -0.06224326,  53.43644274])}, {10001: [88839, 88840, 88841, 88842, 88843, 88849, 88850], 20002: [88883, 88884]}]\n"
     ]
    }
   ],
   "source": [
    "reco_events34_new = {}\n",
    "reco_events12_new = {}\n",
    "reconstructible_events_new = {}\n",
    "\n",
    "for i in reco_events34.keys():\n",
    "    \n",
    "    event = reco_events34[i]\n",
    "    \n",
    "    flag = 0\n",
    "    \n",
    "    for val in event[0].values():\n",
    "        \n",
    "        if len(val) == 0:\n",
    "            flag = 1\n",
    "            \n",
    "    for val in event[1].values():\n",
    "        \n",
    "        if len(val) == 0:\n",
    "            flag = 1\n",
    "            \n",
    "    for val in event[2].values():\n",
    "        \n",
    "        if len(val) == 0:\n",
    "            flag = 1\n",
    "            \n",
    "    for val in event[3].values():\n",
    "        \n",
    "        if len(val) == 0:\n",
    "            flag = 1\n",
    "            \n",
    "    event = reco_events12[i]\n",
    "    \n",
    "    for val in event[0].values():\n",
    "        \n",
    "        if len(val) == 0:\n",
    "            flag = 1\n",
    "            \n",
    "    for val in event[1].values():\n",
    "        \n",
    "        if len(val) == 0:\n",
    "            flag = 1\n",
    "            \n",
    "    for val in event[2].values():\n",
    "        \n",
    "        if len(val) == 0:\n",
    "            flag = 1\n",
    "            \n",
    "    for val in event[3].values():\n",
    "        \n",
    "        if len(val) == 0:\n",
    "            flag = 1\n",
    "        \n",
    "    \n",
    "    if flag == 1:\n",
    "        print i\n",
    "        print event\n",
    "    else:\n",
    "        reco_events34_new[i] = reco_events34[i]\n",
    "        reco_events12_new[i] = reco_events12[i]\n",
    "        reconstructible_events_new[i] = reconstructible_events[i]"
   ]
  },
  {
   "cell_type": "code",
   "execution_count": 28,
   "metadata": {
    "collapsed": true
   },
   "outputs": [],
   "source": [
    "file_pickle = open('./Data/reco_events34_model_1.pkl', 'wb')\n",
    "pickle.dump(reco_events34, file_pickle)\n",
    "file_pickle.close()\n",
    "\n",
    "file_pickle = open('./Data/reco_events34_model_1.pkl', 'rb')\n",
    "reco_events34_pkl = pickle.load(file_pickle)\n",
    "file_pickle.close()\n",
    "\n",
    "reco_events34 = reco_events34_pkl"
   ]
  },
  {
   "cell_type": "markdown",
   "metadata": {},
   "source": [
    "# Combination tracks"
   ]
  },
  {
   "cell_type": "markdown",
   "metadata": {},
   "source": [
    "### Data Preparation"
   ]
  },
  {
   "cell_type": "code",
   "execution_count": 29,
   "metadata": {
    "collapsed": false
   },
   "outputs": [],
   "source": [
    "from MatchTracks import get_dx_dy, get_true_label, get_matching_data, get_new_matched_tracks, get_true_match\n",
    "\n",
    "data = get_matching_data(reco_events12_new, reco_events34_new, all_hits)\n",
    "\n",
    "\n",
    "data['dk_xz'] = data['k_xz_34'].values - data['k_xz_12'].values\n",
    "data['db_xz'] = data['b_xz_34'].values - data['b_xz_12'].values\n",
    "data['dk_yz'] = data['k_yz_34'].values - data['k_yz_12'].values\n",
    "data['db_yz'] = data['b_yz_34'].values - data['b_yz_12'].values\n",
    "\n",
    "\n",
    "X_data = data[[u'dx', u'dy', \n",
    "          u'k_xz_12', u'b_xz_12', \n",
    "          u'k_yz_12',u'b_yz_12', \n",
    "          u'k_xz_34', u'b_xz_34', \n",
    "          u'k_yz_34', u'b_yz_34', \n",
    "          'dk_xz', 'db_xz', \n",
    "          'dk_yz', 'db_yz']].values\n",
    "y_data = data[['label']].values.reshape(-1)"
   ]
  },
  {
   "cell_type": "markdown",
   "metadata": {},
   "source": [
    "### Train Classifier"
   ]
  },
  {
   "cell_type": "code",
   "execution_count": 30,
   "metadata": {
    "collapsed": false
   },
   "outputs": [
    {
     "name": "stdout",
     "output_type": "stream",
     "text": [
      "CPU times: user 17.2 s, sys: 11.7 s, total: 28.9 s\n",
      "Wall time: 19 s\n"
     ]
    },
    {
     "data": {
      "text/plain": [
       "FoldingClassifier(base_estimator=XGBoostClassifier(base_score=0.5, colsample=0.7, eta=0.01, features=None,\n",
       "         gamma=None, max_depth=8, min_child_weight=1.0, missing=-999.0,\n",
       "         n_estimators=1000, nthreads=3, num_feature=None, random_state=0,\n",
       "         scale_pos_weight=1.0, subsample=0.5, verbose=0),\n",
       "         features=['Feature_0', 'Feature_1', 'Feature_2', 'Feature_3', 'Feature_4', 'Feature_5', 'Feature_6', 'Feature_7', 'Feature_8', 'Feature_9', 'Feature_10', 'Feature_11', 'Feature_12', 'Feature_13'],\n",
       "         n_folds=10, parallel_profile=None, random_state=11)"
      ]
     },
     "execution_count": 30,
     "metadata": {},
     "output_type": "execute_result"
    }
   ],
   "source": [
    "from rep.metaml import FoldingClassifier\n",
    "from rep.estimators import XGBoostClassifier\n",
    "\n",
    "\n",
    "from rep.estimators import XGBoostClassifier\n",
    "xgb_base = XGBoostClassifier(n_estimators=1000, colsample=0.7, eta=0.01, nthreads=3, \n",
    "                             subsample=0.5, max_depth=8)\n",
    "folding = FoldingClassifier(xgb_base, n_folds=10, random_state=11)\n",
    "%time folding.fit(X_data, y_data)"
   ]
  },
  {
   "cell_type": "markdown",
   "metadata": {},
   "source": [
    "### Prediction and Quality"
   ]
  },
  {
   "cell_type": "code",
   "execution_count": 31,
   "metadata": {
    "collapsed": false
   },
   "outputs": [
    {
     "name": "stdout",
     "output_type": "stream",
     "text": [
      "KFold prediction using folds column\n",
      "KFold prediction using folds column\n",
      "0.999806590654\n"
     ]
    },
    {
     "data": {
      "image/png": "[encoded data removed]",
      "text/plain": [
       "<matplotlib.figure.Figure at 0x10c515490>"
      ]
     },
     "metadata": {},
     "output_type": "display_data"
    }
   ],
   "source": [
    "y_proba = folding.predict_proba(X_data)[:, 1]\n",
    "y_predict = folding.predict(X_data)\n",
    "\n",
    "from sklearn.metrics import roc_auc_score\n",
    "print roc_auc_score(y_data, y_proba)\n",
    "\n",
    "plt.hist(y_proba[y_data==1], label='1', color='b', bins=20, alpha=0.5)\n",
    "plt.hist(y_proba[y_data==0], label='0', color='r', bins=20, alpha=0.5)\n",
    "plt.ylim(0,10)\n",
    "plt.show()"
   ]
  },
  {
   "cell_type": "markdown",
   "metadata": {},
   "source": [
    "### Tracks Combination"
   ]
  },
  {
   "cell_type": "code",
   "execution_count": 32,
   "metadata": {
    "collapsed": true
   },
   "outputs": [],
   "source": [
    "match_tracks = {}\n",
    "for event_id in reco_events12_new.keys():\n",
    "    \n",
    "    ids = data[data.EventID.values == event_id][['track_id_12', 'track_id_34']].values\n",
    "    probas = y_proba[data.EventID.values == event_id]\n",
    "    \n",
    "    match_tracks[event_id] = ids[probas.argsort()[::-1], :][:2, :]\n",
    "    #match_tracks[event_id] = ids[probas > 0.5, :]\n",
    "    if len(match_tracks[event_id]) < 2:\n",
    "        print event_id"
   ]
  },
  {
   "cell_type": "code",
   "execution_count": 33,
   "metadata": {
    "collapsed": false
   },
   "outputs": [],
   "source": [
    "charge_dict, pinv_dict, dist_y, dist_x = get_new_matched_tracks(reco_events12_new, reco_events34_new, match_tracks)\n",
    "\n",
    "true_charge_dict, true_pdg_dict, true_pinv_dict = get_true_match(reco_events12_new, reco_events34_new, match_tracks, all_hits)"
   ]
  },
  {
   "cell_type": "markdown",
   "metadata": {},
   "source": [
    "# Efficiency"
   ]
  },
  {
   "cell_type": "markdown",
   "metadata": {},
   "source": [
    "### Stations 1&2"
   ]
  },
  {
   "cell_type": "code",
   "execution_count": 34,
   "metadata": {
    "collapsed": false
   },
   "outputs": [],
   "source": [
    "from efficiency import efficiency_per_track\n",
    "\n",
    "event_id = numpy.array(reco_events12_new.keys())\n",
    "eff_y, eff_stereo, eff_station = efficiency_per_track(event_id, \n",
    "                                            all_hits, \n",
    "                                            reco_events12_new)"
   ]
  },
  {
   "cell_type": "code",
   "execution_count": 35,
   "metadata": {
    "collapsed": false
   },
   "outputs": [
    {
     "data": {
      "image/png": "[encoded data removed]",
      "text/plain": [
       "<matplotlib.figure.Figure at 0x111ee7810>"
      ]
     },
     "metadata": {},
     "output_type": "display_data"
    }
   ],
   "source": [
    "plt.figure(figsize=(15, 3))\n",
    "\n",
    "plt.subplot(1,3,1)\n",
    "plt.title('Mean = % f' % numpy.array(eff_y).mean())\n",
    "plt.hist(eff_y, label='y')\n",
    "plt.xlabel('efficiency')\n",
    "plt.xlim(0, 1.1)\n",
    "plt.legend(loc='best')\n",
    "\n",
    "plt.subplot(1,3,2)\n",
    "plt.title('Mean = % f' % numpy.array(eff_stereo).mean())\n",
    "plt.hist(eff_stereo, label='stereo')\n",
    "plt.xlabel('efficiency')\n",
    "plt.xlim(0, 1.1)\n",
    "plt.legend(loc='best')\n",
    "\n",
    "plt.subplot(1,3,3)\n",
    "plt.title('Mean = % f' % numpy.array(eff_station).mean())\n",
    "plt.hist(eff_station, label='station 1&2')\n",
    "plt.xlabel('efficiency')\n",
    "plt.xlim(0, 1.1)\n",
    "plt.legend(loc='best')\n",
    "\n",
    "plt.show()"
   ]
  },
  {
   "cell_type": "markdown",
   "metadata": {},
   "source": [
    "### Stations 3&4"
   ]
  },
  {
   "cell_type": "code",
   "execution_count": 36,
   "metadata": {
    "collapsed": true
   },
   "outputs": [],
   "source": [
    "from efficiency import efficiency_per_track\n",
    "\n",
    "eff_y, eff_stereo, eff_station = efficiency_per_track(reco_events34_new.keys(), \n",
    "                                            all_hits, \n",
    "                                            reco_events34_new)"
   ]
  },
  {
   "cell_type": "code",
   "execution_count": 37,
   "metadata": {
    "collapsed": false
   },
   "outputs": [
    {
     "data": {
      "image/png": "[encoded data removed]",
      "text/plain": [
       "<matplotlib.figure.Figure at 0x10c45a850>"
      ]
     },
     "metadata": {},
     "output_type": "display_data"
    }
   ],
   "source": [
    "plt.figure(figsize=(15, 3))\n",
    "\n",
    "plt.subplot(1,3,1)\n",
    "plt.title('Mean = % f' % numpy.array(eff_y).mean())\n",
    "plt.hist(eff_y, label='y')\n",
    "plt.xlabel('efficiency')\n",
    "plt.xlim(0, 1.1)\n",
    "plt.legend(loc='best')\n",
    "\n",
    "plt.subplot(1,3,2)\n",
    "plt.title('Mean = % f' % numpy.array(eff_stereo).mean())\n",
    "plt.hist(eff_stereo, label='stereo')\n",
    "plt.xlabel('efficiency')\n",
    "plt.xlim(0, 1.1)\n",
    "plt.legend(loc='best')\n",
    "\n",
    "plt.subplot(1,3,3)\n",
    "plt.title('Mean = % f' % numpy.array(eff_station).mean())\n",
    "plt.hist(eff_station, label='station 1&2')\n",
    "plt.xlabel('efficiency')\n",
    "plt.xlim(0, 1.1)\n",
    "plt.legend(loc='best')\n",
    "\n",
    "plt.show()"
   ]
  },
  {
   "cell_type": "markdown",
   "metadata": {},
   "source": [
    "# Efficiency per event"
   ]
  },
  {
   "cell_type": "code",
   "execution_count": 38,
   "metadata": {
    "collapsed": false
   },
   "outputs": [
    {
     "name": "stdout",
     "output_type": "stream",
     "text": [
      "Total efficiency per event is  96.1373390558  %\n"
     ]
    },
    {
     "data": {
      "image/png": "[encoded data removed]",
      "text/plain": [
       "<matplotlib.figure.Figure at 0x10c3c7a50>"
      ]
     },
     "metadata": {},
     "output_type": "display_data"
    }
   ],
   "source": [
    "from efficiency import efficiency_per_event, view_check_reco_event\n",
    "\n",
    "n_events, missed_events = efficiency_per_event(reconstructible_events_new, \n",
    "                                               reco_events12_new, \n",
    "                                               reco_events34_new, \n",
    "                                               match_tracks, \n",
    "                                               true_pdg_dict, \n",
    "                                               all_hits)\n",
    "\n",
    "n_events = numpy.array(n_events)\n",
    "\n",
    "labels = ['Reconstructible tracks', \n",
    "          'Y view station 1&2', \n",
    "          'Stereo station 1&2', \n",
    "          'Station 1&2',\n",
    "          'Y view station 3&4', \n",
    "          'Stereo station 3&4',\n",
    "          'Station 3&4',\n",
    "          'Combined stations 1&2/3&4',\n",
    "          'Matched']\n",
    "\n",
    "print 'Total efficiency per event is ', 1. * n_events[-1] / n_events[0] * 100., ' %'\n",
    "\n",
    "x = range(len(labels))\n",
    "#plt.figure(figsize=(15,5))\n",
    "plt.bar(x, n_events, width=1., color='gold', align='center')\n",
    "plt.xticks(x, labels, rotation=90, size=15)\n",
    "plt.xlim(-0.5, 8.5)\n",
    "plt.ylim(n_events.min(), n_events.max() + 1)\n",
    "plt.show()"
   ]
  },
  {
   "cell_type": "code",
   "execution_count": 39,
   "metadata": {
    "collapsed": false
   },
   "outputs": [
    {
     "name": "stdout",
     "output_type": "stream",
     "text": [
      "[ 233.  233.  228.  228.  227.  224.  224.  224.  224.]\n",
      "[1204, 2305, 381, 1793, 102, 1528, 27, 692, 2470]\n"
     ]
    }
   ],
   "source": [
    "print n_events\n",
    "print missed_events"
   ]
  },
  {
   "cell_type": "markdown",
   "metadata": {},
   "source": [
    "# Momentum"
   ]
  },
  {
   "cell_type": "code",
   "execution_count": 40,
   "metadata": {
    "collapsed": false
   },
   "outputs": [
    {
     "name": "stdout",
     "output_type": "stream",
     "text": [
      "y = b + kx\n",
      "k, b =  1.03448975494 8.2672579236e-05\n",
      "Cov matrix is \n",
      "[[  1.50743013e-05  -1.42881211e-07]\n",
      " [ -1.42881211e-07   1.47722001e-07]]\n"
     ]
    },
    {
     "data": {
      "image/png": "[encoded data removed]",
      "text/plain": [
       "<matplotlib.figure.Figure at 0x10e78f550>"
      ]
     },
     "metadata": {},
     "output_type": "display_data"
    }
   ],
   "source": [
    "from MatchTracks import get_pinv_true_pinv\n",
    "        \n",
    "pinv, true_pinv = get_pinv_true_pinv(pinv_dict, true_pinv_dict, true_charge_dict)\n",
    "pinv = pinv.reshape(-1)\n",
    "        \n",
    "\n",
    "[k, b], cov = numpy.polyfit(true_pinv, pinv, 1, cov=True)\n",
    "print 'y = b + kx'\n",
    "print 'k, b = ', k, b\n",
    "print 'Cov matrix is '\n",
    "print cov\n",
    "\n",
    "plt.figure(figsize=(7, 5))\n",
    "plt.title('1/p vs 1/p-true', size=15)\n",
    "plt.scatter(true_pinv, pinv)\n",
    "x = numpy.array([-0.3, 0.3])\n",
    "plt.plot(x, k * x + b, color='r', linewidth=2, label='%.4f + ' % b + '%.4fx' % k)\n",
    "plt.legend(loc='best')\n",
    "plt.ylabel('1/p', size=15)\n",
    "plt.xlabel('1/p-true', size=15)\n",
    "plt.xlim(-0.3, 0.3)\n",
    "plt.ylim(-0.3, 0.3)\n",
    "plt.xticks(size=15)\n",
    "plt.yticks(size=15)\n",
    "plt.show()"
   ]
  },
  {
   "cell_type": "code",
   "execution_count": 41,
   "metadata": {
    "collapsed": false
   },
   "outputs": [
    {
     "data": {
      "image/png": "[encoded data removed]",
      "text/plain": [
       "<matplotlib.figure.Figure at 0x10e7670d0>"
      ]
     },
     "metadata": {},
     "output_type": "display_data"
    }
   ],
   "source": [
    "plt.scatter(true_pinv, pinv)\n",
    "plt.show()"
   ]
  },
  {
   "cell_type": "code",
   "execution_count": 42,
   "metadata": {
    "collapsed": false
   },
   "outputs": [
    {
     "data": {
      "image/png": "[encoded data removed]",
      "text/plain": [
       "<matplotlib.figure.Figure at 0x10e78fb50>"
      ]
     },
     "metadata": {},
     "output_type": "display_data"
    }
   ],
   "source": [
    "metric = true_pinv/pinv - 1\n",
    "\n",
    "plt.figure(figsize=(7, 5))\n",
    "plt.hist(metric[numpy.abs(metric) <= 0.5], bins=50)\n",
    "\n",
    "plt.title('(p - p-true)/p_true', size=15)\n",
    "plt.xticks(numpy.arange(-0.5, 0.51, 0.1), size=12)\n",
    "plt.yticks(size=12)\n",
    "plt.xlim(-0.5, 0.5)\n",
    "plt.show()"
   ]
  },
  {
   "cell_type": "code",
   "execution_count": null,
   "metadata": {
    "collapsed": true
   },
   "outputs": [],
   "source": []
  },
  {
   "cell_type": "code",
   "execution_count": null,
   "metadata": {
    "collapsed": true
   },
   "outputs": [],
   "source": []
  }
 ],
 "metadata": {
  "kernelspec": {
   "display_name": "Python 2",
   "language": "python",
   "name": "python2"
  },
  "language_info": {
   "codemirror_mode": {
    "name": "ipython",
    "version": 2
   },
   "file_extension": ".py",
   "mimetype": "text/x-python",
   "name": "python",
   "nbconvert_exporter": "python",
   "pygments_lexer": "ipython2",
   "version": "2.7.11"
  }
 },
 "nbformat": 4,
 "nbformat_minor": 0
}
