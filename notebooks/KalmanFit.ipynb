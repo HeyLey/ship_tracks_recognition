{
 "cells": [
  {
   "cell_type": "code",
   "execution_count": 1,
   "metadata": {
    "collapsed": true
   },
   "outputs": [],
   "source": [
    "%matplotlib inline\n",
    "import numpy\n",
    "import pandas\n",
    "import matplotlib.pyplot as plt"
   ]
  },
  {
   "cell_type": "code",
   "execution_count": 2,
   "metadata": {
    "collapsed": true
   },
   "outputs": [],
   "source": [
    "import os, sys\n",
    "sys.path.append('../functions')"
   ]
  },
  {
   "cell_type": "markdown",
   "metadata": {},
   "source": [
    "# Read Data"
   ]
  },
  {
   "cell_type": "code",
   "execution_count": 3,
   "metadata": {
    "collapsed": false
   },
   "outputs": [
    {
     "data": {
      "text/html": [
       "<div>\n",
       "<table border=\"1\" class=\"dataframe\">\n",
       "  <thead>\n",
       "    <tr style=\"text-align: right;\">\n",
       "      <th></th>\n",
       "      <th>EventID</th>\n",
       "      <th>TrackID</th>\n",
       "      <th>PdgCode</th>\n",
       "      <th>DetectorID</th>\n",
       "      <th>StatNb</th>\n",
       "      <th>ViewNb</th>\n",
       "      <th>PlaneNb</th>\n",
       "      <th>LayerNb</th>\n",
       "      <th>StrawNb</th>\n",
       "      <th>Px</th>\n",
       "      <th>...</th>\n",
       "      <th>Wx2</th>\n",
       "      <th>Wy1</th>\n",
       "      <th>Wy2</th>\n",
       "      <th>Wz</th>\n",
       "      <th>Wz1</th>\n",
       "      <th>Wz2</th>\n",
       "      <th>Label</th>\n",
       "      <th>Time</th>\n",
       "      <th>ELoss</th>\n",
       "      <th>IsStereo</th>\n",
       "    </tr>\n",
       "  </thead>\n",
       "  <tbody>\n",
       "    <tr>\n",
       "      <th>79</th>\n",
       "      <td>2</td>\n",
       "      <td>2</td>\n",
       "      <td>-211</td>\n",
       "      <td>10002284</td>\n",
       "      <td>1</td>\n",
       "      <td>0</td>\n",
       "      <td>0</td>\n",
       "      <td>0</td>\n",
       "      <td>284</td>\n",
       "      <td>0.866347</td>\n",
       "      <td>...</td>\n",
       "      <td>250.000000</td>\n",
       "      <td>0.868600</td>\n",
       "      <td>0.868600</td>\n",
       "      <td>2581.1500</td>\n",
       "      <td>2581.1500</td>\n",
       "      <td>2581.1500</td>\n",
       "      <td>0</td>\n",
       "      <td>383.880371</td>\n",
       "      <td>5.310523e-06</td>\n",
       "      <td>0</td>\n",
       "    </tr>\n",
       "    <tr>\n",
       "      <th>111</th>\n",
       "      <td>2</td>\n",
       "      <td>2</td>\n",
       "      <td>-211</td>\n",
       "      <td>42012282</td>\n",
       "      <td>4</td>\n",
       "      <td>2</td>\n",
       "      <td>0</td>\n",
       "      <td>1</td>\n",
       "      <td>282</td>\n",
       "      <td>0.867240</td>\n",
       "      <td>...</td>\n",
       "      <td>249.507863</td>\n",
       "      <td>27.037487</td>\n",
       "      <td>-16.540384</td>\n",
       "      <td>3542.3793</td>\n",
       "      <td>3542.3793</td>\n",
       "      <td>3542.3793</td>\n",
       "      <td>0</td>\n",
       "      <td>415.954742</td>\n",
       "      <td>5.271870e-07</td>\n",
       "      <td>1</td>\n",
       "    </tr>\n",
       "    <tr>\n",
       "      <th>81</th>\n",
       "      <td>2</td>\n",
       "      <td>2</td>\n",
       "      <td>-211</td>\n",
       "      <td>11012288</td>\n",
       "      <td>1</td>\n",
       "      <td>1</td>\n",
       "      <td>0</td>\n",
       "      <td>1</td>\n",
       "      <td>288</td>\n",
       "      <td>0.866625</td>\n",
       "      <td>...</td>\n",
       "      <td>249.509850</td>\n",
       "      <td>-27.060200</td>\n",
       "      <td>16.517671</td>\n",
       "      <td>2592.3793</td>\n",
       "      <td>2592.3793</td>\n",
       "      <td>2592.3793</td>\n",
       "      <td>0</td>\n",
       "      <td>384.254303</td>\n",
       "      <td>3.097434e-06</td>\n",
       "      <td>1</td>\n",
       "    </tr>\n",
       "    <tr>\n",
       "      <th>43</th>\n",
       "      <td>2</td>\n",
       "      <td>3</td>\n",
       "      <td>-13</td>\n",
       "      <td>11012286</td>\n",
       "      <td>1</td>\n",
       "      <td>1</td>\n",
       "      <td>0</td>\n",
       "      <td>1</td>\n",
       "      <td>286</td>\n",
       "      <td>-0.239448</td>\n",
       "      <td>...</td>\n",
       "      <td>249.203062</td>\n",
       "      <td>-23.553595</td>\n",
       "      <td>20.024276</td>\n",
       "      <td>2592.3793</td>\n",
       "      <td>2592.3793</td>\n",
       "      <td>2592.3793</td>\n",
       "      <td>1</td>\n",
       "      <td>384.251007</td>\n",
       "      <td>3.362202e-06</td>\n",
       "      <td>1</td>\n",
       "    </tr>\n",
       "    <tr>\n",
       "      <th>88</th>\n",
       "      <td>2</td>\n",
       "      <td>2</td>\n",
       "      <td>-211</td>\n",
       "      <td>20012285</td>\n",
       "      <td>2</td>\n",
       "      <td>0</td>\n",
       "      <td>0</td>\n",
       "      <td>1</td>\n",
       "      <td>285</td>\n",
       "      <td>0.866401</td>\n",
       "      <td>...</td>\n",
       "      <td>250.000000</td>\n",
       "      <td>-0.011400</td>\n",
       "      <td>-0.011400</td>\n",
       "      <td>2782.2500</td>\n",
       "      <td>2782.2500</td>\n",
       "      <td>2782.2500</td>\n",
       "      <td>0</td>\n",
       "      <td>390.597870</td>\n",
       "      <td>1.754228e-06</td>\n",
       "      <td>0</td>\n",
       "    </tr>\n",
       "  </tbody>\n",
       "</table>\n",
       "<p>5 rows × 27 columns</p>\n",
       "</div>"
      ],
      "text/plain": [
       "     EventID  TrackID  PdgCode  DetectorID  StatNb  ViewNb  PlaneNb  LayerNb  \\\n",
       "79         2        2     -211    10002284       1       0        0        0   \n",
       "111        2        2     -211    42012282       4       2        0        1   \n",
       "81         2        2     -211    11012288       1       1        0        1   \n",
       "43         2        3      -13    11012286       1       1        0        1   \n",
       "88         2        2     -211    20012285       2       0        0        1   \n",
       "\n",
       "     StrawNb        Px    ...            Wx2        Wy1        Wy2         Wz  \\\n",
       "79       284  0.866347    ...     250.000000   0.868600   0.868600  2581.1500   \n",
       "111      282  0.867240    ...     249.507863  27.037487 -16.540384  3542.3793   \n",
       "81       288  0.866625    ...     249.509850 -27.060200  16.517671  2592.3793   \n",
       "43       286 -0.239448    ...     249.203062 -23.553595  20.024276  2592.3793   \n",
       "88       285  0.866401    ...     250.000000  -0.011400  -0.011400  2782.2500   \n",
       "\n",
       "           Wz1        Wz2  Label        Time         ELoss  IsStereo  \n",
       "79   2581.1500  2581.1500      0  383.880371  5.310523e-06         0  \n",
       "111  3542.3793  3542.3793      0  415.954742  5.271870e-07         1  \n",
       "81   2592.3793  2592.3793      0  384.254303  3.097434e-06         1  \n",
       "43   2592.3793  2592.3793      1  384.251007  3.362202e-06         1  \n",
       "88   2782.2500  2782.2500      0  390.597870  1.754228e-06         0  \n",
       "\n",
       "[5 rows x 27 columns]"
      ]
     },
     "execution_count": 3,
     "metadata": {},
     "output_type": "execute_result"
    }
   ],
   "source": [
    "data = pandas.read_csv('Data/hits.csv', index_col=0)\n",
    "data['IsStereo'] = (data.ViewNb.values == 1) * 1. + (data.ViewNb.values == 2) * 1.\n",
    "\n",
    "data.head()"
   ]
  },
  {
   "cell_type": "markdown",
   "metadata": {},
   "source": [
    "# Tests"
   ]
  },
  {
   "cell_type": "code",
   "execution_count": 535,
   "metadata": {
    "collapsed": true
   },
   "outputs": [],
   "source": [
    "event = data[data.EventID == 1704]\n",
    "track = event[(event.ViewNb != 1)*(event.ViewNb != 2)*(event.Label == 0)]\n",
    "\n",
    "track_before = track[(track.StatNb==1)+(track.StatNb==2)]\n",
    "track_after = track[(track.StatNb==3)+(track.StatNb==4)]"
   ]
  },
  {
   "cell_type": "code",
   "execution_count": 536,
   "metadata": {
    "collapsed": false
   },
   "outputs": [
    {
     "data": {
      "text/html": [
       "<div>\n",
       "<table border=\"1\" class=\"dataframe\">\n",
       "  <thead>\n",
       "    <tr style=\"text-align: right;\">\n",
       "      <th></th>\n",
       "      <th>EventID</th>\n",
       "      <th>TrackID</th>\n",
       "      <th>PdgCode</th>\n",
       "      <th>DetectorID</th>\n",
       "      <th>StatNb</th>\n",
       "      <th>ViewNb</th>\n",
       "      <th>PlaneNb</th>\n",
       "      <th>LayerNb</th>\n",
       "      <th>StrawNb</th>\n",
       "      <th>Px</th>\n",
       "      <th>...</th>\n",
       "      <th>Wx2</th>\n",
       "      <th>Wy1</th>\n",
       "      <th>Wy2</th>\n",
       "      <th>Wz</th>\n",
       "      <th>Wz1</th>\n",
       "      <th>Wz2</th>\n",
       "      <th>Label</th>\n",
       "      <th>Time</th>\n",
       "      <th>ELoss</th>\n",
       "      <th>IsStereo</th>\n",
       "    </tr>\n",
       "  </thead>\n",
       "  <tbody>\n",
       "    <tr>\n",
       "      <th>69961</th>\n",
       "      <td>1704</td>\n",
       "      <td>2</td>\n",
       "      <td>-211</td>\n",
       "      <td>20102297</td>\n",
       "      <td>2</td>\n",
       "      <td>0</td>\n",
       "      <td>1</td>\n",
       "      <td>0</td>\n",
       "      <td>297</td>\n",
       "      <td>-0.696338</td>\n",
       "      <td>...</td>\n",
       "      <td>250</td>\n",
       "      <td>-22.4514</td>\n",
       "      <td>-22.4514</td>\n",
       "      <td>2783.75</td>\n",
       "      <td>2783.75</td>\n",
       "      <td>2783.75</td>\n",
       "      <td>0</td>\n",
       "      <td>390.661011</td>\n",
       "      <td>8.622004e-07</td>\n",
       "      <td>0</td>\n",
       "    </tr>\n",
       "    <tr>\n",
       "      <th>69959</th>\n",
       "      <td>1704</td>\n",
       "      <td>2</td>\n",
       "      <td>-211</td>\n",
       "      <td>13102297</td>\n",
       "      <td>1</td>\n",
       "      <td>3</td>\n",
       "      <td>1</td>\n",
       "      <td>0</td>\n",
       "      <td>297</td>\n",
       "      <td>-0.696538</td>\n",
       "      <td>...</td>\n",
       "      <td>250</td>\n",
       "      <td>-22.4514</td>\n",
       "      <td>-22.4514</td>\n",
       "      <td>2613.75</td>\n",
       "      <td>2613.75</td>\n",
       "      <td>2613.75</td>\n",
       "      <td>0</td>\n",
       "      <td>384.987518</td>\n",
       "      <td>3.186634e-06</td>\n",
       "      <td>0</td>\n",
       "    </tr>\n",
       "    <tr>\n",
       "      <th>69953</th>\n",
       "      <td>1704</td>\n",
       "      <td>2</td>\n",
       "      <td>-211</td>\n",
       "      <td>10102297</td>\n",
       "      <td>1</td>\n",
       "      <td>0</td>\n",
       "      <td>1</td>\n",
       "      <td>0</td>\n",
       "      <td>297</td>\n",
       "      <td>-0.696436</td>\n",
       "      <td>...</td>\n",
       "      <td>250</td>\n",
       "      <td>-22.4514</td>\n",
       "      <td>-22.4514</td>\n",
       "      <td>2583.75</td>\n",
       "      <td>2583.75</td>\n",
       "      <td>2583.75</td>\n",
       "      <td>0</td>\n",
       "      <td>383.986450</td>\n",
       "      <td>2.939714e-06</td>\n",
       "      <td>0</td>\n",
       "    </tr>\n",
       "    <tr>\n",
       "      <th>69983</th>\n",
       "      <td>1704</td>\n",
       "      <td>2</td>\n",
       "      <td>-211</td>\n",
       "      <td>43112298</td>\n",
       "      <td>4</td>\n",
       "      <td>3</td>\n",
       "      <td>1</td>\n",
       "      <td>1</td>\n",
       "      <td>298</td>\n",
       "      <td>-0.699740</td>\n",
       "      <td>...</td>\n",
       "      <td>250</td>\n",
       "      <td>-23.3314</td>\n",
       "      <td>-23.3314</td>\n",
       "      <td>3554.85</td>\n",
       "      <td>3554.85</td>\n",
       "      <td>3554.85</td>\n",
       "      <td>0</td>\n",
       "      <td>416.380798</td>\n",
       "      <td>5.396389e-06</td>\n",
       "      <td>0</td>\n",
       "    </tr>\n",
       "    <tr>\n",
       "      <th>69967</th>\n",
       "      <td>1704</td>\n",
       "      <td>2</td>\n",
       "      <td>-211</td>\n",
       "      <td>23102297</td>\n",
       "      <td>2</td>\n",
       "      <td>3</td>\n",
       "      <td>1</td>\n",
       "      <td>0</td>\n",
       "      <td>297</td>\n",
       "      <td>-0.696013</td>\n",
       "      <td>...</td>\n",
       "      <td>250</td>\n",
       "      <td>-22.4514</td>\n",
       "      <td>-22.4514</td>\n",
       "      <td>2813.75</td>\n",
       "      <td>2813.75</td>\n",
       "      <td>2813.75</td>\n",
       "      <td>0</td>\n",
       "      <td>391.662201</td>\n",
       "      <td>4.373701e-06</td>\n",
       "      <td>0</td>\n",
       "    </tr>\n",
       "    <tr>\n",
       "      <th>69966</th>\n",
       "      <td>1704</td>\n",
       "      <td>2</td>\n",
       "      <td>-211</td>\n",
       "      <td>23002297</td>\n",
       "      <td>2</td>\n",
       "      <td>3</td>\n",
       "      <td>0</td>\n",
       "      <td>0</td>\n",
       "      <td>297</td>\n",
       "      <td>-0.695969</td>\n",
       "      <td>...</td>\n",
       "      <td>250</td>\n",
       "      <td>-22.0114</td>\n",
       "      <td>-22.0114</td>\n",
       "      <td>2811.15</td>\n",
       "      <td>2811.15</td>\n",
       "      <td>2811.15</td>\n",
       "      <td>0</td>\n",
       "      <td>391.572113</td>\n",
       "      <td>1.295044e-05</td>\n",
       "      <td>0</td>\n",
       "    </tr>\n",
       "    <tr>\n",
       "      <th>69952</th>\n",
       "      <td>1704</td>\n",
       "      <td>2</td>\n",
       "      <td>-211</td>\n",
       "      <td>10002297</td>\n",
       "      <td>1</td>\n",
       "      <td>0</td>\n",
       "      <td>0</td>\n",
       "      <td>0</td>\n",
       "      <td>297</td>\n",
       "      <td>-0.696827</td>\n",
       "      <td>...</td>\n",
       "      <td>250</td>\n",
       "      <td>-22.0114</td>\n",
       "      <td>-22.0114</td>\n",
       "      <td>2581.15</td>\n",
       "      <td>2581.15</td>\n",
       "      <td>2581.15</td>\n",
       "      <td>0</td>\n",
       "      <td>383.903046</td>\n",
       "      <td>2.618968e-06</td>\n",
       "      <td>0</td>\n",
       "    </tr>\n",
       "    <tr>\n",
       "      <th>69969</th>\n",
       "      <td>1704</td>\n",
       "      <td>2</td>\n",
       "      <td>-211</td>\n",
       "      <td>30102297</td>\n",
       "      <td>3</td>\n",
       "      <td>0</td>\n",
       "      <td>1</td>\n",
       "      <td>0</td>\n",
       "      <td>297</td>\n",
       "      <td>-0.696307</td>\n",
       "      <td>...</td>\n",
       "      <td>250</td>\n",
       "      <td>-22.4514</td>\n",
       "      <td>-22.4514</td>\n",
       "      <td>3323.75</td>\n",
       "      <td>3323.75</td>\n",
       "      <td>3323.75</td>\n",
       "      <td>0</td>\n",
       "      <td>408.671722</td>\n",
       "      <td>5.571376e-06</td>\n",
       "      <td>0</td>\n",
       "    </tr>\n",
       "    <tr>\n",
       "      <th>69960</th>\n",
       "      <td>1704</td>\n",
       "      <td>2</td>\n",
       "      <td>-211</td>\n",
       "      <td>20002297</td>\n",
       "      <td>2</td>\n",
       "      <td>0</td>\n",
       "      <td>0</td>\n",
       "      <td>0</td>\n",
       "      <td>297</td>\n",
       "      <td>-0.696413</td>\n",
       "      <td>...</td>\n",
       "      <td>250</td>\n",
       "      <td>-22.0114</td>\n",
       "      <td>-22.0114</td>\n",
       "      <td>2781.15</td>\n",
       "      <td>2781.15</td>\n",
       "      <td>2781.15</td>\n",
       "      <td>0</td>\n",
       "      <td>390.571533</td>\n",
       "      <td>8.000764e-06</td>\n",
       "      <td>0</td>\n",
       "    </tr>\n",
       "    <tr>\n",
       "      <th>69975</th>\n",
       "      <td>1704</td>\n",
       "      <td>2</td>\n",
       "      <td>-211</td>\n",
       "      <td>33102297</td>\n",
       "      <td>3</td>\n",
       "      <td>3</td>\n",
       "      <td>1</td>\n",
       "      <td>0</td>\n",
       "      <td>297</td>\n",
       "      <td>-0.696503</td>\n",
       "      <td>...</td>\n",
       "      <td>250</td>\n",
       "      <td>-22.4514</td>\n",
       "      <td>-22.4514</td>\n",
       "      <td>3353.75</td>\n",
       "      <td>3353.75</td>\n",
       "      <td>3353.75</td>\n",
       "      <td>0</td>\n",
       "      <td>409.673370</td>\n",
       "      <td>3.915892e-06</td>\n",
       "      <td>0</td>\n",
       "    </tr>\n",
       "    <tr>\n",
       "      <th>69976</th>\n",
       "      <td>1704</td>\n",
       "      <td>2</td>\n",
       "      <td>-211</td>\n",
       "      <td>40012298</td>\n",
       "      <td>4</td>\n",
       "      <td>0</td>\n",
       "      <td>0</td>\n",
       "      <td>1</td>\n",
       "      <td>298</td>\n",
       "      <td>-0.695205</td>\n",
       "      <td>...</td>\n",
       "      <td>250</td>\n",
       "      <td>-22.8914</td>\n",
       "      <td>-22.8914</td>\n",
       "      <td>3522.25</td>\n",
       "      <td>3522.25</td>\n",
       "      <td>3522.25</td>\n",
       "      <td>0</td>\n",
       "      <td>415.294281</td>\n",
       "      <td>1.018852e-05</td>\n",
       "      <td>0</td>\n",
       "    </tr>\n",
       "    <tr>\n",
       "      <th>69977</th>\n",
       "      <td>1704</td>\n",
       "      <td>2</td>\n",
       "      <td>-211</td>\n",
       "      <td>40112298</td>\n",
       "      <td>4</td>\n",
       "      <td>0</td>\n",
       "      <td>1</td>\n",
       "      <td>1</td>\n",
       "      <td>298</td>\n",
       "      <td>-0.695382</td>\n",
       "      <td>...</td>\n",
       "      <td>250</td>\n",
       "      <td>-23.3314</td>\n",
       "      <td>-23.3314</td>\n",
       "      <td>3524.85</td>\n",
       "      <td>3524.85</td>\n",
       "      <td>3524.85</td>\n",
       "      <td>0</td>\n",
       "      <td>415.381195</td>\n",
       "      <td>2.698004e-06</td>\n",
       "      <td>0</td>\n",
       "    </tr>\n",
       "    <tr>\n",
       "      <th>69974</th>\n",
       "      <td>1704</td>\n",
       "      <td>2</td>\n",
       "      <td>-211</td>\n",
       "      <td>33012298</td>\n",
       "      <td>3</td>\n",
       "      <td>3</td>\n",
       "      <td>0</td>\n",
       "      <td>1</td>\n",
       "      <td>298</td>\n",
       "      <td>-0.696631</td>\n",
       "      <td>...</td>\n",
       "      <td>250</td>\n",
       "      <td>-22.8914</td>\n",
       "      <td>-22.8914</td>\n",
       "      <td>3352.25</td>\n",
       "      <td>3352.25</td>\n",
       "      <td>3352.25</td>\n",
       "      <td>0</td>\n",
       "      <td>409.623749</td>\n",
       "      <td>4.782805e-06</td>\n",
       "      <td>0</td>\n",
       "    </tr>\n",
       "    <tr>\n",
       "      <th>69958</th>\n",
       "      <td>1704</td>\n",
       "      <td>2</td>\n",
       "      <td>-211</td>\n",
       "      <td>13002297</td>\n",
       "      <td>1</td>\n",
       "      <td>3</td>\n",
       "      <td>0</td>\n",
       "      <td>0</td>\n",
       "      <td>297</td>\n",
       "      <td>-0.696565</td>\n",
       "      <td>...</td>\n",
       "      <td>250</td>\n",
       "      <td>-22.0114</td>\n",
       "      <td>-22.0114</td>\n",
       "      <td>2611.15</td>\n",
       "      <td>2611.15</td>\n",
       "      <td>2611.15</td>\n",
       "      <td>0</td>\n",
       "      <td>384.902985</td>\n",
       "      <td>2.837814e-06</td>\n",
       "      <td>0</td>\n",
       "    </tr>\n",
       "    <tr>\n",
       "      <th>69968</th>\n",
       "      <td>1704</td>\n",
       "      <td>2</td>\n",
       "      <td>-211</td>\n",
       "      <td>30012298</td>\n",
       "      <td>3</td>\n",
       "      <td>0</td>\n",
       "      <td>0</td>\n",
       "      <td>1</td>\n",
       "      <td>298</td>\n",
       "      <td>-0.696180</td>\n",
       "      <td>...</td>\n",
       "      <td>250</td>\n",
       "      <td>-22.8914</td>\n",
       "      <td>-22.8914</td>\n",
       "      <td>3322.25</td>\n",
       "      <td>3322.25</td>\n",
       "      <td>3322.25</td>\n",
       "      <td>0</td>\n",
       "      <td>408.624573</td>\n",
       "      <td>2.266046e-06</td>\n",
       "      <td>0</td>\n",
       "    </tr>\n",
       "    <tr>\n",
       "      <th>69982</th>\n",
       "      <td>1704</td>\n",
       "      <td>2</td>\n",
       "      <td>-211</td>\n",
       "      <td>43012298</td>\n",
       "      <td>4</td>\n",
       "      <td>3</td>\n",
       "      <td>0</td>\n",
       "      <td>1</td>\n",
       "      <td>298</td>\n",
       "      <td>-0.699593</td>\n",
       "      <td>...</td>\n",
       "      <td>250</td>\n",
       "      <td>-22.8914</td>\n",
       "      <td>-22.8914</td>\n",
       "      <td>3552.25</td>\n",
       "      <td>3552.25</td>\n",
       "      <td>3552.25</td>\n",
       "      <td>0</td>\n",
       "      <td>416.296814</td>\n",
       "      <td>7.789421e-06</td>\n",
       "      <td>0</td>\n",
       "    </tr>\n",
       "  </tbody>\n",
       "</table>\n",
       "<p>16 rows × 27 columns</p>\n",
       "</div>"
      ],
      "text/plain": [
       "       EventID  TrackID  PdgCode  DetectorID  StatNb  ViewNb  PlaneNb  \\\n",
       "69961     1704        2     -211    20102297       2       0        1   \n",
       "69959     1704        2     -211    13102297       1       3        1   \n",
       "69953     1704        2     -211    10102297       1       0        1   \n",
       "69983     1704        2     -211    43112298       4       3        1   \n",
       "69967     1704        2     -211    23102297       2       3        1   \n",
       "69966     1704        2     -211    23002297       2       3        0   \n",
       "69952     1704        2     -211    10002297       1       0        0   \n",
       "69969     1704        2     -211    30102297       3       0        1   \n",
       "69960     1704        2     -211    20002297       2       0        0   \n",
       "69975     1704        2     -211    33102297       3       3        1   \n",
       "69976     1704        2     -211    40012298       4       0        0   \n",
       "69977     1704        2     -211    40112298       4       0        1   \n",
       "69974     1704        2     -211    33012298       3       3        0   \n",
       "69958     1704        2     -211    13002297       1       3        0   \n",
       "69968     1704        2     -211    30012298       3       0        0   \n",
       "69982     1704        2     -211    43012298       4       3        0   \n",
       "\n",
       "       LayerNb  StrawNb        Px    ...     Wx2      Wy1      Wy2       Wz  \\\n",
       "69961        0      297 -0.696338    ...     250 -22.4514 -22.4514  2783.75   \n",
       "69959        0      297 -0.696538    ...     250 -22.4514 -22.4514  2613.75   \n",
       "69953        0      297 -0.696436    ...     250 -22.4514 -22.4514  2583.75   \n",
       "69983        1      298 -0.699740    ...     250 -23.3314 -23.3314  3554.85   \n",
       "69967        0      297 -0.696013    ...     250 -22.4514 -22.4514  2813.75   \n",
       "69966        0      297 -0.695969    ...     250 -22.0114 -22.0114  2811.15   \n",
       "69952        0      297 -0.696827    ...     250 -22.0114 -22.0114  2581.15   \n",
       "69969        0      297 -0.696307    ...     250 -22.4514 -22.4514  3323.75   \n",
       "69960        0      297 -0.696413    ...     250 -22.0114 -22.0114  2781.15   \n",
       "69975        0      297 -0.696503    ...     250 -22.4514 -22.4514  3353.75   \n",
       "69976        1      298 -0.695205    ...     250 -22.8914 -22.8914  3522.25   \n",
       "69977        1      298 -0.695382    ...     250 -23.3314 -23.3314  3524.85   \n",
       "69974        1      298 -0.696631    ...     250 -22.8914 -22.8914  3352.25   \n",
       "69958        0      297 -0.696565    ...     250 -22.0114 -22.0114  2611.15   \n",
       "69968        1      298 -0.696180    ...     250 -22.8914 -22.8914  3322.25   \n",
       "69982        1      298 -0.699593    ...     250 -22.8914 -22.8914  3552.25   \n",
       "\n",
       "           Wz1      Wz2  Label        Time         ELoss  IsStereo  \n",
       "69961  2783.75  2783.75      0  390.661011  8.622004e-07         0  \n",
       "69959  2613.75  2613.75      0  384.987518  3.186634e-06         0  \n",
       "69953  2583.75  2583.75      0  383.986450  2.939714e-06         0  \n",
       "69983  3554.85  3554.85      0  416.380798  5.396389e-06         0  \n",
       "69967  2813.75  2813.75      0  391.662201  4.373701e-06         0  \n",
       "69966  2811.15  2811.15      0  391.572113  1.295044e-05         0  \n",
       "69952  2581.15  2581.15      0  383.903046  2.618968e-06         0  \n",
       "69969  3323.75  3323.75      0  408.671722  5.571376e-06         0  \n",
       "69960  2781.15  2781.15      0  390.571533  8.000764e-06         0  \n",
       "69975  3353.75  3353.75      0  409.673370  3.915892e-06         0  \n",
       "69976  3522.25  3522.25      0  415.294281  1.018852e-05         0  \n",
       "69977  3524.85  3524.85      0  415.381195  2.698004e-06         0  \n",
       "69974  3352.25  3352.25      0  409.623749  4.782805e-06         0  \n",
       "69958  2611.15  2611.15      0  384.902985  2.837814e-06         0  \n",
       "69968  3322.25  3322.25      0  408.624573  2.266046e-06         0  \n",
       "69982  3552.25  3552.25      0  416.296814  7.789421e-06         0  \n",
       "\n",
       "[16 rows x 27 columns]"
      ]
     },
     "execution_count": 536,
     "metadata": {},
     "output_type": "execute_result"
    }
   ],
   "source": [
    "track"
   ]
  },
  {
   "cell_type": "code",
   "execution_count": 537,
   "metadata": {
    "collapsed": false
   },
   "outputs": [],
   "source": [
    "[k_before, b_before], cov = numpy.polyfit(track_before.Wz1.values, track_before.Wy1.values, 1, cov=True)\n",
    "k_after, b_after = numpy.polyfit(track_after.Wz1.values, track_after.Wy1.values, 1)"
   ]
  },
  {
   "cell_type": "code",
   "execution_count": 538,
   "metadata": {
    "collapsed": false
   },
   "outputs": [
    {
     "data": {
      "text/html": [
       "<div>\n",
       "<table border=\"1\" class=\"dataframe\">\n",
       "  <thead>\n",
       "    <tr style=\"text-align: right;\">\n",
       "      <th></th>\n",
       "      <th>dist2Wire</th>\n",
       "      <th>Wz1</th>\n",
       "      <th>Time</th>\n",
       "    </tr>\n",
       "  </thead>\n",
       "  <tbody>\n",
       "    <tr>\n",
       "      <th>69952</th>\n",
       "      <td>0.315447</td>\n",
       "      <td>2581.15</td>\n",
       "      <td>383.903046</td>\n",
       "    </tr>\n",
       "    <tr>\n",
       "      <th>69953</th>\n",
       "      <td>0.127208</td>\n",
       "      <td>2583.75</td>\n",
       "      <td>383.986450</td>\n",
       "    </tr>\n",
       "    <tr>\n",
       "      <th>69958</th>\n",
       "      <td>0.284831</td>\n",
       "      <td>2611.15</td>\n",
       "      <td>384.902985</td>\n",
       "    </tr>\n",
       "    <tr>\n",
       "      <th>69959</th>\n",
       "      <td>0.157716</td>\n",
       "      <td>2613.75</td>\n",
       "      <td>384.987518</td>\n",
       "    </tr>\n",
       "    <tr>\n",
       "      <th>69960</th>\n",
       "      <td>0.141588</td>\n",
       "      <td>2781.15</td>\n",
       "      <td>390.571533</td>\n",
       "    </tr>\n",
       "    <tr>\n",
       "      <th>69961</th>\n",
       "      <td>0.299997</td>\n",
       "      <td>2783.75</td>\n",
       "      <td>390.661011</td>\n",
       "    </tr>\n",
       "    <tr>\n",
       "      <th>69966</th>\n",
       "      <td>0.124637</td>\n",
       "      <td>2811.15</td>\n",
       "      <td>391.572113</td>\n",
       "    </tr>\n",
       "    <tr>\n",
       "      <th>69967</th>\n",
       "      <td>0.316596</td>\n",
       "      <td>2813.75</td>\n",
       "      <td>391.662201</td>\n",
       "    </tr>\n",
       "  </tbody>\n",
       "</table>\n",
       "</div>"
      ],
      "text/plain": [
       "       dist2Wire      Wz1        Time\n",
       "69952   0.315447  2581.15  383.903046\n",
       "69953   0.127208  2583.75  383.986450\n",
       "69958   0.284831  2611.15  384.902985\n",
       "69959   0.157716  2613.75  384.987518\n",
       "69960   0.141588  2781.15  390.571533\n",
       "69961   0.299997  2783.75  390.661011\n",
       "69966   0.124637  2811.15  391.572113\n",
       "69967   0.316596  2813.75  391.662201"
      ]
     },
     "execution_count": 538,
     "metadata": {},
     "output_type": "execute_result"
    }
   ],
   "source": [
    "track_before[['dist2Wire', 'Wz1', 'Time']].sort(columns='Wz1')"
   ]
  },
  {
   "cell_type": "code",
   "execution_count": 539,
   "metadata": {
    "collapsed": false
   },
   "outputs": [
    {
     "data": {
      "image/png": "[encoded data removed]",
      "text/plain": [
       "<matplotlib.figure.Figure at 0x10de2bf50>"
      ]
     },
     "metadata": {},
     "output_type": "display_data"
    }
   ],
   "source": [
    "from matplotlib.patches import Circle\n",
    "\n",
    "fig = plt.figure(figsize=(10, 7))\n",
    "ax = fig.add_subplot(1, 1, 1)\n",
    "\n",
    "plt.scatter(track.Wz1.values, track.Wy1.values)\n",
    "plt.scatter(track.Z.values, track.Y.values, color='r')\n",
    "\n",
    "z_before = numpy.append(track_before.Wz1.values, [3070])\n",
    "plt.plot(z_before, z_before * k_before + b_before)\n",
    "\n",
    "z_after = numpy.append(track_after.Wz1.values, [3070])\n",
    "plt.plot(z_after, z_after * k_after + b_after)\n",
    "\n",
    "plt.plot([3070, 3070], [track.Wy1.values.min(), track.Wy1.values.max()], color='0')\n",
    "\n",
    "\n",
    "for i, txt in enumerate(track.StrawNb.values):\n",
    "    plt.annotate(txt, (track.Wz1.values[i],track.Wy1.values[i]))\n",
    "    e  = plt.Circle(xy=(track.Wz1.values[i],track.Wy1.values[i]), radius=0.5, color='b', fill=False)\n",
    "    ax.add_patch(e)\n",
    "    \n",
    "    \n",
    "plt.show()"
   ]
  },
  {
   "cell_type": "code",
   "execution_count": 529,
   "metadata": {
    "collapsed": false
   },
   "outputs": [],
   "source": [
    "from numpy.linalg import inv\n",
    "\n",
    "class KalmanFit(object):\n",
    "    \n",
    "    def __init__(self,\n",
    "                 window,\n",
    "                 min_hits=4,\n",
    "                 init_state = numpy.eye(3),\n",
    "                 initial_state_covariance=numpy.eye(3),\n",
    "                 transition_covariance=numpy.eye(3),\n",
    "                 observation_covariance=numpy.eye(1)):\n",
    "        \n",
    "        self.window = window\n",
    "        self.min_hits = min_hits\n",
    "        self.initial_state_covariance = initial_state_covariance\n",
    "        self.observation_covariance = observation_covariance\n",
    "        self.transition_covariance = transition_covariance\n",
    "        self.labels_ = None\n",
    "        self.predictions_ = None\n",
    "        self.matrices_ = None\n",
    "        \n",
    "        self.init_state = init_state\n",
    "        \n",
    "    \n",
    "    def fit(self, x, y):\n",
    "        \n",
    "        x_magnet = 3070\n",
    "        \n",
    "        F_k = numpy.eye(3)\n",
    "        state_k_1_k_1 = self.init_state\n",
    "        P_k_1_k_1 = self.initial_state_covariance\n",
    "        Q_k = self.transition_covariance\n",
    "        \n",
    "        R_k = self.observation_covariance\n",
    "        I = numpy.eye(3)\n",
    "        \n",
    "        for i in range(len(x)):\n",
    "            \n",
    "            state_k_k_1 = F_k * state_k_1_k_1\n",
    "            P_k_k_1 = F_k * P_k_1_k_1 * F_k.T + Q_k\n",
    "            \n",
    "            H_k = numpy.matrix([[x[i] - x_magnet, x[i] - x_magnet, 1]])\n",
    "            r_k = y[i] - H_k * state_k_k_1\n",
    "            \n",
    "            S_k = H_k * P_k_k_1 * H_k.T + R_k\n",
    "            K_k = P_k_k_1 * H_k.T * inv(S_k)\n",
    "            state_k_k = state_k_k_1 + K_k * r_k\n",
    "            P_k_k = (I - K_k * H_k) * P_k_k_1\n",
    "            \n",
    "            print state_k_k\n",
    "            \n",
    "        self.final_state = state_k_k"
   ]
  },
  {
   "cell_type": "code",
   "execution_count": 481,
   "metadata": {
    "collapsed": false
   },
   "outputs": [
    {
     "name": "stdout",
     "output_type": "stream",
     "text": [
      "[[  1.21562203e-03]\n",
      " [ -4.58983624e-03]\n",
      " [ -2.16954120e+01]]\n",
      "[[  1.41309693e-03]\n",
      " [ -4.39236134e-03]\n",
      " [ -2.16954116e+01]]\n",
      "[[  1.57058960e-03]\n",
      " [ -4.23486867e-03]\n",
      " [ -2.16954111e+01]]\n",
      "[[  1.58046388e-03]\n",
      " [ -4.22499439e-03]\n",
      " [ -2.16954112e+01]]\n",
      "[[  1.10434796e-03]\n",
      " [ -4.70111031e-03]\n",
      " [ -2.16954123e+01]]\n",
      "[[  7.84066588e-04]\n",
      " [ -5.02139168e-03]\n",
      " [ -2.16954139e+01]]\n",
      "[[  5.32098598e-04]\n",
      " [ -5.27335967e-03]\n",
      " [ -2.16954151e+01]]\n",
      "[[  1.66271965e-03]\n",
      " [ -4.14273862e-03]\n",
      " [ -2.16954111e+01]]\n"
     ]
    }
   ],
   "source": [
    "ym = (k_before * 3070 + b_before)\n",
    "\n",
    "kf = KalmanFit(window=1, \n",
    "               min_hits=4, \n",
    "               init_state=numpy.matrix([[k_before], [k_after - k_before], [ym]]),\n",
    "               initial_state_covariance=numpy.eye(3),\n",
    "               transition_covariance=numpy.eye(3), \n",
    "               observation_covariance=numpy.eye(1))\n",
    "\n",
    "kf.fit(track_after.Wz1.values, track_after.Wy1.values)\n",
    "final_state = kf.final_state"
   ]
  },
  {
   "cell_type": "code",
   "execution_count": 482,
   "metadata": {
    "collapsed": false
   },
   "outputs": [
    {
     "data": {
      "image/png": "[encoded data removed]",
      "text/plain": [
       "<matplotlib.figure.Figure at 0x10ba2e650>"
      ]
     },
     "metadata": {},
     "output_type": "display_data"
    }
   ],
   "source": [
    "plt.scatter(track.Wz1.values, track.Wy1.values)\n",
    "plt.scatter(track.Z.values, track.Y.values, color='r')\n",
    "\n",
    "z_before = numpy.append(track_before.Wz1.values, [3070])\n",
    "plt.plot(z_before, z_before * k_before + b_before)\n",
    "\n",
    "z_after = numpy.append(track_after.Wz1.values, [3070])\n",
    "plt.plot(z_after, z_after * k_after + b_after)\n",
    "\n",
    "plt.plot(z_before, z_before * final_state[0, 0] + (final_state[2, 0] - final_state[0, 0] * 3070), color='0')\n",
    "plt.plot(z_after, z_after * (final_state[0, 0] + final_state[1, 0]) + (final_state[2, 0] - (final_state[0, 0] + final_state[1, 0]) * 3070), color='0')\n",
    "\n",
    "plt.plot([3070, 3070], [track.Wy1.values.min(), track.Wy1.values.max()], color='0')\n",
    "plt.show()"
   ]
  },
  {
   "cell_type": "code",
   "execution_count": 483,
   "metadata": {
    "collapsed": false
   },
   "outputs": [
    {
     "data": {
      "text/plain": [
       "0.019479933743197252"
      ]
     },
     "execution_count": 483,
     "metadata": {},
     "output_type": "execute_result"
    }
   ],
   "source": [
    "pinv1 = numpy.abs(numpy.sin(k_before - k_after) / (0.3 * 0.75))\n",
    "pinv1"
   ]
  },
  {
   "cell_type": "code",
   "execution_count": 484,
   "metadata": {
    "collapsed": false
   },
   "outputs": [
    {
     "data": {
      "text/plain": [
       "0.018412118982649276"
      ]
     },
     "execution_count": 484,
     "metadata": {},
     "output_type": "execute_result"
    }
   ],
   "source": [
    "pinv2 = numpy.abs(numpy.sin(final_state[1, 0]) / (0.3 * 0.75))\n",
    "pinv2"
   ]
  },
  {
   "cell_type": "code",
   "execution_count": 485,
   "metadata": {
    "collapsed": false
   },
   "outputs": [
    {
     "data": {
      "text/plain": [
       "0.014914662831439225"
      ]
     },
     "execution_count": 485,
     "metadata": {},
     "output_type": "execute_result"
    }
   ],
   "source": [
    "pinv3 = 1. / numpy.sqrt(track.Px.values.mean()**2 + track.Py.values.mean()**2 + track.Pz.values.mean()**2)\n",
    "pinv3 = numpy.abs(pinv3)\n",
    "pinv3"
   ]
  },
  {
   "cell_type": "code",
   "execution_count": 486,
   "metadata": {
    "collapsed": false
   },
   "outputs": [
    {
     "data": {
      "text/plain": [
       "0.18995402726355892"
      ]
     },
     "execution_count": 486,
     "metadata": {},
     "output_type": "execute_result"
    }
   ],
   "source": [
    "1 - pinv3/pinv2"
   ]
  },
  {
   "cell_type": "code",
   "execution_count": 487,
   "metadata": {
    "collapsed": false
   },
   "outputs": [
    {
     "name": "stdout",
     "output_type": "stream",
     "text": [
      "[[ -2.60414191e-03]\n",
      " [  4.73939719e-03]\n",
      " [ -2.18401826e+01]]\n",
      "[[ -3.00194070e-03]\n",
      " [  4.34159840e-03]\n",
      " [ -2.18401812e+01]]\n",
      "[[ -3.04326678e-03]\n",
      " [  4.30027232e-03]\n",
      " [ -2.18401811e+01]]\n",
      "[[ -2.47915321e-03]\n",
      " [  4.86438589e-03]\n",
      " [ -2.18401832e+01]]\n",
      "[[ -3.34103574e-03]\n",
      " [  4.00250337e-03]\n",
      " [ -2.18401798e+01]]\n",
      "[[ -3.49664391e-03]\n",
      " [  3.84689519e-03]\n",
      " [ -2.18401802e+01]]\n",
      "[[ -3.37538588e-03]\n",
      " [  3.96815322e-03]\n",
      " [ -2.18401799e+01]]\n",
      "[[ -3.48519398e-03]\n",
      " [  3.85834513e-03]\n",
      " [ -2.18401802e+01]]\n"
     ]
    }
   ],
   "source": [
    "ym = (k_after * 3070 + b_after)\n",
    "\n",
    "kf = KalmanFit(window=1, \n",
    "               min_hits=4, \n",
    "               init_state=numpy.matrix([[k_after], [k_before - k_after], [ym]]),\n",
    "               initial_state_covariance=numpy.eye(3),\n",
    "               transition_covariance=numpy.eye(3), \n",
    "               observation_covariance=numpy.eye(1))\n",
    "\n",
    "kf.fit(track_before.Wz1.values, track_before.Wy1.values)\n",
    "final_state = kf.final_state"
   ]
  },
  {
   "cell_type": "code",
   "execution_count": 488,
   "metadata": {
    "collapsed": false
   },
   "outputs": [
    {
     "data": {
      "image/png": "[encoded data removed]",
      "text/plain": [
       "<matplotlib.figure.Figure at 0x10b794250>"
      ]
     },
     "metadata": {},
     "output_type": "display_data"
    }
   ],
   "source": [
    "plt.scatter(track.Wz1.values, track.Wy1.values)\n",
    "plt.scatter(track.Z.values, track.Y.values, color='r')\n",
    "\n",
    "z_before = numpy.append(track_before.Wz1.values, [3070])\n",
    "plt.plot(z_before, z_before * k_before + b_before)\n",
    "\n",
    "z_after = numpy.append(track_after.Wz1.values, [3070])\n",
    "plt.plot(z_after, z_after * k_after + b_after)\n",
    "\n",
    "plt.plot(z_after, z_after * final_state[0, 0] + (final_state[2, 0] - final_state[0, 0] * 3070), color='0')\n",
    "plt.plot(z_before, z_before * (final_state[0, 0] + final_state[1, 0]) + (final_state[2, 0] - (final_state[0, 0] + final_state[1, 0]) * 3070), color='0')\n",
    "\n",
    "plt.plot([3070, 3070], [track.Wy1.values.min(), track.Wy1.values.max()], color='0')\n",
    "plt.show()"
   ]
  },
  {
   "cell_type": "code",
   "execution_count": 489,
   "metadata": {
    "collapsed": false
   },
   "outputs": [
    {
     "data": {
      "text/plain": [
       "0.019479933743197252"
      ]
     },
     "execution_count": 489,
     "metadata": {},
     "output_type": "execute_result"
    }
   ],
   "source": [
    "pinv1 = numpy.abs(numpy.sin(k_before - k_after) / (0.3 * 0.75))\n",
    "pinv1"
   ]
  },
  {
   "cell_type": "code",
   "execution_count": 490,
   "metadata": {
    "collapsed": false
   },
   "outputs": [
    {
     "data": {
      "text/plain": [
       "0.017148158023326074"
      ]
     },
     "execution_count": 490,
     "metadata": {},
     "output_type": "execute_result"
    }
   ],
   "source": [
    "pinv2 = numpy.abs(numpy.sin(final_state[1, 0]) / (0.3 * 0.75))\n",
    "pinv2"
   ]
  },
  {
   "cell_type": "code",
   "execution_count": 491,
   "metadata": {
    "collapsed": false
   },
   "outputs": [
    {
     "data": {
      "text/plain": [
       "0.014914662831439225"
      ]
     },
     "execution_count": 491,
     "metadata": {},
     "output_type": "execute_result"
    }
   ],
   "source": [
    "pinv3 = 1. / numpy.sqrt(track.Px.values.mean()**2 + track.Py.values.mean()**2 + track.Pz.values.mean()**2)\n",
    "pinv3 = numpy.abs(pinv3)\n",
    "pinv3"
   ]
  },
  {
   "cell_type": "code",
   "execution_count": 492,
   "metadata": {
    "collapsed": false
   },
   "outputs": [
    {
     "data": {
      "text/plain": [
       "0.23435762009982719"
      ]
     },
     "execution_count": 492,
     "metadata": {},
     "output_type": "execute_result"
    }
   ],
   "source": [
    "1 - pinv3/pinv1"
   ]
  },
  {
   "cell_type": "code",
   "execution_count": 493,
   "metadata": {
    "collapsed": true
   },
   "outputs": [],
   "source": [
    "class GlobalFit(object):\n",
    "    \n",
    "    def __init__(self):\n",
    "        \n",
    "        pass\n",
    "    \n",
    "    def fit(self, x1, y1, x2, y2):\n",
    "        \n",
    "        xm = 3070\n",
    "        \n",
    "        bx = (x1 - xm).sum()\n",
    "        by = y1.sum()\n",
    "        bxy = ((x1 - xm) * y1).sum()\n",
    "        bx2 = ((x1 - xm)**2).sum()\n",
    "        by2 = (y1**2).sum()\n",
    "        \n",
    "        ax = (x2 - xm).sum()\n",
    "        ay = y2.sum()\n",
    "        axy = ((x2 - xm) * y2).sum()\n",
    "        ax2 = ((x2 - xm)**2).sum()\n",
    "        ay2 = (y2**2).sum()\n",
    "        \n",
    "        N = 1. * (len(x1) + len(x2))\n",
    "        \n",
    "        A1 = (axy + bxy) - (ax + bx) * (ay + by) / N\n",
    "        A2 = (axy - ax * (ay + by) / N) / (ax2 - ax * (ax + bx) / N)\n",
    "        A3 = ax2 + bx2 - ((ax + bx)**2) / N\n",
    "        A = A1 - A2 * A3\n",
    "        \n",
    "        B1 = (ax2 - ax * ax / N) / (ax2 - ax * (ax + bx) / N) * A3\n",
    "        B2 = ax2 - ax * (ax + bx) / N\n",
    "        B = B2 - B1\n",
    "        \n",
    "        dk =  A / B\n",
    "        \n",
    "        k = (axy - ax * (ay + by) / N) / (ax2 - ax * (ax + bx) / N) - dk * (ax2 - ax * ax / N) / (ax2 - ax * (ax + bx) / N)\n",
    "        \n",
    "        ym = (ay + by) / N - k * (ax + bx) / N - dk * ax / N\n",
    "        \n",
    "        return k, dk, ym"
   ]
  },
  {
   "cell_type": "code",
   "execution_count": 494,
   "metadata": {
    "collapsed": false
   },
   "outputs": [],
   "source": [
    "gf = GlobalFit()\n",
    "k, dk, ym = gf.fit(track_before.Wz1.values, track_before.Wy1.values, track_after.Wz1.values, track_after.Wy1.values)"
   ]
  },
  {
   "cell_type": "code",
   "execution_count": 495,
   "metadata": {
    "collapsed": false
   },
   "outputs": [
    {
     "data": {
      "text/plain": [
       "(0.00015288942159014129, -0.0021266538792319946, -22.169476470174271)"
      ]
     },
     "execution_count": 495,
     "metadata": {},
     "output_type": "execute_result"
    }
   ],
   "source": [
    "k, dk, ym"
   ]
  },
  {
   "cell_type": "code",
   "execution_count": 496,
   "metadata": {
    "collapsed": false
   },
   "outputs": [
    {
     "data": {
      "text/plain": [
       "0.009451787894273098"
      ]
     },
     "execution_count": 496,
     "metadata": {},
     "output_type": "execute_result"
    }
   ],
   "source": [
    "pinv1 = numpy.abs(numpy.sin(dk) / (0.3 * 0.75))\n",
    "pinv1"
   ]
  },
  {
   "cell_type": "code",
   "execution_count": 497,
   "metadata": {
    "collapsed": false
   },
   "outputs": [
    {
     "data": {
      "text/plain": [
       "-0.57797265430343825"
      ]
     },
     "execution_count": 497,
     "metadata": {},
     "output_type": "execute_result"
    }
   ],
   "source": [
    "1 - pinv3/pinv1"
   ]
  },
  {
   "cell_type": "code",
   "execution_count": 498,
   "metadata": {
    "collapsed": false
   },
   "outputs": [
    {
     "data": {
      "image/png": "[encoded data removed]",
      "text/plain": [
       "<matplotlib.figure.Figure at 0x108de2a90>"
      ]
     },
     "metadata": {},
     "output_type": "display_data"
    }
   ],
   "source": [
    "plt.scatter(track.Wz1.values, track.Wy1.values)\n",
    "plt.scatter(track.Z.values, track.Y.values, color='r')\n",
    "\n",
    "z_before = numpy.append(track_before.Wz1.values, [3070])\n",
    "plt.plot(z_before, z_before * k_before + b_before)\n",
    "\n",
    "z_after = numpy.append(track_after.Wz1.values, [3070])\n",
    "plt.plot(z_after, z_after * k_after + b_after)\n",
    "\n",
    "plt.plot(z_before, z_before * k + (ym - k * 3070), color='0')\n",
    "plt.plot(z_after, z_after * (k + dk) + (ym - (k + dk) * 3070), color='0')\n",
    "\n",
    "plt.plot([3070, 3070], [track.Wy1.values.min(), track.Wy1.values.max()], color='0')\n",
    "plt.show()"
   ]
  },
  {
   "cell_type": "code",
   "execution_count": null,
   "metadata": {
    "collapsed": true
   },
   "outputs": [],
   "source": []
  },
  {
   "cell_type": "code",
   "execution_count": null,
   "metadata": {
    "collapsed": true
   },
   "outputs": [],
   "source": []
  }
 ],
 "metadata": {
  "kernelspec": {
   "display_name": "Python 2",
   "language": "python",
   "name": "python2"
  },
  "language_info": {
   "codemirror_mode": {
    "name": "ipython",
    "version": 2
   },
   "file_extension": ".py",
   "mimetype": "text/x-python",
   "name": "python",
   "nbconvert_exporter": "python",
   "pygments_lexer": "ipython2",
   "version": "2.7.11"
  }
 },
 "nbformat": 4,
 "nbformat_minor": 0
}
