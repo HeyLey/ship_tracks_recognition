{
 "cells": [
  {
   "cell_type": "code",
   "execution_count": 1,
   "metadata": {
    "collapsed": true
   },
   "outputs": [],
   "source": [
    "%matplotlib inline\n",
    "import numpy\n",
    "import matplotlib.pyplot as plt"
   ]
  },
  {
   "cell_type": "code",
   "execution_count": 216,
   "metadata": {
    "collapsed": true
   },
   "outputs": [],
   "source": [
    "X1 = numpy.array(range(0, 10))\n",
    "X2 = numpy.array(range(20, 30))\n",
    "y1 = 1 + 1 * X1\n",
    "y2 = (1 - (2 - 1)*15.) + 2 * X2\n",
    "\n",
    "X = numpy.concatenate((X1, X2)).reshape(-1, 1)\n",
    "y = numpy.concatenate((y1, y2)).reshape(-1, 1)"
   ]
  },
  {
   "cell_type": "code",
   "execution_count": 217,
   "metadata": {
    "collapsed": false
   },
   "outputs": [
    {
     "data": {
      "image/png": "[encoded data removed]",
      "text/plain": [
       "<matplotlib.figure.Figure at 0x1034eef10>"
      ]
     },
     "metadata": {},
     "output_type": "display_data"
    }
   ],
   "source": [
    "plt.scatter(X, y)\n",
    "plt.show()"
   ]
  },
  {
   "cell_type": "code",
   "execution_count": 220,
   "metadata": {
    "collapsed": false
   },
   "outputs": [],
   "source": [
    "from numpy.linalg import inv\n",
    "\n",
    "def linear_regression(X, y, weights=None, a=1):\n",
    "    \n",
    "    I_arr = numpy.ones((len(X), 1))\n",
    "    X_arr = X\n",
    "    Z_arr = X_arr**2\n",
    "    X = numpy.concatenate((I_arr, X_arr, Z_arr), axis=1)\n",
    "    \n",
    "    X = numpy.matrix(X)\n",
    "    Z = numpy.matrix(Z_arr)\n",
    "    y = numpy.matrix(y)\n",
    "    \n",
    "    if weights != None:\n",
    "        W = numpy.diag(weights.reshape((-1,)))\n",
    "    else:\n",
    "        E = numpy.eye(len(y))\n",
    "        W = numpy.matrix(E)\n",
    "                   \n",
    "    k = inv(X.T * W * X) * (X.T * W * y)\n",
    "    err = (y - X * k).T * W * (y - X * k)\n",
    "    \n",
    "    if numpy.abs(k[2, 0]) > a:\n",
    "        \n",
    "        X = numpy.concatenate((I_arr, X_arr), axis=1)\n",
    "        X = numpy.matrix(X)\n",
    "        \n",
    "        k_p = inv(X.T * W * X) * (X.T * W * (y - Z * a))\n",
    "        err_p = (y - X * k_p - Z * a).T * W * (y - X * k_p - Z * a)\n",
    "        \n",
    "        k_m = inv(X.T * W * X) * (X.T * W * (y + Z * a))\n",
    "        err_m = (y - X * k_m + Z * a).T * W * (y - X * k_m + Z * a)\n",
    "        \n",
    "        if err_m < err_p:\n",
    "            return numpy.array([k_m, k_m[0, 0], k_m[1, 0], -a])\n",
    "        else:\n",
    "            return numpy.array([k_p, k_p[0, 0], k_p[1, 0], a])\n",
    "        \n",
    "    else:\n",
    "        return numpy.array([k, k[0, 0], k[1, 0], k[2, 0]])"
   ]
  },
  {
   "cell_type": "code",
   "execution_count": 223,
   "metadata": {
    "collapsed": false
   },
   "outputs": [],
   "source": [
    "k, k0, k1, k2 = linear_regression(X, y, weights=None, a=0.1)"
   ]
  },
  {
   "cell_type": "code",
   "execution_count": 224,
   "metadata": {
    "collapsed": false
   },
   "outputs": [
    {
     "data": {
      "text/plain": [
       "array([[ 1.3447155 ],\n",
       "       [ 0.76332263],\n",
       "       [ 0.0246063 ]])"
      ]
     },
     "execution_count": 224,
     "metadata": {},
     "output_type": "execute_result"
    }
   ],
   "source": [
    "numpy.array(k)"
   ]
  },
  {
   "cell_type": "code",
   "execution_count": 208,
   "metadata": {
    "collapsed": true
   },
   "outputs": [],
   "source": [
    "def slope(X, k):\n",
    "        \n",
    "        slope = k[1,0] + 2. * k[2, 0] * X\n",
    "        \n",
    "        return slope\n",
    "    \n",
    "def predict(X, k):\n",
    "\n",
    "        X = numpy.matrix(X)\n",
    "\n",
    "        y = X * k\n",
    "\n",
    "        return numpy.array(y)"
   ]
  },
  {
   "cell_type": "code",
   "execution_count": 213,
   "metadata": {
    "collapsed": false
   },
   "outputs": [],
   "source": [
    "s = slope(X, k)"
   ]
  },
  {
   "cell_type": "code",
   "execution_count": 214,
   "metadata": {
    "collapsed": false
   },
   "outputs": [
    {
     "data": {
      "text/plain": [
       "1.4769053117783026"
      ]
     },
     "execution_count": 214,
     "metadata": {},
     "output_type": "execute_result"
    }
   ],
   "source": [
    "s.mean()"
   ]
  },
  {
   "cell_type": "code",
   "execution_count": 207,
   "metadata": {
    "collapsed": false
   },
   "outputs": [
    {
     "data": {
      "image/png": "[encoded data removed]",
      "text/plain": [
       "<matplotlib.figure.Figure at 0x103c57d50>"
      ]
     },
     "metadata": {},
     "output_type": "display_data"
    }
   ],
   "source": [
    "plt.scatter(X, y)\n",
    "plt.plot(X, k0 + k1*X + k2*X**2)\n",
    "plt.show()"
   ]
  },
  {
   "cell_type": "code",
   "execution_count": 188,
   "metadata": {
    "collapsed": false
   },
   "outputs": [
    {
     "data": {
      "text/plain": [
       "0.024606299212598517"
      ]
     },
     "execution_count": 188,
     "metadata": {},
     "output_type": "execute_result"
    }
   ],
   "source": [
    "k2"
   ]
  },
  {
   "cell_type": "code",
   "execution_count": 123,
   "metadata": {
    "collapsed": true
   },
   "outputs": [],
   "source": [
    "X = numpy.matrix(X)"
   ]
  },
  {
   "cell_type": "code",
   "execution_count": 125,
   "metadata": {
    "collapsed": false
   },
   "outputs": [
    {
     "data": {
      "text/plain": [
       "matrix([[   0],\n",
       "        [ 100],\n",
       "        [ 200],\n",
       "        [ 300],\n",
       "        [ 400],\n",
       "        [ 500],\n",
       "        [ 600],\n",
       "        [ 700],\n",
       "        [ 800],\n",
       "        [ 900],\n",
       "        [2000],\n",
       "        [2100],\n",
       "        [2200],\n",
       "        [2300],\n",
       "        [2400],\n",
       "        [2500],\n",
       "        [2600],\n",
       "        [2700],\n",
       "        [2800],\n",
       "        [2900]])"
      ]
     },
     "execution_count": 125,
     "metadata": {},
     "output_type": "execute_result"
    }
   ],
   "source": [
    "X * 100"
   ]
  },
  {
   "cell_type": "code",
   "execution_count": null,
   "metadata": {
    "collapsed": true
   },
   "outputs": [],
   "source": []
  }
 ],
 "metadata": {
  "kernelspec": {
   "display_name": "Python 2",
   "language": "python",
   "name": "python2"
  },
  "language_info": {
   "codemirror_mode": {
    "name": "ipython",
    "version": 2
   },
   "file_extension": ".py",
   "mimetype": "text/x-python",
   "name": "python",
   "nbconvert_exporter": "python",
   "pygments_lexer": "ipython2",
   "version": "2.7.10"
  }
 },
 "nbformat": 4,
 "nbformat_minor": 0
}
