{
 "cells": [
  {
   "cell_type": "markdown",
   "metadata": {},
   "source": [
    "# About\n",
    "\n",
    "SHiP track pattern recognition is in this notebook."
   ]
  },
  {
   "cell_type": "markdown",
   "metadata": {},
   "source": [
    "# Data"
   ]
  },
  {
   "cell_type": "code",
   "execution_count": 3,
   "metadata": {
    "collapsed": false
   },
   "outputs": [
    {
     "name": "stdout",
     "output_type": "stream",
     "text": [
      "[0, 1, 2]\n"
     ]
    }
   ],
   "source": [
    "from IPython.parallel import Client\n",
    "\n",
    "clients = Client()\n",
    "print clients.ids"
   ]
  },
  {
   "cell_type": "code",
   "execution_count": 16,
   "metadata": {
    "collapsed": false
   },
   "outputs": [],
   "source": [
    "%%px\n",
    "import os, sys\n",
    "sys.path.append('../functions')\n",
    "sys.path.append('Github/ship_tracks_recognition/functions')\n",
    "\n",
    "import numpy\n",
    "import pandas"
   ]
  },
  {
   "cell_type": "code",
   "execution_count": 5,
   "metadata": {
    "collapsed": true
   },
   "outputs": [],
   "source": [
    "%matplotlib inline\n",
    "import os, sys\n",
    "sys.path.append('../functions')\n",
    "import pandas\n",
    "import numpy\n",
    "import matplotlib.pyplot as plt\n",
    "import cPickle as pickle"
   ]
  },
  {
   "cell_type": "code",
   "execution_count": 6,
   "metadata": {
    "collapsed": false
   },
   "outputs": [],
   "source": [
    "all_mctracks = pandas.read_csv('Data/MCTrack.csv', delimiter=',')\n",
    "all_velo_points = pandas.read_csv('Data/vetoPoint.csv', delimiter=',')\n",
    "all_hits = pandas.read_csv('Data/strawtubesPoint_decoded_hits.csv', delimiter=',')\n",
    "all_hits['Index'] = all_hits.index"
   ]
  },
  {
   "cell_type": "markdown",
   "metadata": {},
   "source": [
    "# Get reconstructible events"
   ]
  },
  {
   "cell_type": "code",
   "execution_count": 7,
   "metadata": {
    "collapsed": false
   },
   "outputs": [],
   "source": [
    "from utils import get_reconstractible_events\n",
    "#reconstructible_events = get_reconstractible_events(range(0, 2500), all_hits, all_mctracks, all_velo_points)\n",
    "\n",
    "# file_pickle = open('./Data/reco_tracks_for_pattern_recognition.pkl', 'wb')\n",
    "# pickle.dump(reconstructible_events, file_pickle)\n",
    "# file_pickle.close()\n",
    "\n",
    "file_pickle = open('./Data/reco_tracks_for_pattern_recognition.pkl', 'rb')\n",
    "reconstructible_events_pkl = pickle.load(file_pickle)\n",
    "file_pickle.close()\n",
    "\n",
    "reconstructible_events = reconstructible_events_pkl"
   ]
  },
  {
   "cell_type": "code",
   "execution_count": 8,
   "metadata": {
    "collapsed": true
   },
   "outputs": [],
   "source": [
    "# reconstructible_events_valid = get_reconstractible_events(range(2500, 5000), all_hits, all_mctracks, all_velo_points)\n",
    "\n",
    "# file_pickle = open('./Data/reco_tracks_for_pattern_recognition_valid.pkl', 'wb')\n",
    "# pickle.dump(reconstructible_events_valid, file_pickle)\n",
    "# file_pickle.close()\n",
    "\n",
    "file_pickle = open('./Data/reco_tracks_for_pattern_recognition_valid.pkl', 'rb')\n",
    "reconstructible_events_valid_pkl = pickle.load(file_pickle)\n",
    "file_pickle.close()\n",
    "\n",
    "reconstructible_events_valid = reconstructible_events_valid_pkl"
   ]
  },
  {
   "cell_type": "code",
   "execution_count": 9,
   "metadata": {
    "collapsed": false
   },
   "outputs": [
    {
     "data": {
      "text/plain": [
       "array([ 513,    2,  515,  516, 1541,  518,    7,   10, 2059, 1036, 1550,\n",
       "         15, 2392, 1042, 1557,   23,   27, 2077, 2132, 1057,  549,   39,\n",
       "       1066, 2482,  558, 2095,   48,  928,   50, 2099,   53, 1204, 1546,\n",
       "         62, 1600, 2113, 1090, 1206, 1606, 1607, 1548,   74, 1293, 2232,\n",
       "         84,   85,   86, 1111, 2138, 1116, 1629,  606, 1893,  608,   97,\n",
       "       1979,  612, 1637,  614, 1129,  106, 1895, 2305, 2157,  622, 1213,\n",
       "       1136,  625, 1138, 2164, 1142, 1655,  122, 1385,  126,  686,  129,\n",
       "        642,  131, 1668, 1157,  134,  135,  648, 1280,  651, 1677,  654,\n",
       "        143, 1683, 1691, 2204, 1693,  670,  159, 2208,  161, 2246, 1190,\n",
       "       1704,  174,  824, 2224, 1224,  179,  692, 1717,  694,  184, 1722,\n",
       "       1724,  189, 2239,  707, 2244, 1967, 1222,  712, 1200, 1900,  719,\n",
       "       1232, 2446,  211, 2260, 1238,  215, 2264, 1242, 1243, 1756,  221,\n",
       "       1758, 2271,  736, 1761, 1762, 1251, 2277, 1256, 1769, 2282,  747,\n",
       "       2429, 2002, 1262,  893, 1265, 2290, 1235, 2203, 1747,  759,  249,\n",
       "       2378, 2302,  767,  768,  257, 1283, 1284, 1286, 1153,  777, 2314,\n",
       "       2263,   94,  781,  270,  785, 1299,  276, 2350,  791,  793, 1821,\n",
       "        445, 1311,  289, 2338,  292, 1829,  294,  957,  809, 1322,  299,\n",
       "       2348,  813, 1838, 1329, 1843, 2356, 1848,  735, 1340, 1854,  565,\n",
       "       1675, 1349,  839, 1352, 1533,  842,  331, 2142,  845, 1359, 1360,\n",
       "       2360,  341, 2390, 2105,  856, 1369, 1375, 1377, 1339, 1380, 1381,\n",
       "       1383,  828, 1898, 1086,  876,  365,  878, 2416,  369,  370,  883,\n",
       "       2280,  885, 2007, 2423, 1912,  377, 1598,  381,  715,  897, 1410,\n",
       "        901, 2439, 2441, 2443, 1934, 1423,  644, 1427,  916,  917,  406,\n",
       "       2455,  408, 1775, 1911, 1439, 1440,  417, 1156,  923,  933, 2470,\n",
       "       2145, 1180,  426, 1451,  157, 1861, 1458, 2035, 2488,  953, 1901,\n",
       "        927, 2493,  449, 1474,  412,  407, 1441,  968,  970, 2295, 1793,\n",
       "       1851, 2040,  978, 2467, 2317, 1494, 1785, 2266,  782, 2127, 2014,\n",
       "       2405,  484,  806, 1617,  490, 2471, 2029, 1006, 1021, 1008, 1009,\n",
       "       1011,  500, 2037,  502, 1528, 1987, 1279,  102, 2046, 1023])"
      ]
     },
     "execution_count": 9,
     "metadata": {},
     "output_type": "execute_result"
    }
   ],
   "source": [
    "numpy.array(reconstructible_events.keys())"
   ]
  },
  {
   "cell_type": "markdown",
   "metadata": {},
   "source": [
    "# Stations 1&2"
   ]
  },
  {
   "cell_type": "code",
   "execution_count": 10,
   "metadata": {
    "collapsed": false
   },
   "outputs": [],
   "source": [
    "from Y_views import *\n",
    "from UV_views import *\n",
    "hits_zy_12, _ = modify_for_yz_analysis_1_2(all_hits)\n",
    "hits_zx_12, _ = modify_for_xz_analysis_1_2(all_hits)"
   ]
  },
  {
   "cell_type": "markdown",
   "metadata": {},
   "source": [
    "## Y-views"
   ]
  },
  {
   "cell_type": "code",
   "execution_count": 18,
   "metadata": {
    "collapsed": false
   },
   "outputs": [],
   "source": [
    "#%%px\n",
    "from MultiLinearRegression import MultiLinearRegression\n",
    "\n",
    "def get_zy_candidates(event_id, data):\n",
    "    \n",
    "    event = data[data['event'] == event_id]\n",
    "    \n",
    "    n = 3\n",
    "    if len(event) > 40:\n",
    "        n = 3\n",
    "\n",
    "    XX = event.Wz.values\n",
    "    yy = event.Wy.values\n",
    "    rr = 1*event.dist2Wire.values\n",
    "    ii = event.index.values\n",
    "\n",
    "    X = numpy.concatenate((XX, XX), axis=0).reshape((-1, 1))\n",
    "    y = numpy.concatenate((yy+rr, yy-rr), axis=0)\n",
    "    indeces = numpy.concatenate((ii, ii), axis=0)\n",
    "\n",
    "    rmlr = MultiLinearRegression(n_tracks=2, \n",
    "                                 n=n, \n",
    "                                 subsample=1, \n",
    "                                 n_neighbors=10, \n",
    "                                 step=0.1,\n",
    "                                 classifier=None)\n",
    "    rmlr.fit(X, y)\n",
    "    \n",
    "    tracks = rmlr.tracks_\n",
    "    tracks_labels = rmlr.labels_\n",
    "\n",
    "    tracks_yz = {}\n",
    "    linking_table_yz = {}\n",
    "\n",
    "    for num, track in enumerate(tracks):\n",
    "        tracks_yz[num + 1] = track\n",
    "        linking_table_yz[num + 1] = numpy.unique(indeces[tracks_labels == num])\n",
    "        \n",
    "    return tracks_yz, linking_table_yz\n",
    "\n",
    "def get_zx_hits(event_id, data, plane_k, plane_b):\n",
    "\n",
    "    stereo_hits = data[data['event'] == event_id]\n",
    "\n",
    "    stereo_hits['Wy'] = plane_k * stereo_hits.Wz.values + plane_b\n",
    "    stereo_hits['Wx'] = (stereo_hits.Wx2.values - stereo_hits.Wx1.values) / (stereo_hits.Wy2.values - stereo_hits.Wy1.values) * \\\n",
    "                        (stereo_hits.Wy.values - stereo_hits.Wy1.values) + stereo_hits.Wx1.values\n",
    "\n",
    "    return stereo_hits[numpy.abs(stereo_hits.Wx.values) < 300]\n",
    "\n",
    "\n",
    "def get_zx_candidates(event_id, tracks_yz, tracks_cov_yz, data):\n",
    "\n",
    "    tracks_xz = {}\n",
    "    linking_table_xz = {}\n",
    "\n",
    "    for num, track_id in enumerate(tracks_yz.keys()):\n",
    "\n",
    "        zy_plane_k, zy_plane_b = tracks_yz[track_id]\n",
    "        cov = tracks_cov_yz[track_id]\n",
    "\n",
    "        hits = get_zx_hits(event_id, data, zy_plane_k, zy_plane_b)\n",
    "\n",
    "        XX = hits.Wz.values\n",
    "        yy = hits.Wx.values\n",
    "        rr = 1*hits.dist2Wire.values / numpy.sin(10. * numpy.pi / 360.)\n",
    "        ii = hits.index.values\n",
    "\n",
    "        X = numpy.concatenate((XX, XX), axis=0).reshape((-1, 1))\n",
    "        y = numpy.concatenate((yy+rr, yy-rr), axis=0)\n",
    "        indeces = numpy.concatenate((ii, ii), axis=0)\n",
    "        \n",
    "        rmlr = MultiLinearRegression(n_tracks=1, \n",
    "                                 n=3, \n",
    "                                 subsample=1, \n",
    "                                 n_neighbors=10, \n",
    "                                 step=0.1,\n",
    "                                 classifier=None)\n",
    "        rmlr.fit(X, y)\n",
    "\n",
    "        tracks = rmlr.tracks_\n",
    "        tracks_labels = rmlr.labels_\n",
    "\n",
    "        linking_table_xz[10001 * (num+1)] = list(numpy.unique(indeces[tracks_labels == 0]))\n",
    "        tracks_xz[10001 * (num+1)] = tracks[0]\n",
    "\n",
    "    return tracks_xz, linking_table_xz\n",
    "\n",
    "def run_stations(event_id, data_zy, data_zx):\n",
    "\n",
    "    reco_events12 = {}\n",
    "\n",
    "    tracks_yz, linking_table_yz = get_zy_candidates(event_id, data_zy)\n",
    "    tracks_xz, linking_table_xz = get_zx_candidates(event_id, tracks_yz, linking_table_yz, data_zx)\n",
    "\n",
    "    reco = [tracks_yz, linking_table_yz, tracks_xz, linking_table_xz]\n",
    "\n",
    "    reco_events12[event_id] = reco\n",
    "\n",
    "    print event_id\n",
    "\n",
    "    return reco_events12\n",
    "\n",
    "def merge_dicts(dicts):\n",
    "    '''\n",
    "    Given any number of dicts, shallow copy and merge into a new dict,\n",
    "    precedence goes to key value pairs in latter dicts.\n",
    "    '''\n",
    "    result = {}\n",
    "    for dictionary in dicts:\n",
    "        result.update(dictionary)\n",
    "    return result"
   ]
  },
  {
   "cell_type": "code",
   "execution_count": 19,
   "metadata": {
    "collapsed": false,
    "scrolled": false
   },
   "outputs": [
    {
     "name": "stdout",
     "output_type": "stream",
     "text": [
      "CPU times: user 16.1 s, sys: 16.4 s, total: 32.5 s\n",
      "Wall time: 32min 44s\n"
     ]
    }
   ],
   "source": [
    "%%time\n",
    "view = clients.load_balanced_view()\n",
    "event_ids = reconstructible_events.keys()\n",
    "res = view.map(run_stations, event_ids, [hits_zy_12]*len(event_ids), [hits_zx_12]*len(event_ids))\n",
    "\n",
    "reco_events12 = merge_dicts(res.get())"
   ]
  },
  {
   "cell_type": "code",
   "execution_count": 20,
   "metadata": {
    "collapsed": false
   },
   "outputs": [
    {
     "name": "stdout",
     "output_type": "stream",
     "text": [
      "zero 1057\n",
      "1057 [0, 3.0]\n",
      "2040 [2.0, 2.0]\n"
     ]
    },
    {
     "data": {
      "text/plain": [
       "array([1057, 2040])"
      ]
     },
     "execution_count": 20,
     "metadata": {},
     "output_type": "execute_result"
    }
   ],
   "source": [
    "a = []\n",
    "for i in reco_events12.keys():\n",
    "    ids = [0,0]\n",
    "    for num, track in enumerate(reco_events12[i][1].values()):\n",
    "        unique, count = numpy.unique(hits_zy_12.loc[track].TrackID.values, return_counts=True)\n",
    "        if len(count) == 0:\n",
    "            print 'zero', i\n",
    "            continue\n",
    "        ids[num] = unique[count == count.max()][0]\n",
    "    if len(ids) == 0:\n",
    "        continue\n",
    "    if ids[0] == ids[1] or ids[0] == 0 or ids[1] == 0:\n",
    "        print i, ids\n",
    "        a.append(i)\n",
    "numpy.array(a)"
   ]
  },
  {
   "cell_type": "code",
   "execution_count": 21,
   "metadata": {
    "collapsed": true
   },
   "outputs": [],
   "source": [
    "file_pickle = open('./Data/reco_events12_model_1.pkl', 'wb')\n",
    "pickle.dump(reco_events12, file_pickle)\n",
    "file_pickle.close()\n",
    "\n",
    "file_pickle = open('./Data/reco_events12_model_1.pkl', 'rb')\n",
    "reco_events12_pkl = pickle.load(file_pickle)\n",
    "file_pickle.close()\n",
    "\n",
    "reco_events12 = reco_events12_pkl"
   ]
  },
  {
   "cell_type": "code",
   "execution_count": 22,
   "metadata": {
    "collapsed": false
   },
   "outputs": [
    {
     "name": "stdout",
     "output_type": "stream",
     "text": [
      "1057\n",
      "[{1: array([  1.80811840e-02,  -2.73472598e+01]), 2: array([  1.81881267e-02,  -2.76436490e+01])}, {1: array([], dtype=int64), 2: array([40055, 40056, 40057, 40062, 40063, 40064, 40065, 40070, 40071, 40097])}, {10001: array([  2.87450374e-02,   1.25371057e+02]), 20002: array([  2.95447091e-02,   1.23193970e+02])}, {10001: [40058, 40059, 40067, 40069], 20002: [40058, 40059, 40060, 40061, 40066, 40067, 40068, 40069]}]\n"
     ]
    }
   ],
   "source": [
    "reco_events12_new = {}\n",
    "\n",
    "for i in reco_events12.keys():\n",
    "    \n",
    "    event = reco_events12[i]\n",
    "    \n",
    "    flag = 0\n",
    "    \n",
    "    for val in event[0].values():\n",
    "        \n",
    "        if len(val) == 0:\n",
    "            flag = 1\n",
    "            \n",
    "    for val in event[1].values():\n",
    "        \n",
    "        if len(val) == 0:\n",
    "            flag = 1\n",
    "            \n",
    "    for val in event[2].values():\n",
    "        \n",
    "        if len(val) == 0:\n",
    "            flag = 1\n",
    "            \n",
    "    for val in event[3].values():\n",
    "        \n",
    "        if len(val) == 0:\n",
    "            flag = 1\n",
    "        \n",
    "    \n",
    "    if flag == 1:\n",
    "        print i\n",
    "        print event\n",
    "        \n",
    "    else:\n",
    "        reco_events12_new[i] = reco_events12[i]"
   ]
  },
  {
   "cell_type": "markdown",
   "metadata": {},
   "source": [
    "# Stations 3&4"
   ]
  },
  {
   "cell_type": "code",
   "execution_count": null,
   "metadata": {
    "collapsed": true
   },
   "outputs": [],
   "source": [
    "from Y_views import *\n",
    "from UV_views import *\n",
    "hits_zy_34, _ = modify_for_yz_analysis_3_4(all_hits)\n",
    "hits_zx_34, _ = modify_for_xz_analysis_3_4(all_hits)"
   ]
  },
  {
   "cell_type": "code",
   "execution_count": null,
   "metadata": {
    "collapsed": false
   },
   "outputs": [],
   "source": [
    "%%time\n",
    "view = clients.load_balanced_view()\n",
    "event_ids = reconstructible_events.keys()\n",
    "res = view.map(run_stations, event_ids, [hits_zy_34]*len(event_ids), [hits_zx_34]*len(event_ids))\n",
    "\n",
    "reco_events34 = merge_dicts(res.get())"
   ]
  },
  {
   "cell_type": "code",
   "execution_count": 28,
   "metadata": {
    "collapsed": false
   },
   "outputs": [
    {
     "name": "stdout",
     "output_type": "stream",
     "text": [
      "143 [2.0, 2.0]\n",
      "670 [2.0, 2.0]\n",
      "1722 [2.0, 2.0]\n",
      "1265 [3.0, 3.0]\n",
      "270 [2.0, 2.0]\n",
      "zero 644\n",
      "644 [0, 2.0]\n",
      "426 [2.0, 2.0]\n",
      "2040 [2.0, 2.0]\n",
      "1528 [2.0, 2.0]\n"
     ]
    },
    {
     "data": {
      "text/plain": [
       "array([ 143,  670, 1722, 1265,  270,  644,  426, 2040, 1528])"
      ]
     },
     "execution_count": 28,
     "metadata": {},
     "output_type": "execute_result"
    }
   ],
   "source": [
    "a = []\n",
    "for i in reco_events34.keys():\n",
    "    ids = [0,0]\n",
    "    for num, track in enumerate(reco_events34[i][1].values()):\n",
    "        unique, count = numpy.unique(hits_zy_34.loc[track].TrackID.values, return_counts=True)\n",
    "        if len(count) == 0:\n",
    "            print 'zero', i\n",
    "            continue\n",
    "        ids[num] = unique[count == count.max()][0]\n",
    "    if len(ids) == 0:\n",
    "        continue\n",
    "    if ids[0] == ids[1] or ids[0] == 0 or ids[1] == 0:\n",
    "        print i, ids\n",
    "        a.append(i)\n",
    "numpy.array(a)"
   ]
  },
  {
   "cell_type": "code",
   "execution_count": 31,
   "metadata": {
    "collapsed": false
   },
   "outputs": [
    {
     "name": "stdout",
     "output_type": "stream",
     "text": [
      "1057\n",
      "[{1: array([  1.80811840e-02,  -2.73472598e+01]), 2: array([  1.81881267e-02,  -2.76436490e+01])}, {1: array([], dtype=int64), 2: array([40055, 40056, 40057, 40062, 40063, 40064, 40065, 40070, 40071, 40097])}, {10001: array([  2.87450374e-02,   1.25371057e+02]), 20002: array([  2.95447091e-02,   1.23193970e+02])}, {10001: [40058, 40059, 40067, 40069], 20002: [40058, 40059, 40060, 40061, 40066, 40067, 40068, 40069]}]\n",
      "644\n",
      "[{1: array([  1.93122100e-02,  -6.72389794e+01]), 2: array([ -2.84814128e-02,  -6.96896388e+01])}, {1: array([25012, 25013, 25019, 25020, 25021, 25022, 25023, 25028, 25029]), 2: array([25047, 25048, 25054, 25055, 25056, 25057, 25062, 25063])}, {10001: array([  5.71588903e-03,   1.13000678e+02]), 20002: array([  1.98558751e-02,   1.20781883e+02])}, {10001: [25015, 25018, 25024, 25025], 20002: [25049, 25050, 25051, 25052, 25053, 25058, 25059, 25060, 25061]}]\n"
     ]
    }
   ],
   "source": [
    "reco_events34_new = {}\n",
    "reco_events12_new = {}\n",
    "reconstructible_events_new = {}\n",
    "\n",
    "for i in reco_events34.keys():\n",
    "    \n",
    "    event = reco_events34[i]\n",
    "    \n",
    "    flag = 0\n",
    "    \n",
    "    for val in event[0].values():\n",
    "        \n",
    "        if len(val) == 0:\n",
    "            flag = 1\n",
    "            \n",
    "    for val in event[1].values():\n",
    "        \n",
    "        if len(val) == 0:\n",
    "            flag = 1\n",
    "            \n",
    "    for val in event[2].values():\n",
    "        \n",
    "        if len(val) == 0:\n",
    "            flag = 1\n",
    "            \n",
    "    for val in event[3].values():\n",
    "        \n",
    "        if len(val) == 0:\n",
    "            flag = 1\n",
    "            \n",
    "    event = reco_events12[i]\n",
    "    \n",
    "    for val in event[0].values():\n",
    "        \n",
    "        if len(val) == 0:\n",
    "            flag = 1\n",
    "            \n",
    "    for val in event[1].values():\n",
    "        \n",
    "        if len(val) == 0:\n",
    "            flag = 1\n",
    "            \n",
    "    for val in event[2].values():\n",
    "        \n",
    "        if len(val) == 0:\n",
    "            flag = 1\n",
    "            \n",
    "    for val in event[3].values():\n",
    "        \n",
    "        if len(val) == 0:\n",
    "            flag = 1\n",
    "        \n",
    "    \n",
    "    if flag == 1:\n",
    "        print i\n",
    "        print event\n",
    "    else:\n",
    "        reco_events34_new[i] = reco_events34[i]\n",
    "        reco_events12_new[i] = reco_events12[i]\n",
    "        reconstructible_events_new[i] = reconstructible_events[i]"
   ]
  },
  {
   "cell_type": "code",
   "execution_count": 32,
   "metadata": {
    "collapsed": true
   },
   "outputs": [],
   "source": [
    "file_pickle = open('./Data/reco_events34_model_1.pkl', 'wb')\n",
    "pickle.dump(reco_events34, file_pickle)\n",
    "file_pickle.close()\n",
    "\n",
    "file_pickle = open('./Data/reco_events34_model_1.pkl', 'rb')\n",
    "reco_events34_pkl = pickle.load(file_pickle)\n",
    "file_pickle.close()\n",
    "\n",
    "reco_events34 = reco_events34_pkl"
   ]
  },
  {
   "cell_type": "markdown",
   "metadata": {},
   "source": [
    "# Combination tracks"
   ]
  },
  {
   "cell_type": "markdown",
   "metadata": {},
   "source": [
    "### Data Preparation"
   ]
  },
  {
   "cell_type": "code",
   "execution_count": 38,
   "metadata": {
    "collapsed": false
   },
   "outputs": [],
   "source": [
    "from MatchTracks import get_dx_dy, get_true_label, get_matching_data, get_new_matched_tracks, get_true_match\n",
    "\n",
    "data = get_matching_data(reco_events12_new, reco_events34_new, all_hits)\n",
    "\n",
    "\n",
    "data['dk_xz'] = data['k_xz_34'].values - data['k_xz_12'].values\n",
    "data['db_xz'] = data['b_xz_34'].values - data['b_xz_12'].values\n",
    "data['dk_yz'] = data['k_yz_34'].values - data['k_yz_12'].values\n",
    "data['db_yz'] = data['b_yz_34'].values - data['b_yz_12'].values\n",
    "\n",
    "\n",
    "X_data = data[[u'dx', u'dy', \n",
    "          u'k_xz_12', u'b_xz_12', \n",
    "          u'k_yz_12',u'b_yz_12', \n",
    "          u'k_xz_34', u'b_xz_34', \n",
    "          u'k_yz_34', u'b_yz_34', \n",
    "          'dk_xz', 'db_xz', \n",
    "          'dk_yz', 'db_yz']].values\n",
    "y_data = data[['label']].values.reshape(-1)"
   ]
  },
  {
   "cell_type": "markdown",
   "metadata": {},
   "source": [
    "### Train Classifier"
   ]
  },
  {
   "cell_type": "code",
   "execution_count": 39,
   "metadata": {
    "collapsed": false
   },
   "outputs": [
    {
     "name": "stdout",
     "output_type": "stream",
     "text": [
      "CPU times: user 25.7 s, sys: 14.2 s, total: 39.9 s\n",
      "Wall time: 28 s\n"
     ]
    },
    {
     "data": {
      "text/plain": [
       "FoldingClassifier(base_estimator=XGBoostClassifier(base_score=0.5, colsample=0.7, eta=0.01, features=None,\n",
       "         gamma=None, max_depth=8, min_child_weight=1.0, missing=-999.0,\n",
       "         n_estimators=1000, nthreads=3, num_feature=None, random_state=0,\n",
       "         scale_pos_weight=1.0, subsample=0.5, verbose=0),\n",
       "         features=['Feature_0', 'Feature_1', 'Feature_2', 'Feature_3', 'Feature_4', 'Feature_5', 'Feature_6', 'Feature_7', 'Feature_8', 'Feature_9', 'Feature_10', 'Feature_11', 'Feature_12', 'Feature_13'],\n",
       "         n_folds=10, parallel_profile=None, random_state=11)"
      ]
     },
     "execution_count": 39,
     "metadata": {},
     "output_type": "execute_result"
    }
   ],
   "source": [
    "from rep.metaml import FoldingClassifier\n",
    "from rep.estimators import XGBoostClassifier\n",
    "\n",
    "\n",
    "from rep.estimators import XGBoostClassifier\n",
    "xgb_base = XGBoostClassifier(n_estimators=1000, colsample=0.7, eta=0.01, nthreads=3, \n",
    "                             subsample=0.5, max_depth=8)\n",
    "folding = FoldingClassifier(xgb_base, n_folds=10, random_state=11)\n",
    "%time folding.fit(X_data, y_data)"
   ]
  },
  {
   "cell_type": "markdown",
   "metadata": {},
   "source": [
    "### Prediction and Quality"
   ]
  },
  {
   "cell_type": "code",
   "execution_count": 40,
   "metadata": {
    "collapsed": false
   },
   "outputs": [
    {
     "name": "stdout",
     "output_type": "stream",
     "text": [
      "KFold prediction using folds column\n",
      "KFold prediction using folds column\n",
      "0.99980722047\n"
     ]
    },
    {
     "data": {
      "image/png": "[encoded data removed]",
      "text/plain": [
       "<matplotlib.figure.Figure at 0x108101ed0>"
      ]
     },
     "metadata": {},
     "output_type": "display_data"
    }
   ],
   "source": [
    "y_proba = folding.predict_proba(X_data)[:, 1]\n",
    "y_predict = folding.predict(X_data)\n",
    "\n",
    "from sklearn.metrics import roc_auc_score\n",
    "print roc_auc_score(y_data, y_proba)\n",
    "\n",
    "plt.hist(y_proba[y_data==1], label='1', color='b', bins=20, alpha=0.5)\n",
    "plt.hist(y_proba[y_data==0], label='0', color='r', bins=20, alpha=0.5)\n",
    "plt.ylim(0,10)\n",
    "plt.show()"
   ]
  },
  {
   "cell_type": "markdown",
   "metadata": {},
   "source": [
    "### Tracks Combination"
   ]
  },
  {
   "cell_type": "code",
   "execution_count": 41,
   "metadata": {
    "collapsed": true
   },
   "outputs": [],
   "source": [
    "match_tracks = {}\n",
    "for event_id in reco_events12_new.keys():\n",
    "    \n",
    "    ids = data[data.EventID.values == event_id][['track_id_12', 'track_id_34']].values\n",
    "    probas = y_proba[data.EventID.values == event_id]\n",
    "    \n",
    "    match_tracks[event_id] = ids[probas.argsort()[::-1], :][:2, :]\n",
    "    #match_tracks[event_id] = ids[probas > 0.5, :]\n",
    "    if len(match_tracks[event_id]) < 2:\n",
    "        print event_id"
   ]
  },
  {
   "cell_type": "code",
   "execution_count": 42,
   "metadata": {
    "collapsed": false
   },
   "outputs": [],
   "source": [
    "charge_dict, pinv_dict, dist_y, dist_x = get_new_matched_tracks(reco_events12_new, reco_events34_new, match_tracks)\n",
    "\n",
    "true_charge_dict, true_pdg_dict, true_pinv_dict = get_true_match(reco_events12_new, reco_events34_new, match_tracks, all_hits)"
   ]
  },
  {
   "cell_type": "markdown",
   "metadata": {},
   "source": [
    "# Efficiency"
   ]
  },
  {
   "cell_type": "markdown",
   "metadata": {},
   "source": [
    "### Stations 1&2"
   ]
  },
  {
   "cell_type": "code",
   "execution_count": 43,
   "metadata": {
    "collapsed": false
   },
   "outputs": [],
   "source": [
    "from efficiency import efficiency_per_track\n",
    "\n",
    "event_id = numpy.array(reco_events12_new.keys())\n",
    "eff_y, eff_stereo, eff_station = efficiency_per_track(event_id, \n",
    "                                            all_hits, \n",
    "                                            reco_events12_new)"
   ]
  },
  {
   "cell_type": "code",
   "execution_count": 44,
   "metadata": {
    "collapsed": false
   },
   "outputs": [
    {
     "data": {
      "image/png": "[encoded data removed]",
      "text/plain": [
       "<matplotlib.figure.Figure at 0x107e9a650>"
      ]
     },
     "metadata": {},
     "output_type": "display_data"
    }
   ],
   "source": [
    "plt.figure(figsize=(15, 3))\n",
    "\n",
    "plt.subplot(1,3,1)\n",
    "plt.title('Mean = % f' % numpy.array(eff_y).mean())\n",
    "plt.hist(eff_y, label='y')\n",
    "plt.xlabel('efficiency')\n",
    "plt.xlim(0, 1.1)\n",
    "plt.legend(loc='best')\n",
    "\n",
    "plt.subplot(1,3,2)\n",
    "plt.title('Mean = % f' % numpy.array(eff_stereo).mean())\n",
    "plt.hist(eff_stereo, label='stereo')\n",
    "plt.xlabel('efficiency')\n",
    "plt.xlim(0, 1.1)\n",
    "plt.legend(loc='best')\n",
    "\n",
    "plt.subplot(1,3,3)\n",
    "plt.title('Mean = % f' % numpy.array(eff_station).mean())\n",
    "plt.hist(eff_station, label='station 1&2')\n",
    "plt.xlabel('efficiency')\n",
    "plt.xlim(0, 1.1)\n",
    "plt.legend(loc='best')\n",
    "\n",
    "plt.show()"
   ]
  },
  {
   "cell_type": "markdown",
   "metadata": {},
   "source": [
    "### Stations 3&4"
   ]
  },
  {
   "cell_type": "code",
   "execution_count": 45,
   "metadata": {
    "collapsed": true
   },
   "outputs": [],
   "source": [
    "from efficiency import efficiency_per_track\n",
    "\n",
    "eff_y, eff_stereo, eff_station = efficiency_per_track(reco_events34_new.keys(), \n",
    "                                            all_hits, \n",
    "                                            reco_events34_new)"
   ]
  },
  {
   "cell_type": "code",
   "execution_count": 46,
   "metadata": {
    "collapsed": false
   },
   "outputs": [
    {
     "data": {
      "image/png": "[encoded data removed]",
      "text/plain": [
       "<matplotlib.figure.Figure at 0x11b3226d0>"
      ]
     },
     "metadata": {},
     "output_type": "display_data"
    }
   ],
   "source": [
    "plt.figure(figsize=(15, 3))\n",
    "\n",
    "plt.subplot(1,3,1)\n",
    "plt.title('Mean = % f' % numpy.array(eff_y).mean())\n",
    "plt.hist(eff_y, label='y')\n",
    "plt.xlabel('efficiency')\n",
    "plt.xlim(0, 1.1)\n",
    "plt.legend(loc='best')\n",
    "\n",
    "plt.subplot(1,3,2)\n",
    "plt.title('Mean = % f' % numpy.array(eff_stereo).mean())\n",
    "plt.hist(eff_stereo, label='stereo')\n",
    "plt.xlabel('efficiency')\n",
    "plt.xlim(0, 1.1)\n",
    "plt.legend(loc='best')\n",
    "\n",
    "plt.subplot(1,3,3)\n",
    "plt.title('Mean = % f' % numpy.array(eff_station).mean())\n",
    "plt.hist(eff_station, label='station 1&2')\n",
    "plt.xlabel('efficiency')\n",
    "plt.xlim(0, 1.1)\n",
    "plt.legend(loc='best')\n",
    "\n",
    "plt.show()"
   ]
  },
  {
   "cell_type": "markdown",
   "metadata": {},
   "source": [
    "# Efficiency per event"
   ]
  },
  {
   "cell_type": "code",
   "execution_count": 47,
   "metadata": {
    "collapsed": false
   },
   "outputs": [
    {
     "name": "stdout",
     "output_type": "stream",
     "text": [
      "Total efficiency per event is  94.6202531646  %\n"
     ]
    },
    {
     "data": {
      "image/png": "[encoded data removed]",
      "text/plain": [
       "<matplotlib.figure.Figure at 0x11b27ae10>"
      ]
     },
     "metadata": {},
     "output_type": "display_data"
    }
   ],
   "source": [
    "from efficiency import efficiency_per_event, view_check_reco_event\n",
    "\n",
    "n_events, missed_events = efficiency_per_event(reconstructible_events_new, \n",
    "                                               reco_events12_new, \n",
    "                                               reco_events34_new, \n",
    "                                               match_tracks, \n",
    "                                               true_pdg_dict, \n",
    "                                               all_hits)\n",
    "\n",
    "n_events = numpy.array(n_events)\n",
    "\n",
    "labels = ['Reconstructible tracks', \n",
    "          'Y view station 1&2', \n",
    "          'Stereo station 1&2', \n",
    "          'Station 1&2',\n",
    "          'Y view station 3&4', \n",
    "          'Stereo station 3&4',\n",
    "          'Station 3&4',\n",
    "          'Combined stations 1&2/3&4',\n",
    "          'Matched']\n",
    "\n",
    "print 'Total efficiency per event is ', 1. * n_events[-1] / n_events[0] * 100., ' %'\n",
    "\n",
    "x = range(len(labels))\n",
    "#plt.figure(figsize=(15,5))\n",
    "plt.bar(x, n_events, width=1., color='gold', align='center')\n",
    "plt.xticks(x, labels, rotation=90, size=15)\n",
    "plt.xlim(-0.5, 8.5)\n",
    "plt.ylim(n_events.min(), n_events.max() + 1)\n",
    "plt.show()"
   ]
  },
  {
   "cell_type": "code",
   "execution_count": 48,
   "metadata": {
    "collapsed": false
   },
   "outputs": [
    {
     "name": "stdout",
     "output_type": "stream",
     "text": [
      "[ 316.  315.  309.  309.  303.  300.  300.  300.  299.]\n",
      "[2040, 1204, 2305, 381, 2263, 1793, 102, 143, 670, 1722, 1265, 270, 1528, 27, 692, 426, 1756]\n"
     ]
    }
   ],
   "source": [
    "print n_events\n",
    "print missed_events"
   ]
  },
  {
   "cell_type": "markdown",
   "metadata": {},
   "source": [
    "# Momentum"
   ]
  },
  {
   "cell_type": "code",
   "execution_count": 49,
   "metadata": {
    "collapsed": false
   },
   "outputs": [
    {
     "name": "stdout",
     "output_type": "stream",
     "text": [
      "y = b + kx\n",
      "k, b =  0.00300190428438 0.00208738035152\n",
      "Cov matrix is \n",
      "[[  4.49846430e-06   4.56452681e-07]\n",
      " [  4.56452681e-07   3.04416904e-05]]\n"
     ]
    },
    {
     "data": {
      "image/png": "[encoded data removed]",
      "text/plain": [
       "<matplotlib.figure.Figure at 0x11b88fdd0>"
      ]
     },
     "metadata": {},
     "output_type": "display_data"
    }
   ],
   "source": [
    "from MatchTracks import get_pinv_true_pinv\n",
    "        \n",
    "pinv, true_pinv = get_pinv_true_pinv(pinv_dict, true_pinv_dict, true_charge_dict)\n",
    "pinv = pinv.reshape(-1)\n",
    "        \n",
    "\n",
    "[k, b], cov = numpy.polyfit(true_pinv, pinv, 1, cov=True)\n",
    "print 'y = b + kx'\n",
    "print 'k, b = ', k, b\n",
    "print 'Cov matrix is '\n",
    "print cov\n",
    "\n",
    "plt.figure(figsize=(7, 5))\n",
    "plt.title('1/p vs 1/p-true', size=15)\n",
    "plt.scatter(true_pinv, pinv)\n",
    "x = numpy.array([-0.3, 0.3])\n",
    "plt.plot(x, k * x + b, color='r', linewidth=2, label='%.4f + ' % b + '%.4fx' % k)\n",
    "plt.legend(loc='best')\n",
    "plt.ylabel('1/p', size=15)\n",
    "plt.xlabel('1/p-true', size=15)\n",
    "plt.xlim(-0.3, 0.3)\n",
    "plt.ylim(-0.3, 0.3)\n",
    "plt.xticks(size=15)\n",
    "plt.yticks(size=15)\n",
    "plt.show()"
   ]
  },
  {
   "cell_type": "code",
   "execution_count": 50,
   "metadata": {
    "collapsed": false
   },
   "outputs": [
    {
     "data": {
      "image/png": "[encoded data removed]",
      "text/plain": [
       "<matplotlib.figure.Figure at 0x1094039d0>"
      ]
     },
     "metadata": {},
     "output_type": "display_data"
    }
   ],
   "source": [
    "plt.scatter(true_pinv, pinv)\n",
    "plt.show()"
   ]
  },
  {
   "cell_type": "code",
   "execution_count": 51,
   "metadata": {
    "collapsed": false
   },
   "outputs": [
    {
     "data": {
      "image/png": "[encoded data removed]",
      "text/plain": [
       "<matplotlib.figure.Figure at 0x11bc0fe50>"
      ]
     },
     "metadata": {},
     "output_type": "display_data"
    }
   ],
   "source": [
    "metric = true_pinv/pinv - 1\n",
    "\n",
    "plt.figure(figsize=(7, 5))\n",
    "plt.hist(metric[numpy.abs(metric) <= 0.5], bins=50)\n",
    "\n",
    "plt.title('(p - p-true)/p_true', size=15)\n",
    "plt.xticks(numpy.arange(-0.5, 0.51, 0.1), size=12)\n",
    "plt.yticks(size=12)\n",
    "plt.xlim(-0.5, 0.5)\n",
    "plt.show()"
   ]
  },
  {
   "cell_type": "code",
   "execution_count": null,
   "metadata": {
    "collapsed": true
   },
   "outputs": [],
   "source": []
  },
  {
   "cell_type": "code",
   "execution_count": null,
   "metadata": {
    "collapsed": true
   },
   "outputs": [],
   "source": []
  }
 ],
 "metadata": {
  "kernelspec": {
   "display_name": "Python 2",
   "language": "python",
   "name": "python2"
  },
  "language_info": {
   "codemirror_mode": {
    "name": "ipython",
    "version": 2
   },
   "file_extension": ".py",
   "mimetype": "text/x-python",
   "name": "python",
   "nbconvert_exporter": "python",
   "pygments_lexer": "ipython2",
   "version": "2.7.11"
  }
 },
 "nbformat": 4,
 "nbformat_minor": 0
}
