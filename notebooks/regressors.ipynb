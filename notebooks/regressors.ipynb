{
 "cells": [
  {
   "cell_type": "code",
   "execution_count": 1,
   "metadata": {
    "collapsed": false
   },
   "outputs": [],
   "source": [
    "%matplotlib inline\n",
    "import numpy\n",
    "import pandas\n",
    "import matplotlib.pyplot as plt"
   ]
  },
  {
   "cell_type": "markdown",
   "metadata": {},
   "source": [
    "# Synthetic data"
   ]
  },
  {
   "cell_type": "code",
   "execution_count": 2,
   "metadata": {
    "collapsed": true
   },
   "outputs": [],
   "source": [
    "X1 = numpy.array(numpy.arange(0, 10, 1)).reshape((-1, 1))\n",
    "y1 = 1. + 1. * X1.reshape(-1) + 1.*numpy.random.rand(len(X1))\n",
    "\n",
    "X2 = numpy.array(numpy.arange(0, 10, 1)).reshape((-1, 1))\n",
    "y2 = -4.5 + 3. * X2.reshape(-1) + 1.*numpy.random.rand(len(X2))\n",
    "\n",
    "X3 = numpy.array(numpy.arange(0, 10, 1)).reshape((-1, 1))\n",
    "y3 = 4.5 + -1. * X2.reshape(-1) + 1.*numpy.random.rand(len(X2))\n",
    "\n",
    "X = numpy.concatenate((X1, X2, X3), axis=0) \n",
    "y = numpy.concatenate((y1, y2, y3), axis=0)"
   ]
  },
  {
   "cell_type": "code",
   "execution_count": 3,
   "metadata": {
    "collapsed": false
   },
   "outputs": [
    {
     "data": {
      "image/png": "[encoded data removed]",
      "text/plain": [
       "<matplotlib.figure.Figure at 0x111c7bf90>"
      ]
     },
     "metadata": {},
     "output_type": "display_data"
    }
   ],
   "source": [
    "plt.scatter(X, y)\n",
    "plt.show()"
   ]
  },
  {
   "cell_type": "code",
   "execution_count": 4,
   "metadata": {
    "collapsed": false
   },
   "outputs": [],
   "source": [
    "#%%px\n",
    "\n",
    "import numpy\n",
    "import pandas\n",
    "from sklearn.linear_model import LinearRegression\n",
    "import itertools, random\n",
    "from sklearn.cluster import KMeans\n",
    "from sklearn.preprocessing import StandardScaler\n",
    "from sklearn.cluster import KMeans\n",
    "from sklearn.neighbors import NearestNeighbors\n",
    "from sklearn.metrics import silhouette_score\n",
    "\n",
    "\n",
    "class JustLinearRegression(object):\n",
    "\n",
    "    def __init__(self):\n",
    "\n",
    "        self.regressor = None # regressor's class\n",
    "\n",
    "    def fit(self, X, y):\n",
    "\n",
    "        qlr = LinearRegression()\n",
    "        qlr.fit(X, y)\n",
    "\n",
    "        self.regressor = qlr\n",
    "\n",
    "        if len(X) > 2:\n",
    "            score = numpy.sqrt(1. * (numpy.abs(qlr.predict(X) - y)**2).sum() / (len(X) - 2))\n",
    "        else:\n",
    "            score = numpy.sqrt(1. * (numpy.abs(qlr.predict(X) - y)**2).sum() / (len(X) - 1))\n",
    "\n",
    "        return score, qlr\n",
    "\n",
    "\n",
    "    def predict(self, X):\n",
    "\n",
    "        return self.regressor.predict(X)\n",
    "\n",
    "\n",
    "class MultiLinearRegression(object):\n",
    "\n",
    "    def __init__(self, n_tracks, \n",
    "                 n=4, \n",
    "                 subsample=1., \n",
    "                 x_unique=True, \n",
    "                 n_neighbors=10, \n",
    "                 step=0.05,  \n",
    "                 track_classifier=None,\n",
    "                 hit_classifier=None):\n",
    "\n",
    "        self.n = n\n",
    "        self.subsample = subsample\n",
    "        self.x_unique = x_unique\n",
    "        self.n_neighbors = n_neighbors\n",
    "        self.step = step\n",
    "        self.n_tracks = n_tracks\n",
    "        self.track_classifier = track_classifier\n",
    "        self.hit_classifier = hit_classifier\n",
    "        self.unique_sorted_dists = []\n",
    "        self.unique_sorted_indeces = []\n",
    "\n",
    "\n",
    "    def get_index_combinations(self, X, n):\n",
    "\n",
    "        index_combinations = []\n",
    "\n",
    "        indeces = range(len(X))\n",
    "        random.seed = 42\n",
    "\n",
    "        for one_combination in itertools.combinations(indeces, n):\n",
    "            \n",
    "            if self.subsample >= random.random():\n",
    "\n",
    "                if self.x_unique:\n",
    "\n",
    "                    X_one = X[list(one_combination)]\n",
    "                    X_one_unique = numpy.unique(X_one)\n",
    "\n",
    "                    if len(X_one_unique) == n:\n",
    "\n",
    "                        index_combinations.append(list(one_combination))\n",
    "\n",
    "                else:\n",
    "\n",
    "                    index_combinations.append(list(one_combination))\n",
    "\n",
    "        return index_combinations\n",
    "\n",
    "\n",
    "\n",
    "    def fit_lines(self, X, y):\n",
    "\n",
    "        scores_list = []\n",
    "        lrs_list = []\n",
    "\n",
    "        indexes_list = self.get_index_combinations(X, self.n)\n",
    "\n",
    "        for ind in indexes_list:\n",
    "\n",
    "            ind = list(ind)\n",
    "\n",
    "            X_step = X[ind]\n",
    "            y_step = y[ind]\n",
    "\n",
    "            mlr = JustLinearRegression()\n",
    "            score, lr = mlr.fit(X_step, y_step)\n",
    "            \n",
    "            scores_list.append(score)\n",
    "            lrs_list.append(lr)\n",
    "\n",
    "        return numpy.array(scores_list), numpy.array(lrs_list), numpy.array(indexes_list)\n",
    "    \n",
    "    def knn_max_density(self, X, n_neighbors, step):\n",
    "\n",
    "        ss = StandardScaler()\n",
    "        ss.fit(X)\n",
    "        X_standart = ss.transform(X)\n",
    "\n",
    "        passed_points_indeces = range(len(X_standart))\n",
    "        X_passed_standart = X_standart\n",
    "\n",
    "        while len(X_passed_standart) > n_neighbors:\n",
    "\n",
    "            knn = NearestNeighbors(n_neighbors=n_neighbors, leaf_size=100)\n",
    "            knn.fit(X_passed_standart)\n",
    "            knn_dists, knn_indeces = knn.kneighbors()\n",
    "\n",
    "            knn_dists_mean = knn_dists.mean(axis=1)\n",
    "\n",
    "            n_points = max(1, int(step * len(X_passed_standart)))\n",
    "            passed_points_indeces = knn_dists_mean.argsort()[:-n_points]\n",
    "            knn_dists_mean.sort()\n",
    "\n",
    "            X_passed_standart = X_passed_standart[passed_points_indeces]\n",
    "            \n",
    "        X_passed = ss.inverse_transform(X_passed_standart)\n",
    "\n",
    "        return X_passed\n",
    "\n",
    "\n",
    "    def get_tracks(self, X, n_tracks):\n",
    "\n",
    "        ss = StandardScaler()\n",
    "        ss.fit(X)\n",
    "\n",
    "        transformed_tracks = ss.transform(X).mean(axis=0)\n",
    "        tracks = ss.inverse_transform(transformed_tracks)\n",
    "            \n",
    "        return tracks\n",
    "    \n",
    "    def _select_array(self, array):\n",
    "\n",
    "        max_model = None\n",
    "        max_score = -1\n",
    "\n",
    "        for n_clusters in [2, 3, 4]:\n",
    "\n",
    "            km = KMeans(n_clusters=3)\n",
    "            km.fit(array.reshape(-1, 1))\n",
    "\n",
    "            score = silhouette_score(array.reshape(-1, 1), km.labels_)\n",
    "\n",
    "            if score > max_score:\n",
    "\n",
    "                max_score  = score\n",
    "                max_model = km\n",
    "\n",
    "\n",
    "        if max_score >= 0.7:\n",
    "\n",
    "            min_cluster_id = max_model.cluster_centers_.reshape(-1).argsort()[0]\n",
    "            indeces = numpy.arange(len(array))[max_model.labels_ == min_cluster_id]\n",
    "\n",
    "        else:\n",
    "\n",
    "            indeces = numpy.arange(len(array))\n",
    "                \n",
    "        return indeces\n",
    "    \n",
    "    def _hits_classification(self, dists, track):\n",
    "        \n",
    "        ks = [[track[0]]] * len(dists)\n",
    "        bs = [[track[1]]] * len(dists)\n",
    "        \n",
    "        X = numpy.concatenate((dists.reshape(-1,1), ks, bs), axis=1)\n",
    "        predict = self.hit_classifier.predict(X)\n",
    "        \n",
    "        return numpy.arange(len(dists))[predict == 1]\n",
    "    \n",
    "    def get_points(self, X, y, track):\n",
    "        \n",
    "        dists = numpy.abs(y - (track[:-1] * X).sum(axis=1) - track[-1])\n",
    "        sorted_dists_indeces = dists.argsort()\n",
    "        \n",
    "        indeces = numpy.array(range(len(X)))\n",
    "\n",
    "        sorted_dists = dists[sorted_dists_indeces]\n",
    "        sorted_X = X[sorted_dists_indeces]\n",
    "        sorted_y = y[sorted_dists_indeces]\n",
    "        sorted_indeces = indeces[sorted_dists_indeces]\n",
    "\n",
    "        unique, index = numpy.unique(sorted_X, return_index=True)\n",
    "\n",
    "        unique_dists = sorted_dists[index]\n",
    "        unique_X = sorted_X[index]\n",
    "        unique_y = sorted_y[index]\n",
    "        unique_indeces = sorted_indeces[index]\n",
    "\n",
    "        sorted_dists_indeces = unique_dists.argsort()\n",
    "\n",
    "        unique_sorted_dists = unique_dists[sorted_dists_indeces]\n",
    "        unique_sorted_X = unique_X[sorted_dists_indeces]\n",
    "        unique_sorted_y = unique_y[sorted_dists_indeces]\n",
    "        unique_sorted_indeces = unique_indeces[sorted_dists_indeces]\n",
    "        \n",
    "        self.unique_sorted_dists.append(unique_sorted_dists)\n",
    "        self.unique_sorted_indeces.append(unique_sorted_indeces)\n",
    "        \n",
    "        if self.hit_classifier == None:\n",
    "        \n",
    "            track_indeces = self._select_array(unique_sorted_dists)\n",
    "            \n",
    "        else:\n",
    "            \n",
    "            track_indeces = self._hits_classification(unique_sorted_dists, track)\n",
    "        \n",
    "        return unique_sorted_X[track_indeces], unique_sorted_y[track_indeces], unique_sorted_indeces[track_indeces]\n",
    "        \n",
    "        \n",
    "        \n",
    "    def _fit_satellite(self, scores, lrs):\n",
    "        \n",
    "        ks = numpy.array([lr.coef_ for lr in lrs])\n",
    "        bs = numpy.array([lr.intercept_ for lr in lrs]).reshape((-1,1))\n",
    "        \n",
    "        track_candidates = numpy.concatenate((ks, bs), axis=1)\n",
    "        \n",
    "        n_neighbors = self.n_neighbors\n",
    "        step = self.step\n",
    "        track_candidates_dense = self.knn_max_density(track_candidates, n_neighbors, step)\n",
    "        \n",
    "        \n",
    "        tracks = self.get_tracks(track_candidates_dense, self.n_tracks)\n",
    "        \n",
    "        return tracks\n",
    "    \n",
    "    def _classification(self, scores, lrs, indeces):\n",
    "        \n",
    "        ks = numpy.array([lr.coef_ for lr in lrs])\n",
    "        bs = numpy.array([lr.intercept_ for lr in lrs]).reshape((-1,1))\n",
    "        \n",
    "        X = numpy.concatenate((scores.reshape(-1,1), ks, bs.reshape(-1,1)), axis=1)\n",
    "        y_predict = self.track_classifier.predict(X)\n",
    "        \n",
    "        return scores[y_predict == 1], lrs[y_predict == 1], indeces[y_predict == 1]\n",
    "    \n",
    "    def _isAinB(self, A, B):\n",
    "    \n",
    "        return len(set(A) & set(B)) != 0\n",
    "    \n",
    "    def _get_all_tracks(self, X, y, scores, lrs, indeces, unique_index):\n",
    "        \n",
    "        tracks = []\n",
    "        tracks_labels = -1 * numpy.ones(len(X))\n",
    "        \n",
    "        self.qw = []\n",
    "        \n",
    "        if unique_index == None:\n",
    "            \n",
    "            scores_curr = scores.copy()\n",
    "            lrs_curr = lrs.copy()\n",
    "            looked_inds = []\n",
    "            \n",
    "            for num in range(self.n_tracks):\n",
    "                \n",
    "                one_track = self._fit_satellite(scores_curr, lrs_curr)\n",
    "                one_track_X, one_track_y, one_track_indeces = self.get_points(X, y, one_track)\n",
    "                tracks_labels[one_track_indeces] = num\n",
    "                tracks.append(one_track)\n",
    "                \n",
    "                self.qw.append(one_track_indeces)\n",
    "                \n",
    "                looked_inds += list(one_track_indeces)\n",
    "                \n",
    "                selection = numpy.array([not self._isAinB(i, looked_inds) for i in indeces])\n",
    "                scores_curr = scores[selection]\n",
    "                lrs_curr = lrs[selection]\n",
    "                \n",
    "        return tracks, tracks_labels\n",
    "                \n",
    "    \n",
    "    def fit(self, X, y, unique_index=None):\n",
    "        \n",
    "        scores, lrs, indeces = self.fit_lines(X, y)\n",
    "        \n",
    "        if self.track_classifier != None:\n",
    "            \n",
    "            scores, lrs, indeces = self._classification(scores, lrs, indeces)\n",
    "            self.scores_ = scores\n",
    "            self.lrs_ = lrs\n",
    "            self.indeces_ = indeces\n",
    "        \n",
    "            tracks, tracks_labels = self._get_all_tracks(X, y, scores, lrs, indeces, unique_index)\n",
    "        \n",
    "        else:\n",
    "            \n",
    "            self.scores_ = scores\n",
    "            self.lrs_ = lrs\n",
    "            self.indeces_ = indeces\n",
    "        \n",
    "            tracks, tracks_labels = self._get_all_tracks(X, y, scores, lrs, indeces, unique_index)\n",
    "            \n",
    "        \n",
    "        self.tracks_ = tracks\n",
    "        self.labels_ = tracks_labels\n",
    "\n",
    "\n",
    "    def predict(self, X):\n",
    "        \n",
    "        predictions = []\n",
    "        \n",
    "        for track in self.tracks_:\n",
    "            \n",
    "            y_predict = (track[:-1] * X).sum(axis=1) + track[-1]\n",
    "            predictions.append(y_predict)\n",
    "            \n",
    "        return numpy.array(predictions)"
   ]
  },
  {
   "cell_type": "code",
   "execution_count": 5,
   "metadata": {
    "collapsed": false
   },
   "outputs": [
    {
     "ename": "TypeError",
     "evalue": "__init__() got an unexpected keyword argument 'classifier'",
     "output_type": "error",
     "traceback": [
      "\u001b[0;31m---------------------------------------------------------------------------\u001b[0m",
      "\u001b[0;31mTypeError\u001b[0m                                 Traceback (most recent call last)",
      "\u001b[0;32m<ipython-input-5-5655b2ea785b>\u001b[0m in \u001b[0;36m<module>\u001b[0;34m()\u001b[0m\n\u001b[0;32m----> 1\u001b[0;31m \u001b[0mget_ipython\u001b[0m\u001b[0;34m(\u001b[0m\u001b[0;34m)\u001b[0m\u001b[0;34m.\u001b[0m\u001b[0mrun_cell_magic\u001b[0m\u001b[0;34m(\u001b[0m\u001b[0;34mu'time'\u001b[0m\u001b[0;34m,\u001b[0m \u001b[0;34mu''\u001b[0m\u001b[0;34m,\u001b[0m \u001b[0;34mu\"rmlr = MultiLinearRegression(n_tracks=3, \\n                             n=3, \\n                             subsample=1, \\n                             n_neighbors=10, \\n                             step=0.1,  \\n                             classifier=None)\\nrmlr.fit(X, y)\\npredictions = rmlr.predict(X)\\n\\ntracks = rmlr.tracks_\\ntracks_labels = rmlr.labels_\\nscores = rmlr.scores_\\nlrs = rmlr.lrs_\\n\\n\\n\\nplt.scatter(X, y)\\ncolors = ['r', 'g', 'm']\\nfor num, track in enumerate(tracks):\\n    plt.scatter(X[tracks_labels == num], y[tracks_labels == num], color=colors[num])\\n    #plt.scatter(X[rmlr.qw[num]], y[rmlr.qw[num]], color=colors[num])\\n    plt.plot(X, predictions[num], color='b')\\n    \\nplt.ylim(y.min()-1, y.max()+1)\\nplt.show()\"\u001b[0m\u001b[0;34m)\u001b[0m\u001b[0;34m\u001b[0m\u001b[0m\n\u001b[0m",
      "\u001b[0;32m/Users/mikhail91/.virtualenvs/rep_6_5/lib/python2.7/site-packages/IPython/core/interactiveshell.pyc\u001b[0m in \u001b[0;36mrun_cell_magic\u001b[0;34m(self, magic_name, line, cell)\u001b[0m\n\u001b[1;32m   2291\u001b[0m             \u001b[0mmagic_arg_s\u001b[0m \u001b[0;34m=\u001b[0m \u001b[0mself\u001b[0m\u001b[0;34m.\u001b[0m\u001b[0mvar_expand\u001b[0m\u001b[0;34m(\u001b[0m\u001b[0mline\u001b[0m\u001b[0;34m,\u001b[0m \u001b[0mstack_depth\u001b[0m\u001b[0;34m)\u001b[0m\u001b[0;34m\u001b[0m\u001b[0m\n\u001b[1;32m   2292\u001b[0m             \u001b[0;32mwith\u001b[0m \u001b[0mself\u001b[0m\u001b[0;34m.\u001b[0m\u001b[0mbuiltin_trap\u001b[0m\u001b[0;34m:\u001b[0m\u001b[0;34m\u001b[0m\u001b[0m\n\u001b[0;32m-> 2293\u001b[0;31m                 \u001b[0mresult\u001b[0m \u001b[0;34m=\u001b[0m \u001b[0mfn\u001b[0m\u001b[0;34m(\u001b[0m\u001b[0mmagic_arg_s\u001b[0m\u001b[0;34m,\u001b[0m \u001b[0mcell\u001b[0m\u001b[0;34m)\u001b[0m\u001b[0;34m\u001b[0m\u001b[0m\n\u001b[0m\u001b[1;32m   2294\u001b[0m             \u001b[0;32mreturn\u001b[0m \u001b[0mresult\u001b[0m\u001b[0;34m\u001b[0m\u001b[0m\n\u001b[1;32m   2295\u001b[0m \u001b[0;34m\u001b[0m\u001b[0m\n",
      "\u001b[0;32m<decorator-gen-60>\u001b[0m in \u001b[0;36mtime\u001b[0;34m(self, line, cell, local_ns)\u001b[0m\n",
      "\u001b[0;32m/Users/mikhail91/.virtualenvs/rep_6_5/lib/python2.7/site-packages/IPython/core/magic.pyc\u001b[0m in \u001b[0;36m<lambda>\u001b[0;34m(f, *a, **k)\u001b[0m\n\u001b[1;32m    191\u001b[0m     \u001b[0;31m# but it's overkill for just that one bit of state.\u001b[0m\u001b[0;34m\u001b[0m\u001b[0;34m\u001b[0m\u001b[0m\n\u001b[1;32m    192\u001b[0m     \u001b[0;32mdef\u001b[0m \u001b[0mmagic_deco\u001b[0m\u001b[0;34m(\u001b[0m\u001b[0marg\u001b[0m\u001b[0;34m)\u001b[0m\u001b[0;34m:\u001b[0m\u001b[0;34m\u001b[0m\u001b[0m\n\u001b[0;32m--> 193\u001b[0;31m         \u001b[0mcall\u001b[0m \u001b[0;34m=\u001b[0m \u001b[0;32mlambda\u001b[0m \u001b[0mf\u001b[0m\u001b[0;34m,\u001b[0m \u001b[0;34m*\u001b[0m\u001b[0ma\u001b[0m\u001b[0;34m,\u001b[0m \u001b[0;34m**\u001b[0m\u001b[0mk\u001b[0m\u001b[0;34m:\u001b[0m \u001b[0mf\u001b[0m\u001b[0;34m(\u001b[0m\u001b[0;34m*\u001b[0m\u001b[0ma\u001b[0m\u001b[0;34m,\u001b[0m \u001b[0;34m**\u001b[0m\u001b[0mk\u001b[0m\u001b[0;34m)\u001b[0m\u001b[0;34m\u001b[0m\u001b[0m\n\u001b[0m\u001b[1;32m    194\u001b[0m \u001b[0;34m\u001b[0m\u001b[0m\n\u001b[1;32m    195\u001b[0m         \u001b[0;32mif\u001b[0m \u001b[0mcallable\u001b[0m\u001b[0;34m(\u001b[0m\u001b[0marg\u001b[0m\u001b[0;34m)\u001b[0m\u001b[0;34m:\u001b[0m\u001b[0;34m\u001b[0m\u001b[0m\n",
      "\u001b[0;32m/Users/mikhail91/.virtualenvs/rep_6_5/lib/python2.7/site-packages/IPython/core/magics/execution.pyc\u001b[0m in \u001b[0;36mtime\u001b[0;34m(self, line, cell, local_ns)\u001b[0m\n\u001b[1;32m   1165\u001b[0m         \u001b[0;32melse\u001b[0m\u001b[0;34m:\u001b[0m\u001b[0;34m\u001b[0m\u001b[0m\n\u001b[1;32m   1166\u001b[0m             \u001b[0mst\u001b[0m \u001b[0;34m=\u001b[0m \u001b[0mclock2\u001b[0m\u001b[0;34m(\u001b[0m\u001b[0;34m)\u001b[0m\u001b[0;34m\u001b[0m\u001b[0m\n\u001b[0;32m-> 1167\u001b[0;31m             \u001b[0;32mexec\u001b[0m\u001b[0;34m(\u001b[0m\u001b[0mcode\u001b[0m\u001b[0;34m,\u001b[0m \u001b[0mglob\u001b[0m\u001b[0;34m,\u001b[0m \u001b[0mlocal_ns\u001b[0m\u001b[0;34m)\u001b[0m\u001b[0;34m\u001b[0m\u001b[0m\n\u001b[0m\u001b[1;32m   1168\u001b[0m             \u001b[0mend\u001b[0m \u001b[0;34m=\u001b[0m \u001b[0mclock2\u001b[0m\u001b[0;34m(\u001b[0m\u001b[0;34m)\u001b[0m\u001b[0;34m\u001b[0m\u001b[0m\n\u001b[1;32m   1169\u001b[0m             \u001b[0mout\u001b[0m \u001b[0;34m=\u001b[0m \u001b[0mNone\u001b[0m\u001b[0;34m\u001b[0m\u001b[0m\n",
      "\u001b[0;32m<timed exec>\u001b[0m in \u001b[0;36m<module>\u001b[0;34m()\u001b[0m\n",
      "\u001b[0;31mTypeError\u001b[0m: __init__() got an unexpected keyword argument 'classifier'"
     ]
    }
   ],
   "source": [
    "%%time\n",
    "rmlr = MultiLinearRegression(n_tracks=3, \n",
    "                             n=3, \n",
    "                             subsample=1, \n",
    "                             n_neighbors=10, \n",
    "                             step=0.1,  \n",
    "                             classifier=None)\n",
    "rmlr.fit(X, y)\n",
    "predictions = rmlr.predict(X)\n",
    "\n",
    "tracks = rmlr.tracks_\n",
    "tracks_labels = rmlr.labels_\n",
    "scores = rmlr.scores_\n",
    "lrs = rmlr.lrs_\n",
    "\n",
    "\n",
    "\n",
    "plt.scatter(X, y)\n",
    "colors = ['r', 'g', 'm']\n",
    "for num, track in enumerate(tracks):\n",
    "    plt.scatter(X[tracks_labels == num], y[tracks_labels == num], color=colors[num])\n",
    "    #plt.scatter(X[rmlr.qw[num]], y[rmlr.qw[num]], color=colors[num])\n",
    "    plt.plot(X, predictions[num], color='b')\n",
    "    \n",
    "plt.ylim(y.min()-1, y.max()+1)\n",
    "plt.show()"
   ]
  },
  {
   "cell_type": "code",
   "execution_count": null,
   "metadata": {
    "collapsed": false
   },
   "outputs": [],
   "source": [
    "plt.scatter(X, y)\n",
    "for lr, score in zip(lrs, scores):\n",
    "    plt.plot(X, lr.predict(X), alpha=0.01 * min(1, 1./score), color='0')\n",
    "    \n",
    "plt.ylim(y.min() - 1, y.max() + 1)\n",
    "plt.show()"
   ]
  },
  {
   "cell_type": "code",
   "execution_count": null,
   "metadata": {
    "collapsed": false
   },
   "outputs": [],
   "source": [
    "%%time\n",
    "ks = numpy.array([lr.coef_[0] for lr in lrs])\n",
    "bs = numpy.array([lr.intercept_ for lr in lrs])\n",
    "\n",
    "a = ks\n",
    "b = bs\n",
    "ab = numpy.concatenate((a.reshape(-1,1),b.reshape(-1,1)), axis=1)\n",
    "\n",
    "plt.hist2d(a, b, bins=50, range=[[numpy.percentile(a, 5), numpy.percentile(a, 95)], \n",
    "                                 [numpy.percentile(b, 5), numpy.percentile(b, 95)]])\n",
    "plt.colorbar()\n",
    "plt.show()"
   ]
  },
  {
   "cell_type": "markdown",
   "metadata": {},
   "source": [
    "# SHiP"
   ]
  },
  {
   "cell_type": "code",
   "execution_count": 10,
   "metadata": {
    "collapsed": false
   },
   "outputs": [],
   "source": [
    "import os, sys\n",
    "sys.path.append('../functions')\n",
    "from Y_views import *\n",
    "import cPickle as pickle\n",
    "\n",
    "all_hits = pandas.read_csv('Data/strawtubesPoint_decoded_hits.csv', delimiter=',')\n",
    "all_hits['Index'] = all_hits.index\n",
    "\n",
    "file_pickle = open('./Data/reco_tracks_for_pattern_recognition_valid.pkl', 'rb')\n",
    "reconstructible_events_valid_pkl = pickle.load(file_pickle)\n",
    "file_pickle.close()\n",
    "reconstructible_events_valid = reconstructible_events_valid_pkl"
   ]
  },
  {
   "cell_type": "code",
   "execution_count": 11,
   "metadata": {
    "collapsed": true
   },
   "outputs": [],
   "source": [
    "from Y_views import *\n",
    "from UV_views import *\n",
    "\n",
    "hits_zy_12, _ = modify_for_yz_analysis_1_2(all_hits)\n",
    "hits_zx_12, _ = modify_for_xz_analysis_1_2(all_hits)\n",
    "\n",
    "hits_zy_34, _ = modify_for_yz_analysis_3_4(all_hits)\n",
    "hits_zx_34, _ = modify_for_xz_analysis_3_4(all_hits)"
   ]
  },
  {
   "cell_type": "code",
   "execution_count": 12,
   "metadata": {
    "collapsed": false
   },
   "outputs": [],
   "source": [
    "event_id =  1967#381#518#1756#27\n",
    "event = hits_zy_12[hits_zy_12['event'] == event_id]"
   ]
  },
  {
   "cell_type": "code",
   "execution_count": 13,
   "metadata": {
    "collapsed": false
   },
   "outputs": [],
   "source": [
    "XX = event.Wz.values\n",
    "yy = event.Wy.values\n",
    "rr = 1*event.dist2Wire.values\n",
    "\n",
    "X = numpy.concatenate((XX, XX), axis=0).reshape((-1, 1))\n",
    "y = numpy.concatenate((yy+rr, yy-rr), axis=0) "
   ]
  },
  {
   "cell_type": "code",
   "execution_count": 14,
   "metadata": {
    "collapsed": false
   },
   "outputs": [
    {
     "ename": "TypeError",
     "evalue": "__init__() got an unexpected keyword argument 'classifier'",
     "output_type": "error",
     "traceback": [
      "\u001b[0;31m---------------------------------------------------------------------------\u001b[0m",
      "\u001b[0;31mTypeError\u001b[0m                                 Traceback (most recent call last)",
      "\u001b[0;32m<ipython-input-14-45e69b657da7>\u001b[0m in \u001b[0;36m<module>\u001b[0;34m()\u001b[0m\n\u001b[0;32m----> 1\u001b[0;31m \u001b[0mget_ipython\u001b[0m\u001b[0;34m(\u001b[0m\u001b[0;34m)\u001b[0m\u001b[0;34m.\u001b[0m\u001b[0mrun_cell_magic\u001b[0m\u001b[0;34m(\u001b[0m\u001b[0;34mu'time'\u001b[0m\u001b[0;34m,\u001b[0m \u001b[0;34mu''\u001b[0m\u001b[0;34m,\u001b[0m \u001b[0;34mu\"rmlr = MultiLinearRegression(n_tracks=2, \\n                             n=3, \\n                             subsample=0.5, \\n                             n_neighbors=10, \\n                             step=0.1,  \\n                             classifier=None)\\nrmlr.fit(X, y)\\npredictions = rmlr.predict(X)\\n\\ntracks = rmlr.tracks_\\ntracks_labels = rmlr.labels_\\nscores = rmlr.scores_\\nlrs = rmlr.lrs_\\n\\n\\n\\nplt.scatter(X, y)\\ncolors = ['r', 'g', 'm']\\nfor num, track in enumerate(tracks):\\n    plt.scatter(X[tracks_labels == num], y[tracks_labels == num], color=colors[num])\\n    plt.plot(X, predictions[num], color='b')\\n    \\nplt.ylim(y.min()-1, y.max()+1)\\nplt.show()\"\u001b[0m\u001b[0;34m)\u001b[0m\u001b[0;34m\u001b[0m\u001b[0m\n\u001b[0m",
      "\u001b[0;32m/Users/mikhail91/.virtualenvs/rep_6_5/lib/python2.7/site-packages/IPython/core/interactiveshell.pyc\u001b[0m in \u001b[0;36mrun_cell_magic\u001b[0;34m(self, magic_name, line, cell)\u001b[0m\n\u001b[1;32m   2291\u001b[0m             \u001b[0mmagic_arg_s\u001b[0m \u001b[0;34m=\u001b[0m \u001b[0mself\u001b[0m\u001b[0;34m.\u001b[0m\u001b[0mvar_expand\u001b[0m\u001b[0;34m(\u001b[0m\u001b[0mline\u001b[0m\u001b[0;34m,\u001b[0m \u001b[0mstack_depth\u001b[0m\u001b[0;34m)\u001b[0m\u001b[0;34m\u001b[0m\u001b[0m\n\u001b[1;32m   2292\u001b[0m             \u001b[0;32mwith\u001b[0m \u001b[0mself\u001b[0m\u001b[0;34m.\u001b[0m\u001b[0mbuiltin_trap\u001b[0m\u001b[0;34m:\u001b[0m\u001b[0;34m\u001b[0m\u001b[0m\n\u001b[0;32m-> 2293\u001b[0;31m                 \u001b[0mresult\u001b[0m \u001b[0;34m=\u001b[0m \u001b[0mfn\u001b[0m\u001b[0;34m(\u001b[0m\u001b[0mmagic_arg_s\u001b[0m\u001b[0;34m,\u001b[0m \u001b[0mcell\u001b[0m\u001b[0;34m)\u001b[0m\u001b[0;34m\u001b[0m\u001b[0m\n\u001b[0m\u001b[1;32m   2294\u001b[0m             \u001b[0;32mreturn\u001b[0m \u001b[0mresult\u001b[0m\u001b[0;34m\u001b[0m\u001b[0m\n\u001b[1;32m   2295\u001b[0m \u001b[0;34m\u001b[0m\u001b[0m\n",
      "\u001b[0;32m<decorator-gen-60>\u001b[0m in \u001b[0;36mtime\u001b[0;34m(self, line, cell, local_ns)\u001b[0m\n",
      "\u001b[0;32m/Users/mikhail91/.virtualenvs/rep_6_5/lib/python2.7/site-packages/IPython/core/magic.pyc\u001b[0m in \u001b[0;36m<lambda>\u001b[0;34m(f, *a, **k)\u001b[0m\n\u001b[1;32m    191\u001b[0m     \u001b[0;31m# but it's overkill for just that one bit of state.\u001b[0m\u001b[0;34m\u001b[0m\u001b[0;34m\u001b[0m\u001b[0m\n\u001b[1;32m    192\u001b[0m     \u001b[0;32mdef\u001b[0m \u001b[0mmagic_deco\u001b[0m\u001b[0;34m(\u001b[0m\u001b[0marg\u001b[0m\u001b[0;34m)\u001b[0m\u001b[0;34m:\u001b[0m\u001b[0;34m\u001b[0m\u001b[0m\n\u001b[0;32m--> 193\u001b[0;31m         \u001b[0mcall\u001b[0m \u001b[0;34m=\u001b[0m \u001b[0;32mlambda\u001b[0m \u001b[0mf\u001b[0m\u001b[0;34m,\u001b[0m \u001b[0;34m*\u001b[0m\u001b[0ma\u001b[0m\u001b[0;34m,\u001b[0m \u001b[0;34m**\u001b[0m\u001b[0mk\u001b[0m\u001b[0;34m:\u001b[0m \u001b[0mf\u001b[0m\u001b[0;34m(\u001b[0m\u001b[0;34m*\u001b[0m\u001b[0ma\u001b[0m\u001b[0;34m,\u001b[0m \u001b[0;34m**\u001b[0m\u001b[0mk\u001b[0m\u001b[0;34m)\u001b[0m\u001b[0;34m\u001b[0m\u001b[0m\n\u001b[0m\u001b[1;32m    194\u001b[0m \u001b[0;34m\u001b[0m\u001b[0m\n\u001b[1;32m    195\u001b[0m         \u001b[0;32mif\u001b[0m \u001b[0mcallable\u001b[0m\u001b[0;34m(\u001b[0m\u001b[0marg\u001b[0m\u001b[0;34m)\u001b[0m\u001b[0;34m:\u001b[0m\u001b[0;34m\u001b[0m\u001b[0m\n",
      "\u001b[0;32m/Users/mikhail91/.virtualenvs/rep_6_5/lib/python2.7/site-packages/IPython/core/magics/execution.pyc\u001b[0m in \u001b[0;36mtime\u001b[0;34m(self, line, cell, local_ns)\u001b[0m\n\u001b[1;32m   1165\u001b[0m         \u001b[0;32melse\u001b[0m\u001b[0;34m:\u001b[0m\u001b[0;34m\u001b[0m\u001b[0m\n\u001b[1;32m   1166\u001b[0m             \u001b[0mst\u001b[0m \u001b[0;34m=\u001b[0m \u001b[0mclock2\u001b[0m\u001b[0;34m(\u001b[0m\u001b[0;34m)\u001b[0m\u001b[0;34m\u001b[0m\u001b[0m\n\u001b[0;32m-> 1167\u001b[0;31m             \u001b[0;32mexec\u001b[0m\u001b[0;34m(\u001b[0m\u001b[0mcode\u001b[0m\u001b[0;34m,\u001b[0m \u001b[0mglob\u001b[0m\u001b[0;34m,\u001b[0m \u001b[0mlocal_ns\u001b[0m\u001b[0;34m)\u001b[0m\u001b[0;34m\u001b[0m\u001b[0m\n\u001b[0m\u001b[1;32m   1168\u001b[0m             \u001b[0mend\u001b[0m \u001b[0;34m=\u001b[0m \u001b[0mclock2\u001b[0m\u001b[0;34m(\u001b[0m\u001b[0;34m)\u001b[0m\u001b[0;34m\u001b[0m\u001b[0m\n\u001b[1;32m   1169\u001b[0m             \u001b[0mout\u001b[0m \u001b[0;34m=\u001b[0m \u001b[0mNone\u001b[0m\u001b[0;34m\u001b[0m\u001b[0m\n",
      "\u001b[0;32m<timed exec>\u001b[0m in \u001b[0;36m<module>\u001b[0;34m()\u001b[0m\n",
      "\u001b[0;31mTypeError\u001b[0m: __init__() got an unexpected keyword argument 'classifier'"
     ]
    }
   ],
   "source": [
    "%%time\n",
    "rmlr = MultiLinearRegression(n_tracks=2, \n",
    "                             n=3, \n",
    "                             subsample=0.5, \n",
    "                             n_neighbors=10, \n",
    "                             step=0.1,  \n",
    "                             classifier=None)\n",
    "rmlr.fit(X, y)\n",
    "predictions = rmlr.predict(X)\n",
    "\n",
    "tracks = rmlr.tracks_\n",
    "tracks_labels = rmlr.labels_\n",
    "scores = rmlr.scores_\n",
    "lrs = rmlr.lrs_\n",
    "\n",
    "\n",
    "\n",
    "plt.scatter(X, y)\n",
    "colors = ['r', 'g', 'm']\n",
    "for num, track in enumerate(tracks):\n",
    "    plt.scatter(X[tracks_labels == num], y[tracks_labels == num], color=colors[num])\n",
    "    plt.plot(X, predictions[num], color='b')\n",
    "    \n",
    "plt.ylim(y.min()-1, y.max()+1)\n",
    "plt.show()"
   ]
  },
  {
   "cell_type": "code",
   "execution_count": null,
   "metadata": {
    "collapsed": false
   },
   "outputs": [],
   "source": [
    "plt.scatter(X, y)\n",
    "for lr, score in zip(lrs, scores):\n",
    "    plt.plot(X, lr.predict(X), alpha=0.01 * min(1, 1./score), color='0')\n",
    "    \n",
    "plt.ylim(y.min() - 1, y.max() + 1)\n",
    "plt.show()"
   ]
  },
  {
   "cell_type": "code",
   "execution_count": null,
   "metadata": {
    "collapsed": false
   },
   "outputs": [],
   "source": [
    "%%time\n",
    "ks = numpy.array([lr.coef_[0] for lr in lrs])\n",
    "bs = numpy.array([lr.intercept_ for lr in lrs])\n",
    "\n",
    "a = ks\n",
    "b = bs\n",
    "ab = numpy.concatenate((a.reshape(-1,1),b.reshape(-1,1)), axis=1)\n",
    "\n",
    "plt.hist2d(a, b, bins=50, range=[[numpy.percentile(a, 1), numpy.percentile(a, 99)], \n",
    "                                 [numpy.percentile(b, 1), numpy.percentile(b, 99)]])\n",
    "plt.colorbar()\n",
    "plt.show()"
   ]
  },
  {
   "cell_type": "markdown",
   "metadata": {},
   "source": [
    "# SHiP + Classifier"
   ]
  },
  {
   "cell_type": "code",
   "execution_count": null,
   "metadata": {
    "collapsed": true
   },
   "outputs": [],
   "source": [
    "def get_zx_hits(event_id, data, plane_k, plane_b):\n",
    "\n",
    "    stereo_hits = data[data['event'] == event_id]\n",
    "\n",
    "    stereo_hits['Wy'] = plane_k * stereo_hits.Wz.values + plane_b\n",
    "    stereo_hits['Wx'] = (stereo_hits.Wx2.values - stereo_hits.Wx1.values) / (stereo_hits.Wy2.values - stereo_hits.Wy1.values) * \\\n",
    "                        (stereo_hits.Wy.values - stereo_hits.Wy1.values) + stereo_hits.Wx1.values\n",
    "\n",
    "    return stereo_hits"
   ]
  },
  {
   "cell_type": "code",
   "execution_count": 15,
   "metadata": {
    "collapsed": false
   },
   "outputs": [],
   "source": [
    "from sklearn.linear_model import LinearRegression\n",
    "\n",
    "def get_data_zx_classifier(hits_zy, hits_zx, events, stations):\n",
    "\n",
    "    data_zx_track = pandas.DataFrame(columns=['score', 'k', 'b', 'label'])\n",
    "    data_zx_hit = pandas.DataFrame(columns=['dist', 'k', 'b', 'label'])\n",
    "\n",
    "    for event_id in events:\n",
    "\n",
    "        event = hits_zy[hits_zy.event == event_id]\n",
    "\n",
    "        track2 = event[event.TrackID == 2]\n",
    "        track3 = event[event.TrackID == 3]\n",
    "\n",
    "        if len(track2)==0 or len(track3)==0:\n",
    "            continue\n",
    "\n",
    "        X1 = track2.Z.values.reshape(-1, 1)\n",
    "        y1 = track2.Y.values\n",
    "\n",
    "        X2 = track3.Z.values.reshape(-1, 1)\n",
    "        y2 = track3.Y.values\n",
    "\n",
    "        mlr = JustLinearRegression()\n",
    "        score, lr = mlr.fit(X1, y1)\n",
    "\n",
    "\n",
    "        stereo_hits = get_zx_hits(event_id, hits_zx, lr.coef_[0], lr.intercept_)\n",
    "        X = stereo_hits.Z.values.reshape(-1, 1)\n",
    "        y = stereo_hits.X.values\n",
    "        stereo_X = stereo_hits[stereo_hits.TrackID == 2].Z.values.reshape(-1, 1)\n",
    "        stereo_y = stereo_hits[stereo_hits.TrackID == 2].X.values\n",
    "        mlr = JustLinearRegression()\n",
    "        score, lr = mlr.fit(stereo_X, stereo_y)\n",
    "        data_zx_track.loc[len(data_zx_track)] = [score, lr.coef_[0], lr.intercept_, 1]\n",
    "        for ind in range(len(X)):\n",
    "            data_zx_hit.loc[len(data_zx_hit)] = [numpy.abs(y[ind] - lr.predict(X[ind].reshape(-1, 1)))[0], \n",
    "                                                 lr.coef_[0], \n",
    "                                                 lr.intercept_, \n",
    "                                                 (stereo_hits.TrackID.values[ind] == 2) * 1]\n",
    "\n",
    "\n",
    "        mlr = JustLinearRegression()\n",
    "        score, lr = mlr.fit(X2, y2)\n",
    "\n",
    "\n",
    "        stereo_hits = get_zx_hits(event_id, hits_zx, lr.coef_[0], lr.intercept_)\n",
    "        X = stereo_hits.Z.values.reshape(-1, 1)\n",
    "        y = stereo_hits.X.values\n",
    "        stereo_X = stereo_hits[stereo_hits.TrackID == 3].Z.values.reshape(-1, 1)\n",
    "        stereo_y = stereo_hits[stereo_hits.TrackID == 3].X.values\n",
    "        mlr = JustLinearRegression()\n",
    "        score, lr = mlr.fit(stereo_X, stereo_y)\n",
    "        data_zx_track.loc[len(data_zx_track)] = [score, lr.coef_[0], lr.intercept_, 1]\n",
    "        for ind in range(len(X)):\n",
    "            data_zx_hit.loc[len(data_zx_hit)] = [numpy.abs(y[ind] - lr.predict(X[ind].reshape(-1, 1)))[0], \n",
    "                                                 lr.coef_[0], \n",
    "                                                 lr.intercept_, \n",
    "                                                 (stereo_hits.TrackID.values[ind] == 3) * 1]\n",
    "\n",
    "\n",
    "        X = numpy.concatenate((X1[track2.StatNb == stations[0]], X2[track3.StatNb == stations[1]]), axis=0) \n",
    "        y = numpy.concatenate((y1[track2.StatNb == stations[0]], y2[track3.StatNb == stations[1]]), axis=0)\n",
    "        mlr = JustLinearRegression()\n",
    "        score, lr = mlr.fit(X, y)\n",
    "\n",
    "        stereo_hits = get_zx_hits(event_id, hits_zx, lr.coef_[0], lr.intercept_)\n",
    "        X = stereo_hits.Z.values.reshape(-1, 1)\n",
    "        y = stereo_hits.X.values\n",
    "        stereo_X = stereo_hits.Z.values.reshape(-1, 1)\n",
    "        stereo_y = stereo_hits.X.values\n",
    "        mlr = JustLinearRegression()\n",
    "        score, lr = mlr.fit(stereo_X, stereo_y)\n",
    "        data_zx_track.loc[len(data_zx_track)] = [score, lr.coef_[0], lr.intercept_, 0]\n",
    "\n",
    "        X = numpy.concatenate((X1[track2.StatNb == stations[1]], X2[track3.StatNb == stations[0]]), axis=0) \n",
    "        y = numpy.concatenate((y1[track2.StatNb == stations[1]], y2[track3.StatNb == stations[0]]), axis=0)\n",
    "        mlr = JustLinearRegression()\n",
    "        score, lr = mlr.fit(X, y)\n",
    "\n",
    "        stereo_hits = get_zx_hits(event_id, hits_zx, lr.coef_[0], lr.intercept_)\n",
    "        X = stereo_hits.Z.values.reshape(-1, 1)\n",
    "        y = stereo_hits.X.values\n",
    "        stereo_X = stereo_hits.Z.values.reshape(-1, 1)\n",
    "        stereo_y = stereo_hits.X.values\n",
    "        mlr = JustLinearRegression()\n",
    "        score, lr = mlr.fit(stereo_X, stereo_y)\n",
    "        data_zx_track.loc[len(data_zx_track)] = [score, lr.coef_[0], lr.intercept_, 0]\n",
    "\n",
    "    return data_zx_track, data_zx_hit"
   ]
  },
  {
   "cell_type": "code",
   "execution_count": 16,
   "metadata": {
    "collapsed": false
   },
   "outputs": [],
   "source": [
    "data_zx_track, data_zx_hit = get_data_zx_classifier(hits_zy_12, \n",
    "                                                    hits_zx_12, \n",
    "                                                    reconstructible_events_valid.keys(), \n",
    "                                                    stations=[1,2])"
   ]
  },
  {
   "cell_type": "code",
   "execution_count": 17,
   "metadata": {
    "collapsed": false
   },
   "outputs": [
    {
     "data": {
      "text/html": [
       "<div>\n",
       "<table border=\"1\" class=\"dataframe\">\n",
       "  <thead>\n",
       "    <tr style=\"text-align: right;\">\n",
       "      <th></th>\n",
       "      <th>score</th>\n",
       "      <th>k</th>\n",
       "      <th>b</th>\n",
       "      <th>label</th>\n",
       "    </tr>\n",
       "  </thead>\n",
       "  <tbody>\n",
       "    <tr>\n",
       "      <th>0</th>\n",
       "      <td>0.000136</td>\n",
       "      <td>-0.017763</td>\n",
       "      <td>70.207968</td>\n",
       "      <td>1</td>\n",
       "    </tr>\n",
       "    <tr>\n",
       "      <th>1</th>\n",
       "      <td>0.000072</td>\n",
       "      <td>0.022757</td>\n",
       "      <td>86.860768</td>\n",
       "      <td>1</td>\n",
       "    </tr>\n",
       "    <tr>\n",
       "      <th>2</th>\n",
       "      <td>66.578040</td>\n",
       "      <td>0.033206</td>\n",
       "      <td>-7.707405</td>\n",
       "      <td>0</td>\n",
       "    </tr>\n",
       "    <tr>\n",
       "      <th>3</th>\n",
       "      <td>66.578040</td>\n",
       "      <td>0.033206</td>\n",
       "      <td>-7.707405</td>\n",
       "      <td>0</td>\n",
       "    </tr>\n",
       "    <tr>\n",
       "      <th>4</th>\n",
       "      <td>0.000028</td>\n",
       "      <td>-0.009071</td>\n",
       "      <td>-87.588542</td>\n",
       "      <td>1</td>\n",
       "    </tr>\n",
       "  </tbody>\n",
       "</table>\n",
       "</div>"
      ],
      "text/plain": [
       "       score         k          b  label\n",
       "0   0.000136 -0.017763  70.207968      1\n",
       "1   0.000072  0.022757  86.860768      1\n",
       "2  66.578040  0.033206  -7.707405      0\n",
       "3  66.578040  0.033206  -7.707405      0\n",
       "4   0.000028 -0.009071 -87.588542      1"
      ]
     },
     "execution_count": 17,
     "metadata": {},
     "output_type": "execute_result"
    }
   ],
   "source": [
    "data_zx_track.head()"
   ]
  },
  {
   "cell_type": "code",
   "execution_count": 18,
   "metadata": {
    "collapsed": false
   },
   "outputs": [
    {
     "name": "stdout",
     "output_type": "stream",
     "text": [
      "CPU times: user 162 ms, sys: 191 ms, total: 353 ms\n",
      "Wall time: 245 ms\n"
     ]
    },
    {
     "data": {
      "text/plain": [
       "FoldingClassifier(base_estimator=XGBoostClassifier(base_score=0.5, colsample=0.7, eta=0.1, features=None,\n",
       "         gamma=None, max_depth=8, min_child_weight=1.0, missing=-999.0,\n",
       "         n_estimators=100, nthreads=3, num_feature=None, random_state=0,\n",
       "         scale_pos_weight=1.0, subsample=0.5, verbose=0),\n",
       "         features=['Feature_0', 'Feature_1', 'Feature_2'], n_folds=2,\n",
       "         parallel_profile=None, random_state=11)"
      ]
     },
     "execution_count": 18,
     "metadata": {},
     "output_type": "execute_result"
    }
   ],
   "source": [
    "from rep.metaml import FoldingClassifier\n",
    "from rep.estimators import XGBoostClassifier\n",
    "\n",
    "X_data = data_zx_track[['score', 'k', 'b']].values\n",
    "y_data = data_zx_track[['label']].values.reshape(-1)\n",
    "\n",
    "from rep.estimators import XGBoostClassifier\n",
    "xgb_base = XGBoostClassifier(n_estimators=100, colsample=0.7, eta=0.1, nthreads=3, \n",
    "                             subsample=0.5, max_depth=8)\n",
    "track_clf_zx = FoldingClassifier(xgb_base, n_folds=2, random_state=11)\n",
    "%time track_clf_zx.fit(X_data, y_data)"
   ]
  },
  {
   "cell_type": "code",
   "execution_count": 19,
   "metadata": {
    "collapsed": false
   },
   "outputs": [
    {
     "data": {
      "text/html": [
       "<div>\n",
       "<table border=\"1\" class=\"dataframe\">\n",
       "  <thead>\n",
       "    <tr style=\"text-align: right;\">\n",
       "      <th></th>\n",
       "      <th>dist</th>\n",
       "      <th>k</th>\n",
       "      <th>b</th>\n",
       "      <th>label</th>\n",
       "    </tr>\n",
       "  </thead>\n",
       "  <tbody>\n",
       "    <tr>\n",
       "      <th>0</th>\n",
       "      <td>121.647606</td>\n",
       "      <td>-0.017763</td>\n",
       "      <td>70.207968</td>\n",
       "      <td>0</td>\n",
       "    </tr>\n",
       "    <tr>\n",
       "      <th>1</th>\n",
       "      <td>0.000202</td>\n",
       "      <td>-0.017763</td>\n",
       "      <td>70.207968</td>\n",
       "      <td>1</td>\n",
       "    </tr>\n",
       "    <tr>\n",
       "      <th>2</th>\n",
       "      <td>0.000136</td>\n",
       "      <td>-0.017763</td>\n",
       "      <td>70.207968</td>\n",
       "      <td>1</td>\n",
       "    </tr>\n",
       "    <tr>\n",
       "      <th>3</th>\n",
       "      <td>121.797284</td>\n",
       "      <td>-0.017763</td>\n",
       "      <td>70.207968</td>\n",
       "      <td>0</td>\n",
       "    </tr>\n",
       "    <tr>\n",
       "      <th>4</th>\n",
       "      <td>0.000094</td>\n",
       "      <td>-0.017763</td>\n",
       "      <td>70.207968</td>\n",
       "      <td>1</td>\n",
       "    </tr>\n",
       "  </tbody>\n",
       "</table>\n",
       "</div>"
      ],
      "text/plain": [
       "         dist         k          b  label\n",
       "0  121.647606 -0.017763  70.207968      0\n",
       "1    0.000202 -0.017763  70.207968      1\n",
       "2    0.000136 -0.017763  70.207968      1\n",
       "3  121.797284 -0.017763  70.207968      0\n",
       "4    0.000094 -0.017763  70.207968      1"
      ]
     },
     "execution_count": 19,
     "metadata": {},
     "output_type": "execute_result"
    }
   ],
   "source": [
    "data_zx_hit.head()"
   ]
  },
  {
   "cell_type": "code",
   "execution_count": 20,
   "metadata": {
    "collapsed": false
   },
   "outputs": [
    {
     "name": "stdout",
     "output_type": "stream",
     "text": [
      "CPU times: user 952 ms, sys: 305 ms, total: 1.26 s\n",
      "Wall time: 771 ms\n"
     ]
    },
    {
     "data": {
      "text/plain": [
       "FoldingClassifier(base_estimator=XGBoostClassifier(base_score=0.5, colsample=0.7, eta=0.1, features=None,\n",
       "         gamma=None, max_depth=8, min_child_weight=1.0, missing=-999.0,\n",
       "         n_estimators=100, nthreads=3, num_feature=None, random_state=0,\n",
       "         scale_pos_weight=1.0, subsample=0.5, verbose=0),\n",
       "         features=['Feature_0', 'Feature_1', 'Feature_2'], n_folds=2,\n",
       "         parallel_profile=None, random_state=11)"
      ]
     },
     "execution_count": 20,
     "metadata": {},
     "output_type": "execute_result"
    }
   ],
   "source": [
    "from rep.metaml import FoldingClassifier\n",
    "from rep.estimators import XGBoostClassifier\n",
    "\n",
    "X_data = data_zx_hit[['dist', 'k', 'b']].values\n",
    "y_data = data_zx_hit[['label']].values.reshape(-1)\n",
    "\n",
    "from rep.estimators import XGBoostClassifier\n",
    "xgb_base = XGBoostClassifier(n_estimators=100, colsample=0.7, eta=0.1, nthreads=3, \n",
    "                             subsample=0.5, max_depth=8)\n",
    "hit_clf_zx = FoldingClassifier(xgb_base, n_folds=2, random_state=11)\n",
    "%time hit_clf_zx.fit(X_data, y_data)"
   ]
  },
  {
   "cell_type": "code",
   "execution_count": 21,
   "metadata": {
    "collapsed": false
   },
   "outputs": [
    {
     "name": "stdout",
     "output_type": "stream",
     "text": [
      "KFold prediction using random classifier (length of data passed not equal to length of train)\n"
     ]
    },
    {
     "data": {
      "text/plain": [
       "0.99864025452074667"
      ]
     },
     "execution_count": 21,
     "metadata": {},
     "output_type": "execute_result"
    }
   ],
   "source": [
    "from sklearn.metrics import roc_auc_score\n",
    "\n",
    "roc_auc_score(y_data, track_clf_zx.predict(X_data))"
   ]
  },
  {
   "cell_type": "code",
   "execution_count": 22,
   "metadata": {
    "collapsed": false
   },
   "outputs": [],
   "source": [
    "from sklearn.linear_model import LinearRegression\n",
    "\n",
    "def get_data_zy_classifier(hits_zy, events, stations):\n",
    "\n",
    "    data_zy_track = pandas.DataFrame(columns=['score', 'k', 'b', 'label'])\n",
    "    data_zy_hit = pandas.DataFrame(columns=['dist', 'k', 'b', 'label'])\n",
    "\n",
    "    for event_id in events:\n",
    "\n",
    "        event = hits_zy[hits_zy.event == event_id]\n",
    "\n",
    "        track2 = event[event.TrackID == 2]\n",
    "        track3 = event[event.TrackID == 3]\n",
    "\n",
    "        if len(track2)==0 or len(track3)==0:\n",
    "            continue\n",
    "\n",
    "        X1 = track2.Z.values.reshape(-1, 1)\n",
    "        y1 = track2.Y.values\n",
    "\n",
    "        X2 = track3.Z.values.reshape(-1, 1)\n",
    "        y2 = track3.Y.values\n",
    "\n",
    "\n",
    "        X = event.Z.values.reshape(-1, 1)\n",
    "        y = event.Y.values\n",
    "\n",
    "\n",
    "        mlr = JustLinearRegression()\n",
    "        score, lr = mlr.fit(X1, y1)\n",
    "        data_zy_track.loc[len(data_zy_track)] = [score, lr.coef_[0], lr.intercept_, 1]\n",
    "\n",
    "\n",
    "        for ind in range(len(X)):\n",
    "            data_zy_hit.loc[len(data_zy_hit)] = [numpy.abs(y[ind] - lr.predict(X[ind].reshape(-1, 1)))[0], \n",
    "                                                 lr.coef_[0], \n",
    "                                                 lr.intercept_, \n",
    "                                                 (event.TrackID.values[ind] == 2) * 1]\n",
    "\n",
    "\n",
    "        mlr = JustLinearRegression()\n",
    "        score, lr = mlr.fit(X2, y2)\n",
    "        data_zy_track.loc[len(data_zy_track)] = [score, lr.coef_[0], lr.intercept_, 1]\n",
    "\n",
    "\n",
    "        for ind in range(len(X)):\n",
    "            data_zy_hit.loc[len(data_zy_hit)] = [numpy.abs(y[ind] - lr.predict(X[ind].reshape(-1, 1)))[0], \n",
    "                                                 lr.coef_[0], \n",
    "                                                 lr.intercept_, \n",
    "                                                 (event.TrackID.values[ind] == 3) * 1]\n",
    "\n",
    "\n",
    "        X = numpy.concatenate((X1[track2.StatNb == stations[0]], X2[track3.StatNb == stations[1]]), axis=0) \n",
    "        y = numpy.concatenate((y1[track2.StatNb == stations[0]], y2[track3.StatNb == stations[1]]), axis=0)\n",
    "        mlr = JustLinearRegression()\n",
    "        score, lr = mlr.fit(X, y)\n",
    "        data_zy_track.loc[len(data_zy_track)] = [score, lr.coef_[0], lr.intercept_, 0]\n",
    "\n",
    "        X = numpy.concatenate((X1[track2.StatNb == stations[1]], X2[track3.StatNb == stations[0]]), axis=0) \n",
    "        y = numpy.concatenate((y1[track2.StatNb == stations[1]], y2[track3.StatNb == stations[0]]), axis=0)\n",
    "        mlr = JustLinearRegression()\n",
    "        score, lr = mlr.fit(X, y)\n",
    "        data_zy_track.loc[len(data_zy_track)] = [score, lr.coef_[0], lr.intercept_, 0]\n",
    "\n",
    "    return data_zy_track, data_zy_hit"
   ]
  },
  {
   "cell_type": "code",
   "execution_count": 23,
   "metadata": {
    "collapsed": true
   },
   "outputs": [],
   "source": [
    "data_zy_track, data_zy_hit = get_data_zy_classifier(hits_zy_12, \n",
    "                                                    reconstructible_events_valid.keys(), \n",
    "                                                    stations=[1,2])"
   ]
  },
  {
   "cell_type": "code",
   "execution_count": 24,
   "metadata": {
    "collapsed": false
   },
   "outputs": [
    {
     "data": {
      "text/html": [
       "<div>\n",
       "<table border=\"1\" class=\"dataframe\">\n",
       "  <thead>\n",
       "    <tr style=\"text-align: right;\">\n",
       "      <th></th>\n",
       "      <th>score</th>\n",
       "      <th>k</th>\n",
       "      <th>b</th>\n",
       "      <th>label</th>\n",
       "    </tr>\n",
       "  </thead>\n",
       "  <tbody>\n",
       "    <tr>\n",
       "      <th>0</th>\n",
       "      <td>0.017528</td>\n",
       "      <td>0.010169</td>\n",
       "      <td>-44.882377</td>\n",
       "      <td>1</td>\n",
       "    </tr>\n",
       "    <tr>\n",
       "      <th>1</th>\n",
       "      <td>0.009373</td>\n",
       "      <td>-0.012570</td>\n",
       "      <td>-43.579617</td>\n",
       "      <td>1</td>\n",
       "    </tr>\n",
       "    <tr>\n",
       "      <th>2</th>\n",
       "      <td>27.534872</td>\n",
       "      <td>-8.621249</td>\n",
       "      <td>22222.091037</td>\n",
       "      <td>0</td>\n",
       "    </tr>\n",
       "    <tr>\n",
       "      <th>3</th>\n",
       "      <td>28.654211</td>\n",
       "      <td>-7.170048</td>\n",
       "      <td>18474.896222</td>\n",
       "      <td>0</td>\n",
       "    </tr>\n",
       "    <tr>\n",
       "      <th>4</th>\n",
       "      <td>0.004538</td>\n",
       "      <td>-0.012518</td>\n",
       "      <td>-44.886846</td>\n",
       "      <td>1</td>\n",
       "    </tr>\n",
       "  </tbody>\n",
       "</table>\n",
       "</div>"
      ],
      "text/plain": [
       "       score         k             b  label\n",
       "0   0.017528  0.010169    -44.882377      1\n",
       "1   0.009373 -0.012570    -43.579617      1\n",
       "2  27.534872 -8.621249  22222.091037      0\n",
       "3  28.654211 -7.170048  18474.896222      0\n",
       "4   0.004538 -0.012518    -44.886846      1"
      ]
     },
     "execution_count": 24,
     "metadata": {},
     "output_type": "execute_result"
    }
   ],
   "source": [
    "data_zy_track.head()"
   ]
  },
  {
   "cell_type": "code",
   "execution_count": 25,
   "metadata": {
    "collapsed": false
   },
   "outputs": [
    {
     "name": "stdout",
     "output_type": "stream",
     "text": [
      "CPU times: user 181 ms, sys: 218 ms, total: 399 ms\n",
      "Wall time: 287 ms\n"
     ]
    },
    {
     "data": {
      "text/plain": [
       "FoldingClassifier(base_estimator=XGBoostClassifier(base_score=0.5, colsample=0.7, eta=0.1, features=None,\n",
       "         gamma=None, max_depth=8, min_child_weight=1.0, missing=-999.0,\n",
       "         n_estimators=100, nthreads=3, num_feature=None, random_state=0,\n",
       "         scale_pos_weight=1.0, subsample=0.5, verbose=0),\n",
       "         features=['Feature_0', 'Feature_1', 'Feature_2'], n_folds=2,\n",
       "         parallel_profile=None, random_state=11)"
      ]
     },
     "execution_count": 25,
     "metadata": {},
     "output_type": "execute_result"
    }
   ],
   "source": [
    "from rep.metaml import FoldingClassifier\n",
    "from rep.estimators import XGBoostClassifier\n",
    "\n",
    "X_data = data_zy_track[['score', 'k', 'b']].values\n",
    "y_data = data_zy_track[['label']].values.reshape(-1)\n",
    "\n",
    "from rep.estimators import XGBoostClassifier\n",
    "xgb_base = XGBoostClassifier(n_estimators=100, colsample=0.7, eta=0.1, nthreads=3, \n",
    "                             subsample=0.5, max_depth=8)\n",
    "track_clf_zy = FoldingClassifier(xgb_base, n_folds=2, random_state=11)\n",
    "%time track_clf_zy.fit(X_data, y_data)"
   ]
  },
  {
   "cell_type": "code",
   "execution_count": 26,
   "metadata": {
    "collapsed": false
   },
   "outputs": [
    {
     "data": {
      "text/html": [
       "<div>\n",
       "<table border=\"1\" class=\"dataframe\">\n",
       "  <thead>\n",
       "    <tr style=\"text-align: right;\">\n",
       "      <th></th>\n",
       "      <th>dist</th>\n",
       "      <th>k</th>\n",
       "      <th>b</th>\n",
       "      <th>label</th>\n",
       "    </tr>\n",
       "  </thead>\n",
       "  <tbody>\n",
       "    <tr>\n",
       "      <th>0</th>\n",
       "      <td>0.015114</td>\n",
       "      <td>0.010169</td>\n",
       "      <td>-44.882377</td>\n",
       "      <td>1</td>\n",
       "    </tr>\n",
       "    <tr>\n",
       "      <th>1</th>\n",
       "      <td>57.423647</td>\n",
       "      <td>0.010169</td>\n",
       "      <td>-44.882377</td>\n",
       "      <td>0</td>\n",
       "    </tr>\n",
       "    <tr>\n",
       "      <th>2</th>\n",
       "      <td>0.012635</td>\n",
       "      <td>0.010169</td>\n",
       "      <td>-44.882377</td>\n",
       "      <td>1</td>\n",
       "    </tr>\n",
       "    <tr>\n",
       "      <th>3</th>\n",
       "      <td>57.481678</td>\n",
       "      <td>0.010169</td>\n",
       "      <td>-44.882377</td>\n",
       "      <td>0</td>\n",
       "    </tr>\n",
       "    <tr>\n",
       "      <th>4</th>\n",
       "      <td>58.068569</td>\n",
       "      <td>0.010169</td>\n",
       "      <td>-44.882377</td>\n",
       "      <td>0</td>\n",
       "    </tr>\n",
       "  </tbody>\n",
       "</table>\n",
       "</div>"
      ],
      "text/plain": [
       "        dist         k          b  label\n",
       "0   0.015114  0.010169 -44.882377      1\n",
       "1  57.423647  0.010169 -44.882377      0\n",
       "2   0.012635  0.010169 -44.882377      1\n",
       "3  57.481678  0.010169 -44.882377      0\n",
       "4  58.068569  0.010169 -44.882377      0"
      ]
     },
     "execution_count": 26,
     "metadata": {},
     "output_type": "execute_result"
    }
   ],
   "source": [
    "data_zy_hit.head()"
   ]
  },
  {
   "cell_type": "code",
   "execution_count": 27,
   "metadata": {
    "collapsed": false
   },
   "outputs": [
    {
     "name": "stdout",
     "output_type": "stream",
     "text": [
      "CPU times: user 1.14 s, sys: 387 ms, total: 1.52 s\n",
      "Wall time: 1e+03 ms\n"
     ]
    },
    {
     "data": {
      "text/plain": [
       "FoldingClassifier(base_estimator=XGBoostClassifier(base_score=0.5, colsample=0.7, eta=0.1, features=None,\n",
       "         gamma=None, max_depth=8, min_child_weight=1.0, missing=-999.0,\n",
       "         n_estimators=100, nthreads=3, num_feature=None, random_state=0,\n",
       "         scale_pos_weight=1.0, subsample=0.5, verbose=0),\n",
       "         features=['Feature_0', 'Feature_1', 'Feature_2'], n_folds=2,\n",
       "         parallel_profile=None, random_state=11)"
      ]
     },
     "execution_count": 27,
     "metadata": {},
     "output_type": "execute_result"
    }
   ],
   "source": [
    "from rep.metaml import FoldingClassifier\n",
    "from rep.estimators import XGBoostClassifier\n",
    "\n",
    "X_data = data_zy_hit[['dist', 'k', 'b']].values\n",
    "y_data = data_zy_hit[['label']].values.reshape(-1)\n",
    "\n",
    "from rep.estimators import XGBoostClassifier\n",
    "xgb_base = XGBoostClassifier(n_estimators=100, colsample=0.7, eta=0.1, nthreads=3, \n",
    "                             subsample=0.5, max_depth=8)\n",
    "hit_clf_zy = FoldingClassifier(xgb_base, n_folds=2, random_state=11)\n",
    "%time hit_clf_zy.fit(X_data, y_data)"
   ]
  },
  {
   "cell_type": "code",
   "execution_count": 28,
   "metadata": {
    "collapsed": true
   },
   "outputs": [],
   "source": [
    "event_id =  513#381#518#1756#27\n",
    "event = hits_zy_12[hits_zy_12['event'] == event_id]"
   ]
  },
  {
   "cell_type": "code",
   "execution_count": 29,
   "metadata": {
    "collapsed": true
   },
   "outputs": [],
   "source": [
    "XX = event.Wz.values\n",
    "yy = event.Wy.values\n",
    "rr = 1*event.dist2Wire.values\n",
    "\n",
    "X = numpy.concatenate((XX, XX), axis=0).reshape((-1, 1))\n",
    "y = numpy.concatenate((yy+rr, yy-rr), axis=0) "
   ]
  },
  {
   "cell_type": "code",
   "execution_count": 30,
   "metadata": {
    "collapsed": false
   },
   "outputs": [
    {
     "name": "stdout",
     "output_type": "stream",
     "text": [
      "KFold prediction using random classifier (length of data passed not equal to length of train)\n",
      "KFold prediction using random classifier (length of data passed not equal to length of train)\n",
      "KFold prediction using random classifier (length of data passed not equal to length of train)\n"
     ]
    },
    {
     "data": {
      "image/png": "[encoded data removed]",
      "text/plain": [
       "<matplotlib.figure.Figure at 0x11423ffd0>"
      ]
     },
     "metadata": {},
     "output_type": "display_data"
    },
    {
     "name": "stdout",
     "output_type": "stream",
     "text": [
      "CPU times: user 858 ms, sys: 10.8 ms, total: 869 ms\n",
      "Wall time: 864 ms\n"
     ]
    }
   ],
   "source": [
    "%%time\n",
    "rmlr = MultiLinearRegression(n_tracks=2, \n",
    "                             n=3, \n",
    "                             subsample=0.5, \n",
    "                             n_neighbors=10, \n",
    "                             step=0.1,  \n",
    "                             track_classifier=track_clf_zy,\n",
    "                             hit_classifier=hit_clf_zy)\n",
    "rmlr.fit(X, y)\n",
    "predictions = rmlr.predict(X)\n",
    "\n",
    "tracks = rmlr.tracks_\n",
    "tracks_labels = rmlr.labels_\n",
    "scores = rmlr.scores_\n",
    "lrs = rmlr.lrs_\n",
    "\n",
    "\n",
    "\n",
    "plt.scatter(X, y)\n",
    "colors = ['r', 'g', 'm']\n",
    "for num, track in enumerate(tracks):\n",
    "    plt.scatter(X[tracks_labels == num], y[tracks_labels == num], color=colors[num])\n",
    "    plt.plot(X, predictions[num], color='b')\n",
    "    \n",
    "plt.ylim(y.min()-1, y.max()+1)\n",
    "plt.show()"
   ]
  },
  {
   "cell_type": "code",
   "execution_count": 31,
   "metadata": {
    "collapsed": false
   },
   "outputs": [
    {
     "data": {
      "image/png": "[encoded data removed]",
      "text/plain": [
       "<matplotlib.figure.Figure at 0x114191b10>"
      ]
     },
     "metadata": {},
     "output_type": "display_data"
    }
   ],
   "source": [
    "plt.scatter(X, y)\n",
    "for lr, score in zip(lrs, scores):\n",
    "    plt.plot(X, lr.predict(X), alpha=0.01 * min(1, 1./score), color='0')\n",
    "    \n",
    "plt.ylim(y.min() - 1, y.max() + 1)\n",
    "plt.show()"
   ]
  },
  {
   "cell_type": "code",
   "execution_count": 32,
   "metadata": {
    "collapsed": false
   },
   "outputs": [
    {
     "data": {
      "image/png": "[encoded data removed]",
      "text/plain": [
       "<matplotlib.figure.Figure at 0x11403c8d0>"
      ]
     },
     "metadata": {},
     "output_type": "display_data"
    },
    {
     "name": "stdout",
     "output_type": "stream",
     "text": [
      "CPU times: user 238 ms, sys: 6.57 ms, total: 245 ms\n",
      "Wall time: 249 ms\n"
     ]
    }
   ],
   "source": [
    "%%time\n",
    "ks = numpy.array([lr.coef_[0] for lr in lrs])\n",
    "bs = numpy.array([lr.intercept_ for lr in lrs])\n",
    "\n",
    "a = ks\n",
    "b = bs\n",
    "ab = numpy.concatenate((a.reshape(-1,1),b.reshape(-1,1)), axis=1)\n",
    "\n",
    "plt.hist2d(a, b, bins=50, range=[[numpy.percentile(a, 1), numpy.percentile(a, 99)], \n",
    "                                 [numpy.percentile(b, 1), numpy.percentile(b, 99)]])\n",
    "plt.colorbar()\n",
    "plt.show()"
   ]
  },
  {
   "cell_type": "code",
   "execution_count": null,
   "metadata": {
    "collapsed": true
   },
   "outputs": [],
   "source": []
  },
  {
   "cell_type": "code",
   "execution_count": null,
   "metadata": {
    "collapsed": true
   },
   "outputs": [],
   "source": []
  },
  {
   "cell_type": "markdown",
   "metadata": {},
   "source": [
    "# Tracks Plots"
   ]
  },
  {
   "cell_type": "code",
   "execution_count": 33,
   "metadata": {
    "collapsed": true
   },
   "outputs": [],
   "source": [
    "#%%px\n",
    "#from MultiLinearRegression import MultiLinearRegression\n",
    "\n",
    "def get_zy_candidates(event_id, data):\n",
    "    \n",
    "    event = data[data['event'] == event_id]\n",
    "    \n",
    "    n = 3\n",
    "    if len(event) > 40:\n",
    "        n = 3\n",
    "\n",
    "    XX = event.Wz.values\n",
    "    yy = event.Wy.values\n",
    "    rr = 1*event.dist2Wire.values\n",
    "    ii = event.index.values\n",
    "\n",
    "    X = numpy.concatenate((XX, XX), axis=0).reshape((-1, 1))\n",
    "    y = numpy.concatenate((yy+rr, yy-rr), axis=0)\n",
    "    indeces = numpy.concatenate((ii, ii), axis=0)\n",
    "\n",
    "    rmlr = MultiLinearRegression(n_tracks=2, \n",
    "                                 n=n, \n",
    "                                 subsample=1, \n",
    "                                 n_neighbors=10, \n",
    "                                 step=0.1,\n",
    "                                 track_classifier=None, #track_clf_zy,\n",
    "                                 hit_classifier=hit_clf_zy)\n",
    "    rmlr.fit(X, y)\n",
    "    predictions = rmlr.predict(X)\n",
    "    \n",
    "    tracks = rmlr.tracks_\n",
    "    tracks_labels = rmlr.labels_\n",
    "    \n",
    "    \n",
    "    plt.scatter(XX, yy)\n",
    "    plt.errorbar(XX, yy, rr, fmt='none', elinewidth=2, capsize=0, capthick=0)\n",
    "    colors = ['r', 'g', 'm']\n",
    "    for num, track in enumerate(tracks):\n",
    "        plt.scatter(X[tracks_labels == num], y[tracks_labels == num], color=colors[num])\n",
    "        plt.plot(X, predictions[num], color='b')\n",
    "\n",
    "    plt.ylim(y.min()-1, y.max()+1)\n",
    "    plt.title('Y-view')\n",
    "    plt.show()\n",
    "\n",
    "    tracks_yz = {}\n",
    "    linking_table_yz = {}\n",
    "\n",
    "    for num, track in enumerate(tracks):\n",
    "        tracks_yz[num + 1] = track\n",
    "        linking_table_yz[num + 1] = numpy.unique(indeces[tracks_labels == num])\n",
    "        \n",
    "    return tracks_yz, linking_table_yz\n",
    "\n",
    "def get_zx_hits(event_id, data, plane_k, plane_b):\n",
    "\n",
    "    stereo_hits = data[data['event'] == event_id]\n",
    "\n",
    "    stereo_hits['Wy'] = plane_k * stereo_hits.Wz.values + plane_b\n",
    "    stereo_hits['Wx'] = (stereo_hits.Wx2.values - stereo_hits.Wx1.values) / (stereo_hits.Wy2.values - stereo_hits.Wy1.values) * \\\n",
    "                        (stereo_hits.Wy.values - stereo_hits.Wy1.values) + stereo_hits.Wx1.values\n",
    "\n",
    "    return stereo_hits[numpy.abs(stereo_hits.Wx.values) < 300]\n",
    "\n",
    "\n",
    "def get_zx_candidates(event_id, tracks_yz, tracks_cov_yz, data):\n",
    "\n",
    "    tracks_xz = {}\n",
    "    linking_table_xz = {}\n",
    "\n",
    "    for num, track_id in enumerate(tracks_yz.keys()):\n",
    "\n",
    "        zy_plane_k, zy_plane_b = tracks_yz[track_id]\n",
    "        cov = tracks_cov_yz[track_id]\n",
    "\n",
    "        hits = get_zx_hits(event_id, data, zy_plane_k, zy_plane_b)\n",
    "\n",
    "        XX = hits.Wz.values\n",
    "        yy = hits.Wx.values\n",
    "        rr = 1*hits.dist2Wire.values / numpy.sin(10. * numpy.pi / 360.)\n",
    "        ii = hits.index.values\n",
    "\n",
    "        X = numpy.concatenate((XX, XX), axis=0).reshape((-1, 1))\n",
    "        y = numpy.concatenate((yy+rr, yy-rr), axis=0)\n",
    "        indeces = numpy.concatenate((ii, ii), axis=0)\n",
    "        \n",
    "        rmlr = MultiLinearRegression(n_tracks=1, \n",
    "                                 n=3, \n",
    "                                 subsample=1, \n",
    "                                 n_neighbors=10, \n",
    "                                 step=0.1,\n",
    "                                 track_classifier=None, #track_clf_zx,\n",
    "                                 hit_classifier=hit_clf_zx)\n",
    "        rmlr.fit(X, y)\n",
    "        predictions = rmlr.predict(X)\n",
    "\n",
    "        tracks = rmlr.tracks_\n",
    "        tracks_labels = rmlr.labels_\n",
    "        \n",
    "        stereo_hits = data[data['event'] == event_id]\n",
    "        plt.scatter(stereo_hits.Z.values, stereo_hits.X.values, color='0.5')\n",
    "        plt.scatter(stereo_hits.Z.values[numpy.abs(stereo_hits['PdgCode'].values) == 13], \n",
    "                    stereo_hits.X.values[numpy.abs(stereo_hits['PdgCode'].values) == 13], color='gold')\n",
    "        plt.scatter(stereo_hits.Z.values[numpy.abs(stereo_hits['PdgCode'].values) == 211], \n",
    "                    stereo_hits.X.values[numpy.abs(stereo_hits['PdgCode'].values) == 211], color='gold')\n",
    "        \n",
    "        plt.scatter(XX, yy)\n",
    "        plt.errorbar(XX, yy, rr, fmt='none', elinewidth=2, capsize=0, capthick=0, ecolor='b')\n",
    "        colors = ['r', 'g', 'm']\n",
    "        for num, track in enumerate(tracks):\n",
    "            plt.scatter(X[tracks_labels == num], y[tracks_labels == num], color=colors[num])\n",
    "            plt.plot(X, predictions[num], color='b')\n",
    "\n",
    "        #plt.ylim(y.min()-1, y.max()+1)\n",
    "        plt.ylim(stereo_hits.X.values.min()-2, stereo_hits.X.values.max()+2)\n",
    "        plt.title('Stereo-view')\n",
    "        plt.show()\n",
    "\n",
    "        linking_table_xz[10001 * (num+1)] = list(numpy.unique(indeces[tracks_labels == 0]))\n",
    "        tracks_xz[10001 * (num+1)] = tracks[0]\n",
    "\n",
    "    return tracks_xz, linking_table_xz\n",
    "\n",
    "def run_stations(event_id, data_zy, data_zx):\n",
    "\n",
    "    reco_events12 = {}\n",
    "\n",
    "    tracks_yz, linking_table_yz = get_zy_candidates(event_id, data_zy)\n",
    "    tracks_xz, linking_table_xz = get_zx_candidates(event_id, tracks_yz, linking_table_yz, data_zx)\n",
    "\n",
    "    reco = [tracks_yz, linking_table_yz, tracks_xz, linking_table_xz]\n",
    "\n",
    "    reco_events12[event_id] = reco\n",
    "\n",
    "    #print event_id\n",
    "\n",
    "    return reco_events12\n",
    "\n",
    "def merge_dicts(dicts):\n",
    "    '''\n",
    "    Given any number of dicts, shallow copy and merge into a new dict,\n",
    "    precedence goes to key value pairs in latter dicts.\n",
    "    '''\n",
    "    result = {}\n",
    "    for dictionary in dicts:\n",
    "        result.update(dictionary)\n",
    "    return result"
   ]
  },
  {
   "cell_type": "code",
   "execution_count": 34,
   "metadata": {
    "collapsed": false,
    "scrolled": false
   },
   "outputs": [
    {
     "name": "stdout",
     "output_type": "stream",
     "text": [
      "513  :\n",
      "KFold prediction using random classifier (length of data passed not equal to length of train)\n",
      "KFold prediction using random classifier (length of data passed not equal to length of train)\n"
     ]
    },
    {
     "data": {
      "image/png": "[encoded data removed]",
      "text/plain": [
       "<matplotlib.figure.Figure at 0x1141c8a10>"
      ]
     },
     "metadata": {},
     "output_type": "display_data"
    },
    {
     "name": "stdout",
     "output_type": "stream",
     "text": [
      "KFold prediction using random classifier (length of data passed not equal to length of train)\n"
     ]
    },
    {
     "data": {
      "image/png": "[encoded data removed]",
      "text/plain": [
       "<matplotlib.figure.Figure at 0x114019f50>"
      ]
     },
     "metadata": {},
     "output_type": "display_data"
    },
    {
     "name": "stdout",
     "output_type": "stream",
     "text": [
      "KFold prediction using random classifier (length of data passed not equal to length of train)\n"
     ]
    },
    {
     "data": {
      "image/png": "[encoded data removed]",
      "text/plain": [
       "<matplotlib.figure.Figure at 0x11421b510>"
      ]
     },
     "metadata": {},
     "output_type": "display_data"
    },
    {
     "name": "stdout",
     "output_type": "stream",
     "text": [
      "10  :\n",
      "KFold prediction using random classifier (length of data passed not equal to length of train)\n",
      "KFold prediction using random classifier (length of data passed not equal to length of train)\n"
     ]
    },
    {
     "data": {
      "image/png": "[encoded data removed]",
      "text/plain": [
       "<matplotlib.figure.Figure at 0x111d49990>"
      ]
     },
     "metadata": {},
     "output_type": "display_data"
    },
    {
     "name": "stdout",
     "output_type": "stream",
     "text": [
      "KFold prediction using random classifier (length of data passed not equal to length of train)\n"
     ]
    },
    {
     "data": {
      "image/png": "[encoded data removed]",
      "text/plain": [
       "<matplotlib.figure.Figure at 0x11e1effd0>"
      ]
     },
     "metadata": {},
     "output_type": "display_data"
    },
    {
     "name": "stdout",
     "output_type": "stream",
     "text": [
      "KFold prediction using random classifier (length of data passed not equal to length of train)\n"
     ]
    },
    {
     "data": {
      "image/png": "[encoded data removed]",
      "text/plain": [
       "<matplotlib.figure.Figure at 0x1140336d0>"
      ]
     },
     "metadata": {},
     "output_type": "display_data"
    },
    {
     "name": "stdout",
     "output_type": "stream",
     "text": [
      "1057  :\n",
      "KFold prediction using random classifier (length of data passed not equal to length of train)\n",
      "KFold prediction using random classifier (length of data passed not equal to length of train)\n"
     ]
    },
    {
     "data": {
      "image/png": "[encoded data removed]",
      "text/plain": [
       "<matplotlib.figure.Figure at 0x1140331d0>"
      ]
     },
     "metadata": {},
     "output_type": "display_data"
    },
    {
     "name": "stdout",
     "output_type": "stream",
     "text": [
      "KFold prediction using random classifier (length of data passed not equal to length of train)\n"
     ]
    },
    {
     "data": {
      "image/png": "[encoded data removed]",
      "text/plain": [
       "<matplotlib.figure.Figure at 0x1141ff490>"
      ]
     },
     "metadata": {},
     "output_type": "display_data"
    },
    {
     "name": "stdout",
     "output_type": "stream",
     "text": [
      "KFold prediction using random classifier (length of data passed not equal to length of train)\n"
     ]
    },
    {
     "data": {
      "image/png": "[encoded data removed]",
      "text/plain": [
       "<matplotlib.figure.Figure at 0x11dd30950>"
      ]
     },
     "metadata": {},
     "output_type": "display_data"
    },
    {
     "name": "stdout",
     "output_type": "stream",
     "text": [
      "1066  :\n",
      "KFold prediction using random classifier (length of data passed not equal to length of train)\n",
      "KFold prediction using random classifier (length of data passed not equal to length of train)\n"
     ]
    },
    {
     "data": {
      "image/png": "[encoded data removed]",
      "text/plain": [
       "<matplotlib.figure.Figure at 0x1141b6750>"
      ]
     },
     "metadata": {},
     "output_type": "display_data"
    },
    {
     "name": "stdout",
     "output_type": "stream",
     "text": [
      "KFold prediction using random classifier (length of data passed not equal to length of train)\n"
     ]
    },
    {
     "data": {
      "image/png": "[encoded data removed]",
      "text/plain": [
       "<matplotlib.figure.Figure at 0x11dd99490>"
      ]
     },
     "metadata": {},
     "output_type": "display_data"
    },
    {
     "name": "stdout",
     "output_type": "stream",
     "text": [
      "KFold prediction using random classifier (length of data passed not equal to length of train)\n"
     ]
    },
    {
     "data": {
      "image/png": "[encoded data removed]",
      "text/plain": [
       "<matplotlib.figure.Figure at 0x11dd993d0>"
      ]
     },
     "metadata": {},
     "output_type": "display_data"
    }
   ],
   "source": [
    "event_set1 = [1057, 2040, 1204, 2263, 2305, 2295, 1793, 102]\n",
    "event_set2 = [143, 670, 1722, 270, 426, 1528, 1541, 692]\n",
    "event_set3 = [2040, 1204, 2305, 381, 2263, 1793, 102, 143, 670, 1722, 1265, 270, 1528, 27, 692, 426, 1756]\n",
    "event_set4 = [513, 10, 1057, 1066]\n",
    "for event_id in event_set4:\n",
    "    print event_id, ' :'\n",
    "    _ = run_stations(event_id, hits_zy_12, hits_zx_12)"
   ]
  },
  {
   "cell_type": "code",
   "execution_count": null,
   "metadata": {
    "collapsed": true
   },
   "outputs": [],
   "source": []
  }
 ],
 "metadata": {
  "kernelspec": {
   "display_name": "Python 2",
   "language": "python",
   "name": "python2"
  },
  "language_info": {
   "codemirror_mode": {
    "name": "ipython",
    "version": 2
   },
   "file_extension": ".py",
   "mimetype": "text/x-python",
   "name": "python",
   "nbconvert_exporter": "python",
   "pygments_lexer": "ipython2",
   "version": "2.7.11"
  }
 },
 "nbformat": 4,
 "nbformat_minor": 0
}
