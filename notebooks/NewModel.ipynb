{
 "cells": [
  {
   "cell_type": "code",
   "execution_count": 1,
   "metadata": {
    "collapsed": false
   },
   "outputs": [],
   "source": [
    "%matplotlib inline\n",
    "import numpy\n",
    "import pandas\n",
    "import matplotlib.pyplot as plt"
   ]
  },
  {
   "cell_type": "code",
   "execution_count": 2,
   "metadata": {
    "collapsed": true
   },
   "outputs": [],
   "source": [
    "import os, sys\n",
    "sys.path.append('../functions')"
   ]
  },
  {
   "cell_type": "code",
   "execution_count": 3,
   "metadata": {
    "collapsed": true
   },
   "outputs": [],
   "source": [
    "import warnings\n",
    "warnings.filterwarnings('ignore')"
   ]
  },
  {
   "cell_type": "markdown",
   "metadata": {},
   "source": [
    "# Read Data"
   ]
  },
  {
   "cell_type": "code",
   "execution_count": 4,
   "metadata": {
    "collapsed": false
   },
   "outputs": [
    {
     "data": {
      "text/html": [
       "<div>\n",
       "<table border=\"1\" class=\"dataframe\">\n",
       "  <thead>\n",
       "    <tr style=\"text-align: right;\">\n",
       "      <th></th>\n",
       "      <th>EventID</th>\n",
       "      <th>TrackID</th>\n",
       "      <th>PdgCode</th>\n",
       "      <th>DetectorID</th>\n",
       "      <th>StatNb</th>\n",
       "      <th>ViewNb</th>\n",
       "      <th>PlaneNb</th>\n",
       "      <th>LayerNb</th>\n",
       "      <th>StrawNb</th>\n",
       "      <th>Px</th>\n",
       "      <th>...</th>\n",
       "      <th>dist2Wire</th>\n",
       "      <th>Wx1</th>\n",
       "      <th>Wx2</th>\n",
       "      <th>Wy1</th>\n",
       "      <th>Wy2</th>\n",
       "      <th>Wz</th>\n",
       "      <th>Wz1</th>\n",
       "      <th>Wz2</th>\n",
       "      <th>Label</th>\n",
       "      <th>IsStereo</th>\n",
       "    </tr>\n",
       "  </thead>\n",
       "  <tbody>\n",
       "    <tr>\n",
       "      <th>79</th>\n",
       "      <td>2</td>\n",
       "      <td>2</td>\n",
       "      <td>-211</td>\n",
       "      <td>10002284</td>\n",
       "      <td>1</td>\n",
       "      <td>0</td>\n",
       "      <td>0</td>\n",
       "      <td>0</td>\n",
       "      <td>284</td>\n",
       "      <td>0.866347</td>\n",
       "      <td>...</td>\n",
       "      <td>0.042245</td>\n",
       "      <td>-250.000000</td>\n",
       "      <td>250.000000</td>\n",
       "      <td>0.910845</td>\n",
       "      <td>0.910845</td>\n",
       "      <td>2581.1500</td>\n",
       "      <td>2581.1500</td>\n",
       "      <td>2581.1500</td>\n",
       "      <td>0</td>\n",
       "      <td>0</td>\n",
       "    </tr>\n",
       "    <tr>\n",
       "      <th>111</th>\n",
       "      <td>2</td>\n",
       "      <td>2</td>\n",
       "      <td>-211</td>\n",
       "      <td>42012282</td>\n",
       "      <td>4</td>\n",
       "      <td>2</td>\n",
       "      <td>0</td>\n",
       "      <td>1</td>\n",
       "      <td>282</td>\n",
       "      <td>0.867240</td>\n",
       "      <td>...</td>\n",
       "      <td>0.478996</td>\n",
       "      <td>-248.589486</td>\n",
       "      <td>249.507863</td>\n",
       "      <td>27.516483</td>\n",
       "      <td>-16.061389</td>\n",
       "      <td>3542.3793</td>\n",
       "      <td>3542.3793</td>\n",
       "      <td>3542.3793</td>\n",
       "      <td>0</td>\n",
       "      <td>1</td>\n",
       "    </tr>\n",
       "    <tr>\n",
       "      <th>81</th>\n",
       "      <td>2</td>\n",
       "      <td>2</td>\n",
       "      <td>-211</td>\n",
       "      <td>11012288</td>\n",
       "      <td>1</td>\n",
       "      <td>1</td>\n",
       "      <td>0</td>\n",
       "      <td>1</td>\n",
       "      <td>288</td>\n",
       "      <td>0.866625</td>\n",
       "      <td>...</td>\n",
       "      <td>0.310706</td>\n",
       "      <td>-248.587499</td>\n",
       "      <td>249.509850</td>\n",
       "      <td>-26.749494</td>\n",
       "      <td>16.828378</td>\n",
       "      <td>2592.3793</td>\n",
       "      <td>2592.3793</td>\n",
       "      <td>2592.3793</td>\n",
       "      <td>0</td>\n",
       "      <td>1</td>\n",
       "    </tr>\n",
       "    <tr>\n",
       "      <th>43</th>\n",
       "      <td>2</td>\n",
       "      <td>3</td>\n",
       "      <td>-13</td>\n",
       "      <td>11012286</td>\n",
       "      <td>1</td>\n",
       "      <td>1</td>\n",
       "      <td>0</td>\n",
       "      <td>1</td>\n",
       "      <td>286</td>\n",
       "      <td>-0.239448</td>\n",
       "      <td>...</td>\n",
       "      <td>0.117904</td>\n",
       "      <td>-248.894287</td>\n",
       "      <td>249.203062</td>\n",
       "      <td>-23.435691</td>\n",
       "      <td>20.142180</td>\n",
       "      <td>2592.3793</td>\n",
       "      <td>2592.3793</td>\n",
       "      <td>2592.3793</td>\n",
       "      <td>1</td>\n",
       "      <td>1</td>\n",
       "    </tr>\n",
       "    <tr>\n",
       "      <th>88</th>\n",
       "      <td>2</td>\n",
       "      <td>2</td>\n",
       "      <td>-211</td>\n",
       "      <td>20012285</td>\n",
       "      <td>2</td>\n",
       "      <td>0</td>\n",
       "      <td>0</td>\n",
       "      <td>1</td>\n",
       "      <td>285</td>\n",
       "      <td>0.866401</td>\n",
       "      <td>...</td>\n",
       "      <td>0.437575</td>\n",
       "      <td>-250.000000</td>\n",
       "      <td>250.000000</td>\n",
       "      <td>0.426175</td>\n",
       "      <td>0.426175</td>\n",
       "      <td>2782.2500</td>\n",
       "      <td>2782.2500</td>\n",
       "      <td>2782.2500</td>\n",
       "      <td>0</td>\n",
       "      <td>0</td>\n",
       "    </tr>\n",
       "  </tbody>\n",
       "</table>\n",
       "<p>5 rows × 25 columns</p>\n",
       "</div>"
      ],
      "text/plain": [
       "     EventID  TrackID  PdgCode  DetectorID  StatNb  ViewNb  PlaneNb  LayerNb  \\\n",
       "79         2        2     -211    10002284       1       0        0        0   \n",
       "111        2        2     -211    42012282       4       2        0        1   \n",
       "81         2        2     -211    11012288       1       1        0        1   \n",
       "43         2        3      -13    11012286       1       1        0        1   \n",
       "88         2        2     -211    20012285       2       0        0        1   \n",
       "\n",
       "     StrawNb        Px    ...     dist2Wire         Wx1         Wx2  \\\n",
       "79       284  0.866347    ...      0.042245 -250.000000  250.000000   \n",
       "111      282  0.867240    ...      0.478996 -248.589486  249.507863   \n",
       "81       288  0.866625    ...      0.310706 -248.587499  249.509850   \n",
       "43       286 -0.239448    ...      0.117904 -248.894287  249.203062   \n",
       "88       285  0.866401    ...      0.437575 -250.000000  250.000000   \n",
       "\n",
       "           Wy1        Wy2         Wz        Wz1        Wz2  Label  IsStereo  \n",
       "79    0.910845   0.910845  2581.1500  2581.1500  2581.1500      0         0  \n",
       "111  27.516483 -16.061389  3542.3793  3542.3793  3542.3793      0         1  \n",
       "81  -26.749494  16.828378  2592.3793  2592.3793  2592.3793      0         1  \n",
       "43  -23.435691  20.142180  2592.3793  2592.3793  2592.3793      1         1  \n",
       "88    0.426175   0.426175  2782.2500  2782.2500  2782.2500      0         0  \n",
       "\n",
       "[5 rows x 25 columns]"
      ]
     },
     "execution_count": 4,
     "metadata": {},
     "output_type": "execute_result"
    }
   ],
   "source": [
    "data_0 = pandas.read_csv('Data/hits.csv', index_col=0)\n",
    "\n",
    "data_1 = data_0.copy()\n",
    "data_1['Wy1'] = data_0['Wy1'].values + data_0.dist2Wire.values\n",
    "data_1['Wy2'] = data_0['Wy2'].values + data_0.dist2Wire.values\n",
    "data_2 = data_0.copy()\n",
    "data_2['Wy1'] = data_0['Wy1'].values - data_0.dist2Wire.values\n",
    "data_2['Wy2'] = data_0['Wy2'].values - data_0.dist2Wire.values\n",
    "data = pandas.concat([data_1, data_2], axis=0)\n",
    "\n",
    "data['IsStereo'] = (data.ViewNb.values == 1) * 1. + (data.ViewNb.values == 2) * 1.\n",
    "\n",
    "data.head()"
   ]
  },
  {
   "cell_type": "code",
   "execution_count": 5,
   "metadata": {
    "collapsed": false
   },
   "outputs": [],
   "source": [
    "from sklearn.cross_validation import train_test_split\n",
    "\n",
    "event_ids = numpy.unique(data.EventID.values)"
   ]
  },
  {
   "cell_type": "markdown",
   "metadata": {},
   "source": [
    "# Tracks Reconstruction"
   ]
  },
  {
   "cell_type": "code",
   "execution_count": 6,
   "metadata": {
    "collapsed": false
   },
   "outputs": [],
   "source": [
    "from baseline import SimpleTemplateMatching\n",
    "from regressor import MultiLinearRegression\n",
    "from reconstruction import TracksReconstruction2D\n",
    "from combination import Combinator, SuperCombinator\n",
    "\n",
    "\n",
    "from metrics import TracksReconstractionMetrics, CombinatorQuality"
   ]
  },
  {
   "cell_type": "markdown",
   "metadata": {},
   "source": [
    "### Tests"
   ]
  },
  {
   "cell_type": "code",
   "execution_count": 7,
   "metadata": {
    "collapsed": false
   },
   "outputs": [],
   "source": [
    "event = data[data.EventID == 2]\n",
    "event12 = event[(event.StatNb <= 2)*(event.ViewNb != 1)*(event.ViewNb != 2)]\n",
    "\n",
    "x = event12.Wz1.values\n",
    "y = event12.Wy1.values\n",
    "\n",
    "labels = []\n",
    "tracks_params = []"
   ]
  },
  {
   "cell_type": "code",
   "execution_count": 8,
   "metadata": {
    "collapsed": false,
    "scrolled": false
   },
   "outputs": [
    {
     "name": "stdout",
     "output_type": "stream",
     "text": [
      "CPU times: user 2.29 s, sys: 17 ms, total: 2.31 s\n",
      "Wall time: 2.36 s\n"
     ]
    }
   ],
   "source": [
    "%%time\n",
    "mlr = MultiLinearRegression(n_tracks=7, \n",
    "                            n_neighbors=10, \n",
    "                            min_samples=5, \n",
    "                            subsample=2000, \n",
    "                            x_unique=True, \n",
    "                            track_classifier=None, \n",
    "                            hit_classifier=None)\n",
    "mlr.fit(x, y)\n",
    "\n",
    "labels = mlr.labels_\n",
    "tracks_params = mlr.tracks_params_"
   ]
  },
  {
   "cell_type": "code",
   "execution_count": 9,
   "metadata": {
    "collapsed": false
   },
   "outputs": [
    {
     "data": {
      "image/png": "[encoded data removed]",
      "text/plain": [
       "<matplotlib.figure.Figure at 0x7ff9d0891310>"
      ]
     },
     "metadata": {},
     "output_type": "display_data"
    }
   ],
   "source": [
    "plt.scatter(x,y)\n",
    "for slope, inter, err in zip(mlr.slopes_, mlr.intercepts_, mlr.stderrs_):\n",
    "    plt.plot(x, x*slope+inter, color='0.5', alpha=0.01)\n",
    "    \n",
    "plt.ylim(y.min()-5, y.max()+5)\n",
    "plt.show()"
   ]
  },
  {
   "cell_type": "code",
   "execution_count": 10,
   "metadata": {
    "collapsed": false
   },
   "outputs": [
    {
     "data": {
      "text/plain": [
       "1.0"
      ]
     },
     "execution_count": 10,
     "metadata": {},
     "output_type": "execute_result"
    }
   ],
   "source": [
    "from metrics import HitsMatchingEfficiency\n",
    "\n",
    "hme = HitsMatchingEfficiency(eff_threshold=0.3)\n",
    "hme.fit(event12.Label.values, labels)\n",
    "\n",
    "hme.recognition_efficiency_"
   ]
  },
  {
   "cell_type": "code",
   "execution_count": 11,
   "metadata": {
    "collapsed": false
   },
   "outputs": [
    {
     "data": {
      "text/plain": [
       "array([[  6.14336658e-03,  -1.42723993e+01],\n",
       "       [ -1.17495358e-02,   3.44203240e+01],\n",
       "       [  6.85200243e-03,  -1.53694972e+01],\n",
       "       [ -1.39711172e-03,   6.43698890e+00],\n",
       "       [ -1.39711172e-03,   6.43698890e+00],\n",
       "       [ -1.39711172e-03,   6.43698890e+00],\n",
       "       [ -1.39711172e-03,   6.43698890e+00]])"
      ]
     },
     "execution_count": 11,
     "metadata": {},
     "output_type": "execute_result"
    }
   ],
   "source": [
    "tracks_params"
   ]
  },
  {
   "cell_type": "code",
   "execution_count": 12,
   "metadata": {
    "collapsed": false
   },
   "outputs": [
    {
     "data": {
      "text/plain": [
       "array([ 0.,  1., -1.,  0., -1.,  0.,  1., -1.,  1.,  1., -1., -1.,  1.,\n",
       "        1.,  1.,  0., -1., -1., -1.,  1., -1.,  1., -1., -1., -1., -1.,\n",
       "       -1.,  2., -1., -1.,  6., -1., -1., -1.])"
      ]
     },
     "execution_count": 12,
     "metadata": {},
     "output_type": "execute_result"
    }
   ],
   "source": [
    "labels"
   ]
  },
  {
   "cell_type": "code",
   "execution_count": null,
   "metadata": {
    "collapsed": false
   },
   "outputs": [
    {
     "data": {
      "text/plain": [
       "array([ 0.,  0.,  1.,  0.,  1.,  0.,  0.,  1.,  0.,  0.,  1.,  1.,  1.,\n",
       "        1.,  0.,  0.,  1.,  0.,  0.,  1.,  0.,  1.,  0.,  0.,  1.,  0.,\n",
       "        0.,  1.,  1.,  1.,  1.,  0.,  0.,  1.])"
      ]
     },
     "execution_count": 13,
     "metadata": {},
     "output_type": "execute_result"
    }
   ],
   "source": [
    "event12.Label.values"
   ]
  },
  {
   "cell_type": "markdown",
   "metadata": {},
   "source": [
    "### Tracks Reconstruction"
   ]
  },
  {
   "cell_type": "code",
   "execution_count": null,
   "metadata": {
    "collapsed": false
   },
   "outputs": [],
   "source": [
    "%%time\n",
    "from multiprocessing import Pool\n",
    "from utils import merge_dicts\n",
    "from regressor import MultiLinearRegression\n",
    "import gc\n",
    "\n",
    "event_ids = event_ids\n",
    "tracks = {}\n",
    "\n",
    "def tracks_reconstruction(event_id):\n",
    "    \n",
    "    # Get an event\n",
    "    event = data[data.EventID == event_id]\n",
    "    event12 = event[(event.StatNb == 1) + (event.StatNb == 2)]\n",
    "    event34 = event[(event.StatNb == 3) + (event.StatNb == 4)]\n",
    "    \n",
    "    weights12 = None# 1. / numpy.sqrt(event12.dist2Wire.values**2 + 0.01**2)\n",
    "    weights34 = None# 1. / numpy.sqrt(event34.dist2Wire.values**2 + 0.01**2)\n",
    "    \n",
    "    # Select model for the tracks reconstruction\n",
    "    stm_y = MultiLinearRegression(n_tracks=2, \n",
    "                            n_neighbors=20, \n",
    "                            min_samples=2, \n",
    "                            subsample=2000, \n",
    "                            x_unique=True, \n",
    "                            track_classifier=None, \n",
    "                            hit_classifier=None)\n",
    "    stm_stereo = MultiLinearRegression(n_tracks=1, \n",
    "                            n_neighbors=20, \n",
    "                            min_samples=2, \n",
    "                            subsample=2000, \n",
    "                            x_unique=True, \n",
    "                            track_classifier=None, \n",
    "                            hit_classifier=None)\n",
    "    #stm_stereo = SimpleTemplateMatching(n_max_hits=16, n_min_hits=6, window_width=5)\n",
    "    \n",
    "    # Tracks reconstruction before the magnet\n",
    "    tr2d12 = TracksReconstruction2D(model_y=stm_y, model_stereo=stm_stereo)\n",
    "    tr2d12.fit(event12, weights12)\n",
    "    \n",
    "    labels12 = tr2d12.labels_\n",
    "    tracks_params12 = tr2d12.tracks_params_\n",
    "    \n",
    "    # Tracks reconstruction after the magnet\n",
    "    tr2d34 = TracksReconstruction2D(model_y=stm_y, model_stereo=stm_stereo)\n",
    "    tr2d34.fit(event34, weights34)\n",
    "    \n",
    "    labels34 = tr2d34.labels_\n",
    "    tracks_params34 = tr2d34.tracks_params_\n",
    "    \n",
    "    \n",
    "    # Save the hits labels and the tracks parameters \n",
    "    one_track = {}\n",
    "    \n",
    "    one_track[event_id] = {'labels12':labels12, 'params12':tracks_params12, \n",
    "                           'labels34':labels34, 'params34':tracks_params34}\n",
    "    \n",
    "    del tr2d12, tr2d34, stm_y, stm_stereo\n",
    "    gc.collect()\n",
    "    \n",
    "    return one_track\n",
    "\n",
    "if __name__ == \"__main__\":\n",
    "    p = Pool(4)\n",
    "    results = p.map(tracks_reconstruction, event_ids)\n",
    "    tracks = merge_dicts(results)\n",
    "\n",
    "# results = []\n",
    "# for event_id in event_ids:\n",
    "#     one_result = tracks_reconstruction(event_id)\n",
    "#     results.append(one_result)\n",
    "# tracks = merge_dicts(results)"
   ]
  },
  {
   "cell_type": "code",
   "execution_count": null,
   "metadata": {
    "collapsed": false
   },
   "outputs": [],
   "source": [
    "#tracks_reconstruction(23)"
   ]
  },
  {
   "cell_type": "code",
   "execution_count": 40,
   "metadata": {
    "collapsed": false
   },
   "outputs": [
    {
     "name": "stdout",
     "output_type": "stream",
     "text": [
      "CPU times: user 27.2 s, sys: 71 ms, total: 27.3 s\n",
      "Wall time: 27.7 s\n"
     ]
    }
   ],
   "source": [
    "%%time\n",
    "\n",
    "tracks_metrics_before_y = pandas.DataFrame(columns=['EventID', 'AvgEff', 'RecoEff', 'GhostRate', 'CloneRate'])\n",
    "tracks_metrics_before_stereo = pandas.DataFrame(columns=['EventID', 'AvgEff', 'RecoEff', 'GhostRate', 'CloneRate'])\n",
    "tracks_metrics_before_all = pandas.DataFrame(columns=['EventID', 'AvgEff', 'RecoEff', 'GhostRate', 'CloneRate'])\n",
    "\n",
    "tracks_metrics_after_y = pandas.DataFrame(columns=['EventID', 'AvgEff', 'RecoEff', 'GhostRate', 'CloneRate'])\n",
    "tracks_metrics_after_stereo = pandas.DataFrame(columns=['EventID', 'AvgEff', 'RecoEff', 'GhostRate', 'CloneRate'])\n",
    "tracks_metrics_after_all = pandas.DataFrame(columns=['EventID', 'AvgEff', 'RecoEff', 'GhostRate', 'CloneRate'])\n",
    "\n",
    "combinations = pandas.DataFrame(columns=['EventID', 'TrackIDBefore', 'TrackIDAfter', 'Charge', 'PInv'])\n",
    "combinations_true = pandas.DataFrame(columns=['EventID', 'IsTrueCombination', 'PdgCode', 'Charge', \n",
    "                                                 'IsTrueCharge', 'TruePInv', 'PErr', 'Label'])\n",
    "\n",
    "combinations_quality = pandas.DataFrame(columns=['EventID', 'RecoEff', 'GhostRate', 'CloneRate', 'NCombined'])\n",
    "\n",
    "pass_stages = pandas.DataFrame(columns=['RecoEvents', 'Y12', 'Stereo12', 'Stations12', \n",
    "                                        'Y34', 'Stereo34', 'Stations34', 'Combination', 'Matching'])\n",
    "\n",
    "for event_id in tracks.keys():\n",
    "    \n",
    "    \n",
    "    # Get an event\n",
    "    event = data[data.EventID == event_id]\n",
    "    event12 = event[(event.StatNb == 1) + (event.StatNb == 2)]\n",
    "    event34 = event[(event.StatNb == 3) + (event.StatNb == 4)]\n",
    "    \n",
    "    weights12 = None# 1. / numpy.sqrt(event12.dist2Wire.values**2 + 0.01**2)\n",
    "    weights34 = None# 1. / numpy.sqrt(event34.dist2Wire.values**2 + 0.01**2)\n",
    "    \n",
    "    labels12 = tracks[event_id]['labels12']\n",
    "    tracks_params12 = tracks[event_id]['params12']\n",
    "    labels34 = tracks[event_id]['labels34']\n",
    "    tracks_params34 = tracks[event_id]['params34']\n",
    "    \n",
    "    # Select model for the tracks reconstruction\n",
    "    # stm_y = LinearHoughModel(k_params=(-0.2, 0.2, 0.0004), b_params=(-800, 800, 1.6), min_hits=4, multiplier=2)\n",
    "    # stm_stereo = LinearHoughModel(k_params=(-0.2, 0.2, 0.005), b_params=(-800, 800, 10), min_hits=4, multiplier=2)\n",
    "    \n",
    "    \n",
    "    # Tracks reconstruction before the magnet\n",
    "    # tr2d12 = TracksReconstruction2D(model_y=stm_y, model_stereo=stm_stereo)\n",
    "    # tr2d12.fit(event12, weights12)\n",
    "    \n",
    "    # labels12 = tr2d12.labels_\n",
    "    # tracks_params12 = tr2d12.tracks_params_\n",
    "    \n",
    "    # Quality metrics of the reconstruction\n",
    "    trm12 = TracksReconstractionMetrics(0.2)\n",
    "    trm12.fit(labels12, event12)\n",
    "\n",
    "    tracks_metrics_before_y.loc[len(tracks_metrics_before_y)] = [event_id, \n",
    "                                                                 trm12.avg_efficiency_y_, \n",
    "                                                                 trm12.recognition_efficiency_y_, \n",
    "                                                                 trm12.ghost_rate_y_, \n",
    "                                                                 trm12.clone_rate_y_]\n",
    "\n",
    "    tracks_metrics_before_stereo.loc[len(tracks_metrics_before_stereo)] = [event_id, \n",
    "                                                                 trm12.avg_efficiency_stereo_, \n",
    "                                                                 trm12.recognition_efficiency_stereo_, \n",
    "                                                                 trm12.ghost_rate_stereo_, \n",
    "                                                                 trm12.clone_rate_stereo_]\n",
    "    \n",
    "    tracks_metrics_before_all.loc[len(tracks_metrics_before_all)] = [event_id, \n",
    "                                                                 trm12.avg_efficiency_, \n",
    "                                                                 trm12.recognition_efficiency_, \n",
    "                                                                 trm12.ghost_rate_, \n",
    "                                                                 trm12.clone_rate_]\n",
    "\n",
    "    # Tracks reconstruction after the magnet\n",
    "    # tr2d34 = TracksReconstruction2D(model_y=stm_y, model_stereo=stm_stereo)\n",
    "    # tr2d34.fit(event34, weights34)\n",
    "    \n",
    "    # labels34 = tr2d34.labels_\n",
    "    # tracks_params34 = tr2d34.tracks_params_\n",
    "    \n",
    "    # Quality metrics of the reconstruction\n",
    "    trm34 = TracksReconstractionMetrics(0.2)\n",
    "    trm34.fit(labels34, event34)\n",
    "    \n",
    "    tracks_metrics_after_y.loc[len(tracks_metrics_after_y)] = [event_id, \n",
    "                                                                 trm34.avg_efficiency_y_, \n",
    "                                                                 trm34.recognition_efficiency_y_, \n",
    "                                                                 trm34.ghost_rate_y_, \n",
    "                                                                 trm34.clone_rate_y_]\n",
    "\n",
    "    tracks_metrics_after_stereo.loc[len(tracks_metrics_after_stereo)] = [event_id, \n",
    "                                                                 trm34.avg_efficiency_stereo_, \n",
    "                                                                 trm34.recognition_efficiency_stereo_, \n",
    "                                                                 trm34.ghost_rate_stereo_, \n",
    "                                                                 trm34.clone_rate_stereo_]\n",
    "    \n",
    "    tracks_metrics_after_all.loc[len(tracks_metrics_after_all)] = [event_id, \n",
    "                                                                 trm34.avg_efficiency_, \n",
    "                                                                 trm34.recognition_efficiency_, \n",
    "                                                                 trm34.ghost_rate_, \n",
    "                                                                 trm34.clone_rate_]\n",
    "    \n",
    "        \n",
    "    \n",
    "    # Combination of the tracks before and after the magnet\n",
    "    comb = Combinator()\n",
    "    comb.combine(tracks_params12, tracks_params34)\n",
    "    \n",
    "    for num in range(len(comb.tracks_combinations_)):\n",
    "        \n",
    "        combinations.loc[len(combinations)] = [event_id, \n",
    "                                               comb.tracks_combinations_[num][0], \n",
    "                                               comb.tracks_combinations_[num][1], \n",
    "                                               comb.charges_[num], \n",
    "                                               comb.inv_momentums_[num]]\n",
    "    \n",
    "    # Quality of the combination\n",
    "    cq = CombinatorQuality()\n",
    "    cq.fit(labels12, labels34, comb.tracks_combinations_, comb.charges_, comb.inv_momentums_, event12, event34)\n",
    "    \n",
    "    combinations_quality.loc[len(combinations_quality)] = [event_id, \n",
    "                                                           cq.reco_eff_, \n",
    "                                                           cq.ghost_rate_, \n",
    "                                                           cq.clone_rate_, \n",
    "                                                           cq.n_combined_]\n",
    "    \n",
    "    for num in range(len(cq.check_tracks_combinations_)):\n",
    "        \n",
    "        combinations_true.loc[len(combinations_true)] = [event_id, \n",
    "                                                               cq.check_tracks_combinations_[num], \n",
    "                                                               cq.true_pdg_codes_[num], \n",
    "                                                               cq.true_charges_[num],\n",
    "                                                               cq.check_charges_[num], \n",
    "                                                               cq.true_inv_momentums_[num], \n",
    "                                                               cq.momentums_err_[num],\n",
    "                                                               cq.labels_[num]]\n",
    "\n",
    "    \n",
    "    \n",
    "    # Overall quality\n",
    "    pass_stages.loc[len(pass_stages)] = numpy.array([1, \n",
    "                                                     (trm12.recognition_efficiency_y_ == 1)*1, \n",
    "                                                     (trm12.recognition_efficiency_stereo_ >= 0.5)*1, \n",
    "                                                     (trm12.recognition_efficiency_ == 1)*1,\n",
    "                                                     (trm34.recognition_efficiency_y_ == 1)*1, \n",
    "                                                     (trm34.recognition_efficiency_stereo_ >= 0.5)*1, \n",
    "                                                     (trm34.recognition_efficiency_ == 1)*1, \n",
    "                                                     (cq.n_combined_ >= 2)*1,\n",
    "                                                     (cq.reco_eff_ == 1)*1]).cumprod()\n"
   ]
  },
  {
   "cell_type": "markdown",
   "metadata": {},
   "source": [
    "# Quality"
   ]
  },
  {
   "cell_type": "markdown",
   "metadata": {},
   "source": [
    "# Stations 1&2"
   ]
  },
  {
   "cell_type": "markdown",
   "metadata": {},
   "source": [
    "### Y-views"
   ]
  },
  {
   "cell_type": "code",
   "execution_count": 41,
   "metadata": {
    "collapsed": false
   },
   "outputs": [
    {
     "data": {
      "text/plain": [
       "EventID      2555.164179\n",
       "AvgEff          0.993742\n",
       "RecoEff         0.994030\n",
       "GhostRate       0.000746\n",
       "CloneRate       0.006716\n",
       "dtype: float64"
      ]
     },
     "execution_count": 41,
     "metadata": {},
     "output_type": "execute_result"
    }
   ],
   "source": [
    "tracks_metrics_before_y.mean(axis=0)"
   ]
  },
  {
   "cell_type": "markdown",
   "metadata": {},
   "source": [
    "### Stereo-views"
   ]
  },
  {
   "cell_type": "code",
   "execution_count": 42,
   "metadata": {
    "collapsed": false
   },
   "outputs": [
    {
     "data": {
      "text/plain": [
       "EventID      2555.164179\n",
       "AvgEff          0.984476\n",
       "RecoEff         0.960448\n",
       "GhostRate       0.003731\n",
       "CloneRate       0.035821\n",
       "dtype: float64"
      ]
     },
     "execution_count": 42,
     "metadata": {},
     "output_type": "execute_result"
    }
   ],
   "source": [
    "tracks_metrics_before_stereo.mean(axis=0)"
   ]
  },
  {
   "cell_type": "markdown",
   "metadata": {},
   "source": [
    "### Stations 1&2"
   ]
  },
  {
   "cell_type": "code",
   "execution_count": 43,
   "metadata": {
    "collapsed": false
   },
   "outputs": [
    {
     "data": {
      "text/plain": [
       "EventID      2555.164179\n",
       "AvgEff          0.950297\n",
       "RecoEff         0.992537\n",
       "GhostRate       0.001493\n",
       "CloneRate       0.005970\n",
       "dtype: float64"
      ]
     },
     "execution_count": 43,
     "metadata": {},
     "output_type": "execute_result"
    }
   ],
   "source": [
    "tracks_metrics_before_all.mean(axis=0)"
   ]
  },
  {
   "cell_type": "markdown",
   "metadata": {},
   "source": [
    "### Track efficiency"
   ]
  },
  {
   "cell_type": "code",
   "execution_count": 44,
   "metadata": {
    "collapsed": false
   },
   "outputs": [
    {
     "data": {
      "image/png": "[encoded data removed]",
      "text/plain": [
       "<matplotlib.figure.Figure at 0x7ff9afcadcd0>"
      ]
     },
     "metadata": {},
     "output_type": "display_data"
    }
   ],
   "source": [
    "plt.figure(figsize=(15, 3))\n",
    "\n",
    "plt.subplot(1,3,1)\n",
    "eff_y = tracks_metrics_before_y.AvgEff.values\n",
    "plt.title('Mean = % f' % numpy.array(eff_y).mean())\n",
    "plt.hist(eff_y, label='y')\n",
    "plt.xlabel('Track efficiency')\n",
    "plt.xlim(0, 1)\n",
    "plt.legend(loc='best')\n",
    "\n",
    "plt.subplot(1,3,2)\n",
    "eff_stereo = tracks_metrics_before_stereo.AvgEff.values\n",
    "plt.title('Mean = % f' % numpy.array(eff_stereo).mean())\n",
    "plt.hist(eff_stereo, label='stereo')\n",
    "plt.xlabel('Track efficiency')\n",
    "plt.xlim(0, 1)\n",
    "plt.legend(loc='best')\n",
    "\n",
    "plt.subplot(1,3,3)\n",
    "eff_station = tracks_metrics_before_all.AvgEff.values\n",
    "plt.title('Mean = % f' % numpy.array(eff_station).mean())\n",
    "plt.hist(eff_station, label='station 1&2')\n",
    "plt.xlabel('Track efficiency')\n",
    "plt.xlim(0, 1)\n",
    "plt.legend(loc='best')\n",
    "\n",
    "plt.show()"
   ]
  },
  {
   "cell_type": "markdown",
   "metadata": {},
   "source": [
    "### Reconstruction efficiency"
   ]
  },
  {
   "cell_type": "code",
   "execution_count": 45,
   "metadata": {
    "collapsed": false
   },
   "outputs": [
    {
     "data": {
      "image/png": "[encoded data removed]",
      "text/plain": [
       "<matplotlib.figure.Figure at 0x7ff9bc0dad10>"
      ]
     },
     "metadata": {},
     "output_type": "display_data"
    }
   ],
   "source": [
    "plt.figure(figsize=(15, 3))\n",
    "\n",
    "plt.subplot(1,3,1)\n",
    "eff_y = tracks_metrics_before_y.RecoEff.values\n",
    "plt.title('Mean = % f' % numpy.array(eff_y).mean())\n",
    "plt.hist(eff_y, label='y')\n",
    "plt.xlabel('Reconstruction efficiency')\n",
    "plt.xlim(0, 1)\n",
    "plt.legend(loc='best')\n",
    "\n",
    "plt.subplot(1,3,2)\n",
    "eff_stereo = tracks_metrics_before_stereo.RecoEff.values\n",
    "plt.title('Mean = % f' % numpy.array(eff_stereo).mean())\n",
    "plt.hist(eff_stereo, label='stereo')\n",
    "plt.xlabel('Reconstruction efficiency')\n",
    "plt.xlim(0, 1)\n",
    "plt.legend(loc='best')\n",
    "\n",
    "plt.subplot(1,3,3)\n",
    "eff_station = tracks_metrics_before_all.RecoEff.values\n",
    "plt.title('Mean = % f' % numpy.array(eff_station).mean())\n",
    "plt.hist(eff_station, label='station 1&2')\n",
    "plt.xlabel('Reconstruction efficiency')\n",
    "plt.xlim(0, 1)\n",
    "plt.legend(loc='best')\n",
    "\n",
    "plt.show()"
   ]
  },
  {
   "cell_type": "markdown",
   "metadata": {},
   "source": [
    "# Stations 3&4"
   ]
  },
  {
   "cell_type": "markdown",
   "metadata": {},
   "source": [
    "### Y-views"
   ]
  },
  {
   "cell_type": "code",
   "execution_count": 46,
   "metadata": {
    "collapsed": false
   },
   "outputs": [
    {
     "data": {
      "text/plain": [
       "EventID      2555.164179\n",
       "AvgEff          0.990269\n",
       "RecoEff         0.991791\n",
       "GhostRate       0.007463\n",
       "CloneRate       0.011194\n",
       "dtype: float64"
      ]
     },
     "execution_count": 46,
     "metadata": {},
     "output_type": "execute_result"
    }
   ],
   "source": [
    "tracks_metrics_after_y.mean(axis=0)"
   ]
  },
  {
   "cell_type": "markdown",
   "metadata": {},
   "source": [
    "### Stereo-views"
   ]
  },
  {
   "cell_type": "code",
   "execution_count": 47,
   "metadata": {
    "collapsed": false
   },
   "outputs": [
    {
     "data": {
      "text/plain": [
       "EventID      2555.164179\n",
       "AvgEff          0.981961\n",
       "RecoEff         0.965672\n",
       "GhostRate       0.008955\n",
       "CloneRate       0.025373\n",
       "dtype: float64"
      ]
     },
     "execution_count": 47,
     "metadata": {},
     "output_type": "execute_result"
    }
   ],
   "source": [
    "tracks_metrics_after_stereo.mean(axis=0)"
   ]
  },
  {
   "cell_type": "markdown",
   "metadata": {},
   "source": [
    "### Station 3&4"
   ]
  },
  {
   "cell_type": "code",
   "execution_count": 48,
   "metadata": {
    "collapsed": false
   },
   "outputs": [
    {
     "data": {
      "text/plain": [
       "EventID      2555.164179\n",
       "AvgEff          0.949687\n",
       "RecoEff         0.986567\n",
       "GhostRate       0.007463\n",
       "CloneRate       0.005970\n",
       "dtype: float64"
      ]
     },
     "execution_count": 48,
     "metadata": {},
     "output_type": "execute_result"
    }
   ],
   "source": [
    "tracks_metrics_after_all.mean(axis=0)"
   ]
  },
  {
   "cell_type": "markdown",
   "metadata": {},
   "source": [
    "### Tracks efficiency"
   ]
  },
  {
   "cell_type": "code",
   "execution_count": 49,
   "metadata": {
    "collapsed": false
   },
   "outputs": [
    {
     "data": {
      "image/png": "[encoded data removed]",
      "text/plain": [
       "<matplotlib.figure.Figure at 0x7ff9be433810>"
      ]
     },
     "metadata": {},
     "output_type": "display_data"
    }
   ],
   "source": [
    "plt.figure(figsize=(15, 3))\n",
    "\n",
    "plt.subplot(1,3,1)\n",
    "eff_y = tracks_metrics_after_y.AvgEff.values\n",
    "plt.title('Mean = % f' % numpy.array(eff_y).mean())\n",
    "plt.hist(eff_y, label='y')\n",
    "plt.xlabel('Track efficiency')\n",
    "plt.xlim(0, 1)\n",
    "plt.legend(loc='best')\n",
    "\n",
    "plt.subplot(1,3,2)\n",
    "eff_stereo = tracks_metrics_after_stereo.AvgEff.values\n",
    "plt.title('Mean = % f' % numpy.array(eff_stereo).mean())\n",
    "plt.hist(eff_stereo, label='stereo')\n",
    "plt.xlabel('Track efficiency')\n",
    "plt.xlim(0, 1)\n",
    "plt.legend(loc='best')\n",
    "\n",
    "plt.subplot(1,3,3)\n",
    "eff_station = tracks_metrics_after_all.AvgEff.values\n",
    "plt.title('Mean = % f' % numpy.array(eff_station).mean())\n",
    "plt.hist(eff_station, label='station 3&4')\n",
    "plt.xlabel('Track efficiency')\n",
    "plt.xlim(0, 1)\n",
    "plt.legend(loc='best')\n",
    "\n",
    "plt.show()"
   ]
  },
  {
   "cell_type": "markdown",
   "metadata": {},
   "source": [
    "### Reconstruction efficiency"
   ]
  },
  {
   "cell_type": "code",
   "execution_count": 50,
   "metadata": {
    "collapsed": false
   },
   "outputs": [
    {
     "data": {
      "image/png": "[encoded data removed]",
      "text/plain": [
       "<matplotlib.figure.Figure at 0x7ff9bdfe57d0>"
      ]
     },
     "metadata": {},
     "output_type": "display_data"
    }
   ],
   "source": [
    "plt.figure(figsize=(15, 3))\n",
    "\n",
    "plt.subplot(1,3,1)\n",
    "eff_y = tracks_metrics_after_y.RecoEff.values\n",
    "plt.title('Mean = % f' % numpy.array(eff_y).mean())\n",
    "plt.hist(eff_y, label='y')\n",
    "plt.xlabel('Reconstruction efficiency')\n",
    "plt.xlim(0, 1)\n",
    "plt.legend(loc='best')\n",
    "\n",
    "plt.subplot(1,3,2)\n",
    "eff_stereo = tracks_metrics_after_stereo.RecoEff.values\n",
    "plt.title('Mean = % f' % numpy.array(eff_stereo).mean())\n",
    "plt.hist(eff_stereo, label='stereo')\n",
    "plt.xlabel('Reconstruction efficiency')\n",
    "plt.xlim(0, 1)\n",
    "plt.legend(loc='best')\n",
    "\n",
    "plt.subplot(1,3,3)\n",
    "eff_station = tracks_metrics_after_all.RecoEff.values\n",
    "plt.title('Mean = % f' % numpy.array(eff_station).mean())\n",
    "plt.hist(eff_station, label='station 3&4')\n",
    "plt.xlabel('Reconstruction efficiency')\n",
    "plt.xlim(0, 1)\n",
    "plt.legend(loc='best')\n",
    "\n",
    "plt.show()"
   ]
  },
  {
   "cell_type": "markdown",
   "metadata": {},
   "source": [
    "# Combination"
   ]
  },
  {
   "cell_type": "code",
   "execution_count": 51,
   "metadata": {
    "collapsed": false
   },
   "outputs": [
    {
     "data": {
      "text/plain": [
       "EventID      2555.164179\n",
       "RecoEff         0.758209\n",
       "GhostRate       0.006716\n",
       "CloneRate       0.000000\n",
       "NCombined       1.516418\n",
       "dtype: float64"
      ]
     },
     "execution_count": 51,
     "metadata": {},
     "output_type": "execute_result"
    }
   ],
   "source": [
    "combinations_quality.mean(axis=0)"
   ]
  },
  {
   "cell_type": "code",
   "execution_count": 52,
   "metadata": {
    "collapsed": false
   },
   "outputs": [
    {
     "data": {
      "image/png": "[encoded data removed]",
      "text/plain": [
       "<matplotlib.figure.Figure at 0x7ff9d04595d0>"
      ]
     },
     "metadata": {},
     "output_type": "display_data"
    }
   ],
   "source": [
    "plt.figure(figsize=(15, 3))\n",
    "\n",
    "plt.subplot(1,3,1)\n",
    "eff = combinations_quality.RecoEff.values\n",
    "plt.title('Mean = % f' % numpy.array(eff).mean())\n",
    "plt.hist(eff, label='RecoEff')\n",
    "plt.xlabel('Reconstruction efficiency')\n",
    "plt.xlim(0, 1)\n",
    "plt.legend(loc='best')\n",
    "\n",
    "plt.subplot(1,3,2)\n",
    "ghost = combinations_quality.GhostRate.values\n",
    "plt.title('Mean = % f' % numpy.array(ghost).mean())\n",
    "plt.hist(ghost, label='GhostRate')\n",
    "plt.xlabel('Ghost rate')\n",
    "plt.xlim(0, 1)\n",
    "plt.legend(loc='best')\n",
    "\n",
    "plt.subplot(1,3,3)\n",
    "n_combined = combinations_quality.NCombined.values\n",
    "plt.title('Mean = % f' % numpy.array(n_combined).mean())\n",
    "plt.hist(n_combined, label='NCombined')\n",
    "plt.xlabel('N combined tracks per event')\n",
    "plt.xlim(0, 2)\n",
    "plt.legend(loc='best')\n",
    "\n",
    "plt.show()"
   ]
  },
  {
   "cell_type": "markdown",
   "metadata": {},
   "source": [
    "# Ratio of the events passes through the stages"
   ]
  },
  {
   "cell_type": "code",
   "execution_count": 53,
   "metadata": {
    "collapsed": false
   },
   "outputs": [
    {
     "name": "stdout",
     "output_type": "stream",
     "text": [
      "66.5671641791\n"
     ]
    },
    {
     "data": {
      "image/png": "[encoded data removed]",
      "text/plain": [
       "<matplotlib.figure.Figure at 0x7ff9bdf24650>"
      ]
     },
     "metadata": {},
     "output_type": "display_data"
    }
   ],
   "source": [
    "bar_labels = ['Reconstructible tracks', \n",
    "              'Y view station 1&2', \n",
    "              'Stereo station 1&2', \n",
    "              'Station 1&2',\n",
    "              'Y view station 3&4', \n",
    "              'Stereo station 3&4',\n",
    "              'Station 3&4',\n",
    "              'Combined stations 1&2/3&4',\n",
    "              'Matched']\n",
    "\n",
    "bar_values = pass_stages.sum(axis=0).values\n",
    "bar_values = bar_values / bar_values[0] * 100\n",
    "\n",
    "\n",
    "print bar_values[-1]\n",
    "\n",
    "x = range(len(bar_labels))\n",
    "plt.figure(figsize=(10,5))\n",
    "plt.bar(x, bar_values, width=1., color='gold', align='center')\n",
    "plt.xticks(x, bar_labels, rotation=90, size=15)\n",
    "plt.yticks(size=15)\n",
    "plt.xlim(-0.5, 8.5)\n",
    "plt.ylim(bar_values[-1], bar_values[0])\n",
    "plt.ylabel('Ratio of events, %', size=15)\n",
    "plt.show()"
   ]
  },
  {
   "cell_type": "code",
   "execution_count": 54,
   "metadata": {
    "collapsed": false
   },
   "outputs": [
    {
     "data": {
      "text/plain": [
       "array([ 100.        ,   98.80597015,   98.65671642,   98.20895522,\n",
       "         97.01492537,   96.86567164,   96.11940299,   66.56716418,\n",
       "         66.56716418])"
      ]
     },
     "execution_count": 54,
     "metadata": {},
     "output_type": "execute_result"
    }
   ],
   "source": [
    "bar_values"
   ]
  },
  {
   "cell_type": "markdown",
   "metadata": {},
   "source": [
    "# Momentum"
   ]
  },
  {
   "cell_type": "code",
   "execution_count": 55,
   "metadata": {
    "collapsed": false
   },
   "outputs": [],
   "source": [
    "passed_events = event_ids[pass_stages.Matching.values == 1]\n",
    "p_err = combinations_true[combinations_true.EventID.isin(passed_events)].PErr.values"
   ]
  },
  {
   "cell_type": "code",
   "execution_count": 56,
   "metadata": {
    "collapsed": false
   },
   "outputs": [
    {
     "data": {
      "image/png": "[encoded data removed]",
      "text/plain": [
       "<matplotlib.figure.Figure at 0x7ff9bdb15bd0>"
      ]
     },
     "metadata": {},
     "output_type": "display_data"
    }
   ],
   "source": [
    "plt.figure(figsize=(7, 5))\n",
    "plt.hist(p_err[numpy.isfinite(p_err)], bins=100, color='b')\n",
    "\n",
    "plt.title('(p - p-true)/p_true', size=15)\n",
    "plt.xticks(numpy.arange(-0.5, 0.51, 0.1), size=12)\n",
    "plt.yticks(size=12)\n",
    "plt.xlim(-0.5, 0.5)\n",
    "plt.show()"
   ]
  },
  {
   "cell_type": "code",
   "execution_count": 57,
   "metadata": {
    "collapsed": false
   },
   "outputs": [
    {
     "data": {
      "text/plain": [
       "5"
      ]
     },
     "execution_count": 57,
     "metadata": {},
     "output_type": "execute_result"
    }
   ],
   "source": [
    "len(p_err) - len(p_err[numpy.isfinite(p_err)])"
   ]
  },
  {
   "cell_type": "code",
   "execution_count": 58,
   "metadata": {
    "collapsed": false
   },
   "outputs": [
    {
     "name": "stdout",
     "output_type": "stream",
     "text": [
      "6.21182504007\n"
     ]
    }
   ],
   "source": [
    "print numpy.abs(p_err[numpy.isfinite(p_err)]).mean() * 100"
   ]
  },
  {
   "cell_type": "code",
   "execution_count": null,
   "metadata": {
    "collapsed": true
   },
   "outputs": [],
   "source": []
  }
 ],
 "metadata": {
  "kernelspec": {
   "display_name": "Python 2",
   "language": "python",
   "name": "python2"
  },
  "language_info": {
   "codemirror_mode": {
    "name": "ipython",
    "version": 2
   },
   "file_extension": ".py",
   "mimetype": "text/x-python",
   "name": "python",
   "nbconvert_exporter": "python",
   "pygments_lexer": "ipython2",
   "version": "2.7.10"
  }
 },
 "nbformat": 4,
 "nbformat_minor": 0
}
