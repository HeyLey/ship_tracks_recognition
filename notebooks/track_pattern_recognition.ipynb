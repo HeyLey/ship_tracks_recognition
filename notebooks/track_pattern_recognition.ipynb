{
 "cells": [
  {
   "cell_type": "markdown",
   "metadata": {},
   "source": [
    "# About\n",
    "\n",
    "SHiP track pattern recognition is in this notebook."
   ]
  },
  {
   "cell_type": "markdown",
   "metadata": {},
   "source": [
    "# Data"
   ]
  },
  {
   "cell_type": "code",
   "execution_count": 1,
   "metadata": {
    "collapsed": false
   },
   "outputs": [],
   "source": [
    "import os, sys\n",
    "sys.path.append('../functions')"
   ]
  },
  {
   "cell_type": "code",
   "execution_count": 2,
   "metadata": {
    "collapsed": true
   },
   "outputs": [],
   "source": [
    "%matplotlib inline\n",
    "import pandas\n",
    "import numpy\n",
    "import matplotlib.pyplot as plt\n",
    "import cPickle as pickle"
   ]
  },
  {
   "cell_type": "code",
   "execution_count": 3,
   "metadata": {
    "collapsed": false
   },
   "outputs": [],
   "source": [
    "all_mctracks = pandas.read_csv('Data/MCTrack.csv', delimiter=',')\n",
    "all_velo_points = pandas.read_csv('Data/vetoPoint.csv', delimiter=',')\n",
    "all_hits = pandas.read_csv('Data/strawtubesPoint_decoded_hits.csv', delimiter=',')\n",
    "all_hits['Index'] = all_hits.index"
   ]
  },
  {
   "cell_type": "markdown",
   "metadata": {},
   "source": [
    "# Get reconstructible events"
   ]
  },
  {
   "cell_type": "code",
   "execution_count": 138,
   "metadata": {
    "collapsed": false
   },
   "outputs": [],
   "source": [
    "from ReconstructibleTracks import get_reconstractible_tracks\n",
    "\n",
    "reconstructible_events = {}\n",
    "\n",
    "for event_id in range(0, 2500):\n",
    "    \n",
    "    tracks = get_reconstractible_tracks(event_id, all_hits, all_mctracks, all_velo_points)\n",
    "    \n",
    "    if tracks != []:\n",
    "        reconstructible_events[event_id] = tracks"
   ]
  },
  {
   "cell_type": "code",
   "execution_count": 22,
   "metadata": {
    "collapsed": false
   },
   "outputs": [],
   "source": [
    "# file_pickle = open('./Data/reco_tracks_for_pattern_recognition.pkl', 'wb')\n",
    "# pickle.dump(reconstructible_events, file_pickle)\n",
    "# file_pickle.close()"
   ]
  },
  {
   "cell_type": "code",
   "execution_count": 4,
   "metadata": {
    "collapsed": true
   },
   "outputs": [],
   "source": [
    "file_pickle = open('./Data/reco_tracks_for_pattern_recognition.pkl', 'rb')\n",
    "reconstructible_events_pkl = pickle.load(file_pickle)\n",
    "file_pickle.close()"
   ]
  },
  {
   "cell_type": "code",
   "execution_count": 5,
   "metadata": {
    "collapsed": false
   },
   "outputs": [],
   "source": [
    "reconstructible_events = reconstructible_events_pkl"
   ]
  },
  {
   "cell_type": "markdown",
   "metadata": {},
   "source": [
    "# Stations 1&2"
   ]
  },
  {
   "cell_type": "code",
   "execution_count": 23,
   "metadata": {
    "collapsed": false,
    "scrolled": false
   },
   "outputs": [],
   "source": [
    "from Y_views import loop_yz\n",
    "from UV_views import loop_xz\n",
    "\n",
    "reco_events12 = {}\n",
    "\n",
    "for event_id in reconstructible_events.keys():\n",
    "    \n",
    "    event = all_hits[all_hits.event == event_id]\n",
    "    \n",
    "    tracks_yz, linking_table_yz = loop_yz(event, 7, 0.85, 0, 0)\n",
    "    tracks_xz, linking_table_xz, Xs = loop_xz(event, tracks_yz, linking_table_yz, 6, 15, 0)\n",
    "    \n",
    "    reco = [tracks_yz, linking_table_yz, tracks_xz, linking_table_xz]\n",
    "    \n",
    "    reco_events12[event_id] = reco\n",
    "    \n",
    "    print event_id"
   ]
  },
  {
   "cell_type": "code",
   "execution_count": 24,
   "metadata": {
    "collapsed": true
   },
   "outputs": [],
   "source": [
    "# file_pickle = open('./Data/reco_events12.pkl', 'wb')\n",
    "# pickle.dump(reco_events12, file_pickle)\n",
    "# file_pickle.close()"
   ]
  },
  {
   "cell_type": "code",
   "execution_count": 6,
   "metadata": {
    "collapsed": true
   },
   "outputs": [],
   "source": [
    "file_pickle = open('./Data/reco_events12.pkl', 'rb')\n",
    "reco_events12_pkl = pickle.load(file_pickle)\n",
    "file_pickle.close()"
   ]
  },
  {
   "cell_type": "code",
   "execution_count": 7,
   "metadata": {
    "collapsed": true
   },
   "outputs": [],
   "source": [
    "reco_events12 = reco_events12_pkl"
   ]
  },
  {
   "cell_type": "markdown",
   "metadata": {},
   "source": [
    "# Stations 3&4"
   ]
  },
  {
   "cell_type": "code",
   "execution_count": null,
   "metadata": {
    "collapsed": false,
    "scrolled": false
   },
   "outputs": [],
   "source": [
    "from Y_views import loop_yz\n",
    "from UV_views import loop_xz\n",
    "\n",
    "reco_events34 = {}\n",
    "\n",
    "for event_id in reconstructible_events.keys():\n",
    "    \n",
    "    event = all_hits[all_hits.event == event_id]\n",
    "    \n",
    "    tracks_yz, linking_table_yz = loop_yz(event, 7, 0.85, 1, 0)\n",
    "    tracks_xz, linking_table_xz, Xs = loop_xz(event, tracks_yz, linking_table_yz, 6, 15, 1)\n",
    "    \n",
    "    reco = [tracks_yz, linking_table_yz, tracks_xz, linking_table_xz]\n",
    "    \n",
    "    reco_events34[event_id] = reco\n",
    "    \n",
    "    print event_id"
   ]
  },
  {
   "cell_type": "code",
   "execution_count": 26,
   "metadata": {
    "collapsed": true
   },
   "outputs": [],
   "source": [
    "# file_pickle = open('./Data/reco_events34.pkl', 'wb')\n",
    "# pickle.dump(reco_events34, file_pickle)\n",
    "# file_pickle.close()"
   ]
  },
  {
   "cell_type": "code",
   "execution_count": 8,
   "metadata": {
    "collapsed": true
   },
   "outputs": [],
   "source": [
    "file_pickle = open('./Data/reco_events34.pkl', 'rb')\n",
    "reco_events34_pkl = pickle.load(file_pickle)\n",
    "file_pickle.close()"
   ]
  },
  {
   "cell_type": "code",
   "execution_count": 9,
   "metadata": {
    "collapsed": true
   },
   "outputs": [],
   "source": [
    "reco_events34 = reco_events34_pkl"
   ]
  },
  {
   "cell_type": "markdown",
   "metadata": {},
   "source": [
    "# Combination tracks"
   ]
  },
  {
   "cell_type": "code",
   "execution_count": 9,
   "metadata": {
    "collapsed": false
   },
   "outputs": [],
   "source": [
    "from MatchTracks import get_matched_tracks, get_true_match\n",
    "\n",
    "match_tracks, charge_dict, pinv_dict, dist_y, dist_x = get_matched_tracks(reco_events12, reco_events34)\n",
    "\n",
    "true_charge_dict, true_pdg_dict, true_pinv_dict = get_true_match(reco_events12, reco_events34, match_tracks, all_hits)"
   ]
  },
  {
   "cell_type": "code",
   "execution_count": 10,
   "metadata": {
    "collapsed": false
   },
   "outputs": [
    {
     "data": {
      "image/png": "[encoded data removed]",
      "text/plain": [
       "<matplotlib.figure.Figure at 0x10a974c90>"
      ]
     },
     "metadata": {},
     "output_type": "display_data"
    }
   ],
   "source": [
    "plt.figure(figsize=(10, 3))\n",
    "\n",
    "plt.subplot(1,2,1)\n",
    "dist_y = numpy.array(dist_y)\n",
    "plt.hist(dist_y, label='dist_y', bins=10)\n",
    "plt.legend(loc='best')\n",
    "\n",
    "\n",
    "plt.subplot(1,2,2)\n",
    "dist_x = numpy.array(dist_x)\n",
    "plt.hist(dist_x, label='dist_x', bins=10)\n",
    "plt.legend(loc='best')\n",
    "\n",
    "plt.show()"
   ]
  },
  {
   "cell_type": "markdown",
   "metadata": {},
   "source": [
    "# Efficiency"
   ]
  },
  {
   "cell_type": "markdown",
   "metadata": {},
   "source": [
    "### Stations 1&2"
   ]
  },
  {
   "cell_type": "code",
   "execution_count": 11,
   "metadata": {
    "collapsed": false
   },
   "outputs": [],
   "source": [
    "from efficiency import efficiency_per_track\n",
    "\n",
    "eff_y, eff_stereo, eff_station = efficiency_per_track(reconstructible_events.keys(), \n",
    "                                            all_hits, \n",
    "                                            reco_events12)"
   ]
  },
  {
   "cell_type": "code",
   "execution_count": 12,
   "metadata": {
    "collapsed": false
   },
   "outputs": [
    {
     "data": {
      "image/png": "[encoded data removed]",
      "text/plain": [
       "<matplotlib.figure.Figure at 0x10a487b90>"
      ]
     },
     "metadata": {},
     "output_type": "display_data"
    }
   ],
   "source": [
    "plt.figure(figsize=(15, 3))\n",
    "\n",
    "plt.subplot(1,3,1)\n",
    "plt.title('Mean = % f' % numpy.array(eff_y).mean())\n",
    "plt.hist(eff_y, label='y')\n",
    "plt.xlabel('efficiency')\n",
    "plt.xlim(0, 1.1)\n",
    "plt.legend(loc='best')\n",
    "\n",
    "plt.subplot(1,3,2)\n",
    "plt.title('Mean = % f' % numpy.array(eff_stereo).mean())\n",
    "plt.hist(eff_stereo, label='stereo')\n",
    "plt.xlabel('efficiency')\n",
    "plt.xlim(0, 1.1)\n",
    "plt.legend(loc='best')\n",
    "\n",
    "plt.subplot(1,3,3)\n",
    "plt.title('Mean = % f' % numpy.array(eff_station).mean())\n",
    "plt.hist(eff_station, label='station 1&2')\n",
    "plt.xlabel('efficiency')\n",
    "plt.xlim(0, 1.1)\n",
    "plt.legend(loc='best')\n",
    "\n",
    "plt.show()"
   ]
  },
  {
   "cell_type": "markdown",
   "metadata": {},
   "source": [
    "### Stations 3&4"
   ]
  },
  {
   "cell_type": "code",
   "execution_count": 13,
   "metadata": {
    "collapsed": true
   },
   "outputs": [],
   "source": [
    "from efficiency import efficiency_per_track\n",
    "\n",
    "eff_y, eff_stereo, eff_station = efficiency_per_track(reconstructible_events.keys(), \n",
    "                                            all_hits, \n",
    "                                            reco_events34)"
   ]
  },
  {
   "cell_type": "code",
   "execution_count": 14,
   "metadata": {
    "collapsed": false
   },
   "outputs": [
    {
     "data": {
      "image/png": "[encoded data removed]",
      "text/plain": [
       "<matplotlib.figure.Figure at 0x108f47e90>"
      ]
     },
     "metadata": {},
     "output_type": "display_data"
    }
   ],
   "source": [
    "plt.figure(figsize=(15, 3))\n",
    "\n",
    "plt.subplot(1,3,1)\n",
    "plt.title('Mean = % f' % numpy.array(eff_y).mean())\n",
    "plt.hist(eff_y, label='y')\n",
    "plt.xlabel('efficiency')\n",
    "plt.xlim(0, 1.1)\n",
    "plt.legend(loc='best')\n",
    "\n",
    "plt.subplot(1,3,2)\n",
    "plt.title('Mean = % f' % numpy.array(eff_stereo).mean())\n",
    "plt.hist(eff_stereo, label='stereo')\n",
    "plt.xlabel('efficiency')\n",
    "plt.xlim(0, 1.1)\n",
    "plt.legend(loc='best')\n",
    "\n",
    "plt.subplot(1,3,3)\n",
    "plt.title('Mean = % f' % numpy.array(eff_station).mean())\n",
    "plt.hist(eff_station, label='station 1&2')\n",
    "plt.xlabel('efficiency')\n",
    "plt.xlim(0, 1.1)\n",
    "plt.legend(loc='best')\n",
    "\n",
    "plt.show()"
   ]
  },
  {
   "cell_type": "markdown",
   "metadata": {},
   "source": [
    "# Efficiency per event"
   ]
  },
  {
   "cell_type": "code",
   "execution_count": 15,
   "metadata": {
    "collapsed": false
   },
   "outputs": [
    {
     "name": "stdout",
     "output_type": "stream",
     "text": [
      "Total efficiency per event is  90.8805031447  %\n"
     ]
    },
    {
     "data": {
      "image/png": "[encoded data removed]",
      "text/plain": [
       "<matplotlib.figure.Figure at 0x109064210>"
      ]
     },
     "metadata": {},
     "output_type": "display_data"
    }
   ],
   "source": [
    "from efficiency import efficiency_per_event\n",
    "\n",
    "n_events = efficiency_per_event(reconstructible_events, reco_events12, reco_events34, match_tracks, true_pdg_dict)\n",
    "\n",
    "n_events = numpy.array(n_events)\n",
    "\n",
    "labels = ['Reconstructible tracks', \n",
    "          'Y view station 1&2', \n",
    "          'Stereo station 1&2', \n",
    "          'Station 1&2',\n",
    "          'Y view station 3&4', \n",
    "          'Stereo station 3&4',\n",
    "          'Station 3&4',\n",
    "          'Combined stations 1&2/3&4',\n",
    "          'Matched']\n",
    "\n",
    "print 'Total efficiency per event is ', 1. * n_events[-1] / n_events[0] * 100., ' %'\n",
    "\n",
    "x = range(len(labels))\n",
    "#plt.figure(figsize=(15,5))\n",
    "plt.bar(x, n_events - n_events.min() + 1., width=1., color='gold', align='center')\n",
    "plt.xticks(x, labels, rotation=90, size=15)\n",
    "plt.xlim(-0.5, 8.5)\n",
    "plt.show()"
   ]
  },
  {
   "cell_type": "code",
   "execution_count": 16,
   "metadata": {
    "collapsed": false
   },
   "outputs": [
    {
     "data": {
      "text/plain": [
       "array([ 318.,  313.,  309.,  309.,  301.,  297.,  297.,  290.,  289.])"
      ]
     },
     "execution_count": 16,
     "metadata": {},
     "output_type": "execute_result"
    }
   ],
   "source": [
    "n_events"
   ]
  },
  {
   "cell_type": "code",
   "execution_count": 17,
   "metadata": {
    "collapsed": false
   },
   "outputs": [
    {
     "data": {
      "text/plain": [
       "0.9119496855345912"
      ]
     },
     "execution_count": 17,
     "metadata": {},
     "output_type": "execute_result"
    }
   ],
   "source": [
    "290. / 318"
   ]
  },
  {
   "cell_type": "code",
   "execution_count": 21,
   "metadata": {
    "collapsed": false
   },
   "outputs": [
    {
     "data": {
      "text/plain": [
       "0.016805171617792193"
      ]
     },
     "execution_count": 21,
     "metadata": {},
     "output_type": "execute_result"
    }
   ],
   "source": [
    "numpy.sqrt(0.91*0.09/290)"
   ]
  },
  {
   "cell_type": "markdown",
   "metadata": {},
   "source": [
    "# Momentum"
   ]
  },
  {
   "cell_type": "code",
   "execution_count": 18,
   "metadata": {
    "collapsed": false
   },
   "outputs": [
    {
     "name": "stdout",
     "output_type": "stream",
     "text": [
      "y = b + kx\n",
      "k, b =  1.03666252179 -0.000366888944499\n",
      "Cov matrix is \n",
      "[[  3.12985167e-06  -5.34458133e-09]\n",
      " [ -5.34458133e-09   3.90992426e-08]]\n"
     ]
    },
    {
     "data": {
      "image/png": "[encoded data removed]",
      "text/plain": [
       "<matplotlib.figure.Figure at 0x10c144f90>"
      ]
     },
     "metadata": {},
     "output_type": "display_data"
    }
   ],
   "source": [
    "from MatchTracks import get_pinv_true_pinv\n",
    "        \n",
    "pinv, true_pinv = get_pinv_true_pinv(pinv_dict, true_pinv_dict, true_charge_dict)\n",
    "        \n",
    "\n",
    "[k, b], cov = numpy.polyfit(true_pinv, pinv, 1, cov=True)\n",
    "print 'y = b + kx'\n",
    "print 'k, b = ', k, b\n",
    "print 'Cov matrix is '\n",
    "print cov\n",
    "\n",
    "plt.figure(figsize=(7, 5))\n",
    "plt.title('1/p vs 1/p-true', size=15)\n",
    "plt.scatter(true_pinv, pinv)\n",
    "x = numpy.array([-0.3, 0.3])\n",
    "plt.plot(x, k * x + b, color='r', linewidth=2, label='%.4f + ' % b + '%.4fx' % k)\n",
    "plt.legend(loc='best')\n",
    "plt.ylabel('1/p', size=15)\n",
    "plt.xlabel('1/p-true', size=15)\n",
    "plt.xlim(-0.3, 0.3)\n",
    "plt.ylim(-0.3, 0.3)\n",
    "plt.xticks(size=15)\n",
    "plt.yticks(size=15)\n",
    "plt.show()"
   ]
  },
  {
   "cell_type": "code",
   "execution_count": 19,
   "metadata": {
    "collapsed": false
   },
   "outputs": [
    {
     "data": {
      "image/png": "[encoded data removed]",
      "text/plain": [
       "<matplotlib.figure.Figure at 0x109024350>"
      ]
     },
     "metadata": {},
     "output_type": "display_data"
    }
   ],
   "source": [
    "metric = true_pinv/pinv - 1\n",
    "\n",
    "plt.figure(figsize=(7, 5))\n",
    "plt.hist(metric[numpy.abs(metric) <= 0.5], bins=50)\n",
    "\n",
    "plt.title('(p - p-true)/p_true', size=15)\n",
    "plt.xticks(numpy.arange(-0.5, 0.51, 0.1), size=12)\n",
    "plt.yticks(size=12)\n",
    "plt.xlim(-0.5, 0.5)\n",
    "plt.show()"
   ]
  },
  {
   "cell_type": "code",
   "execution_count": null,
   "metadata": {
    "collapsed": true
   },
   "outputs": [],
   "source": []
  },
  {
   "cell_type": "code",
   "execution_count": null,
   "metadata": {
    "collapsed": true
   },
   "outputs": [],
   "source": []
  }
 ],
 "metadata": {
  "kernelspec": {
   "display_name": "Python 2",
   "language": "python",
   "name": "python2"
  },
  "language_info": {
   "codemirror_mode": {
    "name": "ipython",
    "version": 2
   },
   "file_extension": ".py",
   "mimetype": "text/x-python",
   "name": "python",
   "nbconvert_exporter": "python",
   "pygments_lexer": "ipython2",
   "version": "2.7.11"
  }
 },
 "nbformat": 4,
 "nbformat_minor": 0
}
