{
 "cells": [
  {
   "cell_type": "code",
   "execution_count": 2,
   "metadata": {
    "collapsed": false
   },
   "outputs": [],
   "source": [
    "import os, sys\n",
    "sys.path.append('/home/oleg/Prog/Science/ship_tracks_recognition/functions')"
   ]
  },
  {
   "cell_type": "code",
   "execution_count": 3,
   "metadata": {
    "collapsed": false
   },
   "outputs": [],
   "source": [
    "import numpy as np\n",
    "import pandas as pd\n",
    "import matplotlib.pyplot as plt\n",
    "from sklearn import linear_model\n",
    "from math import *\n",
    "from Y_views import *\n",
    "from UV_views import *\n",
    "%matplotlib inline"
   ]
  },
  {
   "cell_type": "code",
   "execution_count": 4,
   "metadata": {
    "collapsed": false
   },
   "outputs": [],
   "source": [
    "all_mctracks = pd.read_csv('Data/MCTrack.csv', delimiter=',')\n",
    "all_velo_points = pd.read_csv('Data/vetoPoint.csv', delimiter=',')\n",
    "all_hits = pd.read_csv('Data/strawtubesPoint_decoded_hits.csv', delimiter=',')\n",
    "all_hits['Index'] = all_hits.index"
   ]
  },
  {
   "cell_type": "markdown",
   "metadata": {},
   "source": [
    "# Creating Learning Table"
   ]
  },
  {
   "cell_type": "code",
   "execution_count": 98,
   "metadata": {
    "collapsed": false
   },
   "outputs": [],
   "source": [
    "from ReconstructibleTracks import get_reconstractible_tracks\n",
    "\n",
    "reconstructible_events = {}\n",
    "\n",
    "for event_id in range(0, 2500):\n",
    "    \n",
    "    tracks = get_reconstractible_tracks(event_id, all_hits, all_mctracks, all_velo_points)\n",
    "    \n",
    "    if tracks != []:\n",
    "        reconstructible_events[event_id] = tracks"
   ]
  },
  {
   "cell_type": "code",
   "execution_count": 99,
   "metadata": {
    "collapsed": true
   },
   "outputs": [],
   "source": [
    "match_table = {}\n",
    "for i in all_hits.Index:\n",
    "        match_table[all_hits.Index[i]] = all_hits.TrackID[i]"
   ]
  },
  {
   "cell_type": "code",
   "execution_count": 100,
   "metadata": {
    "collapsed": false
   },
   "outputs": [],
   "source": [
    "table = pd.DataFrame(columns=('N', 'Max', 'Min', 'deviation', 'Class'))\n",
    "marks = {}"
   ]
  },
  {
   "cell_type": "code",
   "execution_count": 101,
   "metadata": {
    "collapsed": true
   },
   "outputs": [],
   "source": [
    "def dist2Track(point, track):\n",
    "    return np.abs(- track[0] * point[0] + point[1] - track[1]) / np.sqrt(track[0]**2 + 1.0)"
   ]
  },
  {
   "cell_type": "code",
   "execution_count": 102,
   "metadata": {
    "collapsed": false
   },
   "outputs": [],
   "source": [
    "index = 1\n",
    "for i in reconstructible_events:\n",
    "    event = modify_for_yz_analysis_1_2(all_hits[all_hits['event'] == i])\n",
    "    tracks_yz_1_2, linking_table_yz_1_2 = loop_yz(event, 7, 0.85, 0)\n",
    "    for k in tracks_yz_1_2:\n",
    "        N = len(linking_table_yz_1_2[k])\n",
    "        dists = [dist2Track((event.Wz[j], event.Wy[j]), tracks_yz_1_2[k]) for j in linking_table_yz_1_2[k]]\n",
    "        arr = [match_table[j] for j in linking_table_yz_1_2[k]]\n",
    "        Max = np.max(dists)\n",
    "        Min = np.min(dists)\n",
    "        deviation = np.average(dists)\n",
    "        _, counts = np.unique(arr, return_counts = True)\n",
    "        cl = np.max(counts) / len(linking_table_yz_1_2[k])\n",
    "        table.loc[index] = [N, Max, Min, deviation, cl]\n",
    "        index += 1\n",
    "    event = modify_for_yz_analysis_3_4(all_hits[all_hits['event'] == i])\n",
    "    tracks_yz_3_4, linking_table_yz_3_4 = loop_yz(event, 7, 0.85, 1)\n",
    "    for k in tracks_yz_3_4:\n",
    "        N = len(linking_table_yz_3_4[k])\n",
    "        dists = [dist2Track((event.Wz[j], event.Wy[j]), tracks_yz_3_4[k]) for j in linking_table_yz_3_4[k]]\n",
    "        arr = [match_table[j] for j in linking_table_yz_3_4[k]]\n",
    "        Max = np.max(dists)\n",
    "        Min = np.min(dists)\n",
    "        deviation = np.average(dists)\n",
    "        _, counts = np.unique(arr, return_counts = True)\n",
    "        cl = np.max(counts) / len(linking_table_yz_3_4[k])\n",
    "        table.loc[index] = [N, Max, Min, deviation, cl]\n",
    "        index += 1"
   ]
  },
  {
   "cell_type": "code",
   "execution_count": 104,
   "metadata": {
    "collapsed": false
   },
   "outputs": [
    {
     "data": {
      "text/html": [
       "<div>\n",
       "<table border=\"1\" class=\"dataframe\">\n",
       "  <thead>\n",
       "    <tr style=\"text-align: right;\">\n",
       "      <th></th>\n",
       "      <th>N</th>\n",
       "      <th>Max</th>\n",
       "      <th>Min</th>\n",
       "      <th>deviation</th>\n",
       "      <th>Class</th>\n",
       "    </tr>\n",
       "  </thead>\n",
       "  <tbody>\n",
       "    <tr>\n",
       "      <th>1</th>\n",
       "      <td>8</td>\n",
       "      <td>0.365667</td>\n",
       "      <td>0.074325</td>\n",
       "      <td>0.219996</td>\n",
       "      <td>1</td>\n",
       "    </tr>\n",
       "    <tr>\n",
       "      <th>2</th>\n",
       "      <td>8</td>\n",
       "      <td>0.340353</td>\n",
       "      <td>0.069238</td>\n",
       "      <td>0.219979</td>\n",
       "      <td>1</td>\n",
       "    </tr>\n",
       "    <tr>\n",
       "      <th>3</th>\n",
       "      <td>9</td>\n",
       "      <td>0.451362</td>\n",
       "      <td>0.000953</td>\n",
       "      <td>0.245685</td>\n",
       "      <td>1</td>\n",
       "    </tr>\n",
       "    <tr>\n",
       "      <th>4</th>\n",
       "      <td>8</td>\n",
       "      <td>0.412804</td>\n",
       "      <td>0.008582</td>\n",
       "      <td>0.210682</td>\n",
       "      <td>1</td>\n",
       "    </tr>\n",
       "    <tr>\n",
       "      <th>5</th>\n",
       "      <td>9</td>\n",
       "      <td>0.441364</td>\n",
       "      <td>0.001612</td>\n",
       "      <td>0.243565</td>\n",
       "      <td>1</td>\n",
       "    </tr>\n",
       "  </tbody>\n",
       "</table>\n",
       "</div>"
      ],
      "text/plain": [
       "   N       Max       Min  deviation  Class\n",
       "1  8  0.365667  0.074325   0.219996      1\n",
       "2  8  0.340353  0.069238   0.219979      1\n",
       "3  9  0.451362  0.000953   0.245685      1\n",
       "4  8  0.412804  0.008582   0.210682      1\n",
       "5  9  0.441364  0.001612   0.243565      1"
      ]
     },
     "execution_count": 104,
     "metadata": {},
     "output_type": "execute_result"
    }
   ],
   "source": [
    "table.head()"
   ]
  },
  {
   "cell_type": "code",
   "execution_count": 105,
   "metadata": {
    "collapsed": false
   },
   "outputs": [],
   "source": [
    "table.to_csv('./Data/TracksTable.csv')"
   ]
  },
  {
   "cell_type": "markdown",
   "metadata": {},
   "source": [
    "# Show efficiency of classifier"
   ]
  },
  {
   "cell_type": "code",
   "execution_count": 109,
   "metadata": {
    "collapsed": true
   },
   "outputs": [],
   "source": [
    "from sklearn.ensemble import RandomForestClassifier\n",
    "from sklearn import cross_validation"
   ]
  },
  {
   "cell_type": "code",
   "execution_count": 115,
   "metadata": {
    "collapsed": true
   },
   "outputs": [],
   "source": [
    "clf = RandomForestClassifier(n_estimators=100)"
   ]
  },
  {
   "cell_type": "code",
   "execution_count": 116,
   "metadata": {
    "collapsed": true
   },
   "outputs": [],
   "source": [
    "X_train, X_test, y_train, y_test = cross_validation.train_test_split(table[['N', 'Max', 'Min', 'deviation']], table['Class'], test_size = 0.4)"
   ]
  },
  {
   "cell_type": "code",
   "execution_count": 117,
   "metadata": {
    "collapsed": false
   },
   "outputs": [
    {
     "data": {
      "text/plain": [
       "RandomForestClassifier(bootstrap=True, class_weight=None, criterion='gini',\n",
       "            max_depth=None, max_features='auto', max_leaf_nodes=None,\n",
       "            min_samples_leaf=1, min_samples_split=2,\n",
       "            min_weight_fraction_leaf=0.0, n_estimators=100, n_jobs=1,\n",
       "            oob_score=False, random_state=None, verbose=0,\n",
       "            warm_start=False)"
      ]
     },
     "execution_count": 117,
     "metadata": {},
     "output_type": "execute_result"
    }
   ],
   "source": [
    "clf.fit(X_train, y_train)"
   ]
  },
  {
   "cell_type": "code",
   "execution_count": 118,
   "metadata": {
    "collapsed": false
   },
   "outputs": [
    {
     "data": {
      "text/plain": [
       "0.97211155378486058"
      ]
     },
     "execution_count": 118,
     "metadata": {},
     "output_type": "execute_result"
    }
   ],
   "source": [
    "clf.score(X_test, y_test)"
   ]
  },
  {
   "cell_type": "code",
   "execution_count": null,
   "metadata": {
    "collapsed": true
   },
   "outputs": [],
   "source": []
  }
 ],
 "metadata": {
  "kernelspec": {
   "display_name": "Python 2",
   "language": "python",
   "name": "python2"
  },
  "language_info": {
   "codemirror_mode": {
    "name": "ipython",
    "version": 2
   },
   "file_extension": ".py",
   "mimetype": "text/x-python",
   "name": "python",
   "nbconvert_exporter": "python",
   "pygments_lexer": "ipython2",
   "version": "2.7.10"
  }
 },
 "nbformat": 4,
 "nbformat_minor": 0
}
