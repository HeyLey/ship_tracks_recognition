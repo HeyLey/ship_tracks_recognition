{
 "cells": [
  {
   "cell_type": "code",
   "execution_count": 1,
   "metadata": {
    "collapsed": true
   },
   "outputs": [],
   "source": [
    "import os, sys\n",
    "sys.path.append('/home/oleg/Prog/Science/ship_tracks_recognition/functions')"
   ]
  },
  {
   "cell_type": "code",
   "execution_count": 2,
   "metadata": {
    "collapsed": true
   },
   "outputs": [],
   "source": [
    "import numpy as np\n",
    "import pandas as pd\n",
    "import matplotlib.pyplot as plt\n",
    "from sklearn import linear_model\n",
    "from math import *\n",
    "from Y_views import *\n",
    "from UV_views import *\n",
    "%matplotlib inline"
   ]
  },
  {
   "cell_type": "code",
   "execution_count": 3,
   "metadata": {
    "collapsed": true
   },
   "outputs": [],
   "source": [
    "all_mctracks = pd.read_csv('Data/MCTrack.csv', delimiter=',')\n",
    "all_velo_points = pd.read_csv('Data/vetoPoint.csv', delimiter=',')\n",
    "all_hits = pd.read_csv('Data/strawtubesPoint_decoded_hits.csv', delimiter=',')\n",
    "all_hits['Index'] = all_hits.index"
   ]
  },
  {
   "cell_type": "code",
   "execution_count": null,
   "metadata": {
    "collapsed": false
   },
   "outputs": [],
   "source": [
    "from ReconstructibleTracks import get_reconstractible_tracks\n",
    "\n",
    "reconstructible_events = {}\n",
    "\n",
    "for event_id in range(0, 2500):\n",
    "    \n",
    "    tracks = get_reconstractible_tracks(event_id, all_hits, all_mctracks, all_velo_points)\n",
    "    \n",
    "    if tracks != []:\n",
    "        reconstructible_events[event_id] = tracks"
   ]
  },
  {
   "cell_type": "code",
   "execution_count": null,
   "metadata": {
    "collapsed": false
   },
   "outputs": [],
   "source": [
    "reco = np.array(reconstructible_events.keys())\n",
    "reco"
   ]
  },
  {
   "cell_type": "code",
   "execution_count": null,
   "metadata": {
    "collapsed": false
   },
   "outputs": [],
   "source": [
    "pd.DataFrame(reco).to_csv('./Data/RecognizedTracks.csv')"
   ]
  },
  {
   "cell_type": "code",
   "execution_count": 4,
   "metadata": {
    "collapsed": false
   },
   "outputs": [
    {
     "data": {
      "text/plain": [
       "array([ 513,    2,  515,  516, 1541,  518,    7,   10, 2059, 1036, 1550,\n",
       "         15, 2392, 1042,  686,   23, 2360,   27, 2077, 1057,  549,   39,\n",
       "       2271, 1066, 1655, 2482,  558, 2095,   48,   50, 2099,   53, 1204,\n",
       "       1546,   62, 1775, 1600, 2113, 1090, 2423, 1206, 1606, 1607, 1548,\n",
       "         74, 1293, 1213,   84,   85,   86, 1111, 2138, 1116, 1629,  606,\n",
       "       1637,  608,   97, 1979,  612,  102,  614, 1129,  106, 1895, 2305,\n",
       "       2157,  622,  957, 1136,  625, 1138, 2232, 2164, 1893, 1142, 1385,\n",
       "       2493,  122, 1668,  126, 1557,  129,  642,  131,  644, 1157,  134,\n",
       "        135,  648, 1280,  651, 1474,  654,  143, 1683, 2224, 1691, 1180,\n",
       "        157,  670,  159, 2208,  161, 2246, 1190, 1704,  174, 1200, 1224,\n",
       "        179,  692, 1717,  694,  184, 1722, 1724,  189, 2239, 1677, 1440,\n",
       "        707, 2244, 1967, 1222,  712,  715, 1900,  719, 1232, 2446,  211,\n",
       "       2260, 1238,  215, 2264, 1242, 1243, 1756,  221, 1758,  735,  736,\n",
       "       1761, 1762, 1251,  806, 1256, 1769, 2282,  747, 2429, 2002, 1262,\n",
       "        893, 1265, 2290, 1235, 1747,  759,  249, 2378, 2302,  767,  768,\n",
       "        257, 1283, 1284, 1286, 1153,  777, 2314, 2007,   94,  781,  270,\n",
       "        785, 1299,  276, 2350,  791,  793, 1821, 1311,  289, 2338, 2277,\n",
       "        292, 1829,  294,  809, 1322,  299, 2348,  813, 1838, 1329, 1843,\n",
       "       2356,  824, 1339,  828, 1854,  565, 1675, 1349,  839, 1352,  842,\n",
       "        331, 2142,  845, 1359, 1360, 1848,  341, 2390, 2105,  856, 1369,\n",
       "       2455, 1375, 1377, 1851, 1380, 1381, 1383, 1340, 1898, 1086,  876,\n",
       "        365,  878, 2416,  369,  370,  883, 2280,  885, 1911, 1912,  377,\n",
       "       1598,  381, 2263,  897, 1410,  901, 2439, 2441, 2443, 1934, 1423,\n",
       "       1427,  916,  917,  406,  407,  408,  923,  412,  927,  928,  417,\n",
       "       1156, 2203,  933, 2470, 2145, 2204,  426, 1451, 1693, 1861, 1458,\n",
       "       2035, 2488,  953, 1901, 1439,  445,  449,  782, 1987, 1441,  968,\n",
       "        970, 2295, 1793, 2040,  978, 2467, 2317, 1494, 1785, 2266, 2127,\n",
       "       2014, 2405,  484, 1617,  490, 2471, 2029, 1006, 1533, 1008, 1009,\n",
       "       1011,  500, 2037,  502, 1528, 2132, 1279, 1021, 2046, 1023])"
      ]
     },
     "execution_count": 4,
     "metadata": {},
     "output_type": "execute_result"
    }
   ],
   "source": [
    "reco = np.array(pd.read_csv('./Data/RecognizedTracks.csv'))[:, 1]\n",
    "reco"
   ]
  },
  {
   "cell_type": "code",
   "execution_count": 5,
   "metadata": {
    "collapsed": false
   },
   "outputs": [],
   "source": [
    "from sklearn import cross_validation\n",
    "train_events, test_events = cross_validation.train_test_split(reco, test_size=0.5)"
   ]
  },
  {
   "cell_type": "markdown",
   "metadata": {},
   "source": [
    "# Without classifier"
   ]
  },
  {
   "cell_type": "code",
   "execution_count": 6,
   "metadata": {
    "collapsed": false
   },
   "outputs": [
    {
     "name": "stdout",
     "output_type": "stream",
     "text": [
      "0.981132075472\n"
     ]
    },
    {
     "name": "stderr",
     "output_type": "stream",
     "text": [
      "/usr/local/lib/python2.7/site-packages/pandas/core/indexing.py:260: SettingWithCopyWarning: \n",
      "A value is trying to be set on a copy of a slice from a DataFrame.\n",
      "Try using .loc[row_indexer,col_indexer] = value instead\n",
      "\n",
      "See the caveats in the documentation: http://pandas.pydata.org/pandas-docs/stable/indexing.html#indexing-view-versus-copy\n",
      "  self.obj[key] = _infer_fill_value(value)\n",
      "/usr/local/lib/python2.7/site-packages/pandas/core/indexing.py:420: SettingWithCopyWarning: \n",
      "A value is trying to be set on a copy of a slice from a DataFrame.\n",
      "Try using .loc[row_indexer,col_indexer] = value instead\n",
      "\n",
      "See the caveats in the documentation: http://pandas.pydata.org/pandas-docs/stable/indexing.html#indexing-view-versus-copy\n",
      "  self.obj[item] = s\n"
     ]
    }
   ],
   "source": [
    "all_events = len(test_events)\n",
    "recognized_events = 0\n",
    "ind = 0\n",
    "n_min = 7\n",
    "plane_width = 0.85\n",
    "for i in test_events:\n",
    "    event = all_hits[all_hits.event==i]\n",
    "    tracks, linking_table = loop_yz(event, n_min, plane_width, ind)\n",
    "    if len(tracks)>1:\n",
    "        recognized_events += 1\n",
    "print 1.0 * recognized_events / all_events"
   ]
  },
  {
   "cell_type": "markdown",
   "metadata": {},
   "source": [
    "# Train classifier"
   ]
  },
  {
   "cell_type": "code",
   "execution_count": 18,
   "metadata": {
    "collapsed": true
   },
   "outputs": [],
   "source": [
    "table = pd.read_csv('./Data/TracksTable.csv')"
   ]
  },
  {
   "cell_type": "code",
   "execution_count": 19,
   "metadata": {
    "collapsed": false
   },
   "outputs": [],
   "source": [
    "table = table[table['event'].isin(test_events)]\n",
    "table = table[['N', 'Max', 'Min', 'deviation', 'Class']]"
   ]
  },
  {
   "cell_type": "code",
   "execution_count": 20,
   "metadata": {
    "collapsed": true
   },
   "outputs": [],
   "source": [
    "train_table, test_table = cross_validation.train_test_split(table, train_size=0.8)"
   ]
  },
  {
   "cell_type": "code",
   "execution_count": 21,
   "metadata": {
    "collapsed": false
   },
   "outputs": [],
   "source": [
    "from sklearn.ensemble import RandomForestClassifier\n",
    "clf = RandomForestClassifier(n_estimators=100, class_weight='auto')"
   ]
  },
  {
   "cell_type": "code",
   "execution_count": 22,
   "metadata": {
    "collapsed": false
   },
   "outputs": [
    {
     "data": {
      "text/plain": [
       "RandomForestClassifier(bootstrap=True, class_weight='auto', criterion='gini',\n",
       "            max_depth=None, max_features='auto', max_leaf_nodes=None,\n",
       "            min_samples_leaf=1, min_samples_split=2,\n",
       "            min_weight_fraction_leaf=0.0, n_estimators=100, n_jobs=1,\n",
       "            oob_score=False, random_state=None, verbose=0,\n",
       "            warm_start=False)"
      ]
     },
     "execution_count": 22,
     "metadata": {},
     "output_type": "execute_result"
    }
   ],
   "source": [
    "clf.fit(train_table[['N', 'Max', 'Min', 'deviation']], train_table['Class'])"
   ]
  },
  {
   "cell_type": "code",
   "execution_count": 23,
   "metadata": {
    "collapsed": false
   },
   "outputs": [
    {
     "data": {
      "text/plain": [
       "0.97619047619047616"
      ]
     },
     "execution_count": 23,
     "metadata": {},
     "output_type": "execute_result"
    }
   ],
   "source": [
    "clf.score(test_table[['N', 'Max', 'Min', 'deviation']], test_table['Class'])"
   ]
  },
  {
   "cell_type": "markdown",
   "metadata": {},
   "source": [
    "# With classifier"
   ]
  },
  {
   "cell_type": "code",
   "execution_count": 24,
   "metadata": {
    "collapsed": true
   },
   "outputs": [],
   "source": [
    "from Y_views_new import *"
   ]
  },
  {
   "cell_type": "code",
   "execution_count": 25,
   "metadata": {
    "collapsed": false
   },
   "outputs": [
    {
     "name": "stdout",
     "output_type": "stream",
     "text": [
      "0.962264150943\n"
     ]
    }
   ],
   "source": [
    "all_events = len(test_events)\n",
    "recognized_events = 0\n",
    "ind = 0\n",
    "n_min = 7\n",
    "plane_width = 0.85\n",
    "for i in test_events:\n",
    "    event = all_hits[all_hits.event==i]\n",
    "    tracks, linking_table = loop_yz_new(event, n_min, plane_width, ind, clf)\n",
    "    if len(tracks)>1:\n",
    "        recognized_events += 1\n",
    "print 1.0 * recognized_events / all_events"
   ]
  },
  {
   "cell_type": "code",
   "execution_count": null,
   "metadata": {
    "collapsed": true
   },
   "outputs": [],
   "source": []
  }
 ],
 "metadata": {
  "kernelspec": {
   "display_name": "Python 2",
   "language": "python",
   "name": "python2"
  },
  "language_info": {
   "codemirror_mode": {
    "name": "ipython",
    "version": 2
   },
   "file_extension": ".py",
   "mimetype": "text/x-python",
   "name": "python",
   "nbconvert_exporter": "python",
   "pygments_lexer": "ipython2",
   "version": "2.7.10"
  }
 },
 "nbformat": 4,
 "nbformat_minor": 0
}
