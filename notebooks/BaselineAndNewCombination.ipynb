{
 "cells": [
  {
   "cell_type": "code",
   "execution_count": 1,
   "metadata": {
    "collapsed": false
   },
   "outputs": [],
   "source": [
    "%matplotlib inline\n",
    "import numpy\n",
    "import pandas\n",
    "import matplotlib.pyplot as plt"
   ]
  },
  {
   "cell_type": "code",
   "execution_count": 2,
   "metadata": {
    "collapsed": true
   },
   "outputs": [],
   "source": [
    "import os, sys\n",
    "sys.path.append('../functions')"
   ]
  },
  {
   "cell_type": "markdown",
   "metadata": {},
   "source": [
    "# Read Data"
   ]
  },
  {
   "cell_type": "code",
   "execution_count": 3,
   "metadata": {
    "collapsed": false
   },
   "outputs": [
    {
     "data": {
      "text/html": [
       "<div>\n",
       "<table border=\"1\" class=\"dataframe\">\n",
       "  <thead>\n",
       "    <tr style=\"text-align: right;\">\n",
       "      <th></th>\n",
       "      <th>EventID</th>\n",
       "      <th>TrackID</th>\n",
       "      <th>PdgCode</th>\n",
       "      <th>DetectorID</th>\n",
       "      <th>StatNb</th>\n",
       "      <th>ViewNb</th>\n",
       "      <th>PlaneNb</th>\n",
       "      <th>LayerNb</th>\n",
       "      <th>StrawNb</th>\n",
       "      <th>Px</th>\n",
       "      <th>...</th>\n",
       "      <th>dist2Wire</th>\n",
       "      <th>Wx1</th>\n",
       "      <th>Wx2</th>\n",
       "      <th>Wy1</th>\n",
       "      <th>Wy2</th>\n",
       "      <th>Wz</th>\n",
       "      <th>Wz1</th>\n",
       "      <th>Wz2</th>\n",
       "      <th>Label</th>\n",
       "      <th>IsStereo</th>\n",
       "    </tr>\n",
       "  </thead>\n",
       "  <tbody>\n",
       "    <tr>\n",
       "      <th>79</th>\n",
       "      <td>2</td>\n",
       "      <td>2</td>\n",
       "      <td>-211</td>\n",
       "      <td>10002284</td>\n",
       "      <td>1</td>\n",
       "      <td>0</td>\n",
       "      <td>0</td>\n",
       "      <td>0</td>\n",
       "      <td>284</td>\n",
       "      <td>0.866347</td>\n",
       "      <td>...</td>\n",
       "      <td>0.042245</td>\n",
       "      <td>-250.000000</td>\n",
       "      <td>250.000000</td>\n",
       "      <td>0.868600</td>\n",
       "      <td>0.868600</td>\n",
       "      <td>2581.1500</td>\n",
       "      <td>2581.1500</td>\n",
       "      <td>2581.1500</td>\n",
       "      <td>0</td>\n",
       "      <td>0</td>\n",
       "    </tr>\n",
       "    <tr>\n",
       "      <th>111</th>\n",
       "      <td>2</td>\n",
       "      <td>2</td>\n",
       "      <td>-211</td>\n",
       "      <td>42012282</td>\n",
       "      <td>4</td>\n",
       "      <td>2</td>\n",
       "      <td>0</td>\n",
       "      <td>1</td>\n",
       "      <td>282</td>\n",
       "      <td>0.867240</td>\n",
       "      <td>...</td>\n",
       "      <td>0.478996</td>\n",
       "      <td>-248.589486</td>\n",
       "      <td>249.507863</td>\n",
       "      <td>27.037487</td>\n",
       "      <td>-16.540384</td>\n",
       "      <td>3542.3793</td>\n",
       "      <td>3542.3793</td>\n",
       "      <td>3542.3793</td>\n",
       "      <td>0</td>\n",
       "      <td>1</td>\n",
       "    </tr>\n",
       "    <tr>\n",
       "      <th>81</th>\n",
       "      <td>2</td>\n",
       "      <td>2</td>\n",
       "      <td>-211</td>\n",
       "      <td>11012288</td>\n",
       "      <td>1</td>\n",
       "      <td>1</td>\n",
       "      <td>0</td>\n",
       "      <td>1</td>\n",
       "      <td>288</td>\n",
       "      <td>0.866625</td>\n",
       "      <td>...</td>\n",
       "      <td>0.310706</td>\n",
       "      <td>-248.587499</td>\n",
       "      <td>249.509850</td>\n",
       "      <td>-27.060200</td>\n",
       "      <td>16.517671</td>\n",
       "      <td>2592.3793</td>\n",
       "      <td>2592.3793</td>\n",
       "      <td>2592.3793</td>\n",
       "      <td>0</td>\n",
       "      <td>1</td>\n",
       "    </tr>\n",
       "    <tr>\n",
       "      <th>43</th>\n",
       "      <td>2</td>\n",
       "      <td>3</td>\n",
       "      <td>-13</td>\n",
       "      <td>11012286</td>\n",
       "      <td>1</td>\n",
       "      <td>1</td>\n",
       "      <td>0</td>\n",
       "      <td>1</td>\n",
       "      <td>286</td>\n",
       "      <td>-0.239448</td>\n",
       "      <td>...</td>\n",
       "      <td>0.117904</td>\n",
       "      <td>-248.894287</td>\n",
       "      <td>249.203062</td>\n",
       "      <td>-23.553595</td>\n",
       "      <td>20.024276</td>\n",
       "      <td>2592.3793</td>\n",
       "      <td>2592.3793</td>\n",
       "      <td>2592.3793</td>\n",
       "      <td>1</td>\n",
       "      <td>1</td>\n",
       "    </tr>\n",
       "    <tr>\n",
       "      <th>88</th>\n",
       "      <td>2</td>\n",
       "      <td>2</td>\n",
       "      <td>-211</td>\n",
       "      <td>20012285</td>\n",
       "      <td>2</td>\n",
       "      <td>0</td>\n",
       "      <td>0</td>\n",
       "      <td>1</td>\n",
       "      <td>285</td>\n",
       "      <td>0.866401</td>\n",
       "      <td>...</td>\n",
       "      <td>0.437575</td>\n",
       "      <td>-250.000000</td>\n",
       "      <td>250.000000</td>\n",
       "      <td>-0.011400</td>\n",
       "      <td>-0.011400</td>\n",
       "      <td>2782.2500</td>\n",
       "      <td>2782.2500</td>\n",
       "      <td>2782.2500</td>\n",
       "      <td>0</td>\n",
       "      <td>0</td>\n",
       "    </tr>\n",
       "  </tbody>\n",
       "</table>\n",
       "<p>5 rows × 25 columns</p>\n",
       "</div>"
      ],
      "text/plain": [
       "     EventID  TrackID  PdgCode  DetectorID  StatNb  ViewNb  PlaneNb  LayerNb  \\\n",
       "79         2        2     -211    10002284       1       0        0        0   \n",
       "111        2        2     -211    42012282       4       2        0        1   \n",
       "81         2        2     -211    11012288       1       1        0        1   \n",
       "43         2        3      -13    11012286       1       1        0        1   \n",
       "88         2        2     -211    20012285       2       0        0        1   \n",
       "\n",
       "     StrawNb        Px    ...     dist2Wire         Wx1         Wx2  \\\n",
       "79       284  0.866347    ...      0.042245 -250.000000  250.000000   \n",
       "111      282  0.867240    ...      0.478996 -248.589486  249.507863   \n",
       "81       288  0.866625    ...      0.310706 -248.587499  249.509850   \n",
       "43       286 -0.239448    ...      0.117904 -248.894287  249.203062   \n",
       "88       285  0.866401    ...      0.437575 -250.000000  250.000000   \n",
       "\n",
       "           Wy1        Wy2         Wz        Wz1        Wz2  Label  IsStereo  \n",
       "79    0.868600   0.868600  2581.1500  2581.1500  2581.1500      0         0  \n",
       "111  27.037487 -16.540384  3542.3793  3542.3793  3542.3793      0         1  \n",
       "81  -27.060200  16.517671  2592.3793  2592.3793  2592.3793      0         1  \n",
       "43  -23.553595  20.024276  2592.3793  2592.3793  2592.3793      1         1  \n",
       "88   -0.011400  -0.011400  2782.2500  2782.2500  2782.2500      0         0  \n",
       "\n",
       "[5 rows x 25 columns]"
      ]
     },
     "execution_count": 3,
     "metadata": {},
     "output_type": "execute_result"
    }
   ],
   "source": [
    "data = pandas.read_csv('Data/hits.csv', index_col=0)\n",
    "data['IsStereo'] = (data.ViewNb.values == 1) * 1. + (data.ViewNb.values == 2) * 1.\n",
    "\n",
    "data.head()"
   ]
  },
  {
   "cell_type": "code",
   "execution_count": 48,
   "metadata": {
    "collapsed": false
   },
   "outputs": [
    {
     "name": "stdout",
     "output_type": "stream",
     "text": [
      "100\n"
     ]
    }
   ],
   "source": [
    "\n",
    "from sklearn.cross_validation import train_test_split\n",
    "\n",
    "event_ids = numpy.unique(data.EventID.values)\n",
    "event_ids_train, event_ids_test= train_test_split(event_ids, train_size=100, random_state=42)\n",
    "#event_ids_train, event_ids_valid = train_test_split(event_ids_train, train_size=0.5, random_state=42)\n",
    "\n",
    "print len(event_ids_train)"
   ]
  },
  {
   "cell_type": "markdown",
   "metadata": {},
   "source": [
    "# Train Classifier for the Tracks Combination"
   ]
  },
  {
   "cell_type": "code",
   "execution_count": 51,
   "metadata": {
    "collapsed": false
   },
   "outputs": [
    {
     "name": "stdout",
     "output_type": "stream",
     "text": [
      "CPU times: user 29.7 ms, sys: 21 ms, total: 50.8 ms\n",
      "Wall time: 16.6 s\n"
     ]
    }
   ],
   "source": [
    "%%time\n",
    "\n",
    "from combination import SuperCombinator\n",
    "from multiprocessing import Pool\n",
    "from utils import merge_dicts\n",
    "\n",
    "event_ids = event_ids_train\n",
    "tracks = {}\n",
    "\n",
    "def tracks_reconstruction(event_id):\n",
    "    \n",
    "    # Get an event\n",
    "    event = data[data.EventID == event_id]\n",
    "    event12 = event[(event.StatNb == 1) + (event.StatNb == 2)]\n",
    "    event34 = event[(event.StatNb == 3) + (event.StatNb == 4)]\n",
    "    \n",
    "    weights12 = 1. / numpy.sqrt(event12.dist2Wire.values**2 + 0.01**2)\n",
    "    weights34 = 1. / numpy.sqrt(event34.dist2Wire.values**2 + 0.01**2)\n",
    "    \n",
    "    # Select model for the tracks reconstruction\n",
    "    stm_y = SimpleTemplateMatching(n_max_hits=16, n_min_hits=7, window_width=0.7)\n",
    "    stm_stereo = SimpleTemplateMatching(n_max_hits=16, n_min_hits=6, window_width=15)\n",
    "    \n",
    "    # Tracks reconstruction before the magnet\n",
    "    tr2d12 = TracksReconstruction2D(model_y=stm_y, model_stereo=stm_stereo)\n",
    "    tr2d12.fit(event12, weights12)\n",
    "    \n",
    "    labels12 = tr2d12.labels_\n",
    "    tracks_params12 = tr2d12.tracks_params_\n",
    "    \n",
    "    # Tracks reconstruction after the magnet\n",
    "    tr2d34 = TracksReconstruction2D(model_y=stm_y, model_stereo=stm_stereo)\n",
    "    tr2d34.fit(event34, weights34)\n",
    "    \n",
    "    labels34 = tr2d34.labels_\n",
    "    tracks_params34 = tr2d34.tracks_params_\n",
    "    \n",
    "    \n",
    "    # Save the hits labels and the tracks parameters \n",
    "    one_track = {}\n",
    "    \n",
    "    one_track[event_id] = {'labels12':labels12, 'params12':tracks_params12, \n",
    "                           'labels34':labels34, 'params34':tracks_params34}\n",
    "    \n",
    "    return one_track\n",
    "\n",
    "if __name__ == \"__main__\":\n",
    "    p = Pool(3)\n",
    "    results = p.map(tracks_reconstruction, event_ids)\n",
    "    tracks = merge_dicts(results)"
   ]
  },
  {
   "cell_type": "code",
   "execution_count": 53,
   "metadata": {
    "collapsed": true
   },
   "outputs": [],
   "source": [
    "sc = SuperCombinator()\n",
    "\n",
    "combination_data = sc.data_collection(tracks, data)\n",
    "\n",
    "X_data = combination_data[combination_data.columns[:-1]].values\n",
    "y_data = combination_data.label.values"
   ]
  },
  {
   "cell_type": "code",
   "execution_count": 54,
   "metadata": {
    "collapsed": false
   },
   "outputs": [
    {
     "name": "stdout",
     "output_type": "stream",
     "text": [
      "CPU times: user 1.11 s, sys: 1.34 s, total: 2.44 s\n",
      "Wall time: 2.2 s\n"
     ]
    },
    {
     "data": {
      "text/plain": [
       "FoldingClassifier(base_estimator=XGBoostClassifier(base_score=0.5, colsample=0.7, eta=0.01, features=None,\n",
       "         gamma=None, max_depth=3, min_child_weight=1.0, missing=-999.0,\n",
       "         n_estimators=1000, nthreads=3, num_feature=None, random_state=0,\n",
       "         scale_pos_weight=1.0, subsample=0.7, verbose=0),\n",
       "         features=['Feature_0', 'Feature_1', 'Feature_2', 'Feature_3', 'Feature_4', 'Feature_5', 'Feature_6', 'Feature_7', 'Feature_8', 'Feature_9', 'Feature_10', 'Feature_11', 'Feature_12', 'Feature_13', 'Feature_14'],\n",
       "         n_folds=2, parallel_profile=None, random_state=11)"
      ]
     },
     "execution_count": 54,
     "metadata": {},
     "output_type": "execute_result"
    }
   ],
   "source": [
    "from rep.metaml import FoldingClassifier\n",
    "from rep.estimators import XGBoostClassifier\n",
    "\n",
    "\n",
    "from rep.estimators import XGBoostClassifier\n",
    "xgb_base = XGBoostClassifier(n_estimators=1000, colsample=0.7, eta=0.01, nthreads=3, \n",
    "                             subsample=0.7, max_depth=3)\n",
    "folding = FoldingClassifier(xgb_base, n_folds=2, random_state=11)\n",
    "%time folding.fit(X_data, y_data)"
   ]
  },
  {
   "cell_type": "code",
   "execution_count": 55,
   "metadata": {
    "collapsed": false
   },
   "outputs": [
    {
     "name": "stdout",
     "output_type": "stream",
     "text": [
      "KFold prediction using folds column\n",
      "KFold prediction using folds column\n",
      "0.994944852941\n"
     ]
    },
    {
     "data": {
      "image/png": "[encoded data removed]",
      "text/plain": [
       "<matplotlib.figure.Figure at 0x117593e50>"
      ]
     },
     "metadata": {},
     "output_type": "display_data"
    }
   ],
   "source": [
    "y_proba = folding.predict_proba(X_data)[:, 1]\n",
    "y_predict = folding.predict(X_data)\n",
    "\n",
    "y_proba = y_predict\n",
    "\n",
    "from sklearn.metrics import roc_auc_score\n",
    "print roc_auc_score(y_data, y_proba)\n",
    "\n",
    "plt.hist(y_proba[y_data==1], label='1', color='b', bins=20, alpha=0.5)\n",
    "plt.hist(y_proba[y_data==0], label='0', color='r', bins=20, alpha=0.5)\n",
    "plt.ylim(0,10)\n",
    "plt.show()"
   ]
  },
  {
   "cell_type": "code",
   "execution_count": 56,
   "metadata": {
    "collapsed": false
   },
   "outputs": [
    {
     "name": "stdout",
     "output_type": "stream",
     "text": [
      "394 2\n"
     ]
    }
   ],
   "source": [
    "N = ((y_predict == y_data)*1).sum()\n",
    "N_mis = ((y_predict != y_data)*1).sum()\n",
    "\n",
    "print N, N_mis"
   ]
  },
  {
   "cell_type": "markdown",
   "metadata": {},
   "source": [
    "# Tracks Reconstruction"
   ]
  },
  {
   "cell_type": "code",
   "execution_count": 57,
   "metadata": {
    "collapsed": true
   },
   "outputs": [],
   "source": [
    "from baseline import SimpleTemplateMatching\n",
    "from reconstruction import TracksReconstruction2D\n",
    "from combination import Combinator, SuperCombinator\n",
    "\n",
    "from metrics import TracksReconstractionMetrics, CombinatorQuality"
   ]
  },
  {
   "cell_type": "code",
   "execution_count": 58,
   "metadata": {
    "collapsed": false
   },
   "outputs": [
    {
     "name": "stdout",
     "output_type": "stream",
     "text": [
      "CPU times: user 1min 57s, sys: 4.01 s, total: 2min 1s\n",
      "Wall time: 2min 6s\n"
     ]
    }
   ],
   "source": [
    "%%time\n",
    "event_ids = event_ids_test\n",
    "\n",
    "tracks = {}\n",
    "tracks_comb = {}\n",
    "\n",
    "tracks_metrics_before_y = pandas.DataFrame(columns=['EventID', 'AvgEff', 'RecoEff', 'GhostRate', 'CloneRate'])\n",
    "tracks_metrics_before_stereo = pandas.DataFrame(columns=['EventID', 'AvgEff', 'RecoEff', 'GhostRate', 'CloneRate'])\n",
    "tracks_metrics_before_all = pandas.DataFrame(columns=['EventID', 'AvgEff', 'RecoEff', 'GhostRate', 'CloneRate'])\n",
    "\n",
    "tracks_metrics_after_y = pandas.DataFrame(columns=['EventID', 'AvgEff', 'RecoEff', 'GhostRate', 'CloneRate'])\n",
    "tracks_metrics_after_stereo = pandas.DataFrame(columns=['EventID', 'AvgEff', 'RecoEff', 'GhostRate', 'CloneRate'])\n",
    "tracks_metrics_after_all = pandas.DataFrame(columns=['EventID', 'AvgEff', 'RecoEff', 'GhostRate', 'CloneRate'])\n",
    "\n",
    "combinations = pandas.DataFrame(columns=['EventID', 'TrackIDBefore', 'TrackIDAfter', 'Charge', 'PInv'])\n",
    "combinations_true = pandas.DataFrame(columns=['EventID', 'IsTrueCombination', 'PdgCode', 'Charge', \n",
    "                                                 'IsTrueCharge', 'TruePInv', 'PErr', 'Label'])\n",
    "\n",
    "combinations_quality = pandas.DataFrame(columns=['EventID', 'RecoEff', 'GhostRate', 'CloneRate', 'NCombined'])\n",
    "\n",
    "pass_stages = pandas.DataFrame(columns=['RecoEvents', 'Y12', 'Stereo12', 'Stations12', \n",
    "                                        'Y34', 'Stereo34', 'Stations34', 'Combination', 'Matching'])\n",
    "\n",
    "for event_id in event_ids:\n",
    "    \n",
    "    # Get an event\n",
    "    event = data[data.EventID == event_id]\n",
    "    event12 = event[(event.StatNb == 1) + (event.StatNb == 2)]\n",
    "    event34 = event[(event.StatNb == 3) + (event.StatNb == 4)]\n",
    "    \n",
    "    weights12 = 1. / numpy.sqrt(event12.dist2Wire.values**2 + 0.01**2)\n",
    "    weights34 = 1. / numpy.sqrt(event34.dist2Wire.values**2 + 0.01**2)\n",
    "    \n",
    "    # Select model for the tracks reconstruction\n",
    "    stm_y = SimpleTemplateMatching(n_max_hits=16, n_min_hits=7, window_width=0.7)\n",
    "    stm_stereo = SimpleTemplateMatching(n_max_hits=16, n_min_hits=6, window_width=15)\n",
    "    \n",
    "    \n",
    "    # Tracks reconstruction before the magnet\n",
    "    tr2d12 = TracksReconstruction2D(model_y=stm_y, model_stereo=stm_stereo)\n",
    "    tr2d12.fit(event12, weights12)\n",
    "    \n",
    "    labels12 = tr2d12.labels_\n",
    "    tracks_params12 = tr2d12.tracks_params_\n",
    "    \n",
    "    # Quality metrics of the reconstruction\n",
    "    trm12 = TracksReconstractionMetrics(0.2)\n",
    "    trm12.fit(labels12, event12)\n",
    "\n",
    "    tracks_metrics_before_y.loc[len(tracks_metrics_before_y)] = [event_id, \n",
    "                                                                 trm12.avg_efficiency_y_, \n",
    "                                                                 trm12.recognition_efficiency_y_, \n",
    "                                                                 trm12.ghost_rate_y_, \n",
    "                                                                 trm12.clone_rate_y_]\n",
    "\n",
    "    tracks_metrics_before_stereo.loc[len(tracks_metrics_before_stereo)] = [event_id, \n",
    "                                                                 trm12.avg_efficiency_stereo_, \n",
    "                                                                 trm12.recognition_efficiency_stereo_, \n",
    "                                                                 trm12.ghost_rate_stereo_, \n",
    "                                                                 trm12.clone_rate_stereo_]\n",
    "    \n",
    "    tracks_metrics_before_all.loc[len(tracks_metrics_before_all)] = [event_id, \n",
    "                                                                 trm12.avg_efficiency_, \n",
    "                                                                 trm12.recognition_efficiency_, \n",
    "                                                                 trm12.ghost_rate_, \n",
    "                                                                 trm12.clone_rate_]\n",
    "\n",
    "    # Tracks reconstruction after the magnet\n",
    "    tr2d34 = TracksReconstruction2D(model_y=stm_y, model_stereo=stm_stereo)\n",
    "    tr2d34.fit(event34, weights34)\n",
    "    \n",
    "    labels34 = tr2d34.labels_\n",
    "    tracks_params34 = tr2d34.tracks_params_\n",
    "    \n",
    "    # Quality metrics of the reconstruction\n",
    "    trm34 = TracksReconstractionMetrics(0.2)\n",
    "    trm34.fit(labels34, event34)\n",
    "    \n",
    "    tracks_metrics_after_y.loc[len(tracks_metrics_after_y)] = [event_id, \n",
    "                                                                 trm34.avg_efficiency_y_, \n",
    "                                                                 trm34.recognition_efficiency_y_, \n",
    "                                                                 trm34.ghost_rate_y_, \n",
    "                                                                 trm34.clone_rate_y_]\n",
    "\n",
    "    tracks_metrics_after_stereo.loc[len(tracks_metrics_after_stereo)] = [event_id, \n",
    "                                                                 trm34.avg_efficiency_stereo_, \n",
    "                                                                 trm34.recognition_efficiency_stereo_, \n",
    "                                                                 trm34.ghost_rate_stereo_, \n",
    "                                                                 trm34.clone_rate_stereo_]\n",
    "    \n",
    "    tracks_metrics_after_all.loc[len(tracks_metrics_after_all)] = [event_id, \n",
    "                                                                 trm34.avg_efficiency_, \n",
    "                                                                 trm34.recognition_efficiency_, \n",
    "                                                                 trm34.ghost_rate_, \n",
    "                                                                 trm34.clone_rate_]\n",
    "    \n",
    "    \n",
    "    # Save the reconstructed tracks\n",
    "    tracks[event_id] = {'labels12':labels12, 'params12':tracks_params12, \n",
    "                        'labels34':labels34, 'params34':tracks_params34}\n",
    "    \n",
    "    \n",
    "    \n",
    "    # Combination of the tracks before and after the magnet\n",
    "    comb = SuperCombinator(classifier=folding.estimators[0]) #\n",
    "    comb.combine(tracks_params12, tracks_params34)\n",
    "    \n",
    "    for num in range(len(comb.tracks_combinations_)):\n",
    "        \n",
    "        combinations.loc[len(combinations)] = [event_id, \n",
    "                                               comb.tracks_combinations_[num][0], \n",
    "                                               comb.tracks_combinations_[num][1], \n",
    "                                               comb.charges_[num], \n",
    "                                               comb.inv_momentums_[num]]\n",
    "    \n",
    "    # Quality of the combination\n",
    "    cq = CombinatorQuality()\n",
    "    cq.fit(labels12, labels34, comb.tracks_combinations_, comb.charges_, comb.inv_momentums_, event12, event34)\n",
    "    \n",
    "    combinations_quality.loc[len(combinations_quality)] = [event_id, \n",
    "                                                           cq.reco_eff_, \n",
    "                                                           cq.ghost_rate_, \n",
    "                                                           cq.clone_rate_, \n",
    "                                                           cq.n_combined_]\n",
    "    \n",
    "    for num in range(len(cq.check_tracks_combinations_)):\n",
    "        \n",
    "        combinations_true.loc[len(combinations_quality)] = [event_id, \n",
    "                                                               cq.check_tracks_combinations_[num], \n",
    "                                                               cq.true_pdg_codes_[num], \n",
    "                                                               cq.true_charges_[num],\n",
    "                                                               cq.check_charges_[num], \n",
    "                                                               cq.true_inv_momentums_[num], \n",
    "                                                               cq.momentums_err_[num],\n",
    "                                                               cq.labels_[num]]\n",
    "\n",
    "    \n",
    "    \n",
    "    # Overall quality\n",
    "    pass_stages.loc[len(pass_stages)] = numpy.array([1, \n",
    "                                                     (trm12.recognition_efficiency_y_ == 1)*1, \n",
    "                                                     (trm12.recognition_efficiency_stereo_ >= 0.5)*1, \n",
    "                                                     (trm12.recognition_efficiency_ == 1)*1,\n",
    "                                                     (trm34.recognition_efficiency_y_ == 1)*1, \n",
    "                                                     (trm34.recognition_efficiency_stereo_ >= 0.5)*1, \n",
    "                                                     (trm34.recognition_efficiency_ == 1)*1, \n",
    "                                                     (cq.n_combined_ >= 2)*1,\n",
    "                                                     (cq.reco_eff_ == 1)*1]).cumprod()\n",
    "    \n",
    "    # Save the tracks combination\n",
    "    tracks_comb[event_id] = {'tracks_combinations':comb.tracks_combinations_, \n",
    "                             'charges':comb.charges_, \n",
    "                             'inv_momentums':comb.inv_momentums_}"
   ]
  },
  {
   "cell_type": "markdown",
   "metadata": {},
   "source": [
    "# Quality"
   ]
  },
  {
   "cell_type": "markdown",
   "metadata": {},
   "source": [
    "# Stations 1&2"
   ]
  },
  {
   "cell_type": "markdown",
   "metadata": {},
   "source": [
    "### Y-views"
   ]
  },
  {
   "cell_type": "code",
   "execution_count": 59,
   "metadata": {
    "collapsed": false
   },
   "outputs": [
    {
     "data": {
      "text/plain": [
       "EventID      2567.573684\n",
       "AvgEff          0.989085\n",
       "RecoEff         0.989474\n",
       "GhostRate       0.009649\n",
       "CloneRate       0.000877\n",
       "dtype: float64"
      ]
     },
     "execution_count": 59,
     "metadata": {},
     "output_type": "execute_result"
    }
   ],
   "source": [
    "tracks_metrics_before_y.mean(axis=0)"
   ]
  },
  {
   "cell_type": "markdown",
   "metadata": {},
   "source": [
    "### Stereo-views"
   ]
  },
  {
   "cell_type": "code",
   "execution_count": 60,
   "metadata": {
    "collapsed": false
   },
   "outputs": [
    {
     "data": {
      "text/plain": [
       "EventID      2567.573684\n",
       "AvgEff          0.975111\n",
       "RecoEff         0.967544\n",
       "GhostRate       0.010526\n",
       "CloneRate       0.000877\n",
       "dtype: float64"
      ]
     },
     "execution_count": 60,
     "metadata": {},
     "output_type": "execute_result"
    }
   ],
   "source": [
    "tracks_metrics_before_stereo.mean(axis=0)"
   ]
  },
  {
   "cell_type": "markdown",
   "metadata": {},
   "source": [
    "### Stations 1&2"
   ]
  },
  {
   "cell_type": "code",
   "execution_count": 61,
   "metadata": {
    "collapsed": false
   },
   "outputs": [
    {
     "data": {
      "text/plain": [
       "EventID      2567.573684\n",
       "AvgEff          0.982108\n",
       "RecoEff         0.987719\n",
       "GhostRate       0.010526\n",
       "CloneRate       0.000877\n",
       "dtype: float64"
      ]
     },
     "execution_count": 61,
     "metadata": {},
     "output_type": "execute_result"
    }
   ],
   "source": [
    "tracks_metrics_before_all.mean(axis=0)"
   ]
  },
  {
   "cell_type": "markdown",
   "metadata": {},
   "source": [
    "### Track efficiency"
   ]
  },
  {
   "cell_type": "code",
   "execution_count": 62,
   "metadata": {
    "collapsed": false
   },
   "outputs": [
    {
     "data": {
      "image/png": "[encoded data removed]",
      "text/plain": [
       "<matplotlib.figure.Figure at 0x11b158f90>"
      ]
     },
     "metadata": {},
     "output_type": "display_data"
    }
   ],
   "source": [
    "plt.figure(figsize=(15, 3))\n",
    "\n",
    "plt.subplot(1,3,1)\n",
    "eff_y = tracks_metrics_before_y.AvgEff.values\n",
    "plt.title('Mean = % f' % numpy.array(eff_y).mean())\n",
    "plt.hist(eff_y, label='y')\n",
    "plt.xlabel('Track efficiency')\n",
    "plt.xlim(0, 1)\n",
    "plt.legend(loc='best')\n",
    "\n",
    "plt.subplot(1,3,2)\n",
    "eff_stereo = tracks_metrics_before_stereo.AvgEff.values\n",
    "plt.title('Mean = % f' % numpy.array(eff_stereo).mean())\n",
    "plt.hist(eff_stereo, label='stereo')\n",
    "plt.xlabel('Track efficiency')\n",
    "plt.xlim(0, 1)\n",
    "plt.legend(loc='best')\n",
    "\n",
    "plt.subplot(1,3,3)\n",
    "eff_station = tracks_metrics_before_all.AvgEff.values\n",
    "plt.title('Mean = % f' % numpy.array(eff_station).mean())\n",
    "plt.hist(eff_station, label='station 1&2')\n",
    "plt.xlabel('Track efficiency')\n",
    "plt.xlim(0, 1)\n",
    "plt.legend(loc='best')\n",
    "\n",
    "plt.show()"
   ]
  },
  {
   "cell_type": "markdown",
   "metadata": {},
   "source": [
    "### Reconstruction efficiency"
   ]
  },
  {
   "cell_type": "code",
   "execution_count": 63,
   "metadata": {
    "collapsed": false
   },
   "outputs": [
    {
     "data": {
      "image/png": "[encoded data removed]",
      "text/plain": [
       "<matplotlib.figure.Figure at 0x11afe44d0>"
      ]
     },
     "metadata": {},
     "output_type": "display_data"
    }
   ],
   "source": [
    "plt.figure(figsize=(15, 3))\n",
    "\n",
    "plt.subplot(1,3,1)\n",
    "eff_y = tracks_metrics_before_y.RecoEff.values\n",
    "plt.title('Mean = % f' % numpy.array(eff_y).mean())\n",
    "plt.hist(eff_y, label='y')\n",
    "plt.xlabel('Reconstruction efficiency')\n",
    "plt.xlim(0, 1)\n",
    "plt.legend(loc='best')\n",
    "\n",
    "plt.subplot(1,3,2)\n",
    "eff_stereo = tracks_metrics_before_stereo.RecoEff.values\n",
    "plt.title('Mean = % f' % numpy.array(eff_stereo).mean())\n",
    "plt.hist(eff_stereo, label='stereo')\n",
    "plt.xlabel('Reconstruction efficiency')\n",
    "plt.xlim(0, 1)\n",
    "plt.legend(loc='best')\n",
    "\n",
    "plt.subplot(1,3,3)\n",
    "eff_station = tracks_metrics_before_all.RecoEff.values\n",
    "plt.title('Mean = % f' % numpy.array(eff_station).mean())\n",
    "plt.hist(eff_station, label='station 1&2')\n",
    "plt.xlabel('Reconstruction efficiency')\n",
    "plt.xlim(0, 1)\n",
    "plt.legend(loc='best')\n",
    "\n",
    "plt.show()"
   ]
  },
  {
   "cell_type": "markdown",
   "metadata": {},
   "source": [
    "# Stations 3&4"
   ]
  },
  {
   "cell_type": "markdown",
   "metadata": {},
   "source": [
    "### Y-views"
   ]
  },
  {
   "cell_type": "code",
   "execution_count": 64,
   "metadata": {
    "collapsed": false
   },
   "outputs": [
    {
     "data": {
      "text/plain": [
       "EventID      2567.573684\n",
       "AvgEff          0.991272\n",
       "RecoEff         0.989474\n",
       "GhostRate       0.014912\n",
       "CloneRate       0.001754\n",
       "dtype: float64"
      ]
     },
     "execution_count": 64,
     "metadata": {},
     "output_type": "execute_result"
    }
   ],
   "source": [
    "tracks_metrics_after_y.mean(axis=0)"
   ]
  },
  {
   "cell_type": "markdown",
   "metadata": {},
   "source": [
    "### Stereo-views"
   ]
  },
  {
   "cell_type": "code",
   "execution_count": 65,
   "metadata": {
    "collapsed": false
   },
   "outputs": [
    {
     "data": {
      "text/plain": [
       "EventID      2567.573684\n",
       "AvgEff          0.982566\n",
       "RecoEff         0.972807\n",
       "GhostRate       0.018421\n",
       "CloneRate       0.000877\n",
       "dtype: float64"
      ]
     },
     "execution_count": 65,
     "metadata": {},
     "output_type": "execute_result"
    }
   ],
   "source": [
    "tracks_metrics_after_stereo.mean(axis=0)"
   ]
  },
  {
   "cell_type": "markdown",
   "metadata": {},
   "source": [
    "### Station 3&4"
   ]
  },
  {
   "cell_type": "code",
   "execution_count": 66,
   "metadata": {
    "collapsed": false
   },
   "outputs": [
    {
     "data": {
      "text/plain": [
       "EventID      2567.573684\n",
       "AvgEff          0.985973\n",
       "RecoEff         0.985088\n",
       "GhostRate       0.014912\n",
       "CloneRate       0.000877\n",
       "dtype: float64"
      ]
     },
     "execution_count": 66,
     "metadata": {},
     "output_type": "execute_result"
    }
   ],
   "source": [
    "tracks_metrics_after_all.mean(axis=0)"
   ]
  },
  {
   "cell_type": "markdown",
   "metadata": {},
   "source": [
    "### Tracks efficiency"
   ]
  },
  {
   "cell_type": "code",
   "execution_count": 67,
   "metadata": {
    "collapsed": false
   },
   "outputs": [
    {
     "data": {
      "image/png": "[encoded data removed]",
      "text/plain": [
       "<matplotlib.figure.Figure at 0x11aed6c10>"
      ]
     },
     "metadata": {},
     "output_type": "display_data"
    }
   ],
   "source": [
    "plt.figure(figsize=(15, 3))\n",
    "\n",
    "plt.subplot(1,3,1)\n",
    "eff_y = tracks_metrics_after_y.AvgEff.values\n",
    "plt.title('Mean = % f' % numpy.array(eff_y).mean())\n",
    "plt.hist(eff_y, label='y')\n",
    "plt.xlabel('Track efficiency')\n",
    "plt.xlim(0, 1)\n",
    "plt.legend(loc='best')\n",
    "\n",
    "plt.subplot(1,3,2)\n",
    "eff_stereo = tracks_metrics_after_stereo.AvgEff.values\n",
    "plt.title('Mean = % f' % numpy.array(eff_stereo).mean())\n",
    "plt.hist(eff_stereo, label='stereo')\n",
    "plt.xlabel('Track efficiency')\n",
    "plt.xlim(0, 1)\n",
    "plt.legend(loc='best')\n",
    "\n",
    "plt.subplot(1,3,3)\n",
    "eff_station = tracks_metrics_after_all.AvgEff.values\n",
    "plt.title('Mean = % f' % numpy.array(eff_station).mean())\n",
    "plt.hist(eff_station, label='station 3&4')\n",
    "plt.xlabel('Track efficiency')\n",
    "plt.xlim(0, 1)\n",
    "plt.legend(loc='best')\n",
    "\n",
    "plt.show()"
   ]
  },
  {
   "cell_type": "markdown",
   "metadata": {},
   "source": [
    "### Reconstruction efficiency"
   ]
  },
  {
   "cell_type": "code",
   "execution_count": 68,
   "metadata": {
    "collapsed": false
   },
   "outputs": [
    {
     "data": {
      "image/png": "[encoded data removed]",
      "text/plain": [
       "<matplotlib.figure.Figure at 0x117dfde90>"
      ]
     },
     "metadata": {},
     "output_type": "display_data"
    }
   ],
   "source": [
    "plt.figure(figsize=(15, 3))\n",
    "\n",
    "plt.subplot(1,3,1)\n",
    "eff_y = tracks_metrics_after_y.RecoEff.values\n",
    "plt.title('Mean = % f' % numpy.array(eff_y).mean())\n",
    "plt.hist(eff_y, label='y')\n",
    "plt.xlabel('Reconstruction efficiency')\n",
    "plt.xlim(0, 1)\n",
    "plt.legend(loc='best')\n",
    "\n",
    "plt.subplot(1,3,2)\n",
    "eff_stereo = tracks_metrics_after_stereo.RecoEff.values\n",
    "plt.title('Mean = % f' % numpy.array(eff_stereo).mean())\n",
    "plt.hist(eff_stereo, label='stereo')\n",
    "plt.xlabel('Reconstruction efficiency')\n",
    "plt.xlim(0, 1)\n",
    "plt.legend(loc='best')\n",
    "\n",
    "plt.subplot(1,3,3)\n",
    "eff_station = tracks_metrics_after_all.RecoEff.values\n",
    "plt.title('Mean = % f' % numpy.array(eff_station).mean())\n",
    "plt.hist(eff_station, label='station 3&4')\n",
    "plt.xlabel('Reconstruction efficiency')\n",
    "plt.xlim(0, 1)\n",
    "plt.legend(loc='best')\n",
    "\n",
    "plt.show()"
   ]
  },
  {
   "cell_type": "markdown",
   "metadata": {},
   "source": [
    "# Combination"
   ]
  },
  {
   "cell_type": "code",
   "execution_count": 69,
   "metadata": {
    "collapsed": false
   },
   "outputs": [
    {
     "data": {
      "text/plain": [
       "EventID      2567.573684\n",
       "RecoEff         0.952632\n",
       "GhostRate       0.009649\n",
       "CloneRate       0.000000\n",
       "NCombined       1.905263\n",
       "dtype: float64"
      ]
     },
     "execution_count": 69,
     "metadata": {},
     "output_type": "execute_result"
    }
   ],
   "source": [
    "combinations_quality.mean(axis=0)"
   ]
  },
  {
   "cell_type": "code",
   "execution_count": 70,
   "metadata": {
    "collapsed": false
   },
   "outputs": [
    {
     "data": {
      "image/png": "[encoded data removed]",
      "text/plain": [
       "<matplotlib.figure.Figure at 0x11af49650>"
      ]
     },
     "metadata": {},
     "output_type": "display_data"
    }
   ],
   "source": [
    "plt.figure(figsize=(15, 3))\n",
    "\n",
    "plt.subplot(1,3,1)\n",
    "eff = combinations_quality.RecoEff.values\n",
    "plt.title('Mean = % f' % numpy.array(eff).mean())\n",
    "plt.hist(eff, label='RecoEff')\n",
    "plt.xlabel('Reconstruction efficiency')\n",
    "plt.xlim(0, 1)\n",
    "plt.legend(loc='best')\n",
    "\n",
    "plt.subplot(1,3,2)\n",
    "ghost = combinations_quality.GhostRate.values\n",
    "plt.title('Mean = % f' % numpy.array(ghost).mean())\n",
    "plt.hist(ghost, label='GhostRate')\n",
    "plt.xlabel('Ghost rate')\n",
    "plt.xlim(0, 1)\n",
    "plt.legend(loc='best')\n",
    "\n",
    "plt.subplot(1,3,3)\n",
    "n_combined = combinations_quality.NCombined.values\n",
    "plt.title('Mean = % f' % numpy.array(n_combined).mean())\n",
    "plt.hist(n_combined, label='NCombined')\n",
    "plt.xlabel('N combined tracks per event')\n",
    "plt.xlim(0, 2)\n",
    "plt.legend(loc='best')\n",
    "\n",
    "plt.show()"
   ]
  },
  {
   "cell_type": "markdown",
   "metadata": {},
   "source": [
    "# Ratio of the events passes through the stages"
   ]
  },
  {
   "cell_type": "code",
   "execution_count": 71,
   "metadata": {
    "collapsed": false
   },
   "outputs": [
    {
     "name": "stdout",
     "output_type": "stream",
     "text": [
      "91.7543859649\n"
     ]
    },
    {
     "data": {
      "image/png": "[encoded data removed]",
      "text/plain": [
       "<matplotlib.figure.Figure at 0x117ded3d0>"
      ]
     },
     "metadata": {},
     "output_type": "display_data"
    }
   ],
   "source": [
    "bar_labels = ['Reconstructible tracks', \n",
    "              'Y view station 1&2', \n",
    "              'Stereo station 1&2', \n",
    "              'Station 1&2',\n",
    "              'Y view station 3&4', \n",
    "              'Stereo station 3&4',\n",
    "              'Station 3&4',\n",
    "              'Combined stations 1&2/3&4',\n",
    "              'Matched']\n",
    "\n",
    "bar_values = pass_stages.sum(axis=0).values\n",
    "bar_values = bar_values / bar_values[0] * 100\n",
    "\n",
    "\n",
    "print bar_values[-1]\n",
    "\n",
    "x = range(len(bar_labels))\n",
    "plt.figure(figsize=(10,5))\n",
    "plt.bar(x, bar_values, width=1., color='gold', align='center')\n",
    "plt.xticks(x, bar_labels, rotation=90, size=15)\n",
    "plt.yticks(size=15)\n",
    "plt.xlim(-0.5, 8.5)\n",
    "plt.ylim(bar_values[-1], bar_values[0])\n",
    "plt.ylabel('Ratio of events, %', size=15)\n",
    "plt.show()"
   ]
  },
  {
   "cell_type": "code",
   "execution_count": 72,
   "metadata": {
    "collapsed": false
   },
   "outputs": [
    {
     "data": {
      "text/plain": [
       "array([ 100.        ,   97.89473684,   97.89473684,   97.54385965,\n",
       "         95.43859649,   95.43859649,   94.73684211,   91.75438596,\n",
       "         91.75438596])"
      ]
     },
     "execution_count": 72,
     "metadata": {},
     "output_type": "execute_result"
    }
   ],
   "source": [
    "bar_values"
   ]
  },
  {
   "cell_type": "markdown",
   "metadata": {},
   "source": [
    "# Momentum"
   ]
  },
  {
   "cell_type": "code",
   "execution_count": 73,
   "metadata": {
    "collapsed": false
   },
   "outputs": [],
   "source": [
    "passed_events = event_ids[pass_stages.Matching.values == 1]\n",
    "p_err = combinations_true[combinations_true.EventID.isin(passed_events)].PErr.values"
   ]
  },
  {
   "cell_type": "code",
   "execution_count": 74,
   "metadata": {
    "collapsed": false
   },
   "outputs": [
    {
     "data": {
      "image/png": "[encoded data removed]",
      "text/plain": [
       "<matplotlib.figure.Figure at 0x11a90d810>"
      ]
     },
     "metadata": {},
     "output_type": "display_data"
    }
   ],
   "source": [
    "plt.figure(figsize=(7, 5))\n",
    "plt.hist(p_err, bins=50)\n",
    "\n",
    "plt.title('(p - p-true)/p_true', size=15)\n",
    "plt.xticks(numpy.arange(-0.5, 0.51, 0.1), size=12)\n",
    "plt.yticks(size=12)\n",
    "plt.xlim(-0.5, 0.5)\n",
    "plt.show()"
   ]
  },
  {
   "cell_type": "code",
   "execution_count": null,
   "metadata": {
    "collapsed": true
   },
   "outputs": [],
   "source": []
  },
  {
   "cell_type": "code",
   "execution_count": null,
   "metadata": {
    "collapsed": true
   },
   "outputs": [],
   "source": []
  }
 ],
 "metadata": {
  "kernelspec": {
   "display_name": "Python 2",
   "language": "python",
   "name": "python2"
  },
  "language_info": {
   "codemirror_mode": {
    "name": "ipython",
    "version": 2
   },
   "file_extension": ".py",
   "mimetype": "text/x-python",
   "name": "python",
   "nbconvert_exporter": "python",
   "pygments_lexer": "ipython2",
   "version": "2.7.11"
  }
 },
 "nbformat": 4,
 "nbformat_minor": 0
}
